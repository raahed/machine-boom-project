{
 "cells": [
  {
   "cell_type": "markdown",
   "metadata": {},
   "source": [
    "# Model 1: Fully Connected Neural Network"
   ]
  },
  {
   "cell_type": "code",
   "execution_count": null,
   "metadata": {},
   "outputs": [],
   "source": [
    "import pandas as pd\n",
    "import numpy as np\n",
    "import torch "
   ]
  },
  {
   "cell_type": "code",
   "execution_count": null,
   "metadata": {},
   "outputs": [],
   "source": [
    "device = (\"cuda\" if torch.cuda.is_available() else \"cpu\")\n",
    "print(f\"Using {device} device\")"
   ]
  },
  {
   "cell_type": "code",
   "execution_count": null,
   "metadata": {},
   "outputs": [],
   "source": [
    "# Import local modules from 'src/utils' as package 'utils'\n",
    "import sys; sys.path.insert(0, '../')"
   ]
  },
  {
   "cell_type": "markdown",
   "metadata": {},
   "source": [
    "## Read Datasets from .csv"
   ]
  },
  {
   "cell_type": "code",
   "execution_count": null,
   "metadata": {},
   "outputs": [],
   "source": [
    "from pathlib import Path\n",
    "from utils.file_io import read_angle_datasets"
   ]
  },
  {
   "cell_type": "code",
   "execution_count": null,
   "metadata": {},
   "outputs": [],
   "source": [
    "data_folder = Path(\"../../data/\")\n",
    "train_data, test_data = read_angle_datasets(data_folder, 0.9)\n",
    "input_shape = train_data[0][0].shape[0]\n",
    "print(input_shape)"
   ]
  },
  {
   "cell_type": "markdown",
   "metadata": {},
   "source": [
    "## Model Definition"
   ]
  },
  {
   "cell_type": "code",
   "execution_count": null,
   "metadata": {},
   "outputs": [],
   "source": [
    "from torch import nn\n",
    "from typing import Tuple, List"
   ]
  },
  {
   "cell_type": "code",
   "execution_count": null,
   "metadata": {},
   "outputs": [],
   "source": [
    "class FullyConnected(nn.Module):\n",
    "    def __init__(self, flattened_input_dim: int, intermediate_dims: List, output_dim: int, dropout: float = 0.25, hidden_activation = nn.ReLU):\n",
    "        super().__init__()\n",
    "        self.total_epochs = 0\n",
    "        self.flatten = nn.Flatten()\n",
    "        self.hidden = nn.Sequential()\n",
    "        for i, dim in enumerate(intermediate_dims):\n",
    "            if i == 0:\n",
    "                self.hidden.add_module(f\"linear_{i+1}\", nn.Linear(flattened_input_dim, dim))\n",
    "            else:\n",
    "                self.hidden.add_module(f\"linear_{i+1}\", nn.Linear(intermediate_dims[i-1], dim))\n",
    "\n",
    "            self.hidden.add_module(f\"hidden_activation_{i+1}\", hidden_activation())\n",
    "            self.hidden.add_module(f\"dropout_{i+2}\", nn.Dropout(dropout))\n",
    "\n",
    "        self.last = nn.Linear(intermediate_dims[-1], output_dim)\n",
    "\n",
    "    def forward(self, x):\n",
    "        x = self.flatten(x)\n",
    "        x = self.hidden(x)\n",
    "        return self.last(x)\n",
    "        "
   ]
  },
  {
   "cell_type": "code",
   "execution_count": null,
   "metadata": {},
   "outputs": [],
   "source": [
    "model = FullyConnected(input_shape, [32, 16], 3).to(device)"
   ]
  },
  {
   "cell_type": "markdown",
   "metadata": {},
   "source": [
    "## Training the model"
   ]
  },
  {
   "cell_type": "code",
   "execution_count": null,
   "metadata": {},
   "outputs": [],
   "source": [
    "import time\n",
    "import os\n",
    "from dotenv import load_dotenv\n",
    "from torch.utils.data import DataLoader, Subset\n",
    "from utils.file_io import save_model\n",
    "from utils.evaluation import compute_loss_on"
   ]
  },
  {
   "cell_type": "code",
   "execution_count": null,
   "metadata": {},
   "outputs": [],
   "source": [
    "dotenv_path = Path(\"../../models/fully_connected/.env\")\n",
    "load_dotenv(dotenv_path=dotenv_path)\n",
    "learning_rate = float(os.getenv(\"LEARNING_RATE\"))\n",
    "batch_size = int(os.getenv(\"BATCH_SIZE\"))\n",
    "\n",
    "# inputs for training loop\n",
    "optimizer = torch.optim.Adam(model.parameters(), lr=learning_rate)\n",
    "loss_function = torch.nn.MSELoss()\n",
    "\n",
    "train_size = len(train_data) - int(0.05 * len(train_data)) \n",
    "train_set = Subset(train_data, range(train_size))\n",
    "validation_set = Subset(train_data, range(train_size, len(train_data)))\n",
    "train_dataloader = DataLoader(train_set, batch_size=batch_size)\n",
    "validation_dataloader = DataLoader(validation_set, batch_size=batch_size)\n",
    "test_dataloader = DataLoader(test_data, batch_size=batch_size)"
   ]
  },
  {
   "cell_type": "code",
   "execution_count": null,
   "metadata": {},
   "outputs": [],
   "source": [
    "def train(epochs: int, train_dataloader: DataLoader, validation_dataloader: DataLoader, model, loss_function, optimizer, checkpoint_path: Path, report_interval: int = 1000):\n",
    "    best_val_loss = float(\"inf\")\n",
    "    for epoch in range(model.total_epochs, epochs):\n",
    "        print(f\"Epoch: {epoch + 1}\")\n",
    "\n",
    "        model.train(True)\n",
    "        avg_loss = train_epoch(train_dataloader, model, loss_function, optimizer, report_interval)\n",
    "        model.eval()\n",
    "\n",
    "        with torch.no_grad():\n",
    "            avg_val_loss = compute_loss_on(validation_dataloader, model, loss_function)\n",
    "\n",
    "        print(f\"Loss on train: {avg_loss}, loss on validation: {avg_val_loss}\")\n",
    "\n",
    "        if avg_val_loss < best_val_loss:\n",
    "            best_val_loss = avg_val_loss\n",
    "            model_path = checkpoint_path / f\"{checkpoint_path.name}_{epoch}.model\"\n",
    "            save_model(model, model_path)\n",
    "\n",
    "        model.total_epochs += 1\n",
    "    \n",
    "    return model            \n",
    "\n",
    "\n",
    "def train_epoch(train_dataloader: DataLoader, model, loss_function, optimizer, report_interval: int = 1000):\n",
    "    running_loss = 0\n",
    "    last_loss = 0\n",
    "    \n",
    "    for i, data in enumerate(train_dataloader):\n",
    "        inputs, true_values = data\n",
    "        optimizer.zero_grad()\n",
    "        outputs = model(inputs)\n",
    "        loss = loss_function(outputs, true_values)\n",
    "        running_loss += loss\n",
    "        loss.backward()\n",
    "        optimizer.step()\n",
    "    \n",
    "    if i % report_interval == report_interval - 1:\n",
    "        last_loss = running_loss / report_interval\n",
    "        print(f\"batch {i + 1}, Mean Squared Error: {last_loss}\")\n",
    "        running_loss = 0\n",
    "    \n",
    "    return last_loss\n"
   ]
  },
  {
   "cell_type": "code",
   "execution_count": null,
   "metadata": {},
   "outputs": [],
   "source": [
    "checkpointing_path = Path(\"../../models/fully_connected/\")\n",
    "last_model = train(int(os.getenv(\"NUM_EPOCHS\")), train_dataloader, validation_dataloader, model, loss_function, optimizer, checkpointing_path)"
   ]
  },
  {
   "cell_type": "markdown",
   "metadata": {},
   "source": [
    "## Evaluation\n",
    "### Compute mean squared error"
   ]
  },
  {
   "cell_type": "code",
   "execution_count": null,
   "metadata": {},
   "outputs": [],
   "source": [
    "from utils.evaluation import compute_predictions, compute_losses_from"
   ]
  },
  {
   "cell_type": "code",
   "execution_count": null,
   "metadata": {},
   "outputs": [],
   "source": [
    "y, y_true = compute_predictions(test_dataloader, last_model)\n",
    "test_losses = compute_losses_from(y, y_true, loss_function)\n",
    "print(f\"The mean squared error on test is: {test_losses.mean()}\")"
   ]
  },
  {
   "cell_type": "markdown",
   "metadata": {},
   "source": [
    "### Draw prediction/truth traces "
   ]
  },
  {
   "cell_type": "code",
   "execution_count": null,
   "metadata": {},
   "outputs": [],
   "source": [
    "%matplotlib notebook\n",
    "\n",
    "from matplotlib import pyplot as plt\n",
    "\n",
    "plt.rcParams[\"animation.html\"] = \"jshtml\"\n",
    "plt.rcParams['figure.dpi'] = 150  \n",
    "\n",
    "from IPython.display import HTML\n",
    "\n",
    "from utils.visualization import create_trace_animation"
   ]
  },
  {
   "cell_type": "code",
   "execution_count": null,
   "metadata": {},
   "outputs": [],
   "source": [
    "animation = create_trace_animation(y.numpy(), y_true.numpy())\n",
    "HTML(animation.to_jshtml())"
   ]
  },
  {
   "cell_type": "markdown",
   "metadata": {},
   "source": [
    "## Loading the best model"
   ]
  },
  {
   "cell_type": "code",
   "execution_count": null,
   "metadata": {},
   "outputs": [],
   "source": [
    "from utils.file_io import load_model"
   ]
  },
  {
   "cell_type": "code",
   "execution_count": null,
   "metadata": {},
   "outputs": [],
   "source": [
    "loaded_model = FullyConnected(input_shape, [32, 16], 3).to(device)\n",
    "model_state_dict = load_model(checkpointing_path)\n",
    "loaded_model.load_state_dict(model_state_dict)\n",
    "loaded_model.eval()\n",
    "y, y_true = compute_predictions(test_dataloader, loaded_model)\n",
    "test_losses = compute_losses_from(y, y_true, loss_function)\n",
    "print(f\"The mean squared error of the loaded model on test is: {test_losses.mean()}\")\n",
    "animation = create_trace_animation(y.numpy(), y_true.numpy())\n",
    "HTML(animation.to_jshtml())"
   ]
  }
 ],
 "metadata": {
  "kernelspec": {
   "display_name": "Python 3 (ipykernel)",
   "language": "python",
   "name": "python3"
  },
  "language_info": {
   "codemirror_mode": {
    "name": "ipython",
    "version": 3
   },
   "file_extension": ".py",
   "mimetype": "text/x-python",
   "name": "python",
   "nbconvert_exporter": "python",
   "pygments_lexer": "ipython3",
   "version": "3.10.12"
  }
 },
 "nbformat": 4,
 "nbformat_minor": 4
}
