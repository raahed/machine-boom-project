{
 "cells": [
  {
   "cell_type": "markdown",
   "metadata": {},
   "source": [
    "# Model 1: Fully Connected Neural Network"
   ]
  },
  {
   "cell_type": "code",
   "execution_count": 1,
   "metadata": {},
   "outputs": [],
   "source": [
    "from pathlib import Path\n",
    "import numpy as np\n",
    "import torch "
   ]
  },
  {
   "cell_type": "code",
   "execution_count": 2,
   "metadata": {},
   "outputs": [
    {
     "name": "stdout",
     "output_type": "stream",
     "text": [
      "Using cuda device\n"
     ]
    }
   ],
   "source": [
    "device = (\"cuda\" if torch.cuda.is_available() else \"cpu\")\n",
    "print(f\"Using {device} device\")"
   ]
  },
  {
   "cell_type": "code",
   "execution_count": 3,
   "metadata": {},
   "outputs": [],
   "source": [
    "# Import local modules from 'src/utils' as package 'utils'\n",
    "import sys; sys.path.insert(0, '../')"
   ]
  },
  {
   "cell_type": "code",
   "execution_count": 4,
   "metadata": {},
   "outputs": [],
   "source": [
    "import utils"
   ]
  },
  {
   "cell_type": "markdown",
   "metadata": {},
   "source": [
    "## Read Datasets from .csv"
   ]
  },
  {
   "cell_type": "code",
   "execution_count": 5,
   "metadata": {},
   "outputs": [],
   "source": [
    "from utils.file_io import read_angle_datasets"
   ]
  },
  {
   "cell_type": "code",
   "execution_count": 6,
   "metadata": {},
   "outputs": [
    {
     "name": "stderr",
     "output_type": "stream",
     "text": [
      "Reading .csv files: 1it [00:01,  1.40s/it]\n"
     ]
    }
   ],
   "source": [
    "data_folder = Path(\"../../data/\")\n",
    "train_data, test_data = read_angle_datasets(data_folder, 0.9)"
   ]
  },
  {
   "cell_type": "code",
   "execution_count": 7,
   "metadata": {},
   "outputs": [
    {
     "name": "stdout",
     "output_type": "stream",
     "text": [
      "Data shape 8 / 3 of total 62379 data rows!\n"
     ]
    },
    {
     "name": "stderr",
     "output_type": "stream",
     "text": [
      "/mnt/src/notebooks/../utils/angle_dataset.py:19: FutureWarning: Series.__getitem__ treating keys as positions is deprecated. In a future version, integer keys will always be treated as labels (consistent with DataFrame behavior). To access a value by position, use `ser.iloc[pos]`\n",
      "  return row[0], row[1]\n"
     ]
    }
   ],
   "source": [
    "input_shape, output_shape = train_data[0][0].shape[0], train_data[0][1].shape[0]\n",
    "print(f\"Data shape {input_shape} / {output_shape} of total {len(train_data)} data rows!\")"
   ]
  },
  {
   "cell_type": "markdown",
   "metadata": {},
   "source": [
    "## Model definition"
   ]
  },
  {
   "cell_type": "code",
   "execution_count": 8,
   "metadata": {},
   "outputs": [],
   "source": [
    "from torch import nn, Tensor\n",
    "from typing import Tuple, List"
   ]
  },
  {
   "cell_type": "code",
   "execution_count": 9,
   "metadata": {},
   "outputs": [],
   "source": [
    "class FullyConnected(nn.Module):\n",
    "    def __init__(self, flattened_input_dim: int, intermediate_dims: List[int], output_dim: int, dropout: float = 0.25, hidden_activation = nn.ReLU) -> None:\n",
    "        super().__init__()\n",
    "        self.total_epochs = 0\n",
    "        self.flatten = nn.Flatten()\n",
    "        self.hidden = nn.Sequential()\n",
    "        for i, dim in enumerate(intermediate_dims):\n",
    "            if i == 0:\n",
    "                self.hidden.add_module(f\"linear_{i+1}\", nn.Linear(flattened_input_dim, dim))\n",
    "            else:\n",
    "                self.hidden.add_module(f\"linear_{i+1}\", nn.Linear(intermediate_dims[i-1], dim))\n",
    "\n",
    "            self.hidden.add_module(f\"hidden_activation_{i+1}\", hidden_activation())\n",
    "            self.hidden.add_module(f\"dropout_{i+2}\", nn.Dropout(dropout))\n",
    "\n",
    "        self.last = nn.Linear(intermediate_dims[-1], output_dim)\n",
    "\n",
    "    def forward(self, x: Tensor) -> Tensor:\n",
    "        x = self.flatten(x)\n",
    "        x = self.hidden(x)\n",
    "        return self.last(x)"
   ]
  },
  {
   "cell_type": "markdown",
   "metadata": {},
   "source": [
    "## Load parameter, functions and dataloader"
   ]
  },
  {
   "cell_type": "code",
   "execution_count": 10,
   "metadata": {},
   "outputs": [],
   "source": [
    "import os\n",
    "from dotenv import load_dotenv\n",
    "from torch.utils.data import DataLoader\n",
    "\n",
    "from utils.file_io import save_model\n",
    "from utils.evaluation import compute_loss_on\n",
    "from utils.file_io import define_dataloader_from_angle_dataset"
   ]
  },
  {
   "cell_type": "code",
   "execution_count": 11,
   "metadata": {},
   "outputs": [],
   "source": [
    "model_path = Path(\"../../models/fully_connected/\").absolute()"
   ]
  },
  {
   "cell_type": "code",
   "execution_count": 12,
   "metadata": {},
   "outputs": [],
   "source": [
    "dotenv_path = model_path / \".env\"\n",
    "load_dotenv(dotenv_path=dotenv_path)\n",
    "\n",
    "learning_rate = float(os.getenv(\"LEARNING_RATE\"))\n",
    "batch_size = int(os.getenv(\"BATCH_SIZE\"))\n",
    "num_epochs = int(os.getenv(\"NUM_EPOCHS\"))"
   ]
  },
  {
   "cell_type": "code",
   "execution_count": 13,
   "metadata": {},
   "outputs": [],
   "source": [
    "def get_optimizer_function(model: nn.Module, learning_rate: float) -> torch.optim:\n",
    "    return torch.optim.Adam(model.parameters(), lr=learning_rate)"
   ]
  },
  {
   "cell_type": "code",
   "execution_count": 14,
   "metadata": {},
   "outputs": [],
   "source": [
    "def get_loss_function() -> nn.Module:\n",
    "    return torch.nn.MSELoss()"
   ]
  },
  {
   "cell_type": "code",
   "execution_count": 15,
   "metadata": {},
   "outputs": [],
   "source": [
    "train_dataloader, validation_dataloader, test_dataloader = define_dataloader_from_angle_dataset(train_data, test_data, batch_size, split_size=0.95)"
   ]
  },
  {
   "cell_type": "markdown",
   "metadata": {},
   "source": [
    "## Define train methods"
   ]
  },
  {
   "cell_type": "code",
   "execution_count": 16,
   "metadata": {},
   "outputs": [],
   "source": [
    "def train_epoch(train_dataloader: DataLoader, model: nn.Module, loss_function, optimizer, \n",
    "                device: torch.device, report_interval: int = 1000) -> float:\n",
    "\n",
    "    running_loss = 0\n",
    "    last_loss = 0\n",
    "    \n",
    "    for i, (inputs, true_values) in enumerate(train_dataloader):\n",
    "\n",
    "        inputs = inputs.to(device)\n",
    "        true_values = true_values.to(device)\n",
    "                \n",
    "        optimizer.zero_grad()\n",
    "        outputs = model(inputs)\n",
    "        loss = loss_function(outputs, true_values)\n",
    "        running_loss += loss\n",
    "        loss.backward()\n",
    "        optimizer.step() \n",
    "    \n",
    "    if i % report_interval == report_interval - 1:\n",
    "        last_loss = running_loss / report_interval\n",
    "        print(f\"batch {i + 1}, Mean Squared Error: {last_loss}\")\n",
    "        running_loss = 0\n",
    "    \n",
    "    return last_loss "
   ]
  },
  {
   "cell_type": "code",
   "execution_count": 17,
   "metadata": {},
   "outputs": [],
   "source": [
    "def train(epochs: int, train_dataloader: DataLoader, validation_dataloader: DataLoader, model: nn.Module, loss_function, optimizer, \n",
    "          checkpoint_path: Path, device: torch.device = 'cpu', report_interval: int = 1000, tune: bool = False) -> nn.Module:\n",
    "\n",
    "    best_val_loss = float(\"inf\")\n",
    "\n",
    "    if torch.cuda.device_count() > 1:\n",
    "        model = nn.DataParallel(model)\n",
    "\n",
    "    model.to(device)\n",
    "\n",
    "    best_model = model\n",
    "\n",
    "    for epoch in range(model.total_epochs, epochs):\n",
    "        print(f\"Epoch: {epoch + 1}\")\n",
    "\n",
    "        model.train(True)\n",
    "        avg_loss = train_epoch(train_dataloader, model, loss_function, optimizer, device, report_interval)\n",
    "        model.eval()\n",
    "\n",
    "        with torch.no_grad():\n",
    "            avg_val_loss = compute_loss_on(validation_dataloader, model, loss_function, device=device)\n",
    "\n",
    "        print(f\"Loss on train: {avg_loss}, loss on validation: {avg_val_loss}\")\n",
    "\n",
    "        model.total_epochs += 1\n",
    "    \n",
    "        # Disable checkpoints while running in tune mode\n",
    "        if avg_val_loss < best_val_loss:\n",
    "            best_val_loss = avg_val_loss\n",
    "\n",
    "            if not tune:\n",
    "                model_path = checkpoint_path / f\"{checkpoint_path.name}_{epoch}.pt\"\n",
    "                save_model(model, model_path)\n",
    "            \n",
    "            best_model = model\n",
    "\n",
    "    return best_model   "
   ]
  },
  {
   "cell_type": "markdown",
   "metadata": {},
   "source": [
    "## Train the model with grid search hyperparameter tuning"
   ]
  },
  {
   "cell_type": "code",
   "execution_count": 18,
   "metadata": {},
   "outputs": [],
   "source": [
    "import ray\n",
    "import json\n",
    "from ray import tune\n",
    "from ray import train as ray_train\n",
    "from ray.train import Checkpoint\n",
    "from ray.tune.schedulers import ASHAScheduler\n",
    "from typing import Dict\n",
    "from utils.evaluation import compute_predictions, compute_losses_from\n",
    "from functools import partial"
   ]
  },
  {
   "cell_type": "code",
   "execution_count": 19,
   "metadata": {},
   "outputs": [],
   "source": [
    "def run_id_generator(data: Dict) -> str:\n",
    "    return str(hash(json.dumps(data)))"
   ]
  },
  {
   "cell_type": "code",
   "execution_count": 20,
   "metadata": {},
   "outputs": [],
   "source": [
    "def parameter_train(parameter: Dict, train_data: DataLoader, test_data: DataLoader, model_input_shape: int, model_output_shape: int, checkpoint_path: Path, device: torch.device) -> None:\n",
    "\n",
    "    run_id = run_id_generator(parameter)\n",
    "    run_checkpoint = checkpoint_path / run_id\n",
    "    run_checkpoint.mkdir(parents=True)\n",
    "\n",
    "    train_dataloader, validation_dataloader, test_dataloader = define_dataloader_from_angle_dataset(train_data, test_data, batch_size=parameter[\"batch_size\"])\n",
    "\n",
    "    model = FullyConnected(model_input_shape, parameter[\"hidden_layers\"], model_output_shape)\n",
    "\n",
    "    optimizer = get_optimizer_function(model, parameter[\"lr\"])\n",
    "    loss_function = get_loss_function()\n",
    "\n",
    "    last_model = train(parameter[\"epochs\"], train_dataloader, validation_dataloader, model, loss_function, optimizer, checkpoint_path, device, report_interval=50, tune=True)\n",
    "\n",
    "    y, y_true = compute_predictions(test_dataloader, last_model)\n",
    "    test_losses = compute_losses_from(y, y_true, loss_function)\n",
    "\n",
    "    torch.save((last_model.state_dict(), optimizer.state_dict()), run_checkpoint / \"checkpoint.pt\")\n",
    "\n",
    "    print(str(parameter), file=open(run_checkpoint / \"trail_parameter.txt\", \"w\"))\n",
    "\n",
    "    ray_train.report(\n",
    "        metrics={ \"loss\": float(test_losses.mean()), \"parameter\": parameter , \"run_id\": run_id }\n",
    "    )"
   ]
  },
  {
   "cell_type": "markdown",
   "metadata": {},
   "source": [
    "Define parameter ranges"
   ]
  },
  {
   "cell_type": "code",
   "execution_count": 21,
   "metadata": {},
   "outputs": [],
   "source": [
    "learning_rate_radius = 1e-3\n",
    "num_epochs_radius = 50\n",
    "batch_size_radius = 10\n",
    "hidden_layer_sizes = [16, 32, 64]\n",
    "hidden_layer_count = [2, 4, 6]"
   ]
  },
  {
   "cell_type": "code",
   "execution_count": 22,
   "metadata": {},
   "outputs": [],
   "source": [
    "parameter = {\n",
    "    \"lr\": tune.loguniform(learning_rate_radius - learning_rate, learning_rate + learning_rate_radius),\n",
    "    \"epochs\": tune.choice(list(range(num_epochs - num_epochs_radius, num_epochs + num_epochs_radius, 20))),\n",
    "    \"batch_size\": tune.grid_search(list(range(batch_size - batch_size_radius, batch_size + batch_size_radius, 4))),\n",
    "    \"hidden_layers\": tune.grid_search(list([hidden_layer_sizes[i % len(hidden_layer_sizes)] for i in range(dim)] for _, dim in enumerate(hidden_layer_count))),\n",
    "    \"dropout\": tune.uniform(0.1, 0.5)\n",
    "}"
   ]
  },
  {
   "cell_type": "code",
   "execution_count": 23,
   "metadata": {},
   "outputs": [],
   "source": [
    "scheduler = ASHAScheduler(\n",
    "    metric=\"loss\",\n",
    "    mode=\"min\",\n",
    "    max_t=num_epochs,\n",
    "    grace_period=1,\n",
    "    reduction_factor=2,\n",
    ")"
   ]
  },
  {
   "cell_type": "code",
   "execution_count": 24,
   "metadata": {},
   "outputs": [
    {
     "name": "stderr",
     "output_type": "stream",
     "text": [
      "2023-11-19 17:58:06,100\tWARNING services.py:1996 -- WARNING: The object store is using /tmp instead of /dev/shm because /dev/shm has only 67104768 bytes available. This will harm performance! You may be able to free up space by deleting files in /dev/shm. If you are inside a Docker container, you can increase /dev/shm size by passing '--shm-size=10.24gb' to 'docker run' (or add it to the run_options list in a Ray cluster config). Make sure to set this to more than 30% of available RAM.\n",
      "2023-11-19 17:58:06,232\tINFO worker.py:1673 -- Started a local Ray instance.\n",
      "2023-11-19 17:58:06,237\tINFO packaging.py:530 -- Creating a file package for local directory '/mnt/src/notebooks/../utils'.\n",
      "2023-11-19 17:58:06,240\tINFO packaging.py:358 -- Pushing file package 'gcs://_ray_pkg_d8c8a9358aefbc3b.zip' (0.03MiB) to Ray cluster...\n",
      "2023-11-19 17:58:06,241\tINFO packaging.py:371 -- Successfully pushed file package 'gcs://_ray_pkg_d8c8a9358aefbc3b.zip'.\n"
     ]
    },
    {
     "data": {
      "application/vnd.jupyter.widget-view+json": {
       "model_id": "6fde92375ccc4690a0f8884468cc3322",
       "version_major": 2,
       "version_minor": 0
      },
      "text/html": [
       "<div class=\"lm-Widget p-Widget lm-Panel p-Panel jp-Cell-outputWrapper\">\n",
       "    <div style=\"margin-left: 50px;display: flex;flex-direction: row;align-items: center\">\n",
       "        <div class=\"jp-RenderedHTMLCommon\" style=\"display: flex; flex-direction: row;\">\n",
       "  <svg viewBox=\"0 0 567 224\" fill=\"none\" xmlns=\"http://www.w3.org/2000/svg\" style=\"height: 3em;\">\n",
       "    <g clip-path=\"url(#clip0_4338_178347)\">\n",
       "        <path d=\"M341.29 165.561H355.29L330.13 129.051C345.63 123.991 354.21 112.051 354.21 94.2307C354.21 71.3707 338.72 58.1807 311.88 58.1807H271V165.561H283.27V131.661H311.8C314.25 131.661 316.71 131.501 319.01 131.351L341.25 165.561H341.29ZM283.29 119.851V70.0007H311.82C331.3 70.0007 342.34 78.2907 342.34 94.5507C342.34 111.271 331.34 119.861 311.82 119.861L283.29 119.851ZM451.4 138.411L463.4 165.561H476.74L428.74 58.1807H416L367.83 165.561H380.83L392.83 138.411H451.4ZM446.19 126.601H398L422 72.1407L446.24 126.601H446.19ZM526.11 128.741L566.91 58.1807H554.35L519.99 114.181L485.17 58.1807H472.44L514.01 129.181V165.541H526.13V128.741H526.11Z\" fill=\"var(--jp-ui-font-color0)\"/>\n",
       "        <path d=\"M82.35 104.44C84.0187 97.8827 87.8248 92.0678 93.1671 87.9146C98.5094 83.7614 105.083 81.5067 111.85 81.5067C118.617 81.5067 125.191 83.7614 130.533 87.9146C135.875 92.0678 139.681 97.8827 141.35 104.44H163.75C164.476 101.562 165.622 98.8057 167.15 96.2605L127.45 56.5605C121.071 60.3522 113.526 61.6823 106.235 60.3005C98.9443 58.9187 92.4094 54.9203 87.8602 49.0574C83.3109 43.1946 81.0609 35.8714 81.5332 28.4656C82.0056 21.0599 85.1679 14.0819 90.4252 8.8446C95.6824 3.60726 102.672 0.471508 110.08 0.0272655C117.487 -0.416977 124.802 1.86091 130.647 6.4324C136.493 11.0039 140.467 17.5539 141.821 24.8501C143.175 32.1463 141.816 39.6859 138 46.0505L177.69 85.7505C182.31 82.9877 187.58 81.4995 192.962 81.4375C198.345 81.3755 203.648 82.742 208.33 85.3976C213.012 88.0532 216.907 91.9029 219.616 96.5544C222.326 101.206 223.753 106.492 223.753 111.875C223.753 117.258 222.326 122.545 219.616 127.197C216.907 131.848 213.012 135.698 208.33 138.353C203.648 141.009 198.345 142.375 192.962 142.313C187.58 142.251 182.31 140.763 177.69 138L138 177.7C141.808 184.071 143.155 191.614 141.79 198.91C140.424 206.205 136.44 212.75 130.585 217.313C124.731 221.875 117.412 224.141 110.004 223.683C102.596 223.226 95.6103 220.077 90.3621 214.828C85.1139 209.58 81.9647 202.595 81.5072 195.187C81.0497 187.779 83.3154 180.459 87.878 174.605C92.4405 168.751 98.9853 164.766 106.281 163.401C113.576 162.035 121.119 163.383 127.49 167.19L167.19 127.49C165.664 124.941 164.518 122.182 163.79 119.3H141.39C139.721 125.858 135.915 131.673 130.573 135.826C125.231 139.98 118.657 142.234 111.89 142.234C105.123 142.234 98.5494 139.98 93.2071 135.826C87.8648 131.673 84.0587 125.858 82.39 119.3H60C58.1878 126.495 53.8086 132.78 47.6863 136.971C41.5641 141.163 34.1211 142.972 26.7579 142.059C19.3947 141.146 12.6191 137.574 7.70605 132.014C2.79302 126.454 0.0813599 119.29 0.0813599 111.87C0.0813599 104.451 2.79302 97.2871 7.70605 91.7272C12.6191 86.1673 19.3947 82.5947 26.7579 81.6817C34.1211 80.7686 41.5641 82.5781 47.6863 86.7696C53.8086 90.9611 58.1878 97.2456 60 104.44H82.35ZM100.86 204.32C103.407 206.868 106.759 208.453 110.345 208.806C113.93 209.159 117.527 208.258 120.522 206.256C123.517 204.254 125.725 201.276 126.771 197.828C127.816 194.38 127.633 190.677 126.253 187.349C124.874 184.021 122.383 181.274 119.205 179.577C116.027 177.88 112.359 177.337 108.826 178.042C105.293 178.746 102.113 180.654 99.8291 183.44C97.5451 186.226 96.2979 189.718 96.3 193.32C96.2985 195.364 96.7006 197.388 97.4831 199.275C98.2656 201.163 99.4132 202.877 100.86 204.32ZM204.32 122.88C206.868 120.333 208.453 116.981 208.806 113.396C209.159 109.811 208.258 106.214 206.256 103.219C204.254 100.223 201.275 98.0151 197.827 96.97C194.38 95.9249 190.676 96.1077 187.348 97.4873C184.02 98.8669 181.274 101.358 179.577 104.536C177.879 107.714 177.337 111.382 178.041 114.915C178.746 118.448 180.653 121.627 183.439 123.911C186.226 126.195 189.717 127.443 193.32 127.44C195.364 127.443 197.388 127.042 199.275 126.259C201.163 125.476 202.878 124.328 204.32 122.88ZM122.88 19.4205C120.333 16.8729 116.981 15.2876 113.395 14.9347C109.81 14.5817 106.213 15.483 103.218 17.4849C100.223 19.4868 98.0146 22.4654 96.9696 25.9131C95.9245 29.3608 96.1073 33.0642 97.4869 36.3922C98.8665 39.7202 101.358 42.4668 104.535 44.1639C107.713 45.861 111.381 46.4036 114.914 45.6992C118.447 44.9949 121.627 43.0871 123.911 40.301C126.195 37.515 127.442 34.0231 127.44 30.4205C127.44 28.3772 127.038 26.3539 126.255 24.4664C125.473 22.5788 124.326 20.8642 122.88 19.4205ZM19.42 100.86C16.8725 103.408 15.2872 106.76 14.9342 110.345C14.5813 113.93 15.4826 117.527 17.4844 120.522C19.4863 123.518 22.4649 125.726 25.9127 126.771C29.3604 127.816 33.0638 127.633 36.3918 126.254C39.7198 124.874 42.4664 122.383 44.1635 119.205C45.8606 116.027 46.4032 112.359 45.6988 108.826C44.9944 105.293 43.0866 102.114 40.3006 99.8296C37.5145 97.5455 34.0227 96.2983 30.42 96.3005C26.2938 96.3018 22.337 97.9421 19.42 100.86ZM100.86 100.86C98.3125 103.408 96.7272 106.76 96.3742 110.345C96.0213 113.93 96.9226 117.527 98.9244 120.522C100.926 123.518 103.905 125.726 107.353 126.771C110.8 127.816 114.504 127.633 117.832 126.254C121.16 124.874 123.906 122.383 125.604 119.205C127.301 116.027 127.843 112.359 127.139 108.826C126.434 105.293 124.527 102.114 121.741 99.8296C118.955 97.5455 115.463 96.2983 111.86 96.3005C109.817 96.299 107.793 96.701 105.905 97.4835C104.018 98.2661 102.303 99.4136 100.86 100.86Z\" fill=\"#00AEEF\"/>\n",
       "    </g>\n",
       "    <defs>\n",
       "        <clipPath id=\"clip0_4338_178347\">\n",
       "            <rect width=\"566.93\" height=\"223.75\" fill=\"white\"/>\n",
       "        </clipPath>\n",
       "    </defs>\n",
       "  </svg>\n",
       "</div>\n",
       "\n",
       "        <table class=\"jp-RenderedHTMLCommon\" style=\"border-collapse: collapse;color: var(--jp-ui-font-color1);font-size: var(--jp-ui-font-size1);\">\n",
       "    <tr>\n",
       "        <td style=\"text-align: left\"><b>Python version:</b></td>\n",
       "        <td style=\"text-align: left\"><b>3.10.12</b></td>\n",
       "    </tr>\n",
       "    <tr>\n",
       "        <td style=\"text-align: left\"><b>Ray version:</b></td>\n",
       "        <td style=\"text-align: left\"><b>2.8.0</b></td>\n",
       "    </tr>\n",
       "    \n",
       "</table>\n",
       "\n",
       "    </div>\n",
       "</div>\n"
      ],
      "text/plain": [
       "RayContext(dashboard_url='', python_version='3.10.12', ray_version='2.8.0', ray_commit='105355bd253d6538ed34d331f6a4bdf0e38ace3a', protocol_version=None)"
      ]
     },
     "execution_count": 24,
     "metadata": {},
     "output_type": "execute_result"
    }
   ],
   "source": [
    "if ray.is_initialized():\n",
    "    ray.shutdown()\n",
    "\n",
    "ray.init(runtime_env={ \"py_modules\": [utils] })"
   ]
  },
  {
   "cell_type": "code",
   "execution_count": 25,
   "metadata": {},
   "outputs": [],
   "source": [
    "ray_resources_manager = tune.with_resources(\n",
    "    trainable=lambda param: parameter_train(param, train_data, test_data, input_shape, output_shape, model_path, device),\n",
    "    # See: https://stackoverflow.com/questions/58967793/what-is-the-way-to-make-tune-run-parallel-trials-across-multiple-gpus\n",
    "    resources={ \"cpu\": 3, \"gpu\": 0.25 }\n",
    ")\n",
    "\n",
    "tuner = tune.Tuner(\n",
    "    ray_resources_manager,\n",
    "    param_space=parameter,\n",
    "    tune_config=tune.TuneConfig(\n",
    "        scheduler=scheduler,\n",
    "        num_samples=20\n",
    "    )\n",
    ")"
   ]
  },
  {
   "cell_type": "code",
   "execution_count": 26,
   "metadata": {},
   "outputs": [
    {
     "data": {
      "text/html": [
       "<div class=\"tuneStatus\">\n",
       "  <div style=\"display: flex;flex-direction: row\">\n",
       "    <div style=\"display: flex;flex-direction: column;\">\n",
       "      <h3>Tune Status</h3>\n",
       "      <table>\n",
       "<tbody>\n",
       "<tr><td>Current time:</td><td>2023-11-19 18:04:47</td></tr>\n",
       "<tr><td>Running for: </td><td>00:06:37.98        </td></tr>\n",
       "<tr><td>Memory:      </td><td>12.3/62.8 GiB      </td></tr>\n",
       "</tbody>\n",
       "</table>\n",
       "    </div>\n",
       "    <div class=\"vDivider\"></div>\n",
       "    <div class=\"systemInfo\">\n",
       "      <h3>System Info</h3>\n",
       "      Using AsyncHyperBand: num_stopped=0<br>Bracket: Iter 512.000: None | Iter 256.000: None | Iter 128.000: None | Iter 64.000: None | Iter 32.000: None | Iter 16.000: None | Iter 8.000: None | Iter 4.000: None | Iter 2.000: None | Iter 1.000: None<br>Logical resource usage: 12.0/12 CPUs, 1.0/1 GPUs (0.0/1.0 accelerator_type:G)\n",
       "    </div>\n",
       "    \n",
       "  </div>\n",
       "  <div class=\"hDivider\"></div>\n",
       "  <div class=\"trialStatus\">\n",
       "    <h3>Trial Status</h3>\n",
       "    <table>\n",
       "<thead>\n",
       "<tr><th>Trial name        </th><th>status  </th><th>loc             </th><th style=\"text-align: right;\">  batch_size</th><th style=\"text-align: right;\">  dropout</th><th style=\"text-align: right;\">  epochs</th><th>hidden_layers       </th><th style=\"text-align: right;\">         lr</th></tr>\n",
       "</thead>\n",
       "<tbody>\n",
       "<tr><td>lambda_32f5e_00000</td><td>RUNNING </td><td>172.17.0.2:26783</td><td style=\"text-align: right;\">          54</td><td style=\"text-align: right;\"> 0.105522</td><td style=\"text-align: right;\">     990</td><td>[16, 32]            </td><td style=\"text-align: right;\">0.00103166 </td></tr>\n",
       "<tr><td>lambda_32f5e_00001</td><td>RUNNING </td><td>172.17.0.2:26784</td><td style=\"text-align: right;\">          58</td><td style=\"text-align: right;\"> 0.21181 </td><td style=\"text-align: right;\">     990</td><td>[16, 32]            </td><td style=\"text-align: right;\">0.00108566 </td></tr>\n",
       "<tr><td>lambda_32f5e_00002</td><td>RUNNING </td><td>172.17.0.2:26785</td><td style=\"text-align: right;\">          62</td><td style=\"text-align: right;\"> 0.269716</td><td style=\"text-align: right;\">    1030</td><td>[16, 32]            </td><td style=\"text-align: right;\">0.00093458 </td></tr>\n",
       "<tr><td>lambda_32f5e_00003</td><td>RUNNING </td><td>172.17.0.2:26786</td><td style=\"text-align: right;\">          66</td><td style=\"text-align: right;\"> 0.207716</td><td style=\"text-align: right;\">    1010</td><td>[16, 32]            </td><td style=\"text-align: right;\">0.000947284</td></tr>\n",
       "<tr><td>lambda_32f5e_00004</td><td>PENDING </td><td>                </td><td style=\"text-align: right;\">          70</td><td style=\"text-align: right;\"> 0.400545</td><td style=\"text-align: right;\">     950</td><td>[16, 32]            </td><td style=\"text-align: right;\">0.00102713 </td></tr>\n",
       "<tr><td>lambda_32f5e_00005</td><td>PENDING </td><td>                </td><td style=\"text-align: right;\">          54</td><td style=\"text-align: right;\"> 0.205669</td><td style=\"text-align: right;\">     990</td><td>[16, 32, 64, 16]    </td><td style=\"text-align: right;\">0.00108168 </td></tr>\n",
       "<tr><td>lambda_32f5e_00006</td><td>PENDING </td><td>                </td><td style=\"text-align: right;\">          58</td><td style=\"text-align: right;\"> 0.229881</td><td style=\"text-align: right;\">    1030</td><td>[16, 32, 64, 16]    </td><td style=\"text-align: right;\">0.00102237 </td></tr>\n",
       "<tr><td>lambda_32f5e_00007</td><td>PENDING </td><td>                </td><td style=\"text-align: right;\">          62</td><td style=\"text-align: right;\"> 0.354973</td><td style=\"text-align: right;\">    1030</td><td>[16, 32, 64, 16]    </td><td style=\"text-align: right;\">0.00108978 </td></tr>\n",
       "<tr><td>lambda_32f5e_00008</td><td>PENDING </td><td>                </td><td style=\"text-align: right;\">          66</td><td style=\"text-align: right;\"> 0.391208</td><td style=\"text-align: right;\">     950</td><td>[16, 32, 64, 16]    </td><td style=\"text-align: right;\">0.00094122 </td></tr>\n",
       "<tr><td>lambda_32f5e_00009</td><td>PENDING </td><td>                </td><td style=\"text-align: right;\">          70</td><td style=\"text-align: right;\"> 0.415408</td><td style=\"text-align: right;\">     990</td><td>[16, 32, 64, 16]    </td><td style=\"text-align: right;\">0.00103844 </td></tr>\n",
       "<tr><td>lambda_32f5e_00010</td><td>PENDING </td><td>                </td><td style=\"text-align: right;\">          54</td><td style=\"text-align: right;\"> 0.499803</td><td style=\"text-align: right;\">    1010</td><td>[16, 32, 64, 16_f880</td><td style=\"text-align: right;\">0.00109886 </td></tr>\n",
       "<tr><td>lambda_32f5e_00011</td><td>PENDING </td><td>                </td><td style=\"text-align: right;\">          58</td><td style=\"text-align: right;\"> 0.311173</td><td style=\"text-align: right;\">    1030</td><td>[16, 32, 64, 16_4040</td><td style=\"text-align: right;\">0.00106736 </td></tr>\n",
       "<tr><td>lambda_32f5e_00012</td><td>PENDING </td><td>                </td><td style=\"text-align: right;\">          62</td><td style=\"text-align: right;\"> 0.229836</td><td style=\"text-align: right;\">     950</td><td>[16, 32, 64, 16_d680</td><td style=\"text-align: right;\">0.00100743 </td></tr>\n",
       "<tr><td>lambda_32f5e_00013</td><td>PENDING </td><td>                </td><td style=\"text-align: right;\">          66</td><td style=\"text-align: right;\"> 0.114625</td><td style=\"text-align: right;\">     990</td><td>[16, 32, 64, 16_4900</td><td style=\"text-align: right;\">0.00109416 </td></tr>\n",
       "<tr><td>lambda_32f5e_00014</td><td>PENDING </td><td>                </td><td style=\"text-align: right;\">          70</td><td style=\"text-align: right;\"> 0.348065</td><td style=\"text-align: right;\">    1030</td><td>[16, 32, 64, 16_4100</td><td style=\"text-align: right;\">0.000960634</td></tr>\n",
       "<tr><td>lambda_32f5e_00015</td><td>PENDING </td><td>                </td><td style=\"text-align: right;\">          54</td><td style=\"text-align: right;\"> 0.167727</td><td style=\"text-align: right;\">     990</td><td>[16, 32]            </td><td style=\"text-align: right;\">0.00104399 </td></tr>\n",
       "<tr><td>lambda_32f5e_00016</td><td>PENDING </td><td>                </td><td style=\"text-align: right;\">          58</td><td style=\"text-align: right;\"> 0.245434</td><td style=\"text-align: right;\">     990</td><td>[16, 32]            </td><td style=\"text-align: right;\">0.00103584 </td></tr>\n",
       "<tr><td>lambda_32f5e_00017</td><td>PENDING </td><td>                </td><td style=\"text-align: right;\">          62</td><td style=\"text-align: right;\"> 0.162029</td><td style=\"text-align: right;\">    1010</td><td>[16, 32]            </td><td style=\"text-align: right;\">0.000939161</td></tr>\n",
       "<tr><td>lambda_32f5e_00018</td><td>PENDING </td><td>                </td><td style=\"text-align: right;\">          66</td><td style=\"text-align: right;\"> 0.138562</td><td style=\"text-align: right;\">     950</td><td>[16, 32]            </td><td style=\"text-align: right;\">0.00106732 </td></tr>\n",
       "<tr><td>lambda_32f5e_00019</td><td>PENDING </td><td>                </td><td style=\"text-align: right;\">          70</td><td style=\"text-align: right;\"> 0.154316</td><td style=\"text-align: right;\">    1030</td><td>[16, 32]            </td><td style=\"text-align: right;\">0.000952832</td></tr>\n",
       "</tbody>\n",
       "</table>\n",
       "  </div>\n",
       "</div>\n",
       "<style>\n",
       ".tuneStatus {\n",
       "  color: var(--jp-ui-font-color1);\n",
       "}\n",
       ".tuneStatus .systemInfo {\n",
       "  display: flex;\n",
       "  flex-direction: column;\n",
       "}\n",
       ".tuneStatus td {\n",
       "  white-space: nowrap;\n",
       "}\n",
       ".tuneStatus .trialStatus {\n",
       "  display: flex;\n",
       "  flex-direction: column;\n",
       "}\n",
       ".tuneStatus h3 {\n",
       "  font-weight: bold;\n",
       "}\n",
       ".tuneStatus .hDivider {\n",
       "  border-bottom-width: var(--jp-border-width);\n",
       "  border-bottom-color: var(--jp-border-color0);\n",
       "  border-bottom-style: solid;\n",
       "}\n",
       ".tuneStatus .vDivider {\n",
       "  border-left-width: var(--jp-border-width);\n",
       "  border-left-color: var(--jp-border-color0);\n",
       "  border-left-style: solid;\n",
       "  margin: 0.5em 1em 0.5em 1em;\n",
       "}\n",
       "</style>\n"
      ],
      "text/plain": [
       "<IPython.core.display.HTML object>"
      ]
     },
     "metadata": {},
     "output_type": "display_data"
    },
    {
     "name": "stderr",
     "output_type": "stream",
     "text": [
      "2023-11-19 17:58:27,947\tWARNING worker.py:2074 -- Warning: The actor ImplicitFunc is very large (15 MiB). Check that its definition is not implicitly capturing a large array or other object in scope. Tip: use ray.put() to put large objects in the Ray object store.\n"
     ]
    },
    {
     "name": "stdout",
     "output_type": "stream",
     "text": [
      "\u001b[36m(<lambda> pid=26786)\u001b[0m Epoch: 1\n"
     ]
    },
    {
     "name": "stderr",
     "output_type": "stream",
     "text": [
      "\u001b[36m(<lambda> pid=26786)\u001b[0m /tmp/ray/session_2023-11-19_17-58-04_341955_26134/runtime_resources/py_modules_files/_ray_pkg_d8c8a9358aefbc3b/utils/angle_dataset.py:19: FutureWarning: Series.__getitem__ treating keys as positions is deprecated. In a future version, integer keys will always be treated as labels (consistent with DataFrame behavior). To access a value by position, use `ser.iloc[pos]`\n",
      "\u001b[36m(<lambda> pid=26786)\u001b[0m   return row[0], row[1]\n"
     ]
    },
    {
     "name": "stdout",
     "output_type": "stream",
     "text": [
      "\u001b[36m(<lambda> pid=26786)\u001b[0m Loss on train: 0, loss on validation: 0.3048282265663147\n",
      "\u001b[36m(<lambda> pid=26786)\u001b[0m Epoch: 2\u001b[32m [repeated 4x across cluster] (Ray deduplicates logs by default. Set RAY_DEDUP_LOGS=0 to disable log deduplication, or see https://docs.ray.io/en/master/ray-observability/ray-logging.html#log-deduplication for more options.)\u001b[0m\n",
      "\u001b[36m(<lambda> pid=26786)\u001b[0m Loss on train: 0, loss on validation: 0.16283735632896423\u001b[32m [repeated 4x across cluster]\u001b[0m\n",
      "\u001b[36m(<lambda> pid=26786)\u001b[0m Epoch: 3\u001b[32m [repeated 4x across cluster]\u001b[0m\n",
      "\u001b[36m(<lambda> pid=26786)\u001b[0m Loss on train: 0, loss on validation: 0.11116863787174225\u001b[32m [repeated 4x across cluster]\u001b[0m\n",
      "\u001b[36m(<lambda> pid=26786)\u001b[0m Epoch: 4\u001b[32m [repeated 4x across cluster]\u001b[0m\n",
      "\u001b[36m(<lambda> pid=26786)\u001b[0m Loss on train: 0, loss on validation: 0.07930207252502441\u001b[32m [repeated 4x across cluster]\u001b[0m\n",
      "\u001b[36m(<lambda> pid=26786)\u001b[0m Epoch: 5\u001b[32m [repeated 4x across cluster]\u001b[0m\n",
      "\u001b[36m(<lambda> pid=26786)\u001b[0m Loss on train: 0, loss on validation: 0.05601608753204346\u001b[32m [repeated 4x across cluster]\u001b[0m\n",
      "\u001b[36m(<lambda> pid=26786)\u001b[0m Epoch: 6\u001b[32m [repeated 4x across cluster]\u001b[0m\n",
      "\u001b[36m(<lambda> pid=26786)\u001b[0m Loss on train: 0, loss on validation: 0.047567397356033325\u001b[32m [repeated 4x across cluster]\u001b[0m\n",
      "\u001b[36m(<lambda> pid=26786)\u001b[0m Epoch: 7\u001b[32m [repeated 4x across cluster]\u001b[0m\n",
      "\u001b[36m(<lambda> pid=26783)\u001b[0m Loss on train: 0, loss on validation: 0.04396580532193184\u001b[32m [repeated 3x across cluster]\u001b[0m\n",
      "\u001b[36m(<lambda> pid=26783)\u001b[0m Epoch: 7\u001b[32m [repeated 3x across cluster]\u001b[0m\n",
      "\u001b[36m(<lambda> pid=26783)\u001b[0m Loss on train: 0, loss on validation: 0.040160346776247025\u001b[32m [repeated 4x across cluster]\u001b[0m\n",
      "\u001b[36m(<lambda> pid=26783)\u001b[0m Epoch: 8\u001b[32m [repeated 4x across cluster]\u001b[0m\n",
      "\u001b[36m(<lambda> pid=26783)\u001b[0m Loss on train: 0, loss on validation: 0.039570342749357224\u001b[32m [repeated 4x across cluster]\u001b[0m\n",
      "\u001b[36m(<lambda> pid=26783)\u001b[0m Epoch: 9\u001b[32m [repeated 4x across cluster]\u001b[0m\n",
      "\u001b[36m(<lambda> pid=26786)\u001b[0m Loss on train: 0, loss on validation: 0.03593980520963669\u001b[32m [repeated 4x across cluster]\u001b[0m\n",
      "\u001b[36m(<lambda> pid=26786)\u001b[0m Epoch: 11\u001b[32m [repeated 4x across cluster]\u001b[0m\n",
      "\u001b[36m(<lambda> pid=26786)\u001b[0m Loss on train: 0, loss on validation: 0.034673333168029785\u001b[32m [repeated 4x across cluster]\u001b[0m\n",
      "\u001b[36m(<lambda> pid=26786)\u001b[0m Epoch: 12\u001b[32m [repeated 4x across cluster]\u001b[0m\n",
      "\u001b[36m(<lambda> pid=26786)\u001b[0m Loss on train: 0, loss on validation: 0.03448331356048584\u001b[32m [repeated 4x across cluster]\u001b[0m\n",
      "\u001b[36m(<lambda> pid=26786)\u001b[0m Epoch: 13\u001b[32m [repeated 4x across cluster]\u001b[0m\n",
      "\u001b[36m(<lambda> pid=26786)\u001b[0m Loss on train: 0, loss on validation: 0.03223452344536781\u001b[32m [repeated 4x across cluster]\u001b[0m\n",
      "\u001b[36m(<lambda> pid=26786)\u001b[0m Epoch: 14\u001b[32m [repeated 4x across cluster]\u001b[0m\n",
      "\u001b[36m(<lambda> pid=26786)\u001b[0m Loss on train: 0, loss on validation: 0.030387459322810173\u001b[32m [repeated 4x across cluster]\u001b[0m\n",
      "\u001b[36m(<lambda> pid=26786)\u001b[0m Epoch: 15\u001b[32m [repeated 4x across cluster]\u001b[0m\n",
      "\u001b[36m(<lambda> pid=26784)\u001b[0m Loss on train: 0, loss on validation: 0.06137121096253395\u001b[32m [repeated 3x across cluster]\u001b[0m\n",
      "\u001b[36m(<lambda> pid=26784)\u001b[0m Epoch: 15\u001b[32m [repeated 3x across cluster]\u001b[0m\n",
      "\u001b[36m(<lambda> pid=26785)\u001b[0m Loss on train: 0, loss on validation: 0.03729347139596939\u001b[32m [repeated 3x across cluster]\u001b[0m\n",
      "\u001b[36m(<lambda> pid=26785)\u001b[0m Epoch: 16\u001b[32m [repeated 3x across cluster]\u001b[0m\n",
      "\u001b[36m(<lambda> pid=26783)\u001b[0m Loss on train: 0, loss on validation: 0.025897184386849403\u001b[32m [repeated 3x across cluster]\u001b[0m\n",
      "\u001b[36m(<lambda> pid=26783)\u001b[0m Epoch: 16\u001b[32m [repeated 3x across cluster]\u001b[0m\n",
      "\u001b[36m(<lambda> pid=26783)\u001b[0m Loss on train: 0, loss on validation: 0.026141270995140076\u001b[32m [repeated 4x across cluster]\u001b[0m\n",
      "\u001b[36m(<lambda> pid=26783)\u001b[0m Epoch: 17\u001b[32m [repeated 4x across cluster]\u001b[0m\n",
      "\u001b[36m(<lambda> pid=26783)\u001b[0m Loss on train: 0, loss on validation: 0.024938082322478294\u001b[32m [repeated 4x across cluster]\u001b[0m\n",
      "\u001b[36m(<lambda> pid=26783)\u001b[0m Epoch: 18\u001b[32m [repeated 4x across cluster]\u001b[0m\n",
      "\u001b[36m(<lambda> pid=26785)\u001b[0m Loss on train: 0, loss on validation: 0.029075253754854202\u001b[32m [repeated 4x across cluster]\u001b[0m\n",
      "\u001b[36m(<lambda> pid=26785)\u001b[0m Epoch: 20\u001b[32m [repeated 4x across cluster]\u001b[0m\n",
      "\u001b[36m(<lambda> pid=26785)\u001b[0m Loss on train: 0, loss on validation: 0.028760481625795364\u001b[32m [repeated 4x across cluster]\u001b[0m\n",
      "\u001b[36m(<lambda> pid=26785)\u001b[0m Epoch: 21\u001b[32m [repeated 4x across cluster]\u001b[0m\n",
      "\u001b[36m(<lambda> pid=26785)\u001b[0m Loss on train: 0, loss on validation: 0.028369661420583725\u001b[32m [repeated 4x across cluster]\u001b[0m\n",
      "\u001b[36m(<lambda> pid=26785)\u001b[0m Epoch: 22\u001b[32m [repeated 4x across cluster]\u001b[0m\n",
      "\u001b[36m(<lambda> pid=26785)\u001b[0m Loss on train: 0, loss on validation: 0.027673833072185516\u001b[32m [repeated 4x across cluster]\u001b[0m\n",
      "\u001b[36m(<lambda> pid=26785)\u001b[0m Epoch: 23\u001b[32m [repeated 4x across cluster]\u001b[0m\n",
      "\u001b[36m(<lambda> pid=26785)\u001b[0m Loss on train: 0, loss on validation: 0.029422609135508537\u001b[32m [repeated 4x across cluster]\u001b[0m\n",
      "\u001b[36m(<lambda> pid=26785)\u001b[0m Epoch: 24\u001b[32m [repeated 4x across cluster]\u001b[0m\n",
      "\u001b[36m(<lambda> pid=26785)\u001b[0m Loss on train: 0, loss on validation: 0.025181714445352554\u001b[32m [repeated 4x across cluster]\u001b[0m\n",
      "\u001b[36m(<lambda> pid=26785)\u001b[0m Epoch: 25\u001b[32m [repeated 4x across cluster]\u001b[0m\n",
      "\u001b[36m(<lambda> pid=26785)\u001b[0m Loss on train: 0, loss on validation: 0.026469767093658447\u001b[32m [repeated 4x across cluster]\u001b[0m\n",
      "\u001b[36m(<lambda> pid=26785)\u001b[0m Epoch: 26\u001b[32m [repeated 4x across cluster]\u001b[0m\n",
      "\u001b[36m(<lambda> pid=26785)\u001b[0m Loss on train: 0, loss on validation: 0.023781143128871918\u001b[32m [repeated 4x across cluster]\u001b[0m\n",
      "\u001b[36m(<lambda> pid=26785)\u001b[0m Epoch: 27\u001b[32m [repeated 4x across cluster]\u001b[0m\n",
      "\u001b[36m(<lambda> pid=26785)\u001b[0m Loss on train: 0, loss on validation: 0.025429457426071167\u001b[32m [repeated 4x across cluster]\u001b[0m\n",
      "\u001b[36m(<lambda> pid=26785)\u001b[0m Epoch: 28\u001b[32m [repeated 4x across cluster]\u001b[0m\n",
      "\u001b[36m(<lambda> pid=26785)\u001b[0m Loss on train: 0, loss on validation: 0.02402554824948311\u001b[32m [repeated 4x across cluster]\u001b[0m\n",
      "\u001b[36m(<lambda> pid=26785)\u001b[0m Epoch: 29\u001b[32m [repeated 4x across cluster]\u001b[0m\n",
      "\u001b[36m(<lambda> pid=26784)\u001b[0m Loss on train: 0, loss on validation: 0.04938206076622009\u001b[32m [repeated 3x across cluster]\u001b[0m\n",
      "\u001b[36m(<lambda> pid=26784)\u001b[0m Epoch: 29\u001b[32m [repeated 3x across cluster]\u001b[0m\n",
      "\u001b[36m(<lambda> pid=26783)\u001b[0m Loss on train: 0, loss on validation: 0.025630010291934013\u001b[32m [repeated 3x across cluster]\u001b[0m\n",
      "\u001b[36m(<lambda> pid=26783)\u001b[0m Epoch: 29\u001b[32m [repeated 3x across cluster]\u001b[0m\n",
      "\u001b[36m(<lambda> pid=26786)\u001b[0m Loss on train: 0, loss on validation: 0.024772724136710167\u001b[32m [repeated 3x across cluster]\u001b[0m\n",
      "\u001b[36m(<lambda> pid=26786)\u001b[0m Epoch: 32\u001b[32m [repeated 3x across cluster]\u001b[0m\n",
      "\u001b[36m(<lambda> pid=26786)\u001b[0m Loss on train: 0, loss on validation: 0.024459971114993095\u001b[32m [repeated 4x across cluster]\u001b[0m\n",
      "\u001b[36m(<lambda> pid=26786)\u001b[0m Epoch: 33\u001b[32m [repeated 4x across cluster]\u001b[0m\n",
      "\u001b[36m(<lambda> pid=26786)\u001b[0m Loss on train: 0, loss on validation: 0.023973386734724045\u001b[32m [repeated 4x across cluster]\u001b[0m\n",
      "\u001b[36m(<lambda> pid=26786)\u001b[0m Epoch: 34\u001b[32m [repeated 4x across cluster]\u001b[0m\n",
      "\u001b[36m(<lambda> pid=26786)\u001b[0m Loss on train: 0, loss on validation: 0.023078007623553276\u001b[32m [repeated 4x across cluster]\u001b[0m\n",
      "\u001b[36m(<lambda> pid=26786)\u001b[0m Epoch: 35\u001b[32m [repeated 4x across cluster]\u001b[0m\n",
      "\u001b[36m(<lambda> pid=26786)\u001b[0m Loss on train: 0, loss on validation: 0.024491246789693832\u001b[32m [repeated 4x across cluster]\u001b[0m\n",
      "\u001b[36m(<lambda> pid=26786)\u001b[0m Epoch: 36\u001b[32m [repeated 4x across cluster]\u001b[0m\n",
      "\u001b[36m(<lambda> pid=26786)\u001b[0m Loss on train: 0, loss on validation: 0.023182576522231102\u001b[32m [repeated 4x across cluster]\u001b[0m\n",
      "\u001b[36m(<lambda> pid=26786)\u001b[0m Epoch: 37\u001b[32m [repeated 4x across cluster]\u001b[0m\n",
      "\u001b[36m(<lambda> pid=26786)\u001b[0m Loss on train: 0, loss on validation: 0.02394932322204113\u001b[32m [repeated 4x across cluster]\u001b[0m\n",
      "\u001b[36m(<lambda> pid=26786)\u001b[0m Epoch: 38\u001b[32m [repeated 4x across cluster]\u001b[0m\n",
      "\u001b[36m(<lambda> pid=26786)\u001b[0m Loss on train: 0, loss on validation: 0.023716159164905548\u001b[32m [repeated 4x across cluster]\u001b[0m\n",
      "\u001b[36m(<lambda> pid=26786)\u001b[0m Epoch: 39\u001b[32m [repeated 4x across cluster]\u001b[0m\n",
      "\u001b[36m(<lambda> pid=26786)\u001b[0m Loss on train: 0, loss on validation: 0.02351800911128521\u001b[32m [repeated 4x across cluster]\u001b[0m\n",
      "\u001b[36m(<lambda> pid=26786)\u001b[0m Epoch: 40\u001b[32m [repeated 4x across cluster]\u001b[0m\n",
      "\u001b[36m(<lambda> pid=26784)\u001b[0m Loss on train: 0, loss on validation: 0.046872325241565704\u001b[32m [repeated 2x across cluster]\u001b[0m\n",
      "\u001b[36m(<lambda> pid=26784)\u001b[0m Epoch: 39\u001b[32m [repeated 2x across cluster]\u001b[0m\n",
      "\u001b[36m(<lambda> pid=26785)\u001b[0m Loss on train: 0, loss on validation: 0.023427875712513924\u001b[32m [repeated 3x across cluster]\u001b[0m\n",
      "\u001b[36m(<lambda> pid=26785)\u001b[0m Epoch: 41\u001b[32m [repeated 3x across cluster]\u001b[0m\n",
      "\u001b[36m(<lambda> pid=26785)\u001b[0m Loss on train: 0, loss on validation: 0.023109516128897667\u001b[32m [repeated 4x across cluster]\u001b[0m\n",
      "\u001b[36m(<lambda> pid=26785)\u001b[0m Epoch: 42\u001b[32m [repeated 4x across cluster]\u001b[0m\n",
      "\u001b[36m(<lambda> pid=26785)\u001b[0m Loss on train: 0, loss on validation: 0.023323211818933487\u001b[32m [repeated 4x across cluster]\u001b[0m\n",
      "\u001b[36m(<lambda> pid=26785)\u001b[0m Epoch: 43\u001b[32m [repeated 4x across cluster]\u001b[0m\n",
      "\u001b[36m(<lambda> pid=26785)\u001b[0m Loss on train: 0, loss on validation: 0.025960123166441917\u001b[32m [repeated 4x across cluster]\u001b[0m\n",
      "\u001b[36m(<lambda> pid=26785)\u001b[0m Epoch: 44\u001b[32m [repeated 4x across cluster]\u001b[0m\n",
      "\u001b[36m(<lambda> pid=26785)\u001b[0m Loss on train: 0, loss on validation: 0.022555094212293625\u001b[32m [repeated 4x across cluster]\u001b[0m\n",
      "\u001b[36m(<lambda> pid=26785)\u001b[0m Epoch: 45\u001b[32m [repeated 4x across cluster]\u001b[0m\n",
      "\u001b[36m(<lambda> pid=26785)\u001b[0m Loss on train: 0, loss on validation: 0.024089321494102478\u001b[32m [repeated 4x across cluster]\u001b[0m\n",
      "\u001b[36m(<lambda> pid=26785)\u001b[0m Epoch: 46\u001b[32m [repeated 4x across cluster]\u001b[0m\n",
      "\u001b[36m(<lambda> pid=26785)\u001b[0m Loss on train: 0, loss on validation: 0.024563342332839966\u001b[32m [repeated 4x across cluster]\u001b[0m\n",
      "\u001b[36m(<lambda> pid=26785)\u001b[0m Epoch: 47\u001b[32m [repeated 4x across cluster]\u001b[0m\n",
      "\u001b[36m(<lambda> pid=26785)\u001b[0m Loss on train: 0, loss on validation: 0.02464333176612854\u001b[32m [repeated 4x across cluster]\u001b[0m\n",
      "\u001b[36m(<lambda> pid=26785)\u001b[0m Epoch: 48\u001b[32m [repeated 4x across cluster]\u001b[0m\n",
      "\u001b[36m(<lambda> pid=26785)\u001b[0m Loss on train: 0, loss on validation: 0.023930026218295097\u001b[32m [repeated 4x across cluster]\u001b[0m\n",
      "\u001b[36m(<lambda> pid=26785)\u001b[0m Epoch: 49\u001b[32m [repeated 4x across cluster]\u001b[0m\n",
      "\u001b[36m(<lambda> pid=26785)\u001b[0m Loss on train: 0, loss on validation: 0.023708458989858627\u001b[32m [repeated 4x across cluster]\u001b[0m\n",
      "\u001b[36m(<lambda> pid=26785)\u001b[0m Epoch: 50\u001b[32m [repeated 4x across cluster]\u001b[0m\n",
      "\u001b[36m(<lambda> pid=26785)\u001b[0m Loss on train: 0, loss on validation: 0.023155756294727325\u001b[32m [repeated 4x across cluster]\u001b[0m\n",
      "\u001b[36m(<lambda> pid=26785)\u001b[0m Epoch: 51\u001b[32m [repeated 4x across cluster]\u001b[0m\n",
      "\u001b[36m(<lambda> pid=26785)\u001b[0m Loss on train: 0, loss on validation: 0.021948710083961487\u001b[32m [repeated 4x across cluster]\u001b[0m\n",
      "\u001b[36m(<lambda> pid=26785)\u001b[0m Epoch: 52\u001b[32m [repeated 4x across cluster]\u001b[0m\n",
      "\u001b[36m(<lambda> pid=26783)\u001b[0m Loss on train: 0, loss on validation: 0.031187191605567932\u001b[32m [repeated 3x across cluster]\u001b[0m\n",
      "\u001b[36m(<lambda> pid=26783)\u001b[0m Epoch: 50\u001b[32m [repeated 3x across cluster]\u001b[0m\n",
      "\u001b[36m(<lambda> pid=26783)\u001b[0m Loss on train: 0, loss on validation: 0.03283782675862312\u001b[32m [repeated 4x across cluster]\u001b[0m\n",
      "\u001b[36m(<lambda> pid=26783)\u001b[0m Epoch: 51\u001b[32m [repeated 4x across cluster]\u001b[0m\n",
      "\u001b[36m(<lambda> pid=26783)\u001b[0m Loss on train: 0, loss on validation: 0.033021628856658936\u001b[32m [repeated 4x across cluster]\u001b[0m\n",
      "\u001b[36m(<lambda> pid=26783)\u001b[0m Epoch: 52\u001b[32m [repeated 4x across cluster]\u001b[0m\n",
      "\u001b[36m(<lambda> pid=26785)\u001b[0m Loss on train: 0, loss on validation: 0.024437036365270615\u001b[32m [repeated 4x across cluster]\u001b[0m\n",
      "\u001b[36m(<lambda> pid=26785)\u001b[0m Epoch: 56\u001b[32m [repeated 4x across cluster]\u001b[0m\n"
     ]
    },
    {
     "name": "stderr",
     "output_type": "stream",
     "text": [
      "2023-11-19 18:04:47,974\tWARNING tune.py:186 -- Stop signal received (e.g. via SIGINT/Ctrl+C), ending Ray Tune run. This will try to checkpoint the experiment state one last time. Press CTRL+C (or send SIGINT/SIGKILL/SIGTERM) to skip. \n"
     ]
    },
    {
     "name": "stdout",
     "output_type": "stream",
     "text": [
      "\u001b[36m(<lambda> pid=26785)\u001b[0m Loss on train: 0, loss on validation: 0.023599527776241302\u001b[32m [repeated 4x across cluster]\u001b[0m\n",
      "\u001b[36m(<lambda> pid=26785)\u001b[0m Epoch: 57\u001b[32m [repeated 4x across cluster]\u001b[0m\n"
     ]
    },
    {
     "name": "stderr",
     "output_type": "stream",
     "text": [
      "2023-11-19 18:04:58,003\tINFO tune.py:1047 -- Total run time: 409.65 seconds (397.97 seconds for the tuning loop).\n",
      "2023-11-19 18:04:58,003\tWARNING tune.py:1062 -- Experiment has been interrupted, but the most recent state was saved.\n",
      "Resume experiment with: Tuner.restore(path=\"/root/ray_results/lambda_2023-11-19_17-58-08\", trainable=...)\n",
      "2023-11-19 18:04:58,013\tWARNING experiment_analysis.py:185 -- Failed to fetch metrics for 16 trial(s):\n",
      "- lambda_32f5e_00004: FileNotFoundError('Could not fetch metrics for lambda_32f5e_00004: both result.json and progress.csv were not found at /root/ray_results/lambda_2023-11-19_17-58-08/lambda_32f5e_00004_4_batch_size=70,dropout=0.4005,epochs=950,hidden_layers=16_32,lr=0.0010_2023-11-19_17-58-19')\n",
      "- lambda_32f5e_00005: FileNotFoundError('Could not fetch metrics for lambda_32f5e_00005: both result.json and progress.csv were not found at /root/ray_results/lambda_2023-11-19_17-58-08/lambda_32f5e_00005_5_batch_size=54,dropout=0.2057,epochs=990,hidden_layers=16_32_64_16,lr=0.0011_2023-11-19_17-58-20')\n",
      "- lambda_32f5e_00006: FileNotFoundError('Could not fetch metrics for lambda_32f5e_00006: both result.json and progress.csv were not found at /root/ray_results/lambda_2023-11-19_17-58-08/lambda_32f5e_00006_6_batch_size=58,dropout=0.2299,epochs=1030,hidden_layers=16_32_64_16,lr=0.0010_2023-11-19_17-58-21')\n",
      "- lambda_32f5e_00007: FileNotFoundError('Could not fetch metrics for lambda_32f5e_00007: both result.json and progress.csv were not found at /root/ray_results/lambda_2023-11-19_17-58-08/lambda_32f5e_00007_7_batch_size=62,dropout=0.3550,epochs=1030,hidden_layers=16_32_64_16,lr=0.0011_2023-11-19_17-58-21')\n",
      "- lambda_32f5e_00008: FileNotFoundError('Could not fetch metrics for lambda_32f5e_00008: both result.json and progress.csv were not found at /root/ray_results/lambda_2023-11-19_17-58-08/lambda_32f5e_00008_8_batch_size=66,dropout=0.3912,epochs=950,hidden_layers=16_32_64_16,lr=0.0009_2023-11-19_17-58-21')\n",
      "- lambda_32f5e_00009: FileNotFoundError('Could not fetch metrics for lambda_32f5e_00009: both result.json and progress.csv were not found at /root/ray_results/lambda_2023-11-19_17-58-08/lambda_32f5e_00009_9_batch_size=70,dropout=0.4154,epochs=990,hidden_layers=16_32_64_16,lr=0.0010_2023-11-19_17-58-22')\n",
      "- lambda_32f5e_00010: FileNotFoundError('Could not fetch metrics for lambda_32f5e_00010: both result.json and progress.csv were not found at /root/ray_results/lambda_2023-11-19_17-58-08/lambda_32f5e_00010_10_batch_size=54,dropout=0.4998,epochs=1010,hidden_layers=16_32_64_16_32_64,lr=0.0011_2023-11-19_17-58-22')\n",
      "- lambda_32f5e_00011: FileNotFoundError('Could not fetch metrics for lambda_32f5e_00011: both result.json and progress.csv were not found at /root/ray_results/lambda_2023-11-19_17-58-08/lambda_32f5e_00011_11_batch_size=58,dropout=0.3112,epochs=1030,hidden_layers=16_32_64_16_32_64,lr=0.0011_2023-11-19_17-58-23')\n",
      "- lambda_32f5e_00012: FileNotFoundError('Could not fetch metrics for lambda_32f5e_00012: both result.json and progress.csv were not found at /root/ray_results/lambda_2023-11-19_17-58-08/lambda_32f5e_00012_12_batch_size=62,dropout=0.2298,epochs=950,hidden_layers=16_32_64_16_32_64,lr=0.0010_2023-11-19_17-58-23')\n",
      "- lambda_32f5e_00013: FileNotFoundError('Could not fetch metrics for lambda_32f5e_00013: both result.json and progress.csv were not found at /root/ray_results/lambda_2023-11-19_17-58-08/lambda_32f5e_00013_13_batch_size=66,dropout=0.1146,epochs=990,hidden_layers=16_32_64_16_32_64,lr=0.0011_2023-11-19_17-58-24')\n",
      "- lambda_32f5e_00014: FileNotFoundError('Could not fetch metrics for lambda_32f5e_00014: both result.json and progress.csv were not found at /root/ray_results/lambda_2023-11-19_17-58-08/lambda_32f5e_00014_14_batch_size=70,dropout=0.3481,epochs=1030,hidden_layers=16_32_64_16_32_64,lr=0.0010_2023-11-19_17-58-24')\n",
      "- lambda_32f5e_00015: FileNotFoundError('Could not fetch metrics for lambda_32f5e_00015: both result.json and progress.csv were not found at /root/ray_results/lambda_2023-11-19_17-58-08/lambda_32f5e_00015_15_batch_size=54,dropout=0.1677,epochs=990,hidden_layers=16_32,lr=0.0010_2023-11-19_17-58-25')\n",
      "- lambda_32f5e_00016: FileNotFoundError('Could not fetch metrics for lambda_32f5e_00016: both result.json and progress.csv were not found at /root/ray_results/lambda_2023-11-19_17-58-08/lambda_32f5e_00016_16_batch_size=58,dropout=0.2454,epochs=990,hidden_layers=16_32,lr=0.0010_2023-11-19_17-58-33')\n",
      "- lambda_32f5e_00017: FileNotFoundError('Could not fetch metrics for lambda_32f5e_00017: both result.json and progress.csv were not found at /root/ray_results/lambda_2023-11-19_17-58-08/lambda_32f5e_00017_17_batch_size=62,dropout=0.1620,epochs=1010,hidden_layers=16_32,lr=0.0009_2023-11-19_17-58-34')\n",
      "- lambda_32f5e_00018: FileNotFoundError('Could not fetch metrics for lambda_32f5e_00018: both result.json and progress.csv were not found at /root/ray_results/lambda_2023-11-19_17-58-08/lambda_32f5e_00018_18_batch_size=66,dropout=0.1386,epochs=950,hidden_layers=16_32,lr=0.0011_2023-11-19_17-58-35')\n",
      "- lambda_32f5e_00019: FileNotFoundError('Could not fetch metrics for lambda_32f5e_00019: both result.json and progress.csv were not found at /root/ray_results/lambda_2023-11-19_17-58-08/lambda_32f5e_00019_19_batch_size=70,dropout=0.1543,epochs=1030,hidden_layers=16_32,lr=0.0010_2023-11-19_17-58-36')\n"
     ]
    },
    {
     "name": "stdout",
     "output_type": "stream",
     "text": [
      "\u001b[36m(<lambda> pid=26784)\u001b[0m Loss on train: 0, loss on validation: 0.04228660464286804\u001b[32m [repeated 3x across cluster]\u001b[0m\n",
      "\u001b[36m(<lambda> pid=26784)\u001b[0m Epoch: 56\u001b[32m [repeated 3x across cluster]\u001b[0m\n"
     ]
    },
    {
     "ename": "KeyboardInterrupt",
     "evalue": "",
     "output_type": "error",
     "traceback": [
      "\u001b[0;31m---------------------------------------------------------------------------\u001b[0m",
      "\u001b[0;31mKeyboardInterrupt\u001b[0m                         Traceback (most recent call last)",
      "\u001b[1;32mc:\\repos\\machine-boom-project-e\\src\\notebooks\\FullyConnected.ipynb Cell 33\u001b[0m line \u001b[0;36m1\n\u001b[0;32m----> <a href='vscode-notebook-cell:/c%3A/repos/machine-boom-project-e/src/notebooks/FullyConnected.ipynb#X42sZmlsZQ%3D%3D?line=0'>1</a>\u001b[0m results \u001b[39m=\u001b[39m tuner\u001b[39m.\u001b[39;49mfit()\n",
      "File \u001b[0;32m/usr/local/lib/python3.10/dist-packages/ray/tune/tuner.py:364\u001b[0m, in \u001b[0;36mTuner.fit\u001b[0;34m(self)\u001b[0m\n\u001b[1;32m    362\u001b[0m \u001b[39mif\u001b[39;00m \u001b[39mnot\u001b[39;00m \u001b[39mself\u001b[39m\u001b[39m.\u001b[39m_is_ray_client:\n\u001b[1;32m    363\u001b[0m     \u001b[39mtry\u001b[39;00m:\n\u001b[0;32m--> 364\u001b[0m         \u001b[39mreturn\u001b[39;00m \u001b[39mself\u001b[39;49m\u001b[39m.\u001b[39;49m_local_tuner\u001b[39m.\u001b[39;49mfit()\n\u001b[1;32m    365\u001b[0m     \u001b[39mexcept\u001b[39;00m TuneError \u001b[39mas\u001b[39;00m e:\n\u001b[1;32m    366\u001b[0m         \u001b[39mraise\u001b[39;00m TuneError(\n\u001b[1;32m    367\u001b[0m             _TUNER_FAILED_MSG\u001b[39m.\u001b[39mformat(\n\u001b[1;32m    368\u001b[0m                 path\u001b[39m=\u001b[39m\u001b[39mself\u001b[39m\u001b[39m.\u001b[39m_local_tuner\u001b[39m.\u001b[39mget_experiment_checkpoint_dir()\n\u001b[1;32m    369\u001b[0m             )\n\u001b[1;32m    370\u001b[0m         ) \u001b[39mfrom\u001b[39;00m \u001b[39me\u001b[39;00m\n",
      "File \u001b[0;32m/usr/local/lib/python3.10/dist-packages/ray/tune/impl/tuner_internal.py:532\u001b[0m, in \u001b[0;36mTunerInternal.fit\u001b[0;34m(self)\u001b[0m\n\u001b[1;32m    528\u001b[0m     analysis \u001b[39m=\u001b[39m \u001b[39mself\u001b[39m\u001b[39m.\u001b[39m_fit_resume(trainable, param_space)\n\u001b[1;32m    530\u001b[0m \u001b[39mself\u001b[39m\u001b[39m.\u001b[39m_experiment_analysis \u001b[39m=\u001b[39m analysis\n\u001b[0;32m--> 532\u001b[0m \u001b[39mreturn\u001b[39;00m ResultGrid(\u001b[39mself\u001b[39;49m\u001b[39m.\u001b[39;49m_experiment_analysis)\n",
      "File \u001b[0;32m/usr/local/lib/python3.10/dist-packages/ray/tune/result_grid.py:80\u001b[0m, in \u001b[0;36mResultGrid.__init__\u001b[0;34m(self, experiment_analysis)\u001b[0m\n\u001b[1;32m     75\u001b[0m \u001b[39mdef\u001b[39;00m \u001b[39m__init__\u001b[39m(\n\u001b[1;32m     76\u001b[0m     \u001b[39mself\u001b[39m,\n\u001b[1;32m     77\u001b[0m     experiment_analysis: ExperimentAnalysis,\n\u001b[1;32m     78\u001b[0m ):\n\u001b[1;32m     79\u001b[0m     \u001b[39mself\u001b[39m\u001b[39m.\u001b[39m_experiment_analysis \u001b[39m=\u001b[39m experiment_analysis\n\u001b[0;32m---> 80\u001b[0m     \u001b[39mself\u001b[39m\u001b[39m.\u001b[39m_results \u001b[39m=\u001b[39m [\n\u001b[1;32m     81\u001b[0m         \u001b[39mself\u001b[39m\u001b[39m.\u001b[39m_trial_to_result(trial) \u001b[39mfor\u001b[39;00m trial \u001b[39min\u001b[39;00m \u001b[39mself\u001b[39m\u001b[39m.\u001b[39m_experiment_analysis\u001b[39m.\u001b[39mtrials\n\u001b[1;32m     82\u001b[0m     ]\n",
      "File \u001b[0;32m/usr/local/lib/python3.10/dist-packages/ray/tune/result_grid.py:81\u001b[0m, in \u001b[0;36m<listcomp>\u001b[0;34m(.0)\u001b[0m\n\u001b[1;32m     75\u001b[0m \u001b[39mdef\u001b[39;00m \u001b[39m__init__\u001b[39m(\n\u001b[1;32m     76\u001b[0m     \u001b[39mself\u001b[39m,\n\u001b[1;32m     77\u001b[0m     experiment_analysis: ExperimentAnalysis,\n\u001b[1;32m     78\u001b[0m ):\n\u001b[1;32m     79\u001b[0m     \u001b[39mself\u001b[39m\u001b[39m.\u001b[39m_experiment_analysis \u001b[39m=\u001b[39m experiment_analysis\n\u001b[1;32m     80\u001b[0m     \u001b[39mself\u001b[39m\u001b[39m.\u001b[39m_results \u001b[39m=\u001b[39m [\n\u001b[0;32m---> 81\u001b[0m         \u001b[39mself\u001b[39;49m\u001b[39m.\u001b[39;49m_trial_to_result(trial) \u001b[39mfor\u001b[39;00m trial \u001b[39min\u001b[39;00m \u001b[39mself\u001b[39m\u001b[39m.\u001b[39m_experiment_analysis\u001b[39m.\u001b[39mtrials\n\u001b[1;32m     82\u001b[0m     ]\n",
      "File \u001b[0;32m/usr/local/lib/python3.10/dist-packages/ray/tune/result_grid.py:284\u001b[0m, in \u001b[0;36mResultGrid._trial_to_result\u001b[0;34m(self, trial)\u001b[0m\n\u001b[1;32m    272\u001b[0m best_checkpoints \u001b[39m=\u001b[39m [\n\u001b[1;32m    273\u001b[0m     (checkpoint_result\u001b[39m.\u001b[39mcheckpoint, checkpoint_result\u001b[39m.\u001b[39mmetrics)\n\u001b[1;32m    274\u001b[0m     \u001b[39mfor\u001b[39;00m checkpoint_result \u001b[39min\u001b[39;00m best_checkpoint_results\n\u001b[1;32m    275\u001b[0m ]\n\u001b[1;32m    277\u001b[0m metrics_df \u001b[39m=\u001b[39m \u001b[39mself\u001b[39m\u001b[39m.\u001b[39m_experiment_analysis\u001b[39m.\u001b[39mtrial_dataframes\u001b[39m.\u001b[39mget(trial\u001b[39m.\u001b[39mtrial_id)\n\u001b[1;32m    279\u001b[0m result \u001b[39m=\u001b[39m Result(\n\u001b[1;32m    280\u001b[0m     checkpoint\u001b[39m=\u001b[39mcheckpoint,\n\u001b[1;32m    281\u001b[0m     metrics\u001b[39m=\u001b[39mtrial\u001b[39m.\u001b[39mlast_result\u001b[39m.\u001b[39mcopy(),\n\u001b[1;32m    282\u001b[0m     error\u001b[39m=\u001b[39m\u001b[39mself\u001b[39m\u001b[39m.\u001b[39m_populate_exception(trial),\n\u001b[1;32m    283\u001b[0m     _local_path\u001b[39m=\u001b[39mtrial\u001b[39m.\u001b[39mlocal_path,\n\u001b[0;32m--> 284\u001b[0m     _remote_path\u001b[39m=\u001b[39mtrial\u001b[39m.\u001b[39;49mpath,\n\u001b[1;32m    285\u001b[0m     _storage_filesystem\u001b[39m=\u001b[39m(\n\u001b[1;32m    286\u001b[0m         \u001b[39mself\u001b[39m\u001b[39m.\u001b[39m_experiment_analysis\u001b[39m.\u001b[39m_fs\n\u001b[1;32m    287\u001b[0m         \u001b[39mif\u001b[39;00m \u001b[39misinstance\u001b[39m(\u001b[39mself\u001b[39m\u001b[39m.\u001b[39m_experiment_analysis, ExperimentAnalysis)\n\u001b[1;32m    288\u001b[0m         \u001b[39melse\u001b[39;00m \u001b[39mNone\u001b[39;00m\n\u001b[1;32m    289\u001b[0m     ),\n\u001b[1;32m    290\u001b[0m     metrics_dataframe\u001b[39m=\u001b[39mmetrics_df,\n\u001b[1;32m    291\u001b[0m     best_checkpoints\u001b[39m=\u001b[39mbest_checkpoints,\n\u001b[1;32m    292\u001b[0m )\n\u001b[1;32m    293\u001b[0m \u001b[39mreturn\u001b[39;00m result\n",
      "File \u001b[0;32m/usr/local/lib/python3.10/dist-packages/ray/tune/experiment/trial.py:551\u001b[0m, in \u001b[0;36mTrial.path\u001b[0;34m(self)\u001b[0m\n\u001b[1;32m    549\u001b[0m \u001b[39m@property\u001b[39m\n\u001b[1;32m    550\u001b[0m \u001b[39mdef\u001b[39;00m \u001b[39mpath\u001b[39m(\u001b[39mself\u001b[39m) \u001b[39m-\u001b[39m\u001b[39m>\u001b[39m Optional[\u001b[39mstr\u001b[39m]:\n\u001b[0;32m--> 551\u001b[0m     \u001b[39mreturn\u001b[39;00m \u001b[39mself\u001b[39;49m\u001b[39m.\u001b[39;49mstorage\u001b[39m.\u001b[39;49mtrial_fs_path\n",
      "File \u001b[0;32m/usr/local/lib/python3.10/dist-packages/ray/train/_internal/storage.py:636\u001b[0m, in \u001b[0;36mStorageContext.trial_fs_path\u001b[0;34m(self)\u001b[0m\n\u001b[1;32m    630\u001b[0m \u001b[39m@property\u001b[39m\n\u001b[1;32m    631\u001b[0m \u001b[39mdef\u001b[39;00m \u001b[39mtrial_fs_path\u001b[39m(\u001b[39mself\u001b[39m) \u001b[39m-\u001b[39m\u001b[39m>\u001b[39m \u001b[39mstr\u001b[39m:\n\u001b[1;32m    632\u001b[0m \u001b[39m    \u001b[39m\u001b[39m\"\"\"The trial directory path on the `storage_filesystem`.\u001b[39;00m\n\u001b[1;32m    633\u001b[0m \n\u001b[1;32m    634\u001b[0m \u001b[39m    Raises a ValueError if `trial_dir_name` is not set beforehand.\u001b[39;00m\n\u001b[1;32m    635\u001b[0m \u001b[39m    \"\"\"\u001b[39;00m\n\u001b[0;32m--> 636\u001b[0m     \u001b[39mif\u001b[39;00m \u001b[39mself\u001b[39m\u001b[39m.\u001b[39mtrial_dir_name \u001b[39mis\u001b[39;00m \u001b[39mNone\u001b[39;00m:\n\u001b[1;32m    637\u001b[0m         \u001b[39mraise\u001b[39;00m \u001b[39mRuntimeError\u001b[39;00m(\n\u001b[1;32m    638\u001b[0m             \u001b[39m\"\u001b[39m\u001b[39mShould not access `trial_fs_path` without setting `trial_dir_name`\u001b[39m\u001b[39m\"\u001b[39m\n\u001b[1;32m    639\u001b[0m         )\n\u001b[1;32m    640\u001b[0m     \u001b[39mreturn\u001b[39;00m Path(\u001b[39mself\u001b[39m\u001b[39m.\u001b[39mexperiment_fs_path, \u001b[39mself\u001b[39m\u001b[39m.\u001b[39mtrial_dir_name)\u001b[39m.\u001b[39mas_posix()\n",
      "\u001b[0;31mKeyboardInterrupt\u001b[0m: "
     ]
    },
    {
     "name": "stderr",
     "output_type": "stream",
     "text": [
      "Exception ignored in atexit callback: <function _unregister_all at 0x7f1f0d107d90>\n",
      "Traceback (most recent call last):\n",
      "  File \"/usr/local/lib/python3.10/dist-packages/ray/tune/registry.py\", line 171, in _unregister_all\n",
      "    _unregister_trainables()\n",
      "  File \"/usr/local/lib/python3.10/dist-packages/ray/tune/registry.py\", line 116, in _unregister_trainables\n",
      "    _global_registry.unregister_all(TRAINABLE_CLASS)\n",
      "  File \"/usr/local/lib/python3.10/dist-packages/ray/tune/registry.py\", line 251, in unregister_all\n",
      "    self.unregister(cat, key)\n",
      "  File \"/usr/local/lib/python3.10/dist-packages/ray/tune/registry.py\", line 243, in unregister\n",
      "    _internal_kv_del(_make_key(self.prefix, category, key))\n",
      "  File \"/usr/local/lib/python3.10/dist-packages/ray/_private/client_mode_hook.py\", line 103, in wrapper\n",
      "    return func(*args, **kwargs)\n",
      "  File \"/usr/local/lib/python3.10/dist-packages/ray/experimental/internal_kv.py\", line 109, in _internal_kv_del\n",
      "    return global_gcs_client.internal_kv_del(key, del_by_prefix, namespace)\n",
      "  File \"python/ray/_raylet.pyx\", line 2444, in ray._raylet._auto_reconnect.wrapper\n",
      "ModuleNotFoundError: No module named 'grpc'\n"
     ]
    }
   ],
   "source": [
    "results = tuner.fit()"
   ]
  },
  {
   "cell_type": "code",
   "execution_count": null,
   "metadata": {},
   "outputs": [],
   "source": [
    "best_result = results.get_best_result(\"loss\", \"min\")\n",
    "\n",
    "for key in best_result.metrics[\"parameter\"]:\n",
    "    print(f\"Best Trail: {key} with {best_result.metrics['parameter'][key]}\")"
   ]
  },
  {
   "cell_type": "code",
   "execution_count": null,
   "metadata": {},
   "outputs": [],
   "source": [
    "# Checkpoint contains model and optimizer function\n",
    "best_model, _ = torch.load(model_path / best_result.metrics[\"run_id\"] / \"checkpoint.pt\")"
   ]
  },
  {
   "cell_type": "code",
   "execution_count": null,
   "metadata": {},
   "outputs": [],
   "source": [
    "print(f\"Currently best trial defined by loss: {best_result.metrics['run_id']}\", file=open(model_path / \"best_trail.txt\", \"w\"))"
   ]
  },
  {
   "cell_type": "markdown",
   "metadata": {},
   "source": [
    "## Evaluation"
   ]
  },
  {
   "cell_type": "code",
   "execution_count": null,
   "metadata": {},
   "outputs": [],
   "source": [
    "from utils.visualization import create_trace_animation\n",
    "from matplotlib import pyplot as plt\n",
    "from IPython.display import HTML"
   ]
  },
  {
   "cell_type": "code",
   "execution_count": null,
   "metadata": {},
   "outputs": [],
   "source": [
    "# Compute eval on the cpu\n",
    "device = 'cpu'"
   ]
  },
  {
   "cell_type": "code",
   "execution_count": null,
   "metadata": {},
   "outputs": [],
   "source": [
    "%matplotlib notebook\n",
    " \n",
    "plt.rcParams[\"animation.html\"] = \"jshtml\"\n",
    "plt.rcParams['figure.dpi'] = 150  "
   ]
  },
  {
   "cell_type": "markdown",
   "metadata": {},
   "source": [
    "### Loading the best model"
   ]
  },
  {
   "cell_type": "code",
   "execution_count": null,
   "metadata": {},
   "outputs": [],
   "source": [
    "from utils.file_io import load_model"
   ]
  },
  {
   "cell_type": "code",
   "execution_count": null,
   "metadata": {},
   "outputs": [],
   "source": [
    "loss_function = get_loss_function()"
   ]
  },
  {
   "cell_type": "code",
   "execution_count": null,
   "metadata": {},
   "outputs": [],
   "source": [
    "model = FullyConnected(input_shape, best_result.metrics[\"parameter\"][\"hidden_layers\"], output_shape)\n",
    "model.load_state_dict(best_model)\n",
    "model.eval()"
   ]
  },
  {
   "cell_type": "code",
   "execution_count": null,
   "metadata": {},
   "outputs": [],
   "source": [
    "y, y_true = compute_predictions(test_dataloader, model, device)\n",
    "test_losses = compute_losses_from(y, y_true, loss_function)\n",
    "print(f\"The mean squared error of the loaded model on test is: {test_losses.mean()}\")"
   ]
  },
  {
   "cell_type": "code",
   "execution_count": null,
   "metadata": {},
   "outputs": [],
   "source": [
    "animation = create_trace_animation(y.numpy(), y_true.numpy())\n",
    "HTML(animation.to_jshtml())"
   ]
  }
 ],
 "metadata": {
  "kernelspec": {
   "display_name": "Python 3 (ipykernel)",
   "language": "python",
   "name": "python3"
  },
  "language_info": {
   "codemirror_mode": {
    "name": "ipython",
    "version": 3
   },
   "file_extension": ".py",
   "mimetype": "text/x-python",
   "name": "python",
   "nbconvert_exporter": "python",
   "pygments_lexer": "ipython3",
   "version": "3.10.12"
  }
 },
 "nbformat": 4,
 "nbformat_minor": 4
}
