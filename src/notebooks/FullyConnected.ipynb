{
 "cells": [
  {
   "cell_type": "markdown",
   "metadata": {},
   "source": [
    "# Model 1: Fully Connected Neural Network"
   ]
  },
  {
   "cell_type": "code",
   "execution_count": null,
   "metadata": {},
   "outputs": [],
   "source": [
    "from pathlib import Path\n",
    "import numpy as np\n",
    "import torch "
   ]
  },
  {
   "cell_type": "code",
   "execution_count": null,
   "metadata": {},
   "outputs": [],
   "source": [
    "device = (\"cuda\" if torch.cuda.is_available() else \"cpu\")\n",
    "print(f\"Using {device} device\")"
   ]
  },
  {
   "cell_type": "code",
   "execution_count": null,
   "metadata": {},
   "outputs": [],
   "source": [
    "# Import local modules from 'src/utils' as package 'utils'\n",
    "import sys; sys.path.insert(0, '../')"
   ]
  },
  {
   "cell_type": "code",
   "execution_count": null,
   "metadata": {},
   "outputs": [],
   "source": [
    "import utils"
   ]
  },
  {
   "cell_type": "markdown",
   "metadata": {},
   "source": [
    "## Read Datasets from .csv"
   ]
  },
  {
   "cell_type": "code",
   "execution_count": null,
   "metadata": {},
   "outputs": [],
   "source": [
    "from utils.file_io import read_angle_datasets"
   ]
  },
  {
   "cell_type": "code",
   "execution_count": null,
   "metadata": {},
   "outputs": [],
   "source": [
    "data_folder = Path(\"../../data/\")\n",
    "train_data, test_data = read_angle_datasets(data_folder, 0.9)"
   ]
  },
  {
   "cell_type": "code",
   "execution_count": null,
   "metadata": {},
   "outputs": [],
   "source": [
    "input_shape, output_shape = train_data[0][0].shape[0], train_data[0][1].shape[0]\n",
    "print(f\"Data shape {input_shape} / {output_shape} of total {len(train_data)} data rows!\")"
   ]
  },
  {
   "cell_type": "markdown",
   "metadata": {},
   "source": [
    "## Model definition"
   ]
  },
  {
   "cell_type": "code",
   "execution_count": null,
   "metadata": {},
   "outputs": [],
   "source": [
    "from torch import nn, Tensor\n",
    "from typing import Tuple, List"
   ]
  },
  {
   "cell_type": "code",
   "execution_count": null,
   "metadata": {},
   "outputs": [],
   "source": [
    "class FullyConnected(nn.Module):\n",
    "    def __init__(self, flattened_input_dim: int, intermediate_dims: List[int], output_dim: int, dropout: float = 0.25, hidden_activation = nn.ReLU) -> None:\n",
    "        super().__init__()\n",
    "        self.total_epochs = 0\n",
    "        self.flatten = nn.Flatten()\n",
    "        self.hidden = nn.Sequential()\n",
    "        for i, dim in enumerate(intermediate_dims):\n",
    "            if i == 0:\n",
    "                self.hidden.add_module(f\"linear_{i+1}\", nn.Linear(flattened_input_dim, dim))\n",
    "            else:\n",
    "                self.hidden.add_module(f\"linear_{i+1}\", nn.Linear(intermediate_dims[i-1], dim))\n",
    "\n",
    "            self.hidden.add_module(f\"hidden_activation_{i+1}\", hidden_activation())\n",
    "            self.hidden.add_module(f\"dropout_{i+2}\", nn.Dropout(dropout))\n",
    "\n",
    "        self.last = nn.Linear(intermediate_dims[-1], output_dim)\n",
    "\n",
    "    def forward(self, x: Tensor) -> Tensor:\n",
    "        x = self.flatten(x)\n",
    "        x = self.hidden(x)\n",
    "        return self.last(x)"
   ]
  },
  {
   "cell_type": "markdown",
   "metadata": {},
   "source": [
    "## Load parameter, functions and dataloader"
   ]
  },
  {
   "cell_type": "code",
   "execution_count": null,
   "metadata": {},
   "outputs": [],
   "source": [
    "import os\n",
    "from dotenv import load_dotenv\n",
    "from torch.utils.data import DataLoader\n",
    "\n",
    "from utils.file_io import save_model\n",
    "from utils.evaluation import compute_loss_on\n",
    "from utils.file_io import define_dataloader_from_angle_dataset"
   ]
  },
  {
   "cell_type": "code",
   "execution_count": null,
   "metadata": {},
   "outputs": [],
   "source": [
    "model_path = Path(\"../../models/fully_connected/\").absolute()"
   ]
  },
  {
   "cell_type": "code",
   "execution_count": null,
   "metadata": {},
   "outputs": [],
   "source": [
    "dotenv_path = model_path / \".env\"\n",
    "load_dotenv(dotenv_path=dotenv_path)\n",
    "\n",
    "learning_rate = float(os.getenv(\"LEARNING_RATE\"))\n",
    "batch_size = int(os.getenv(\"BATCH_SIZE\"))\n",
    "num_epochs = int(os.getenv(\"NUM_EPOCHS\"))"
   ]
  },
  {
   "cell_type": "code",
   "execution_count": null,
   "metadata": {},
   "outputs": [],
   "source": [
    "def get_optimizer_function(model: nn.Module, learning_rate: float) -> torch.optim:\n",
    "    return torch.optim.Adam(model.parameters(), lr=learning_rate)"
   ]
  },
  {
   "cell_type": "code",
   "execution_count": null,
   "metadata": {},
   "outputs": [],
   "source": [
    "def get_loss_function() -> nn.Module:\n",
    "    return torch.nn.MSELoss()"
   ]
  },
  {
   "cell_type": "code",
   "execution_count": null,
   "metadata": {},
   "outputs": [],
   "source": [
    "train_dataloader, validation_dataloader, test_dataloader = define_dataloader_from_angle_dataset(train_data, test_data, batch_size, split_size=0.95)"
   ]
  },
  {
   "cell_type": "markdown",
   "metadata": {},
   "source": [
    "## Define train methods"
   ]
  },
  {
   "cell_type": "code",
   "execution_count": null,
   "metadata": {},
   "outputs": [],
   "source": [
    "def train_epoch(train_dataloader: DataLoader, model: nn.Module, loss_function, optimizer, \n",
    "                device: torch.device, report_interval: int = 1000) -> float:\n",
    "\n",
    "    running_loss = 0\n",
    "    last_loss = 0\n",
    "    \n",
    "    for i, (inputs, true_values) in enumerate(train_dataloader):\n",
    "\n",
    "        inputs = inputs.to(device)\n",
    "        true_values = true_values.to(device)\n",
    "                \n",
    "        optimizer.zero_grad()\n",
    "        outputs = model(inputs)\n",
    "        loss = loss_function(outputs, true_values)\n",
    "        running_loss += loss\n",
    "        loss.backward()\n",
    "        optimizer.step() \n",
    "    \n",
    "    if i % report_interval == report_interval - 1:\n",
    "        last_loss = running_loss / report_interval\n",
    "        print(f\"batch {i + 1}, Mean Squared Error: {last_loss}\")\n",
    "        running_loss = 0\n",
    "    \n",
    "    return last_loss "
   ]
  },
  {
   "cell_type": "code",
   "execution_count": null,
   "metadata": {},
   "outputs": [],
   "source": [
    "def train(epochs: int, train_dataloader: DataLoader, validation_dataloader: DataLoader, model: nn.Module, loss_function, optimizer, \n",
    "          checkpoint_path: Path, device: torch.device = 'cpu', report_interval: int = 1000, tune: bool = False) -> nn.Module:\n",
    "\n",
    "    best_val_loss = float(\"inf\")\n",
    "\n",
    "    if torch.cuda.device_count() > 1:\n",
    "        model = nn.DataParallel(model)\n",
    "\n",
    "    model.to(device)\n",
    "\n",
    "    for epoch in range(model.total_epochs, epochs):\n",
    "        print(f\"Epoch: {epoch + 1}\")\n",
    "\n",
    "        model.train(True)\n",
    "        avg_loss = train_epoch(train_dataloader, model, loss_function, optimizer, device, report_interval)\n",
    "        model.eval()\n",
    "\n",
    "        with torch.no_grad():\n",
    "            avg_val_loss = compute_loss_on(validation_dataloader, model, loss_function, device=device)\n",
    "\n",
    "        print(f\"Loss on train: {avg_loss}, loss on validation: {avg_val_loss}\")\n",
    "\n",
    "        # Disable checkpoints while running in tune mode\n",
    "        if avg_val_loss < best_val_loss and not tune:\n",
    "            best_val_loss = avg_val_loss\n",
    "            model_path = checkpoint_path / f\"{checkpoint_path.name}_{epoch}.pt\"\n",
    "            save_model(model, model_path)\n",
    "\n",
    "        model.total_epochs += 1\n",
    "    \n",
    "    return model   "
   ]
  },
  {
   "cell_type": "markdown",
   "metadata": {},
   "source": [
    "## Train the model with grid search hyperparameter tuning"
   ]
  },
  {
   "cell_type": "code",
   "execution_count": null,
   "metadata": {},
   "outputs": [],
   "source": [
    "import ray\n",
    "import json\n",
    "from ray import tune\n",
    "from ray import train as ray_train\n",
    "from ray.train import Checkpoint\n",
    "from ray.tune.schedulers import ASHAScheduler\n",
    "from typing import Dict\n",
    "from utils.evaluation import compute_predictions, compute_losses_from\n",
    "from functools import partial"
   ]
  },
  {
   "cell_type": "code",
   "execution_count": null,
   "metadata": {},
   "outputs": [],
   "source": [
    "def run_id_generator(data: Dict) -> str:\n",
    "    return str(hash(json.dumps(data)))"
   ]
  },
  {
   "cell_type": "code",
   "execution_count": null,
   "metadata": {},
   "outputs": [],
   "source": [
    "def parameter_train(parameter: Dict, train_data: DataLoader, test_data: DataLoader, model_input_shape: int, model_output_shape: int, checkpoint_path: Path, device: torch.device) -> None:\n",
    "\n",
    "    run_id = run_id_generator(parameter)\n",
    "    run_checkpoint = checkpoint_path / run_id\n",
    "    run_checkpoint.mkdir(parents=True)\n",
    "\n",
    "    train_dataloader, validation_dataloader, test_dataloader = define_dataloader_from_angle_dataset(train_data, test_data, batch_size=parameter[\"batch_size\"])\n",
    "\n",
    "    model = FullyConnected(model_input_shape, parameter[\"hidden_layers\"], model_output_shape)\n",
    "\n",
    "    optimizer = get_optimizer_function(model, parameter[\"lr\"])\n",
    "    loss_function = get_loss_function()\n",
    "\n",
    "    last_model = train(parameter[\"epochs\"], train_dataloader, validation_dataloader, model, loss_function, optimizer, checkpoint_path, device, report_interval=50, tune=True)\n",
    "\n",
    "    y, y_true = compute_predictions(test_dataloader, last_model)\n",
    "    test_losses = compute_losses_from(y, y_true, loss_function)\n",
    "\n",
    "    torch.save((last_model.state_dict(), optimizer.state_dict()), run_checkpoint / \"checkpoint.pt\")\n",
    "\n",
    "    print(str(parameter), file=open(run_checkpoint / \"trail_parameter.txt\", \"w\"))\n",
    "\n",
    "    ray_train.report(\n",
    "        metrics={ \"loss\": float(test_losses.mean()), \"parameter\": parameter , \"run_id\": run_id }\n",
    "    )"
   ]
  },
  {
   "cell_type": "markdown",
   "metadata": {},
   "source": [
    "Define parameter ranges"
   ]
  },
  {
   "cell_type": "code",
   "execution_count": null,
   "metadata": {},
   "outputs": [],
   "source": [
    "learning_rate_radius = 1e-3\n",
    "num_epochs_radius = 5\n",
    "batch_size_radius = 10\n",
    "hidden_layer_sizes = [16, 32, 64]\n",
    "hidden_layer_count = [2, 4, 6]"
   ]
  },
  {
   "cell_type": "code",
   "execution_count": null,
   "metadata": {},
   "outputs": [],
   "source": [
    "parameter = {\n",
    "    \"lr\": tune.loguniform(learning_rate_radius - learning_rate, learning_rate + learning_rate_radius),\n",
    "    \"epochs\": tune.choice(list(range(num_epochs - num_epochs_radius, num_epochs + num_epochs_radius, 20))),\n",
    "    \"batch_size\": tune.choice(list(range(batch_size - batch_size_radius, batch_size + batch_size_radius, 4))),\n",
    "    \"hidden_layers\": tune.grid_search(list([hidden_layer_sizes[i % len(hidden_layer_sizes)] for i in range(dim)] for _, dim in enumerate(hidden_layer_count))),\n",
    "    \"dropout\": tune.uniform(0.1, 0.5)\n",
    "}"
   ]
  },
  {
   "cell_type": "code",
   "execution_count": null,
   "metadata": {},
   "outputs": [],
   "source": [
    "scheduler = ASHAScheduler(\n",
    "    metric=\"loss\",\n",
    "    mode=\"min\",\n",
    "    max_t=num_epochs,\n",
    "    grace_period=1,\n",
    "    reduction_factor=2,\n",
    ")"
   ]
  },
  {
   "cell_type": "code",
   "execution_count": null,
   "metadata": {},
   "outputs": [],
   "source": [
    "if ray.is_initialized():\n",
    "    ray.shutdown()\n",
    "\n",
    "ray.init(runtime_env={ \"py_modules\": [utils] })"
   ]
  },
  {
   "cell_type": "code",
   "execution_count": null,
   "metadata": {},
   "outputs": [],
   "source": [
    "ray_resources_manager = tune.with_resources(\n",
    "    trainable=lambda param: parameter_train(param, train_data, test_data, input_shape, output_shape, model_path, device),\n",
    "    # See: https://stackoverflow.com/questions/58967793/what-is-the-way-to-make-tune-run-parallel-trials-across-multiple-gpus\n",
    "    resources={ \"cpu\": 3, \"gpu\": 0.25 }\n",
    ")\n",
    "\n",
    "tuner = tune.Tuner(\n",
    "    ray_resources_manager,\n",
    "    param_space=parameter,\n",
    "    tune_config=tune.TuneConfig(\n",
    "        scheduler=scheduler,\n",
    "        num_samples=10\n",
    "    )\n",
    ")"
   ]
  },
  {
   "cell_type": "code",
   "execution_count": null,
   "metadata": {},
   "outputs": [],
   "source": [
    "results = tuner.fit()"
   ]
  },
  {
   "cell_type": "code",
   "execution_count": null,
   "metadata": {},
   "outputs": [],
   "source": [
    "best_result = results.get_best_result(\"loss\", \"min\")\n",
    "\n",
    "for key in best_result.metrics[\"parameter\"]:\n",
    "    print(f\"Best Trail: {key} with {best_result.metrics['parameter'][key]}\")"
   ]
  },
  {
   "cell_type": "code",
   "execution_count": null,
   "metadata": {},
   "outputs": [],
   "source": [
    "# Checkpoint contains model and optimizer function\n",
    "best_model, _ = torch.load(model_path / best_result.metrics[\"run_id\"] / \"checkpoint.pt\")"
   ]
  },
  {
   "cell_type": "code",
   "execution_count": null,
   "metadata": {},
   "outputs": [],
   "source": [
    "print(f\"Currently best trial defined by loss: {best_result.metrics['run_id']}\", file=open(model_path / \"best_trail.txt\", \"w\"))"
   ]
  },
  {
   "cell_type": "markdown",
   "metadata": {},
   "source": [
    "## Evaluation"
   ]
  },
  {
   "cell_type": "code",
   "execution_count": null,
   "metadata": {},
   "outputs": [],
   "source": [
    "from utils.visualization import create_trace_animation\n",
    "from matplotlib import pyplot as plt\n",
    "from IPython.display import HTML"
   ]
  },
  {
   "cell_type": "code",
   "execution_count": null,
   "metadata": {},
   "outputs": [],
   "source": [
    "# Compute eval on the cpu\n",
    "device = 'cpu'"
   ]
  },
  {
   "cell_type": "code",
   "execution_count": null,
   "metadata": {},
   "outputs": [],
   "source": [
    "%matplotlib notebook\n",
    " \n",
    "plt.rcParams[\"animation.html\"] = \"jshtml\"\n",
    "plt.rcParams['figure.dpi'] = 150  "
   ]
  },
  {
   "cell_type": "markdown",
   "metadata": {},
   "source": [
    "### Loading the best model"
   ]
  },
  {
   "cell_type": "code",
   "execution_count": null,
   "metadata": {},
   "outputs": [],
   "source": [
    "from utils.file_io import load_model"
   ]
  },
  {
   "cell_type": "code",
   "execution_count": null,
   "metadata": {},
   "outputs": [],
   "source": [
    "loss_function = get_loss_function()"
   ]
  },
  {
   "cell_type": "code",
   "execution_count": null,
   "metadata": {},
   "outputs": [],
   "source": [
    "model = FullyConnected(input_shape, best_result.metrics[\"parameter\"][\"hidden_layers\"], output_shape)\n",
    "model.load_state_dict(best_model)\n",
    "model.eval()"
   ]
  },
  {
   "cell_type": "code",
   "execution_count": null,
   "metadata": {},
   "outputs": [],
   "source": [
    "y, y_true = compute_predictions(test_dataloader, model, device)\n",
    "test_losses = compute_losses_from(y, y_true, loss_function)\n",
    "print(f\"The mean squared error of the loaded model on test is: {test_losses.mean()}\")"
   ]
  },
  {
   "cell_type": "code",
   "execution_count": null,
   "metadata": {},
   "outputs": [],
   "source": [
    "animation = create_trace_animation(y.numpy(), y_true.numpy())\n",
    "HTML(animation.to_jshtml())"
   ]
  }
 ],
 "metadata": {
  "kernelspec": {
   "display_name": "Python 3 (ipykernel)",
   "language": "python",
   "name": "python3"
  },
  "language_info": {
   "codemirror_mode": {
    "name": "ipython",
    "version": 3
   },
   "file_extension": ".py",
   "mimetype": "text/x-python",
   "name": "python",
   "nbconvert_exporter": "python",
   "pygments_lexer": "ipython3",
   "version": "3.10.12"
  }
 },
 "nbformat": 4,
 "nbformat_minor": 4
}
