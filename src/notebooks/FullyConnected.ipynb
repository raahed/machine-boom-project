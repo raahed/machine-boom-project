{
 "cells": [
  {
   "cell_type": "markdown",
   "metadata": {},
   "source": [
    "# Model 1: Fully Connected Neural Network"
   ]
  },
  {
   "cell_type": "code",
   "execution_count": 54,
   "metadata": {},
   "outputs": [],
   "source": [
    "from pathlib import Path\n",
    "import numpy as np\n",
    "import torch "
   ]
  },
  {
   "cell_type": "code",
   "execution_count": 55,
   "metadata": {},
   "outputs": [
    {
     "name": "stdout",
     "output_type": "stream",
     "text": [
      "Using cuda device\n"
     ]
    }
   ],
   "source": [
    "device = (\"cuda\" if torch.cuda.is_available() else \"cpu\")\n",
    "print(f\"Using {device} device\")"
   ]
  },
  {
   "cell_type": "code",
   "execution_count": 56,
   "metadata": {},
   "outputs": [],
   "source": [
    "# Import local modules from 'src/utils' as package 'utils'\n",
    "import sys; sys.path.insert(0, '../')"
   ]
  },
  {
   "cell_type": "code",
   "execution_count": 57,
   "metadata": {},
   "outputs": [],
   "source": [
    "import utils"
   ]
  },
  {
   "cell_type": "markdown",
   "metadata": {},
   "source": [
    "## Read Datasets from .csv"
   ]
  },
  {
   "cell_type": "code",
   "execution_count": 58,
   "metadata": {},
   "outputs": [],
   "source": [
    "from utils.file_io import read_angle_datasets"
   ]
  },
  {
   "cell_type": "code",
   "execution_count": 59,
   "metadata": {},
   "outputs": [
    {
     "name": "stderr",
     "output_type": "stream",
     "text": [
      "Reading .csv files: 1it [00:01,  1.45s/it]\n"
     ]
    }
   ],
   "source": [
    "data_folder = Path(\"../../data/\")\n",
    "train_data, test_data = read_angle_datasets(data_folder, 0.9)"
   ]
  },
  {
   "cell_type": "code",
   "execution_count": 60,
   "metadata": {},
   "outputs": [
    {
     "name": "stdout",
     "output_type": "stream",
     "text": [
      "Data shape 8 / 3 of total 62379 data rows!\n"
     ]
    },
    {
     "name": "stderr",
     "output_type": "stream",
     "text": [
      "/mnt/src/notebooks/../utils/angle_dataset.py:19: FutureWarning: Series.__getitem__ treating keys as positions is deprecated. In a future version, integer keys will always be treated as labels (consistent with DataFrame behavior). To access a value by position, use `ser.iloc[pos]`\n",
      "  return row[0], row[1]\n"
     ]
    }
   ],
   "source": [
    "input_shape, output_shape = train_data[0][0].shape[0], train_data[0][1].shape[0]\n",
    "print(f\"Data shape {input_shape} / {output_shape} of total {len(train_data)} data rows!\")"
   ]
  },
  {
   "cell_type": "markdown",
   "metadata": {},
   "source": [
    "## Model definition"
   ]
  },
  {
   "cell_type": "code",
   "execution_count": 61,
   "metadata": {},
   "outputs": [],
   "source": [
    "from torch import nn, Tensor\n",
    "from typing import Tuple, List"
   ]
  },
  {
   "cell_type": "code",
   "execution_count": 62,
   "metadata": {},
   "outputs": [],
   "source": [
    "class FullyConnected(nn.Module):\n",
    "    def __init__(self, flattened_input_dim: int, intermediate_dims: List[int], output_dim: int, dropout: float = 0.25, hidden_activation = nn.ReLU) -> None:\n",
    "        super().__init__()\n",
    "        self.total_epochs = 0\n",
    "        self.flatten = nn.Flatten()\n",
    "        self.hidden = nn.Sequential()\n",
    "        for i, dim in enumerate(intermediate_dims):\n",
    "            if i == 0:\n",
    "                self.hidden.add_module(f\"linear_{i+1}\", nn.Linear(flattened_input_dim, dim))\n",
    "            else:\n",
    "                self.hidden.add_module(f\"linear_{i+1}\", nn.Linear(intermediate_dims[i-1], dim))\n",
    "\n",
    "            self.hidden.add_module(f\"hidden_activation_{i+1}\", hidden_activation())\n",
    "            self.hidden.add_module(f\"dropout_{i+2}\", nn.Dropout(dropout))\n",
    "\n",
    "        self.last = nn.Linear(intermediate_dims[-1], output_dim)\n",
    "\n",
    "    def forward(self, x: Tensor) -> Tensor:\n",
    "        x = self.flatten(x)\n",
    "        x = self.hidden(x)\n",
    "        return self.last(x)"
   ]
  },
  {
   "cell_type": "markdown",
   "metadata": {},
   "source": [
    "## Load parameter, functions and dataloader"
   ]
  },
  {
   "cell_type": "code",
   "execution_count": 63,
   "metadata": {},
   "outputs": [],
   "source": [
    "import os\n",
    "from dotenv import load_dotenv\n",
    "from torch.utils.data import DataLoader\n",
    "\n",
    "from utils.file_io import save_model\n",
    "from utils.evaluation import compute_loss_on\n",
    "from utils.file_io import define_dataloader_from_angle_dataset"
   ]
  },
  {
   "cell_type": "code",
   "execution_count": 64,
   "metadata": {},
   "outputs": [],
   "source": [
    "model_path = Path(\"../../models/fully_connected/\").absolute()"
   ]
  },
  {
   "cell_type": "code",
   "execution_count": 65,
   "metadata": {},
   "outputs": [],
   "source": [
    "dotenv_path = model_path / \".env\"\n",
    "load_dotenv(dotenv_path=dotenv_path)\n",
    "\n",
    "learning_rate = float(os.getenv(\"LEARNING_RATE\"))\n",
    "batch_size = int(os.getenv(\"BATCH_SIZE\"))\n",
    "num_epochs = int(os.getenv(\"NUM_EPOCHS\"))"
   ]
  },
  {
   "cell_type": "code",
   "execution_count": 66,
   "metadata": {},
   "outputs": [],
   "source": [
    "def get_optimizer_function(model: nn.Module, learning_rate: float) -> torch.optim:\n",
    "    return torch.optim.Adam(model.parameters(), lr=learning_rate)"
   ]
  },
  {
   "cell_type": "code",
   "execution_count": 67,
   "metadata": {},
   "outputs": [],
   "source": [
    "def get_loss_function() -> nn.Module:\n",
    "    return torch.nn.MSELoss()"
   ]
  },
  {
   "cell_type": "code",
   "execution_count": 68,
   "metadata": {},
   "outputs": [],
   "source": [
    "train_dataloader, validation_dataloader, test_dataloader = define_dataloader_from_angle_dataset(train_data, test_data, batch_size, split_size=0.95)"
   ]
  },
  {
   "cell_type": "markdown",
   "metadata": {},
   "source": [
    "## Define train methods"
   ]
  },
  {
   "cell_type": "code",
   "execution_count": 69,
   "metadata": {},
   "outputs": [],
   "source": [
    "def train_epoch(train_dataloader: DataLoader, model: nn.Module, loss_function, optimizer, \n",
    "                device: torch.device, report_interval: int = 1000) -> float:\n",
    "\n",
    "    running_loss = 0\n",
    "    last_loss = 0\n",
    "    \n",
    "    for i, (inputs, true_values) in enumerate(train_dataloader):\n",
    "\n",
    "        inputs = inputs.to(device)\n",
    "        true_values = true_values.to(device)\n",
    "                \n",
    "        optimizer.zero_grad()\n",
    "        outputs = model(inputs)\n",
    "        loss = loss_function(outputs, true_values)\n",
    "        running_loss += loss\n",
    "        loss.backward()\n",
    "        optimizer.step() \n",
    "    \n",
    "    if i % report_interval == report_interval - 1:\n",
    "        last_loss = running_loss / report_interval\n",
    "        print(f\"batch {i + 1}, Mean Squared Error: {last_loss}\")\n",
    "        running_loss = 0\n",
    "    \n",
    "    return last_loss "
   ]
  },
  {
   "cell_type": "code",
   "execution_count": 70,
   "metadata": {},
   "outputs": [],
   "source": [
    "def train(epochs: int, train_dataloader: DataLoader, validation_dataloader: DataLoader, model: nn.Module, loss_function, optimizer, \n",
    "          checkpoint_path: Path, device: torch.device = 'cpu', report_interval: int = 1000, tune: bool = False) -> nn.Module:\n",
    "\n",
    "    best_val_loss = float(\"inf\")\n",
    "\n",
    "    if torch.cuda.device_count() > 1:\n",
    "        model = nn.DataParallel(model)\n",
    "\n",
    "    model.to(device)\n",
    "\n",
    "    for epoch in range(model.total_epochs, epochs):\n",
    "        print(f\"Epoch: {epoch + 1}\")\n",
    "\n",
    "        model.train(True)\n",
    "        avg_loss = train_epoch(train_dataloader, model, loss_function, optimizer, device, report_interval)\n",
    "        model.eval()\n",
    "\n",
    "        with torch.no_grad():\n",
    "            avg_val_loss = compute_loss_on(validation_dataloader, model, loss_function, device=device)\n",
    "\n",
    "        print(f\"Loss on train: {avg_loss}, loss on validation: {avg_val_loss}\")\n",
    "\n",
    "        # Disable checkpoints while running in tune mode\n",
    "        if avg_val_loss < best_val_loss and not tune:\n",
    "            best_val_loss = avg_val_loss\n",
    "            model_path = checkpoint_path / f\"{checkpoint_path.name}_{epoch}.pt\"\n",
    "            save_model(model, model_path)\n",
    "\n",
    "        model.total_epochs += 1\n",
    "    \n",
    "    return model   "
   ]
  },
  {
   "cell_type": "markdown",
   "metadata": {},
   "source": [
    "## Train the model with grid search hyperparameter tuning"
   ]
  },
  {
   "cell_type": "code",
   "execution_count": 71,
   "metadata": {},
   "outputs": [],
   "source": [
    "import ray\n",
    "import json\n",
    "from ray import tune\n",
    "from ray import train as ray_train\n",
    "from ray.train import Checkpoint\n",
    "from ray.tune.schedulers import ASHAScheduler\n",
    "from typing import Dict\n",
    "from utils.evaluation import compute_predictions, compute_losses_from\n",
    "from functools import partial"
   ]
  },
  {
   "cell_type": "code",
   "execution_count": 72,
   "metadata": {},
   "outputs": [],
   "source": [
    "def run_id_generator(data: Dict) -> str:\n",
    "    return str(hash(json.dumps(data)))"
   ]
  },
  {
   "cell_type": "code",
   "execution_count": 73,
   "metadata": {},
   "outputs": [],
   "source": [
    "def parameter_train(parameter: Dict, train_data: DataLoader, test_data: DataLoader, model_input_shape: int, model_output_shape: int, checkpoint_path: Path, device: torch.device) -> None:\n",
    "\n",
    "    run_id = run_id_generator(parameter)\n",
    "    run_checkpoint = checkpoint_path / run_id\n",
    "    run_checkpoint.mkdir(parents=True)\n",
    "\n",
    "    train_dataloader, validation_dataloader, test_dataloader = define_dataloader_from_angle_dataset(train_data, test_data, batch_size=parameter[\"batch_size\"])\n",
    "\n",
    "    model = FullyConnected(model_input_shape, parameter[\"hidden_layers\"], model_output_shape)\n",
    "\n",
    "    optimizer = get_optimizer_function(model, parameter[\"lr\"])\n",
    "    loss_function = get_loss_function()\n",
    "\n",
    "    last_model = train(parameter[\"epochs\"], train_dataloader, validation_dataloader, model, loss_function, optimizer, checkpoint_path, device, report_interval=50, tune=True)\n",
    "\n",
    "    y, y_true = compute_predictions(test_dataloader, last_model)\n",
    "    test_losses = compute_losses_from(y, y_true, loss_function)\n",
    "\n",
    "    torch.save((last_model.state_dict(), optimizer.state_dict()), run_checkpoint / \"checkpoint.pt\")\n",
    "\n",
    "    print(str(parameter), file=open(run_checkpoint / \"trail_parameter.txt\", \"w\"))\n",
    "\n",
    "    ray_train.report(\n",
    "        metrics={ \"loss\": float(test_losses.mean()), \"parameter\": parameter , \"run_id\": run_id }\n",
    "    )"
   ]
  },
  {
   "cell_type": "markdown",
   "metadata": {},
   "source": [
    "Define parameter ranges"
   ]
  },
  {
   "cell_type": "code",
   "execution_count": 74,
   "metadata": {},
   "outputs": [],
   "source": [
    "learning_rate_radius = 1e-3\n",
    "num_epochs_radius = 50\n",
    "batch_size_radius = 10\n",
    "hidden_layer_sizes = [16, 32, 64]\n",
    "hidden_layer_count = [2, 4, 6]"
   ]
  },
  {
   "cell_type": "code",
   "execution_count": 75,
   "metadata": {},
   "outputs": [],
   "source": [
    "parameter = {\n",
    "    \"lr\": tune.loguniform(learning_rate_radius - learning_rate, learning_rate + learning_rate_radius),\n",
    "    \"epochs\": tune.choice(list(range(num_epochs - num_epochs_radius, num_epochs + num_epochs_radius, 20))),\n",
    "    \"batch_size\": tune.grid_search(list(range(batch_size - batch_size_radius, batch_size + batch_size_radius, 4))),\n",
    "    \"hidden_layers\": tune.grid_search(list([hidden_layer_sizes[i % len(hidden_layer_sizes)] for i in range(dim)] for _, dim in enumerate(hidden_layer_count))),\n",
    "    \"dropout\": tune.uniform(0.1, 0.5)\n",
    "}"
   ]
  },
  {
   "cell_type": "code",
   "execution_count": 76,
   "metadata": {},
   "outputs": [],
   "source": [
    "scheduler = ASHAScheduler(\n",
    "    metric=\"loss\",\n",
    "    mode=\"min\",\n",
    "    max_t=num_epochs,\n",
    "    grace_period=1,\n",
    "    reduction_factor=2,\n",
    ")"
   ]
  },
  {
   "cell_type": "code",
   "execution_count": 77,
   "metadata": {},
   "outputs": [
    {
     "name": "stderr",
     "output_type": "stream",
     "text": [
      "2023-11-19 17:55:45,948\tWARNING services.py:1996 -- WARNING: The object store is using /tmp instead of /dev/shm because /dev/shm has only 67104768 bytes available. This will harm performance! You may be able to free up space by deleting files in /dev/shm. If you are inside a Docker container, you can increase /dev/shm size by passing '--shm-size=10.24gb' to 'docker run' (or add it to the run_options list in a Ray cluster config). Make sure to set this to more than 30% of available RAM.\n",
      "2023-11-19 17:55:46,057\tINFO worker.py:1673 -- Started a local Ray instance.\n",
      "2023-11-19 17:55:46,063\tINFO packaging.py:530 -- Creating a file package for local directory '/mnt/src/notebooks/../utils'.\n",
      "2023-11-19 17:55:46,066\tINFO packaging.py:358 -- Pushing file package 'gcs://_ray_pkg_d8c8a9358aefbc3b.zip' (0.03MiB) to Ray cluster...\n",
      "2023-11-19 17:55:46,067\tINFO packaging.py:371 -- Successfully pushed file package 'gcs://_ray_pkg_d8c8a9358aefbc3b.zip'.\n"
     ]
    },
    {
     "data": {
      "application/vnd.jupyter.widget-view+json": {
       "model_id": "ac2ce1e16352485e952a1d50ce52e8ae",
       "version_major": 2,
       "version_minor": 0
      },
      "text/html": [
       "<div class=\"lm-Widget p-Widget lm-Panel p-Panel jp-Cell-outputWrapper\">\n",
       "    <div style=\"margin-left: 50px;display: flex;flex-direction: row;align-items: center\">\n",
       "        <div class=\"jp-RenderedHTMLCommon\" style=\"display: flex; flex-direction: row;\">\n",
       "  <svg viewBox=\"0 0 567 224\" fill=\"none\" xmlns=\"http://www.w3.org/2000/svg\" style=\"height: 3em;\">\n",
       "    <g clip-path=\"url(#clip0_4338_178347)\">\n",
       "        <path d=\"M341.29 165.561H355.29L330.13 129.051C345.63 123.991 354.21 112.051 354.21 94.2307C354.21 71.3707 338.72 58.1807 311.88 58.1807H271V165.561H283.27V131.661H311.8C314.25 131.661 316.71 131.501 319.01 131.351L341.25 165.561H341.29ZM283.29 119.851V70.0007H311.82C331.3 70.0007 342.34 78.2907 342.34 94.5507C342.34 111.271 331.34 119.861 311.82 119.861L283.29 119.851ZM451.4 138.411L463.4 165.561H476.74L428.74 58.1807H416L367.83 165.561H380.83L392.83 138.411H451.4ZM446.19 126.601H398L422 72.1407L446.24 126.601H446.19ZM526.11 128.741L566.91 58.1807H554.35L519.99 114.181L485.17 58.1807H472.44L514.01 129.181V165.541H526.13V128.741H526.11Z\" fill=\"var(--jp-ui-font-color0)\"/>\n",
       "        <path d=\"M82.35 104.44C84.0187 97.8827 87.8248 92.0678 93.1671 87.9146C98.5094 83.7614 105.083 81.5067 111.85 81.5067C118.617 81.5067 125.191 83.7614 130.533 87.9146C135.875 92.0678 139.681 97.8827 141.35 104.44H163.75C164.476 101.562 165.622 98.8057 167.15 96.2605L127.45 56.5605C121.071 60.3522 113.526 61.6823 106.235 60.3005C98.9443 58.9187 92.4094 54.9203 87.8602 49.0574C83.3109 43.1946 81.0609 35.8714 81.5332 28.4656C82.0056 21.0599 85.1679 14.0819 90.4252 8.8446C95.6824 3.60726 102.672 0.471508 110.08 0.0272655C117.487 -0.416977 124.802 1.86091 130.647 6.4324C136.493 11.0039 140.467 17.5539 141.821 24.8501C143.175 32.1463 141.816 39.6859 138 46.0505L177.69 85.7505C182.31 82.9877 187.58 81.4995 192.962 81.4375C198.345 81.3755 203.648 82.742 208.33 85.3976C213.012 88.0532 216.907 91.9029 219.616 96.5544C222.326 101.206 223.753 106.492 223.753 111.875C223.753 117.258 222.326 122.545 219.616 127.197C216.907 131.848 213.012 135.698 208.33 138.353C203.648 141.009 198.345 142.375 192.962 142.313C187.58 142.251 182.31 140.763 177.69 138L138 177.7C141.808 184.071 143.155 191.614 141.79 198.91C140.424 206.205 136.44 212.75 130.585 217.313C124.731 221.875 117.412 224.141 110.004 223.683C102.596 223.226 95.6103 220.077 90.3621 214.828C85.1139 209.58 81.9647 202.595 81.5072 195.187C81.0497 187.779 83.3154 180.459 87.878 174.605C92.4405 168.751 98.9853 164.766 106.281 163.401C113.576 162.035 121.119 163.383 127.49 167.19L167.19 127.49C165.664 124.941 164.518 122.182 163.79 119.3H141.39C139.721 125.858 135.915 131.673 130.573 135.826C125.231 139.98 118.657 142.234 111.89 142.234C105.123 142.234 98.5494 139.98 93.2071 135.826C87.8648 131.673 84.0587 125.858 82.39 119.3H60C58.1878 126.495 53.8086 132.78 47.6863 136.971C41.5641 141.163 34.1211 142.972 26.7579 142.059C19.3947 141.146 12.6191 137.574 7.70605 132.014C2.79302 126.454 0.0813599 119.29 0.0813599 111.87C0.0813599 104.451 2.79302 97.2871 7.70605 91.7272C12.6191 86.1673 19.3947 82.5947 26.7579 81.6817C34.1211 80.7686 41.5641 82.5781 47.6863 86.7696C53.8086 90.9611 58.1878 97.2456 60 104.44H82.35ZM100.86 204.32C103.407 206.868 106.759 208.453 110.345 208.806C113.93 209.159 117.527 208.258 120.522 206.256C123.517 204.254 125.725 201.276 126.771 197.828C127.816 194.38 127.633 190.677 126.253 187.349C124.874 184.021 122.383 181.274 119.205 179.577C116.027 177.88 112.359 177.337 108.826 178.042C105.293 178.746 102.113 180.654 99.8291 183.44C97.5451 186.226 96.2979 189.718 96.3 193.32C96.2985 195.364 96.7006 197.388 97.4831 199.275C98.2656 201.163 99.4132 202.877 100.86 204.32ZM204.32 122.88C206.868 120.333 208.453 116.981 208.806 113.396C209.159 109.811 208.258 106.214 206.256 103.219C204.254 100.223 201.275 98.0151 197.827 96.97C194.38 95.9249 190.676 96.1077 187.348 97.4873C184.02 98.8669 181.274 101.358 179.577 104.536C177.879 107.714 177.337 111.382 178.041 114.915C178.746 118.448 180.653 121.627 183.439 123.911C186.226 126.195 189.717 127.443 193.32 127.44C195.364 127.443 197.388 127.042 199.275 126.259C201.163 125.476 202.878 124.328 204.32 122.88ZM122.88 19.4205C120.333 16.8729 116.981 15.2876 113.395 14.9347C109.81 14.5817 106.213 15.483 103.218 17.4849C100.223 19.4868 98.0146 22.4654 96.9696 25.9131C95.9245 29.3608 96.1073 33.0642 97.4869 36.3922C98.8665 39.7202 101.358 42.4668 104.535 44.1639C107.713 45.861 111.381 46.4036 114.914 45.6992C118.447 44.9949 121.627 43.0871 123.911 40.301C126.195 37.515 127.442 34.0231 127.44 30.4205C127.44 28.3772 127.038 26.3539 126.255 24.4664C125.473 22.5788 124.326 20.8642 122.88 19.4205ZM19.42 100.86C16.8725 103.408 15.2872 106.76 14.9342 110.345C14.5813 113.93 15.4826 117.527 17.4844 120.522C19.4863 123.518 22.4649 125.726 25.9127 126.771C29.3604 127.816 33.0638 127.633 36.3918 126.254C39.7198 124.874 42.4664 122.383 44.1635 119.205C45.8606 116.027 46.4032 112.359 45.6988 108.826C44.9944 105.293 43.0866 102.114 40.3006 99.8296C37.5145 97.5455 34.0227 96.2983 30.42 96.3005C26.2938 96.3018 22.337 97.9421 19.42 100.86ZM100.86 100.86C98.3125 103.408 96.7272 106.76 96.3742 110.345C96.0213 113.93 96.9226 117.527 98.9244 120.522C100.926 123.518 103.905 125.726 107.353 126.771C110.8 127.816 114.504 127.633 117.832 126.254C121.16 124.874 123.906 122.383 125.604 119.205C127.301 116.027 127.843 112.359 127.139 108.826C126.434 105.293 124.527 102.114 121.741 99.8296C118.955 97.5455 115.463 96.2983 111.86 96.3005C109.817 96.299 107.793 96.701 105.905 97.4835C104.018 98.2661 102.303 99.4136 100.86 100.86Z\" fill=\"#00AEEF\"/>\n",
       "    </g>\n",
       "    <defs>\n",
       "        <clipPath id=\"clip0_4338_178347\">\n",
       "            <rect width=\"566.93\" height=\"223.75\" fill=\"white\"/>\n",
       "        </clipPath>\n",
       "    </defs>\n",
       "  </svg>\n",
       "</div>\n",
       "\n",
       "        <table class=\"jp-RenderedHTMLCommon\" style=\"border-collapse: collapse;color: var(--jp-ui-font-color1);font-size: var(--jp-ui-font-size1);\">\n",
       "    <tr>\n",
       "        <td style=\"text-align: left\"><b>Python version:</b></td>\n",
       "        <td style=\"text-align: left\"><b>3.10.12</b></td>\n",
       "    </tr>\n",
       "    <tr>\n",
       "        <td style=\"text-align: left\"><b>Ray version:</b></td>\n",
       "        <td style=\"text-align: left\"><b>2.8.0</b></td>\n",
       "    </tr>\n",
       "    \n",
       "</table>\n",
       "\n",
       "    </div>\n",
       "</div>\n"
      ],
      "text/plain": [
       "RayContext(dashboard_url='', python_version='3.10.12', ray_version='2.8.0', ray_commit='105355bd253d6538ed34d331f6a4bdf0e38ace3a', protocol_version=None)"
      ]
     },
     "execution_count": 77,
     "metadata": {},
     "output_type": "execute_result"
    }
   ],
   "source": [
    "if ray.is_initialized():\n",
    "    ray.shutdown()\n",
    "\n",
    "ray.init(runtime_env={ \"py_modules\": [utils] })"
   ]
  },
  {
   "cell_type": "code",
   "execution_count": 78,
   "metadata": {},
   "outputs": [],
   "source": [
    "ray_resources_manager = tune.with_resources(\n",
    "    trainable=lambda param: parameter_train(param, train_data, test_data, input_shape, output_shape, model_path, device),\n",
    "    # See: https://stackoverflow.com/questions/58967793/what-is-the-way-to-make-tune-run-parallel-trials-across-multiple-gpus\n",
    "    resources={ \"cpu\": 3, \"gpu\": 0.25 }\n",
    ")\n",
    "\n",
    "tuner = tune.Tuner(\n",
    "    ray_resources_manager,\n",
    "    param_space=parameter,\n",
    "    tune_config=tune.TuneConfig(\n",
    "        scheduler=scheduler,\n",
    "        num_samples=20\n",
    "    )\n",
    ")"
   ]
  },
  {
   "cell_type": "code",
   "execution_count": 79,
   "metadata": {},
   "outputs": [
    {
     "data": {
      "text/html": [
       "<div class=\"tuneStatus\">\n",
       "  <div style=\"display: flex;flex-direction: row\">\n",
       "    <div style=\"display: flex;flex-direction: column;\">\n",
       "      <h3>Tune Status</h3>\n",
       "      <table>\n",
       "<tbody>\n",
       "<tr><td>Current time:</td><td>2023-11-19 17:56:23</td></tr>\n",
       "<tr><td>Running for: </td><td>00:00:33.72        </td></tr>\n",
       "<tr><td>Memory:      </td><td>14.4/62.8 GiB      </td></tr>\n",
       "</tbody>\n",
       "</table>\n",
       "    </div>\n",
       "    <div class=\"vDivider\"></div>\n",
       "    <div class=\"systemInfo\">\n",
       "      <h3>System Info</h3>\n",
       "      Using AsyncHyperBand: num_stopped=0<br>Bracket: Iter 512.000: None | Iter 256.000: None | Iter 128.000: None | Iter 64.000: None | Iter 32.000: None | Iter 16.000: None | Iter 8.000: None | Iter 4.000: None | Iter 2.000: None | Iter 1.000: None<br>Logical resource usage: 12.0/12 CPUs, 1.0/1 GPUs (0.0/1.0 accelerator_type:G)\n",
       "    </div>\n",
       "    \n",
       "  </div>\n",
       "  <div class=\"hDivider\"></div>\n",
       "  <div class=\"trialStatus\">\n",
       "    <h3>Trial Status</h3>\n",
       "    <table>\n",
       "<thead>\n",
       "<tr><th>Trial name        </th><th>status  </th><th>loc             </th><th style=\"text-align: right;\">  batch_size</th><th style=\"text-align: right;\">  dropout</th><th style=\"text-align: right;\">  epochs</th><th>hidden_layers       </th><th style=\"text-align: right;\">         lr</th></tr>\n",
       "</thead>\n",
       "<tbody>\n",
       "<tr><td>lambda_df3dc_00000</td><td>RUNNING </td><td>172.17.0.2:25141</td><td style=\"text-align: right;\">          66</td><td style=\"text-align: right;\"> 0.487347</td><td style=\"text-align: right;\">     950</td><td>[16, 32]            </td><td style=\"text-align: right;\">0.00109372 </td></tr>\n",
       "<tr><td>lambda_df3dc_00001</td><td>RUNNING </td><td>172.17.0.2:25142</td><td style=\"text-align: right;\">          70</td><td style=\"text-align: right;\"> 0.449987</td><td style=\"text-align: right;\">     990</td><td>[16, 32, 64, 16]    </td><td style=\"text-align: right;\">0.00103807 </td></tr>\n",
       "<tr><td>lambda_df3dc_00002</td><td>RUNNING </td><td>172.17.0.2:25143</td><td style=\"text-align: right;\">          66</td><td style=\"text-align: right;\"> 0.190173</td><td style=\"text-align: right;\">     970</td><td>[16, 32, 64, 16_dbc0</td><td style=\"text-align: right;\">0.000959797</td></tr>\n",
       "<tr><td>lambda_df3dc_00003</td><td>RUNNING </td><td>172.17.0.2:25144</td><td style=\"text-align: right;\">          62</td><td style=\"text-align: right;\"> 0.322095</td><td style=\"text-align: right;\">    1010</td><td>[16, 32]            </td><td style=\"text-align: right;\">0.00108324 </td></tr>\n",
       "<tr><td>lambda_df3dc_00004</td><td>PENDING </td><td>                </td><td style=\"text-align: right;\">          66</td><td style=\"text-align: right;\"> 0.336223</td><td style=\"text-align: right;\">    1010</td><td>[16, 32, 64, 16]    </td><td style=\"text-align: right;\">0.00107175 </td></tr>\n",
       "<tr><td>lambda_df3dc_00005</td><td>PENDING </td><td>                </td><td style=\"text-align: right;\">          62</td><td style=\"text-align: right;\"> 0.301252</td><td style=\"text-align: right;\">    1030</td><td>[16, 32, 64, 16_4240</td><td style=\"text-align: right;\">0.00105641 </td></tr>\n",
       "<tr><td>lambda_df3dc_00006</td><td>PENDING </td><td>                </td><td style=\"text-align: right;\">          70</td><td style=\"text-align: right;\"> 0.228391</td><td style=\"text-align: right;\">    1030</td><td>[16, 32]            </td><td style=\"text-align: right;\">0.000967245</td></tr>\n",
       "<tr><td>lambda_df3dc_00007</td><td>PENDING </td><td>                </td><td style=\"text-align: right;\">          66</td><td style=\"text-align: right;\"> 0.417821</td><td style=\"text-align: right;\">    1010</td><td>[16, 32, 64, 16]    </td><td style=\"text-align: right;\">0.00100234 </td></tr>\n",
       "<tr><td>lambda_df3dc_00008</td><td>PENDING </td><td>                </td><td style=\"text-align: right;\">          66</td><td style=\"text-align: right;\"> 0.332978</td><td style=\"text-align: right;\">     990</td><td>[16, 32, 64, 16_fc80</td><td style=\"text-align: right;\">0.00102059 </td></tr>\n",
       "<tr><td>lambda_df3dc_00009</td><td>PENDING </td><td>                </td><td style=\"text-align: right;\">          54</td><td style=\"text-align: right;\"> 0.419132</td><td style=\"text-align: right;\">    1010</td><td>[16, 32]            </td><td style=\"text-align: right;\">0.000976487</td></tr>\n",
       "<tr><td>lambda_df3dc_00010</td><td>PENDING </td><td>                </td><td style=\"text-align: right;\">          62</td><td style=\"text-align: right;\"> 0.415504</td><td style=\"text-align: right;\">    1030</td><td>[16, 32, 64, 16]    </td><td style=\"text-align: right;\">0.00109772 </td></tr>\n",
       "<tr><td>lambda_df3dc_00011</td><td>PENDING </td><td>                </td><td style=\"text-align: right;\">          70</td><td style=\"text-align: right;\"> 0.270503</td><td style=\"text-align: right;\">     990</td><td>[16, 32, 64, 16_9540</td><td style=\"text-align: right;\">0.000900502</td></tr>\n",
       "<tr><td>lambda_df3dc_00012</td><td>PENDING </td><td>                </td><td style=\"text-align: right;\">          58</td><td style=\"text-align: right;\"> 0.291221</td><td style=\"text-align: right;\">    1030</td><td>[16, 32]            </td><td style=\"text-align: right;\">0.000971155</td></tr>\n",
       "<tr><td>lambda_df3dc_00013</td><td>PENDING </td><td>                </td><td style=\"text-align: right;\">          62</td><td style=\"text-align: right;\"> 0.438655</td><td style=\"text-align: right;\">     990</td><td>[16, 32, 64, 16]    </td><td style=\"text-align: right;\">0.000944144</td></tr>\n",
       "<tr><td>lambda_df3dc_00014</td><td>PENDING </td><td>                </td><td style=\"text-align: right;\">          58</td><td style=\"text-align: right;\"> 0.198337</td><td style=\"text-align: right;\">    1010</td><td>[16, 32, 64, 16_89c0</td><td style=\"text-align: right;\">0.000920087</td></tr>\n",
       "<tr><td>lambda_df3dc_00015</td><td>PENDING </td><td>                </td><td style=\"text-align: right;\">          58</td><td style=\"text-align: right;\"> 0.285784</td><td style=\"text-align: right;\">     950</td><td>[16, 32]            </td><td style=\"text-align: right;\">0.000966872</td></tr>\n",
       "<tr><td>lambda_df3dc_00016</td><td>PENDING </td><td>                </td><td style=\"text-align: right;\">          66</td><td style=\"text-align: right;\"> 0.433555</td><td style=\"text-align: right;\">     970</td><td>[16, 32, 64, 16]    </td><td style=\"text-align: right;\">0.000983558</td></tr>\n",
       "<tr><td>lambda_df3dc_00017</td><td>PENDING </td><td>                </td><td style=\"text-align: right;\">          54</td><td style=\"text-align: right;\"> 0.246856</td><td style=\"text-align: right;\">     950</td><td>[16, 32, 64, 16_b3c0</td><td style=\"text-align: right;\">0.000988719</td></tr>\n",
       "<tr><td>lambda_df3dc_00018</td><td>PENDING </td><td>                </td><td style=\"text-align: right;\">          54</td><td style=\"text-align: right;\"> 0.414555</td><td style=\"text-align: right;\">    1030</td><td>[16, 32]            </td><td style=\"text-align: right;\">0.00105042 </td></tr>\n",
       "<tr><td>lambda_df3dc_00019</td><td>PENDING </td><td>                </td><td style=\"text-align: right;\">          70</td><td style=\"text-align: right;\"> 0.203824</td><td style=\"text-align: right;\">    1010</td><td>[16, 32, 64, 16]    </td><td style=\"text-align: right;\">0.00102641 </td></tr>\n",
       "</tbody>\n",
       "</table>\n",
       "  </div>\n",
       "</div>\n",
       "<style>\n",
       ".tuneStatus {\n",
       "  color: var(--jp-ui-font-color1);\n",
       "}\n",
       ".tuneStatus .systemInfo {\n",
       "  display: flex;\n",
       "  flex-direction: column;\n",
       "}\n",
       ".tuneStatus td {\n",
       "  white-space: nowrap;\n",
       "}\n",
       ".tuneStatus .trialStatus {\n",
       "  display: flex;\n",
       "  flex-direction: column;\n",
       "}\n",
       ".tuneStatus h3 {\n",
       "  font-weight: bold;\n",
       "}\n",
       ".tuneStatus .hDivider {\n",
       "  border-bottom-width: var(--jp-border-width);\n",
       "  border-bottom-color: var(--jp-border-color0);\n",
       "  border-bottom-style: solid;\n",
       "}\n",
       ".tuneStatus .vDivider {\n",
       "  border-left-width: var(--jp-border-width);\n",
       "  border-left-color: var(--jp-border-color0);\n",
       "  border-left-style: solid;\n",
       "  margin: 0.5em 1em 0.5em 1em;\n",
       "}\n",
       "</style>\n"
      ],
      "text/plain": [
       "<IPython.core.display.HTML object>"
      ]
     },
     "metadata": {},
     "output_type": "display_data"
    },
    {
     "name": "stderr",
     "output_type": "stream",
     "text": [
      "2023-11-19 17:56:07,158\tWARNING worker.py:2074 -- Warning: The actor ImplicitFunc is very large (15 MiB). Check that its definition is not implicitly capturing a large array or other object in scope. Tip: use ray.put() to put large objects in the Ray object store.\n"
     ]
    },
    {
     "name": "stdout",
     "output_type": "stream",
     "text": [
      "\u001b[36m(<lambda> pid=25144)\u001b[0m Epoch: 1\n"
     ]
    },
    {
     "name": "stderr",
     "output_type": "stream",
     "text": [
      "\u001b[36m(<lambda> pid=25144)\u001b[0m /tmp/ray/session_2023-11-19_17-55-44_162449_23591/runtime_resources/py_modules_files/_ray_pkg_d8c8a9358aefbc3b/utils/angle_dataset.py:19: FutureWarning: Series.__getitem__ treating keys as positions is deprecated. In a future version, integer keys will always be treated as labels (consistent with DataFrame behavior). To access a value by position, use `ser.iloc[pos]`\n",
      "\u001b[36m(<lambda> pid=25144)\u001b[0m   return row[0], row[1]\n"
     ]
    },
    {
     "name": "stdout",
     "output_type": "stream",
     "text": [
      "\u001b[36m(<lambda> pid=25144)\u001b[0m Loss on train: 0, loss on validation: 0.5568861961364746\n",
      "\u001b[36m(<lambda> pid=25144)\u001b[0m Epoch: 2\u001b[32m [repeated 4x across cluster]\u001b[0m\n"
     ]
    }
   ],
   "source": [
    "results = tuner.fit()"
   ]
  },
  {
   "cell_type": "code",
   "execution_count": null,
   "metadata": {},
   "outputs": [],
   "source": [
    "best_result = results.get_best_result(\"loss\", \"min\")\n",
    "\n",
    "for key in best_result.metrics[\"parameter\"]:\n",
    "    print(f\"Best Trail: {key} with {best_result.metrics['parameter'][key]}\")"
   ]
  },
  {
   "cell_type": "code",
   "execution_count": null,
   "metadata": {},
   "outputs": [],
   "source": [
    "# Checkpoint contains model and optimizer function\n",
    "best_model, _ = torch.load(model_path / best_result.metrics[\"run_id\"] / \"checkpoint.pt\")"
   ]
  },
  {
   "cell_type": "code",
   "execution_count": null,
   "metadata": {},
   "outputs": [],
   "source": [
    "print(f\"Currently best trial defined by loss: {best_result.metrics['run_id']}\", file=open(model_path / \"best_trail.txt\", \"w\"))"
   ]
  },
  {
   "cell_type": "markdown",
   "metadata": {},
   "source": [
    "## Evaluation"
   ]
  },
  {
   "cell_type": "code",
   "execution_count": null,
   "metadata": {},
   "outputs": [],
   "source": [
    "from utils.visualization import create_trace_animation\n",
    "from matplotlib import pyplot as plt\n",
    "from IPython.display import HTML"
   ]
  },
  {
   "cell_type": "code",
   "execution_count": null,
   "metadata": {},
   "outputs": [],
   "source": [
    "# Compute eval on the cpu\n",
    "device = 'cpu'"
   ]
  },
  {
   "cell_type": "code",
   "execution_count": null,
   "metadata": {},
   "outputs": [],
   "source": [
    "%matplotlib notebook\n",
    " \n",
    "plt.rcParams[\"animation.html\"] = \"jshtml\"\n",
    "plt.rcParams['figure.dpi'] = 150  "
   ]
  },
  {
   "cell_type": "markdown",
   "metadata": {},
   "source": [
    "### Loading the best model"
   ]
  },
  {
   "cell_type": "code",
   "execution_count": null,
   "metadata": {},
   "outputs": [],
   "source": [
    "from utils.file_io import load_model"
   ]
  },
  {
   "cell_type": "code",
   "execution_count": null,
   "metadata": {},
   "outputs": [],
   "source": [
    "loss_function = get_loss_function()"
   ]
  },
  {
   "cell_type": "code",
   "execution_count": null,
   "metadata": {},
   "outputs": [],
   "source": [
    "model = FullyConnected(input_shape, best_result.metrics[\"parameter\"][\"hidden_layers\"], output_shape)\n",
    "model.load_state_dict(best_model)\n",
    "model.eval()"
   ]
  },
  {
   "cell_type": "code",
   "execution_count": null,
   "metadata": {},
   "outputs": [],
   "source": [
    "y, y_true = compute_predictions(test_dataloader, model, device)\n",
    "test_losses = compute_losses_from(y, y_true, loss_function)\n",
    "print(f\"The mean squared error of the loaded model on test is: {test_losses.mean()}\")"
   ]
  },
  {
   "cell_type": "code",
   "execution_count": null,
   "metadata": {},
   "outputs": [],
   "source": [
    "animation = create_trace_animation(y.numpy(), y_true.numpy())\n",
    "HTML(animation.to_jshtml())"
   ]
  }
 ],
 "metadata": {
  "kernelspec": {
   "display_name": "Python 3 (ipykernel)",
   "language": "python",
   "name": "python3"
  },
  "language_info": {
   "codemirror_mode": {
    "name": "ipython",
    "version": 3
   },
   "file_extension": ".py",
   "mimetype": "text/x-python",
   "name": "python",
   "nbconvert_exporter": "python",
   "pygments_lexer": "ipython3",
   "version": "3.10.12"
  }
 },
 "nbformat": 4,
 "nbformat_minor": 4
}
