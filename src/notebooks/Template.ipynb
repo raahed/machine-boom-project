{
 "cells": [
  {
   "cell_type": "markdown",
   "id": "0d54308f",
   "metadata": {},
   "source": [
    "Imports"
   ]
  },
  {
   "cell_type": "code",
   "execution_count": null,
   "id": "c05c3ea9-27fb-448f-a2ae-9683bee616ff",
   "metadata": {},
   "outputs": [],
   "source": [
    "import torch\n",
    "\n",
    "# Import module specified in './src/utils'\n",
    "from utils import utils"
   ]
  },
  {
   "cell_type": "markdown",
   "id": "98c0ce70",
   "metadata": {},
   "source": [
    "Detect nvidia cuda device"
   ]
  },
  {
   "cell_type": "code",
   "execution_count": null,
   "id": "f840a997",
   "metadata": {},
   "outputs": [],
   "source": [
    "device = torch.device('cuda' if torch.cuda.is_available() else 'cpu')\n",
    "\n",
    "print('Running on ', device.type, '!', sep='')\n",
    "\n",
    "if device.type == 'cuda':\n",
    "   print('Number of Cuda devices:', torch.cuda.device_count())\n",
    "   print('Current Cuda device:', torch.cuda.get_device_name(torch.cuda.current_device())) "
   ]
  },
  {
   "cell_type": "markdown",
   "id": "d015cdc9",
   "metadata": {},
   "source": [
    "Load datasets"
   ]
  },
  {
   "cell_type": "code",
   "execution_count": null,
   "id": "94ec7fd7",
   "metadata": {},
   "outputs": [],
   "source": [
    "# Load all csv files localed in './data'\n",
    "data = utils.read_data_files('/mnt/data')\n",
    "\n",
    "# Flatten dataset\n",
    "data = utils.flatten_dataset(data)\n",
    "\n",
    "print('Total present data count', data.shape[0], 'from', len(set(data['Source'])), 'file(s)!')"
   ]
  }
 ],
 "metadata": {
  "kernelspec": {
   "display_name": "Python 3 (ipykernel)",
   "language": "python",
   "name": "python3"
  }
 },
 "nbformat": 4,
 "nbformat_minor": 5
}
