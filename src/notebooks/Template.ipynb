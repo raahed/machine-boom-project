{
 "cells": [
  {
   "cell_type": "markdown",
   "id": "0d54308f",
   "metadata": {},
   "source": [
    "Imports"
   ]
  },
  {
   "cell_type": "code",
   "execution_count": 1,
   "id": "c05c3ea9-27fb-448f-a2ae-9683bee616ff",
   "metadata": {},
   "outputs": [
    {
     "ename": "ModuleNotFoundError",
     "evalue": "No module named 'torch'",
     "output_type": "error",
     "traceback": [
      "\u001b[1;31m---------------------------------------------------------------------------\u001b[0m",
      "\u001b[1;31mModuleNotFoundError\u001b[0m                       Traceback (most recent call last)",
      "\u001b[1;32mc:\\repos\\machine-boom-project\\src\\notebooks\\Template.ipynb Cell 2\u001b[0m line \u001b[0;36m1\n\u001b[1;32m----> <a href='vscode-notebook-cell:/c%3A/repos/machine-boom-project/src/notebooks/Template.ipynb#X14sZmlsZQ%3D%3D?line=0'>1</a>\u001b[0m \u001b[39mimport\u001b[39;00m \u001b[39mtorch\u001b[39;00m\n\u001b[0;32m      <a href='vscode-notebook-cell:/c%3A/repos/machine-boom-project/src/notebooks/Template.ipynb#X14sZmlsZQ%3D%3D?line=2'>3</a>\u001b[0m \u001b[39m# Import module specified in './src/pyhton' \u001b[39;00m\n\u001b[0;32m      <a href='vscode-notebook-cell:/c%3A/repos/machine-boom-project/src/notebooks/Template.ipynb#X14sZmlsZQ%3D%3D?line=3'>4</a>\u001b[0m \u001b[39mfrom\u001b[39;00m \u001b[39mproject\u001b[39;00m \u001b[39mimport\u001b[39;00m utils\n",
      "\u001b[1;31mModuleNotFoundError\u001b[0m: No module named 'torch'"
     ]
    }
   ],
   "source": [
    "import torch\n",
    "\n",
    "# Import module specified in './src/pyhton' \n",
    "from project import utils"
   ]
  },
  {
   "cell_type": "markdown",
   "id": "98c0ce70",
   "metadata": {},
   "source": [
    "Detect nvidia cuda device"
   ]
  },
  {
   "cell_type": "code",
   "execution_count": null,
   "id": "f840a997",
   "metadata": {},
   "outputs": [],
   "source": [
    "device = torch.device('cuda' if torch.cuda.is_available() else 'cpu')\n",
    "\n",
    "print('Running on ', device.type, '!', sep='')\n",
    "\n",
    "if device.type == 'cuda':\n",
    "   print('Number of Cuda devices:', torch.cuda.device_count())\n",
    "   print('Current Cuda device:', torch.cuda.get_device_name(torch.cuda.current_device())) "
   ]
  },
  {
   "cell_type": "markdown",
   "id": "d015cdc9",
   "metadata": {},
   "source": [
    "Load datasets"
   ]
  },
  {
   "cell_type": "code",
   "execution_count": null,
   "id": "94ec7fd7",
   "metadata": {},
   "outputs": [],
   "source": [
    "# Load all csv files localed in './data'\n",
    "data = utils.read_data_files('/mnt/data')\n",
    "\n",
    "# Flatten dataset\n",
    "data = utils.flatten_dataset(data)\n",
    "\n",
    "print('Total present data count', data.shape[0], 'from', len(set(data['Source'])), 'file(s)!')"
   ]
  }
 ],
 "metadata": {
  "kernelspec": {
   "display_name": "Python 3 (ipykernel)",
   "language": "python",
   "name": "python3"
  },
  "language_info": {
   "codemirror_mode": {
    "name": "ipython",
    "version": 3
   },
   "file_extension": ".py",
   "mimetype": "text/x-python",
   "name": "python",
   "nbconvert_exporter": "python",
   "pygments_lexer": "ipython3",
   "version": "3.9.13"
  }
 },
 "nbformat": 4,
 "nbformat_minor": 5
}
