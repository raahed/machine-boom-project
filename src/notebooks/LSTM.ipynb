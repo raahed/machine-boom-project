{
 "cells": [
  {
   "cell_type": "markdown",
   "metadata": {},
   "source": [
    "# Model 2: LSTM sequence model\n",
    "## Read data"
   ]
  },
  {
   "cell_type": "code",
   "execution_count": null,
   "metadata": {},
   "outputs": [],
   "source": [
    "# FIXME: Only for local usage!\n",
    "import sys\n",
    "sys.path.insert(0, \"/home/pandavid/uni/WiSe2324/ProjectWork/machine-boom-project/src/utils\")\n",
    "\n",
    "from pathlib import Path\n",
    "\n",
    "import torch\n",
    "import numpy as np\n",
    "import pandas as pd\n",
    "\n",
    "from file_io import read_all_data_dumps_in\n",
    "from preprocessing import reshape_dataframe_for_learning"
   ]
  },
  {
   "cell_type": "code",
   "execution_count": null,
   "metadata": {},
   "outputs": [],
   "source": [
    "device = (\"cuda\" if torch.cuda.is_available() else \"cpu\")\n",
    "print(f\"Using {device} device\")"
   ]
  },
  {
   "cell_type": "code",
   "execution_count": null,
   "metadata": {},
   "outputs": [],
   "source": [
    "data_folder = Path(\"../../data/\").resolve()\n",
    "raw_data = read_all_data_dumps_in(data_folder)\n",
    "data = reshape_dataframe_for_learning(raw_data)\n",
    "print(data[\"features\"][0].shape)\n",
    "print(data.head())"
   ]
  },
  {
   "cell_type": "markdown",
   "metadata": {},
   "source": [
    "## Create Trajectory dataset from dataframe"
   ]
  },
  {
   "cell_type": "code",
   "execution_count": null,
   "metadata": {},
   "outputs": [],
   "source": [
    "from typing import Tuple, Any\n",
    "\n",
    "from torch.utils.data import Dataset, random_split"
   ]
  },
  {
   "cell_type": "code",
   "execution_count": null,
   "metadata": {},
   "outputs": [],
   "source": [
    "class TrajectoryDataset(Dataset):\n",
    "    def __init__(self, dataframe: pd.DataFrame, trajectory_length: int):\n",
    "        super().__init__()\n",
    "        self.dataframe = dataframe\n",
    "        self.trajectory_length = trajectory_length\n",
    "    \n",
    "    def __len__(self) -> int:\n",
    "        dataframe_len = len(self.dataframe.index)\n",
    "        return int(dataframe_len / self.trajectory_length)\n",
    "    \n",
    "    def __getitem__(self, index) -> Any:\n",
    "        dataframe_length = len(self.dataframe.index)\n",
    "        start_index = index * self.trajectory_length\n",
    "        end_index = start_index + self.trajectory_length if start_index + self.trajectory_length < dataframe_length else dataframe_length\n",
    "        slice = self.dataframe.iloc[list(range(start_index, end_index))] \n",
    "        features, true_lowpoints = torch.from_numpy(np.stack(slice.iloc[:, 0].to_numpy())), torch.from_numpy(np.stack(slice.iloc[:, 1].to_numpy()))\n",
    "        return features, true_lowpoints\n",
    "\n",
    "\n",
    "def read_trajectory_datasets(data_folder: Path, train_split: float, test_split: float, validation_split: float, trajectory_length: int = 10) -> Tuple[TrajectoryDataset, TrajectoryDataset]:\n",
    "    data = read_all_data_dumps_in(data_folder)\n",
    "    preprocessed = reshape_dataframe_for_learning(data)\n",
    "    complete_dataset = TrajectoryDataset(preprocessed, trajectory_length)\n",
    "    return random_split(complete_dataset, [train_split, test_split, validation_split])\n"
   ]
  },
  {
   "cell_type": "code",
   "execution_count": null,
   "metadata": {},
   "outputs": [],
   "source": [
    "train_set, test_set, validation_set = read_trajectory_datasets(data_folder, 0.8, 0.15, 0.05)\n",
    "print(len(train_set), len(test_set), len(validation_set))"
   ]
  },
  {
   "cell_type": "markdown",
   "metadata": {},
   "source": [
    "## Defining the LSTM model"
   ]
  },
  {
   "cell_type": "code",
   "execution_count": null,
   "metadata": {},
   "outputs": [],
   "source": [
    "from torch import nn"
   ]
  },
  {
   "cell_type": "code",
   "execution_count": null,
   "metadata": {},
   "outputs": [],
   "source": [
    "class DecoderLSTM(nn.Module):\n",
    "    def __init__(self, input_dim: int, hidden_dim: int, out_dim: int, dropout_lstm: float = 0.25, dropout_final: float = 0.25, num_lstm_layers: int = 1, bidirectional: bool = False) -> None:\n",
    "        super().__init__()\n",
    "        self.total_epochs = 0\n",
    "        self.hidden_dim = hidden_dim\n",
    "        self.d = 2 if bidirectional else 1\n",
    "        self.num_lstm_layers = num_lstm_layers\n",
    "\n",
    "        self.lstm = nn.LSTM(input_dim, hidden_dim, num_layers=num_lstm_layers, dropout=dropout_lstm, bidirectional=bidirectional)\n",
    "        self.final_dropout = nn.Dropout(dropout_final)\n",
    "        self.out = nn.Linear(hidden_dim * self.d, out_dim)\n",
    "        \n",
    "\n",
    "    def forward(self, x):\n",
    "        batch_size = x.shape[1]\n",
    "        # expect x to be of shape (sequence_length, batch_size, input_dim)\n",
    "        h0 = torch.randn(self.d * self.num_lstm_layers, batch_size, self.hidden_dim)\n",
    "        c0 = torch.randn(self.d * self.num_lstm_layers, batch_size, self.hidden_dim)\n",
    "        # output shape is (sequence_length, batch_size, d * hidden_dim)\n",
    "        output, (hn, cn) = self.lstm(x, (h0, c0))\n",
    "        output = self.final_dropout(output)\n",
    "        return self.out(output)\n",
    "        \n"
   ]
  },
  {
   "cell_type": "code",
   "execution_count": null,
   "metadata": {},
   "outputs": [],
   "source": [
    "model = DecoderLSTM(8, 6, 3).to(device)"
   ]
  },
  {
   "cell_type": "markdown",
   "metadata": {},
   "source": [
    "## Train the model"
   ]
  },
  {
   "cell_type": "code",
   "execution_count": null,
   "metadata": {},
   "outputs": [],
   "source": [
    "import os\n",
    "\n",
    "from torch.utils.data import DataLoader\n",
    "from dotenv import load_dotenv\n",
    "\n",
    "from file_io import save_model\n",
    "from evaluation import compute_loss_on"
   ]
  },
  {
   "cell_type": "code",
   "execution_count": null,
   "metadata": {},
   "outputs": [],
   "source": [
    "dotenv_path = Path(\"../../models/lstm/.env\").resolve()\n",
    "print(dotenv_path)\n",
    "load_dotenv(dotenv_path=dotenv_path)\n",
    "learning_rate = float(os.getenv(\"LEARNING_RATE\"))\n",
    "batch_size = int(os.getenv(\"BATCH_SIZE\"))\n",
    "\n",
    "# inputs for training loop\n",
    "optimizer = torch.optim.Adam(model.parameters(), lr=learning_rate)\n",
    "loss_function = torch.nn.MSELoss()\n",
    "train_dataloader = DataLoader(train_set, batch_size=batch_size, shuffle=True)\n",
    "validation_dataloader = DataLoader(validation_set, batch_size=batch_size, shuffle=True)\n",
    "test_dataloader = DataLoader(test_set, batch_size=batch_size, shuffle=True)"
   ]
  },
  {
   "cell_type": "code",
   "execution_count": null,
   "metadata": {},
   "outputs": [],
   "source": [
    "def train(epochs: int, train_dataloader: DataLoader, validation_dataloader: DataLoader, model, loss_function, optimizer, checkpoint_path: Path, report_interval: int = 1000):\n",
    "    best_val_loss = float(\"inf\")\n",
    "    for epoch in range(model.total_epochs, epochs):\n",
    "        print(f\"Epoch: {epoch + 1}\")\n",
    "\n",
    "        model.train(True)\n",
    "        avg_loss = train_epoch(train_dataloader, model, loss_function, optimizer, report_interval)\n",
    "        model.eval()\n",
    "\n",
    "        with torch.no_grad():\n",
    "            avg_val_loss = compute_loss_on(validation_dataloader, model, loss_function)\n",
    "\n",
    "        print(f\"Loss on train: {avg_loss}, loss on validation: {avg_val_loss}\")\n",
    "\n",
    "        if avg_val_loss < best_val_loss:\n",
    "            best_val_loss = avg_val_loss\n",
    "            model_path = checkpoint_path / f\"{checkpoint_path.name}_{epoch}.pt\"\n",
    "            save_model(model, model_path)\n",
    "\n",
    "        model.total_epochs += 1\n",
    "    \n",
    "    return model            \n",
    "\n",
    "\n",
    "def train_epoch(train_dataloader: DataLoader, model, loss_function, optimizer, report_interval: int = 1000):\n",
    "    running_loss = 0\n",
    "    last_loss = 0\n",
    "    \n",
    "    for i, (inputs, true_values) in enumerate(train_dataloader):\n",
    "        inputs_shape, true_values_shape = inputs.size(), true_values.size()\n",
    "        inputs = inputs.view(inputs_shape[1], inputs_shape[0], inputs_shape[2])\n",
    "        true_values = true_values.view(true_values_shape[1], true_values_shape[0], true_values_shape[2])\n",
    "        optimizer.zero_grad()\n",
    "        outputs = model(inputs)\n",
    "        loss = loss_function(outputs, true_values)\n",
    "        running_loss += loss\n",
    "        loss.backward()\n",
    "        optimizer.step()\n",
    "    \n",
    "    if i % report_interval == report_interval - 1 or i + 1 == len(train_dataloader):\n",
    "        last_loss = running_loss / report_interval\n",
    "        print(f\"batch {i + 1}, Mean Squared Error: {last_loss}\")\n",
    "        running_loss = 0\n",
    "    \n",
    "    return last_loss"
   ]
  },
  {
   "cell_type": "code",
   "execution_count": null,
   "metadata": {},
   "outputs": [],
   "source": [
    "checkpointing_path = Path(\"../../models/lstm/\")\n",
    "last_model = train(int(os.getenv(\"NUM_EPOCHS\")), train_dataloader, validation_dataloader, model, loss_function, optimizer, checkpointing_path)"
   ]
  },
  {
   "cell_type": "markdown",
   "metadata": {},
   "source": [
    "## Evaluation\n",
    "### Compute mean squared error"
   ]
  },
  {
   "cell_type": "code",
   "execution_count": null,
   "metadata": {},
   "outputs": [],
   "source": [
    "from evaluation import compute_predictions, compute_losses_from"
   ]
  },
  {
   "cell_type": "code",
   "execution_count": null,
   "metadata": {},
   "outputs": [],
   "source": [
    "y, y_true = compute_predictions(test_dataloader, last_model)\n",
    "test_losses = compute_losses_from(y, y_true, loss_function)\n",
    "print(f\"The mean squared error on test is: {test_losses.mean()}\")"
   ]
  },
  {
   "cell_type": "markdown",
   "metadata": {},
   "source": [
    "### Draw prediction/truth traces"
   ]
  },
  {
   "cell_type": "code",
   "execution_count": null,
   "metadata": {},
   "outputs": [],
   "source": [
    "%matplotlib notebook\n",
    "\n",
    "from matplotlib import pyplot as plt\n",
    "\n",
    "plt.rcParams[\"animation.html\"] = \"jshtml\"\n",
    "plt.rcParams['figure.dpi'] = 150  \n",
    "\n",
    "from IPython.display import HTML\n",
    "\n",
    "from visualization import create_trace_animation"
   ]
  },
  {
   "cell_type": "code",
   "execution_count": null,
   "metadata": {},
   "outputs": [],
   "source": [
    "y, y_true = y.numpy(), y_true.numpy()\n",
    "y = y.reshape(y.shape[0] * y.shape[1], y.shape[2])\n",
    "y_true = y_true.reshape(y_true.shape[0] * y_true.shape[1], y_true.shape[2])\n",
    "animation = create_trace_animation(y, y_true)\n",
    "HTML(animation.to_jshtml())"
   ]
  },
  {
   "cell_type": "markdown",
   "metadata": {},
   "source": [
    "## Loading the best model"
   ]
  },
  {
   "cell_type": "code",
   "execution_count": null,
   "metadata": {},
   "outputs": [],
   "source": [
    "from file_io import load_model"
   ]
  },
  {
   "cell_type": "code",
   "execution_count": null,
   "metadata": {},
   "outputs": [],
   "source": [
    "loaded_model = DecoderLSTM(input_shape, [32, 16], 3).to(device)\n",
    "model_state_dict = load_model(checkpointing_path)\n",
    "loaded_model.load_state_dict(model_state_dict)\n",
    "loaded_model.eval()\n",
    "y, y_true = compute_predictions(test_dataloader, loaded_model)\n",
    "test_losses = compute_losses_from(y, y_true, loss_function)\n",
    "print(f\"The mean squared error of the loaded model on test is: {test_losses.mean()}\")\n",
    "animation = create_trace_animation(y.numpy(), y_true.numpy())\n",
    "HTML(animation.to_jshtml())"
   ]
  }
 ],
 "metadata": {
  "kernelspec": {
   "display_name": ".venv",
   "language": "python",
   "name": "python3"
  },
  "language_info": {
   "codemirror_mode": {
    "name": "ipython",
    "version": 3
   },
   "file_extension": ".py",
   "mimetype": "text/x-python",
   "name": "python",
   "nbconvert_exporter": "python",
   "pygments_lexer": "ipython3",
   "version": "3.8.16"
  }
 },
 "nbformat": 4,
 "nbformat_minor": 2
}
