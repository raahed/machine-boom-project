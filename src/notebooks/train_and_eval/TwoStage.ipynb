{
 "cells": [
  {
   "cell_type": "markdown",
   "metadata": {},
   "source": [
    "# Evaluation for the fourth model"
   ]
  },
  {
   "cell_type": "code",
   "execution_count": null,
   "metadata": {},
   "outputs": [],
   "source": [
    "from pathlib import Path\n",
    "import numpy as np\n",
    "import torch\n",
    "from torch.utils.data import DataLoader"
   ]
  },
  {
   "cell_type": "code",
   "execution_count": null,
   "metadata": {},
   "outputs": [],
   "source": [
    "device = (\"cuda\" if torch.cuda.is_available() else \"cpu\")\n",
    "print(f\"Using {device} device\")"
   ]
  },
  {
   "cell_type": "code",
   "execution_count": null,
   "metadata": {},
   "outputs": [],
   "source": [
    "import sys; sys.path.insert(0, '/mnt/src')"
   ]
  },
  {
   "cell_type": "markdown",
   "metadata": {},
   "source": [
    "## Read Datasets from .csv"
   ]
  },
  {
   "cell_type": "code",
   "execution_count": null,
   "metadata": {},
   "outputs": [],
   "source": [
    "from utils.file_io import read_parallel_trajectory_datasets"
   ]
  },
  {
   "cell_type": "code",
   "execution_count": null,
   "metadata": {},
   "outputs": [],
   "source": [
    "data_path = Path(\"/mnt/data/\")\n",
    "\n",
    "feature_columns = [\n",
    "    'left_boom_base_yaw_joint', \n",
    "    'left_boom_base_pitch_joint',\n",
    "    'left_boom_main_prismatic_joint',\n",
    "    'left_boom_second_roll_joint',\n",
    "    'left_boom_second_yaw_joint',\n",
    "    'left_boom_top_pitch_joint',\n",
    "    'left_boom_ee_joint',\n",
    "    'cable1_property(length,youngsmodule(bend,twist))',\n",
    "    'cable2_property(length,youngsmodule(bend,twist))',\n",
    "    'cable3_property(length,youngsmodule(bend,twist))'\n",
    "]\n",
    "\n",
    "label_features = [\n",
    "    ('cable1_lowest_point', np.array([2], dtype=np.int64)),\n",
    "    ('cable2_lowest_point', np.array([2], dtype=np.int64)),\n",
    "    ('cable3_lowest_point', np.array([2], dtype=np.int64))\n",
    "]\n",
    "\n",
    "normalized_features = [\n",
    "    ('cable1_property(length,youngsmodule(bend,twist))', np.array([1,2], dtype=np.int64)),\n",
    "    ('cable2_property(length,youngsmodule(bend,twist))', np.array([1,2], dtype=np.int64)),\n",
    "    ('cable3_property(length,youngsmodule(bend,twist))', np.array([1,2], dtype=np.int64))\n",
    "]"
   ]
  },
  {
   "cell_type": "code",
   "execution_count": null,
   "metadata": {},
   "outputs": [],
   "source": [
    "data_path = Path(\"/mnt/data\")\n",
    "train_set, test_set, validation_set, visualization_set = read_parallel_trajectory_datasets(data_path, 0.8, 0.15, 0.045, 0.005, 64, \n",
    "                                                                    feature_columns=feature_columns, label_features=label_features, normalized_features=normalized_features)"
   ]
  },
  {
   "cell_type": "code",
   "execution_count": null,
   "metadata": {},
   "outputs": [],
   "source": [
    "features, labels = train_set[0] \n",
    "print(features.shape, labels.shape)\n",
    "input_shape, output_shape = features.shape[-1], labels.shape[-1]\n",
    "num_parallel_trajectories = features.shape[0]\n",
    "print(f\"Data shape {input_shape} / {output_shape} of total {len(train_set) + len(validation_set)} data rows!\")"
   ]
  },
  {
   "cell_type": "markdown",
   "metadata": {},
   "source": [
    "## Load parameter, functions and dataloader"
   ]
  },
  {
   "cell_type": "code",
   "execution_count": null,
   "metadata": {},
   "outputs": [],
   "source": [
    "import os\n",
    "import ast\n",
    "from dotenv import load_dotenv\n",
    "\n",
    "from utils.file_io import define_dataloader_from_subset\n",
    "from utils.activation import get_activation"
   ]
  },
  {
   "cell_type": "code",
   "execution_count": null,
   "metadata": {},
   "outputs": [],
   "source": [
    "model_path = Path(\"/mnt/models/two_stage/\")"
   ]
  },
  {
   "cell_type": "code",
   "execution_count": null,
   "metadata": {},
   "outputs": [],
   "source": [
    "dotenv_path = model_path / \".env\"\n",
    "load_dotenv(dotenv_path=dotenv_path)\n",
    "\n",
    "encoder_batch_size = int(os.getenv(\"ENCODER_BATCH_SIZE\"))\n",
    "encoder_optimizer = os.getenv(\"ENCODER_OPTIMIZER\")\n",
    "encoder_activation = os.getenv(\"ENCODER_ACTIVATION\")\n",
    "num_encoder_layer = int(os.getenv(\"NUM_ENCODER_LAYER\"))\n",
    "pos_encoder_dropout = float(os.getenv(\"POS_ENCODER_DROPOUT\"))\n",
    "encoder_transformer_dropout = float(os.getenv(\"ENCODER_TRANSFORMER_DROPOUT\"))\n",
    "encoder_feedforward_dim = int(os.getenv(\"ENCODER_FEEDFORWARD_DIM\"))\n",
    "encoder_warmup_steps = int(os.getenv(\"ENCODER_WARMUP_STEPS\"))\n",
    "encoder_model_dim_num_heads_projection = ast.literal_eval(os.getenv(\"ENCODER_MODEL_DIM_NUM_HEADS_PROJECTION\"))\n",
    "encoder_num_epochs = int(os.getenv(\"ENCODER_NUM_EPOCHS\"))\n",
    "\n",
    "decoder_batch_size = int(os.getenv(\"DECODER_BATCH_SIZE\"))\n",
    "decoder_optimizer = os.getenv(\"DECODER_OPTIMIZER\")\n",
    "decoder_activation = os.getenv(\"DECODER_ACTIVATION\")\n",
    "num_decoder_layer = int(os.getenv(\"NUM_DECODER_LAYER\"))\n",
    "decoder_transformer_dropout = float(os.getenv(\"DECODER_TRANSFORMER_DROPOUT\"))\n",
    "decoder_feedforward_dim = int(os.getenv(\"DECODER_FEEDFORWARD_DIM\"))\n",
    "decoder_warmup_steps = int(os.getenv(\"DECODER_WARMUP_STEPS\"))\n",
    "decoder_model_dim_num_heads = ast.literal_eval(os.getenv(\"DECODER_MODEL_DIM_NUM_HEADS\"))\n",
    "decoder_num_epochs = int(os.getenv(\"DECODER_NUM_EPOCHS\"))"
   ]
  },
  {
   "cell_type": "code",
   "execution_count": null,
   "metadata": {},
   "outputs": [],
   "source": [
    "encoder_activation = get_activation(encoder_activation)\n",
    "decoder_activation = get_activation(decoder_activation)"
   ]
  },
  {
   "cell_type": "markdown",
   "metadata": {},
   "source": [
    "## Train downprojection"
   ]
  },
  {
   "cell_type": "code",
   "execution_count": null,
   "metadata": {},
   "outputs": [],
   "source": [
    "from umap import UMAP\n",
    "\n",
    "from models.transformer import train_downprojection\n",
    "from utils.file_io import save_downprojection"
   ]
  },
  {
   "cell_type": "code",
   "execution_count": null,
   "metadata": {},
   "outputs": [],
   "source": [
    "encoder_train_dataloader, encoder_validation_dataloader, encoder_test_dataloader = define_dataloader_from_subset(train_set, validation_set, test_set, batch_size=encoder_batch_size)"
   ]
  },
  {
   "cell_type": "code",
   "execution_count": null,
   "metadata": {},
   "outputs": [],
   "source": [
    "downprojection = UMAP(n_components=3, n_neighbors=encoder_model_dim_num_heads_projection[2])\n",
    "downprojection = train_downprojection(downprojection, encoder_train_dataloader)\n",
    "save_downprojection(downprojection, model_path / \"downprojection.sav\")"
   ]
  },
  {
   "cell_type": "markdown",
   "metadata": {},
   "source": [
    "## Train Encoder Model"
   ]
  },
  {
   "cell_type": "code",
   "execution_count": null,
   "metadata": {},
   "outputs": [],
   "source": [
    "from models.parallel_encoder_model import ParallelEncoderModel\n",
    "from models import parallel_encoder_model\n",
    "from utils.loss_functions import get_loss_function\n",
    "from utils.optimizer import get_optimizer_function, get_learning_rate_scheduler\n",
    "from utils.early_stopping import EarlyStopping"
   ]
  },
  {
   "cell_type": "code",
   "execution_count": null,
   "metadata": {},
   "outputs": [],
   "source": [
    "parallel_encoder = ParallelEncoderModel(\n",
    "    num_decoders = num_parallel_trajectories, \n",
    "    num_heads = encoder_model_dim_num_heads_projection[1], \n",
    "    model_dim = encoder_model_dim_num_heads_projection[0], \n",
    "    feedforward_hidden_dim = encoder_feedforward_dim, \n",
    "    output_dim = output_shape, \n",
    "    num_encoder_layers = num_encoder_layer,\n",
    "    transformer_dropout = encoder_transformer_dropout, \n",
    "    pos_encoder_dropout = pos_encoder_dropout, \n",
    "    activation = encoder_activation, \n",
    "    projection_function = downprojection\n",
    ")"
   ]
  },
  {
   "cell_type": "code",
   "execution_count": null,
   "metadata": {},
   "outputs": [],
   "source": [
    "optimizer = get_optimizer_function(encoder_optimizer, parallel_encoder, 1)\n",
    "lr_scheduler = get_learning_rate_scheduler(optimizer, encoder_model_dim_num_heads_projection[0], encoder_warmup_steps)\n",
    "loss_function = get_loss_function()"
   ]
  },
  {
   "cell_type": "code",
   "execution_count": null,
   "metadata": {},
   "outputs": [],
   "source": [
    "early_stopping = EarlyStopping(25)"
   ]
  },
  {
   "cell_type": "code",
   "execution_count": null,
   "metadata": {},
   "outputs": [],
   "source": [
    "encoder_model_dir = model_path / \"encoder\"\n",
    "encoder_model_dir.mkdir(parents=True, exist_ok=True)"
   ]
  },
  {
   "cell_type": "code",
   "execution_count": null,
   "metadata": {},
   "outputs": [],
   "source": [
    "_, encoder_validation_losses = parallel_encoder_model.train(\n",
    "    encoder_num_epochs, \n",
    "    encoder_train_dataloader, \n",
    "    encoder_validation_dataloader, \n",
    "    parallel_encoder, \n",
    "    loss_function, \n",
    "    optimizer, \n",
    "    lr_scheduler, \n",
    "    encoder_model_dir, \n",
    "    device, \n",
    "    early_stopping=early_stopping\n",
    ")"
   ]
  },
  {
   "cell_type": "markdown",
   "metadata": {},
   "source": [
    "# Train Encoder-Decoder Model"
   ]
  },
  {
   "cell_type": "code",
   "execution_count": null,
   "metadata": {},
   "outputs": [],
   "source": [
    "from models.parallel_decoder_model import TransformerDecoderModel, TransformerModel\n",
    "from models import parallel_decoder_model"
   ]
  },
  {
   "cell_type": "code",
   "execution_count": null,
   "metadata": {},
   "outputs": [],
   "source": [
    "model_state_dict = torch.load(model_path / \"encoder\" / \"checkpoint.pt\")\n",
    "parallel_encoder.load_state_dict(model_state_dict)\n",
    "\n",
    "encoder = parallel_encoder.encoder"
   ]
  },
  {
   "cell_type": "code",
   "execution_count": null,
   "metadata": {},
   "outputs": [],
   "source": [
    "decoder_train_dataloader, decoder_validation_dataloader, decoder_test_dataloader = define_dataloader_from_subset(train_set, validation_set, test_set, batch_size=decoder_batch_size)"
   ]
  },
  {
   "cell_type": "code",
   "execution_count": null,
   "metadata": {},
   "outputs": [],
   "source": [
    "decoder = TransformerDecoderModel(\n",
    "    model_dim = decoder_model_dim_num_heads[0],\n",
    "    num_heads = decoder_model_dim_num_heads[1],\n",
    "    feedforward_dim = decoder_feedforward_dim,\n",
    "    num_decoder_layers = num_decoder_layer,\n",
    "    pos_encoder = encoder.pos_encoder,\n",
    "    transformer_dropout = decoder_transformer_dropout,\n",
    "    activation = decoder_activation\n",
    ")"
   ]
  },
  {
   "cell_type": "code",
   "execution_count": null,
   "metadata": {},
   "outputs": [],
   "source": [
    "model = TransformerModel(encoder, decoder)"
   ]
  },
  {
   "cell_type": "code",
   "execution_count": null,
   "metadata": {},
   "outputs": [],
   "source": [
    "optimizer = get_optimizer_function(decoder_optimizer, model, 1)\n",
    "lr_scheduler = get_learning_rate_scheduler(optimizer, decoder_model_dim_num_heads[0], decoder_warmup_steps)\n",
    "loss_function = get_loss_function()"
   ]
  },
  {
   "cell_type": "code",
   "execution_count": null,
   "metadata": {},
   "outputs": [],
   "source": [
    "early_stopping = EarlyStopping(25)"
   ]
  },
  {
   "cell_type": "code",
   "execution_count": null,
   "metadata": {},
   "outputs": [],
   "source": [
    "_, validation_losses = parallel_decoder_model.train(\n",
    "    epochs = decoder_num_epochs,\n",
    "    train_dataloader = decoder_train_dataloader,\n",
    "    validation_dataloader = decoder_validation_dataloader,\n",
    "    model = model,\n",
    "    loss_function = loss_function,\n",
    "    optimizer = optimizer,\n",
    "    lr_scheduler = lr_scheduler,\n",
    "    checkpoint_path = model_path,\n",
    "    device = device,\n",
    "    early_stopping = early_stopping\n",
    ") "
   ]
  },
  {
   "cell_type": "markdown",
   "metadata": {},
   "source": [
    "## Evaluation"
   ]
  },
  {
   "cell_type": "code",
   "execution_count": null,
   "metadata": {},
   "outputs": [],
   "source": [
    "from utils.evaluation import compute_losses_from, compute_sliding_window_predictions\n",
    "from utils.visualization import create_plot_for_dimensions, create_inference_time_plot, create_validation_loss_plot"
   ]
  },
  {
   "cell_type": "code",
   "execution_count": null,
   "metadata": {},
   "outputs": [],
   "source": [
    "model_state_dict = torch.load(model_path / \"checkpoint.pt\")\n",
    "model.load_state_dict(model_state_dict)"
   ]
  },
  {
   "cell_type": "code",
   "execution_count": null,
   "metadata": {},
   "outputs": [],
   "source": [
    "model.eval()"
   ]
  },
  {
   "cell_type": "markdown",
   "metadata": {},
   "source": [
    "## 1. Analysis: Compute loss and average inference time on test"
   ]
  },
  {
   "cell_type": "code",
   "execution_count": null,
   "metadata": {},
   "outputs": [],
   "source": [
    "y, y_true, inference_times = compute_sliding_window_predictions(decoder_test_dataloader, model, 'cpu')\n",
    "test_losses = compute_losses_from(y, y_true, get_loss_function())\n",
    "print(f\"The mean squared error of the loaded model on test is: {test_losses.mean()}\")\n",
    "print(f\"The average inference time of the loaded model on test is: {inference_times.mean()} seconds.\")"
   ]
  },
  {
   "cell_type": "markdown",
   "metadata": {},
   "source": [
    "## 2. Analysis: Show Cable lowest points"
   ]
  },
  {
   "cell_type": "code",
   "execution_count": null,
   "metadata": {},
   "outputs": [],
   "source": [
    "visualization_dataloader = DataLoader(visualization_set, batch_size=1, shuffle=False)"
   ]
  },
  {
   "cell_type": "code",
   "execution_count": null,
   "metadata": {},
   "outputs": [],
   "source": [
    "y, y_true, inference_times = compute_sliding_window_predictions(visualization_dataloader, model, 'cpu')"
   ]
  },
  {
   "cell_type": "code",
   "execution_count": null,
   "metadata": {},
   "outputs": [],
   "source": [
    "plot = create_plot_for_dimensions(y.numpy(), y_true.numpy(), size=5)\n",
    "plot.savefig(model_path / \"predictions.png\")\n",
    "plot.show()"
   ]
  },
  {
   "cell_type": "markdown",
   "metadata": {},
   "source": [
    "## 3. Analysis: Show inference times"
   ]
  },
  {
   "cell_type": "code",
   "execution_count": null,
   "metadata": {},
   "outputs": [],
   "source": [
    "plot = create_inference_time_plot(inference_times.numpy())\n",
    "plot.savefig(model_path / \"inference_times.png\")\n",
    "plot.show()"
   ]
  },
  {
   "cell_type": "markdown",
   "metadata": {},
   "source": [
    "## 4. Analysis: Show validation loss over time"
   ]
  },
  {
   "cell_type": "code",
   "execution_count": null,
   "metadata": {},
   "outputs": [],
   "source": [
    "plot = create_validation_loss_plot(validation_losses)\n",
    "plot.savefig(model_path / \"losses.png\")\n",
    "plot.show()"
   ]
  },
  {
   "cell_type": "code",
   "execution_count": null,
   "metadata": {},
   "outputs": [],
   "source": [
    "plot = create_validation_loss_plot(encoder_validation_losses)\n",
    "plot.savefig(model_path / \"encoder_losses.png\")\n",
    "plot.show()"
   ]
  }
 ],
 "metadata": {
  "kernelspec": {
   "display_name": "Python 3 (ipykernel)",
   "language": "python",
   "name": "python3"
  },
  "language_info": {
   "codemirror_mode": {
    "name": "ipython",
    "version": 3
   },
   "file_extension": ".py",
   "mimetype": "text/x-python",
   "name": "python",
   "nbconvert_exporter": "python",
   "pygments_lexer": "ipython3",
   "version": "3.10.12"
  }
 },
 "nbformat": 4,
 "nbformat_minor": 2
}
