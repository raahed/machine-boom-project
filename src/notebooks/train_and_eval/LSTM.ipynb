{
 "cells": [
  {
   "cell_type": "markdown",
   "metadata": {},
   "source": [
    "# Evaluation for the second model"
   ]
  },
  {
   "cell_type": "code",
   "execution_count": 1,
   "metadata": {},
   "outputs": [],
   "source": [
    "from pathlib import Path\n",
    "import numpy as np\n",
    "import torch\n",
    "from torch.utils.data import DataLoader"
   ]
  },
  {
   "cell_type": "code",
   "execution_count": 2,
   "metadata": {},
   "outputs": [
    {
     "name": "stdout",
     "output_type": "stream",
     "text": [
      "Using cpu device\n"
     ]
    }
   ],
   "source": [
    "device = (\"cuda\" if torch.cuda.is_available() else \"cpu\")\n",
    "print(f\"Using {device} device\")"
   ]
  },
  {
   "cell_type": "code",
   "execution_count": 3,
   "metadata": {},
   "outputs": [],
   "source": [
    "import sys; sys.path.insert(0, '/mnt/src')"
   ]
  },
  {
   "cell_type": "markdown",
   "metadata": {},
   "source": [
    "## Read Datasets from .csv"
   ]
  },
  {
   "cell_type": "code",
   "execution_count": 4,
   "metadata": {},
   "outputs": [],
   "source": [
    "from utils.file_io import read_trajectory_datasets"
   ]
  },
  {
   "cell_type": "code",
   "execution_count": 5,
   "metadata": {},
   "outputs": [],
   "source": [
    "feature_columns = [\n",
    "    'left_boom_base_yaw_joint', \n",
    "    'left_boom_base_pitch_joint',\n",
    "    'left_boom_main_prismatic_joint',\n",
    "    'left_boom_second_roll_joint',\n",
    "    'left_boom_second_yaw_joint',\n",
    "    'left_boom_top_pitch_joint',\n",
    "    'left_boom_ee_joint',\n",
    "    'cable1_property(length,youngsmodule(bend,twist))',\n",
    "    'cable2_property(length,youngsmodule(bend,twist))',\n",
    "    'cable3_property(length,youngsmodule(bend,twist))'\n",
    "]\n",
    "\n",
    "label_features = [\n",
    "    ('cable1_lowest_point', np.array([1], dtype=np.int64)),\n",
    "    ('cable2_lowest_point', np.array([1], dtype=np.int64)),\n",
    "    ('cable3_lowest_point', np.array([1], dtype=np.int64))\n",
    "]\n",
    "\n",
    "normalized_features = [\n",
    "    ('cable1_property(length,youngsmodule(bend,twist))', np.array([1,2], dtype=np.int64)),\n",
    "    ('cable2_property(length,youngsmodule(bend,twist))', np.array([1,2], dtype=np.int64)),\n",
    "    ('cable3_property(length,youngsmodule(bend,twist))', np.array([1,2], dtype=np.int64))\n",
    "]"
   ]
  },
  {
   "cell_type": "code",
   "execution_count": 6,
   "metadata": {},
   "outputs": [
    {
     "name": "stderr",
     "output_type": "stream",
     "text": [
      "Reading .csv files: 1it [00:00,  1.50it/s]\n",
      "/mnt/src/utils/preprocessing.py:132: RuntimeWarning: divide by zero encountered in divide\n",
      "  return np.where(x_max != x_min, (features - x_min) / (x_max - x_min), 1).astype(dtype=np.float32)\n",
      "/mnt/src/utils/preprocessing.py:132: RuntimeWarning: invalid value encountered in divide\n",
      "  return np.where(x_max != x_min, (features - x_min) / (x_max - x_min), 1).astype(dtype=np.float32)\n"
     ]
    },
    {
     "name": "stdout",
     "output_type": "stream",
     "text": [
      "Preprocessing dataframe\n",
      "Reshaping dataframe for learning\n"
     ]
    }
   ],
   "source": [
    "data_folder = Path(\"/mnt/data/\")\n",
    "train_set, test_set, validation_set, visualization_set = read_trajectory_datasets(data_folder, 0.8, 0.15, 0.045, 0.005, 64, \n",
    "                                                                                  feature_columns=feature_columns, label_features=label_features, normalized_features=normalized_features)"
   ]
  },
  {
   "cell_type": "code",
   "execution_count": 7,
   "metadata": {},
   "outputs": [
    {
     "name": "stdout",
     "output_type": "stream",
     "text": [
      "Data shape 16 / 3 of total 1678 data rows!\n"
     ]
    }
   ],
   "source": [
    "input_shape, output_shape = 16, 3\n",
    "print(f\"Data shape {input_shape} / {output_shape} of total {len(train_set) + len(validation_set) + len(test_set) + len(visualization_set)} data rows!\")"
   ]
  },
  {
   "cell_type": "markdown",
   "metadata": {},
   "source": [
    "## Load parameter, functions and dataloader"
   ]
  },
  {
   "cell_type": "code",
   "execution_count": 8,
   "metadata": {},
   "outputs": [],
   "source": [
    "from utils.file_io import define_dataloader_from_subset\n",
    "import os\n",
    "import ast\n",
    "from dotenv import load_dotenv"
   ]
  },
  {
   "cell_type": "code",
   "execution_count": 9,
   "metadata": {},
   "outputs": [],
   "source": [
    "model_path = Path(\"/mnt/models/lstm/\").absolute()"
   ]
  },
  {
   "cell_type": "code",
   "execution_count": 10,
   "metadata": {},
   "outputs": [],
   "source": [
    "dotenv_path = model_path / \".env\"\n",
    "load_dotenv(dotenv_path=dotenv_path)\n",
    "\n",
    "learning_rate = float(os.getenv(\"LEARNING_RATE\"))\n",
    "batch_size = int(os.getenv(\"BATCH_SIZE\"))\n",
    "optimizer = os.getenv(\"OPTIMIZER\")\n",
    "n_layers = int(os.getenv(\"N_LAYERS\"))\n",
    "hidden_layers_proj_size = ast.literal_eval(os.getenv(\"HIDDEN_LAYERS_PROJ_SIZE\"))\n",
    "lstm_dropout = float(os.getenv(\"LSTM_DROPOUT\"))\n",
    "final_dropout = float(os.getenv(\"FINAL_DROPOUT\"))\n",
    "num_epochs = 5"
   ]
  },
  {
   "cell_type": "code",
   "execution_count": 11,
   "metadata": {},
   "outputs": [],
   "source": [
    "train_dataloader, validation_dataloader, test_dataloader = define_dataloader_from_subset(train_set, validation_set, test_set, batch_size=batch_size)"
   ]
  },
  {
   "cell_type": "markdown",
   "metadata": {},
   "source": [
    "## Load and Train the model"
   ]
  },
  {
   "cell_type": "code",
   "execution_count": 12,
   "metadata": {},
   "outputs": [],
   "source": [
    "from models.lstm import DecoderLSTM, train\n",
    "from utils.loss_functions import get_loss_function\n",
    "from utils.optimizer import get_optimizer_function\n",
    "from utils.early_stopping import EarlyStopping"
   ]
  },
  {
   "cell_type": "code",
   "execution_count": 13,
   "metadata": {},
   "outputs": [
    {
     "name": "stderr",
     "output_type": "stream",
     "text": [
      "/usr/local/lib/python3.10/dist-packages/torch/nn/modules/rnn.py:82: UserWarning: dropout option adds dropout after all but last recurrent layer, so non-zero dropout expects num_layers greater than 1, but got dropout=0.0668086520310816 and num_layers=1\n",
      "  warnings.warn(\"dropout option adds dropout after all but last \"\n"
     ]
    }
   ],
   "source": [
    "model = DecoderLSTM(input_shape, hidden_layers_proj_size[0], output_shape, lstm_dropout, \n",
    "                    final_dropout, n_layers, proj_size=hidden_layers_proj_size[1])\n",
    "optimizer = get_optimizer_function(optimizer, model, learning_rate)\n",
    "loss_function = get_loss_function()"
   ]
  },
  {
   "cell_type": "code",
   "execution_count": 14,
   "metadata": {},
   "outputs": [],
   "source": [
    "early_stopping = EarlyStopping(10)"
   ]
  },
  {
   "cell_type": "code",
   "execution_count": 15,
   "metadata": {},
   "outputs": [
    {
     "name": "stdout",
     "output_type": "stream",
     "text": [
      "Epoch: 1\n",
      "Loss on train: 0, loss on validation: 16.394243240356445\n",
      "Epoch: 2\n",
      "Loss on train: 0, loss on validation: 15.448664665222168\n",
      "Epoch: 3\n",
      "Loss on train: 0, loss on validation: 14.329992294311523\n",
      "Epoch: 4\n",
      "Loss on train: 0, loss on validation: 13.303308486938477\n",
      "Epoch: 5\n",
      "Loss on train: 0, loss on validation: 12.498645782470703\n"
     ]
    }
   ],
   "source": [
    "_ = train(num_epochs, train_dataloader, validation_dataloader, model, loss_function, optimizer, model_path, device, early_stopping=early_stopping)"
   ]
  },
  {
   "cell_type": "markdown",
   "metadata": {},
   "source": [
    "## Evaluation"
   ]
  },
  {
   "cell_type": "code",
   "execution_count": 16,
   "metadata": {},
   "outputs": [],
   "source": [
    "from utils.evaluation import compute_losses_from, compute_sliding_window_predictions\n",
    "from utils.visualization import create_plot_for_dimensions"
   ]
  },
  {
   "cell_type": "code",
   "execution_count": 17,
   "metadata": {},
   "outputs": [
    {
     "data": {
      "text/plain": [
       "<All keys matched successfully>"
      ]
     },
     "execution_count": 17,
     "metadata": {},
     "output_type": "execute_result"
    }
   ],
   "source": [
    "model_state_dict = torch.load(model_path / \"checkpoint.pt\")\n",
    "model.load_state_dict(model_state_dict)"
   ]
  },
  {
   "cell_type": "code",
   "execution_count": 18,
   "metadata": {},
   "outputs": [
    {
     "data": {
      "text/plain": [
       "DecoderLSTM(\n",
       "  (lstm): LSTM(16, 5, dropout=0.0668086520310816)\n",
       "  (final_dropout): Dropout(p=0.0973320690374255, inplace=False)\n",
       "  (out): Linear(in_features=5, out_features=3, bias=True)\n",
       ")"
      ]
     },
     "execution_count": 18,
     "metadata": {},
     "output_type": "execute_result"
    }
   ],
   "source": [
    "model.eval()"
   ]
  },
  {
   "cell_type": "markdown",
   "metadata": {},
   "source": [
    "## 1. Analysis: Compute test loss"
   ]
  },
  {
   "cell_type": "code",
   "execution_count": 19,
   "metadata": {},
   "outputs": [
    {
     "name": "stdout",
     "output_type": "stream",
     "text": [
      "The mean squared error of the loaded model on test is: 15.007464408874512\n"
     ]
    }
   ],
   "source": [
    "y, y_true = compute_sliding_window_predictions(test_dataloader, model, 'cpu')\n",
    "test_losses = compute_losses_from(y, y_true, get_loss_function())\n",
    "print(f\"The mean squared error of the loaded model on test is: {test_losses.mean()}\")"
   ]
  },
  {
   "cell_type": "markdown",
   "metadata": {},
   "source": [
    "## 2. Analysis: Show Cable lowest points"
   ]
  },
  {
   "cell_type": "code",
   "execution_count": 20,
   "metadata": {},
   "outputs": [],
   "source": [
    "visualization_dataloader = DataLoader(visualization_set, batch_size=batch_size, shuffle=False)"
   ]
  },
  {
   "cell_type": "code",
   "execution_count": 21,
   "metadata": {},
   "outputs": [],
   "source": [
    "y, y_true = compute_sliding_window_predictions(visualization_dataloader, model, 'cpu')"
   ]
  },
  {
   "cell_type": "code",
   "execution_count": 24,
   "metadata": {},
   "outputs": [
    {
     "data": {
      "image/png": "[encoded data removed]",
      "text/plain": [
       "<Figure size 800x400 with 6 Axes>"
      ]
     },
     "metadata": {},
     "output_type": "display_data"
    }
   ],
   "source": [
    "plot = create_plot_for_dimensions(y.numpy(), y_true.numpy(), size=4)\n",
    "plot.show()"
   ]
  },
  {
   "cell_type": "code",
   "execution_count": 23,
   "metadata": {},
   "outputs": [
    {
     "data": {
      "text/plain": [
       "<Figure size 640x480 with 0 Axes>"
      ]
     },
     "metadata": {},
     "output_type": "display_data"
    }
   ],
   "source": [
    "plot.savefig(model_path / \"predictions.png\")"
   ]
  }
 ],
 "metadata": {
  "kernelspec": {
   "display_name": "Python 3 (ipykernel)",
   "language": "python",
   "name": "python3"
  },
  "language_info": {
   "codemirror_mode": {
    "name": "ipython",
    "version": 3
   },
   "file_extension": ".py",
   "mimetype": "text/x-python",
   "name": "python",
   "nbconvert_exporter": "python",
   "pygments_lexer": "ipython3",
   "version": "3.10.12"
  }
 },
 "nbformat": 4,
 "nbformat_minor": 2
}
