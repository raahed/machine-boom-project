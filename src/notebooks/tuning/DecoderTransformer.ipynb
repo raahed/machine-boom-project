{
 "cells": [
  {
   "cell_type": "markdown",
   "metadata": {},
   "source": [
    "# Model 4.2: Encoder-Decoder Model"
   ]
  },
  {
   "cell_type": "code",
   "execution_count": null,
   "metadata": {},
   "outputs": [],
   "source": [
    "import torch\n",
    "import numpy as np"
   ]
  },
  {
   "cell_type": "code",
   "execution_count": null,
   "metadata": {},
   "outputs": [],
   "source": [
    "device = (\"cuda\" if torch.cuda.is_available() else \"cpu\")\n",
    "print(f\"Using {device} device\")"
   ]
  },
  {
   "cell_type": "code",
   "execution_count": null,
   "metadata": {},
   "outputs": [],
   "source": [
    "# Import local modules from 'src/utils' as package 'utils'\n",
    "import sys; sys.path.insert(0, '/mnt/src')"
   ]
  },
  {
   "cell_type": "markdown",
   "metadata": {},
   "source": [
    "## Load ParallelTrajectoriesDatasets from Pretraining"
   ]
  },
  {
   "cell_type": "code",
   "execution_count": null,
   "metadata": {},
   "outputs": [],
   "source": [
    "from pathlib import Path"
   ]
  },
  {
   "cell_type": "code",
   "execution_count": null,
   "metadata": {},
   "outputs": [],
   "source": [
    "data_path = Path(\"/mnt/models/two_stage/hpo/data/\")\n",
    "train_path = data_path / \"train_set.pt\"\n",
    "validation_path = data_path / \"validation_set.pt\"\n",
    "train_set = torch.load(train_path)\n",
    "validation_set = torch.load(validation_path)"
   ]
  },
  {
   "cell_type": "code",
   "execution_count": null,
   "metadata": {},
   "outputs": [],
   "source": [
    "features, labels = train_set[0] \n",
    "print(features.shape, labels.shape)\n",
    "input_shape, output_shape = features.shape[-1], labels.shape[-1]\n",
    "num_parallel_trajectories = features.shape[0]\n",
    "print(f\"Data shape {input_shape} / {output_shape} of total {len(train_set) + len(validation_set)} data rows!\")"
   ]
  },
  {
   "cell_type": "markdown",
   "metadata": {},
   "source": [
    "## Train the best parallel encoder model"
   ]
  },
  {
   "cell_type": "markdown",
   "metadata": {},
   "source": [
    "## Load parameter, functions and dataloader"
   ]
  },
  {
   "cell_type": "code",
   "execution_count": null,
   "metadata": {},
   "outputs": [],
   "source": [
    "import os\n",
    "import ast\n",
    "\n",
    "from dotenv import load_dotenv\n",
    "from torch.utils.data import DataLoader"
   ]
  },
  {
   "cell_type": "code",
   "execution_count": null,
   "metadata": {},
   "outputs": [],
   "source": [
    "encoder_model_path = Path(\"/mnt/models/two_stage/encoder\")"
   ]
  },
  {
   "cell_type": "code",
   "execution_count": null,
   "metadata": {},
   "outputs": [],
   "source": [
    "dotenv_path = encoder_model_path / \".env\"\n",
    "load_dotenv(dotenv_path=dotenv_path)\n",
    "\n",
    "batch_size = int(os.getenv(\"BATCH_SIZE\"))\n",
    "optimizer = os.getenv(\"OPTIMIZER\")\n",
    "activation = os.getenv(\"ACTIVATION\")\n",
    "num_encoder_layer = int(os.getenv(\"NUM_ENCODER_LAYER\"))\n",
    "pos_encoder_dropout = float(os.getenv(\"POS_ENCODER_DROPOUT\"))\n",
    "transformer_dropout = float(os.getenv(\"TRANSFORMER_DROPOUT\"))\n",
    "feedforward_dim = int(os.getenv(\"FEEDFORWARD_DIM\"))\n",
    "warmup_steps = int(os.getenv(\"WARMUP_STEPS\"))\n",
    "model_dim_num_heads_projection = ast.literal_eval(os.getenv(\"MODEL_DIM_NUM_HEADS_PROJECTION\"))\n",
    "num_epochs = int(os.getenv(\"NUM_EPOCHS\"))"
   ]
  },
  {
   "cell_type": "code",
   "execution_count": null,
   "metadata": {},
   "outputs": [],
   "source": [
    "train_dataloader = DataLoader(train_set, batch_size=batch_size, shuffle = True)\n",
    "validation_dataloader = DataLoader(validation_set, batch_size=batch_size, shuffle = True)"
   ]
  },
  {
   "cell_type": "markdown",
   "metadata": {},
   "source": [
    "## Load and Train the model"
   ]
  },
  {
   "cell_type": "code",
   "execution_count": null,
   "metadata": {},
   "outputs": [],
   "source": [
    "from models.parallel_encoder_model import ParallelEncoderModel\n",
    "from models import parallel_encoder_model\n",
    "from utils.loss_functions import get_loss_function\n",
    "from utils.optimizer import get_optimizer_function, get_learning_rate_scheduler\n",
    "from utils.activation import get_activation\n",
    "from utils.file_io import load_downprojection\n",
    "from utils.early_stopping import EarlyStopping"
   ]
  },
  {
   "cell_type": "code",
   "execution_count": null,
   "metadata": {},
   "outputs": [],
   "source": [
    "activation = get_activation(activation)\n",
    "\n",
    "downprojection_path = encoder_model_path.parent / \"downprojections\" / f\"{model_dim_num_heads_projection[2]}_projection.sav\"\n",
    "downprojection = load_downprojection(downprojection_path)"
   ]
  },
  {
   "cell_type": "code",
   "execution_count": null,
   "metadata": {},
   "outputs": [],
   "source": [
    "encoder = ParallelEncoderModel(\n",
    "    num_decoders=num_parallel_trajectories,\n",
    "    num_heads=model_dim_num_heads_projection[1],\n",
    "    model_dim=model_dim_num_heads_projection[0],\n",
    "    feedforward_hidden_dim=feedforward_dim,\n",
    "    output_dim=model_dim_num_heads_projection[0],\n",
    "    num_encoder_layers=num_encoder_layer,\n",
    "    transformer_dropout=transformer_dropout,\n",
    "    pos_encoder_dropout=pos_encoder_dropout,\n",
    "    activation=activation,\n",
    "    projection_function=downprojection\n",
    ")"
   ]
  },
  {
   "cell_type": "code",
   "execution_count": null,
   "metadata": {},
   "outputs": [],
   "source": [
    "optimizer = get_optimizer_function(optimizer, encoder, 1)\n",
    "lr_scheduler = get_learning_rate_scheduler(optimizer, model_dim_num_heads_projection[0], warmup_steps)\n",
    "loss_function = get_loss_function()"
   ]
  },
  {
   "cell_type": "code",
   "execution_count": null,
   "metadata": {},
   "outputs": [],
   "source": [
    "early_stopping = EarlyStopping(10)"
   ]
  },
  {
   "cell_type": "code",
   "execution_count": null,
   "metadata": {},
   "outputs": [],
   "source": [
    "_, validation_losses = parallel_encoder_model.train(num_epochs, train_dataloader, validation_dataloader, encoder, loss_function, optimizer, lr_scheduler, encoder_model_path, device, early_stopping=early_stopping)"
   ]
  },
  {
   "cell_type": "markdown",
   "metadata": {},
   "source": [
    "## Train the combined model with optuna hyperparameter tuning"
   ]
  },
  {
   "cell_type": "code",
   "execution_count": null,
   "metadata": {},
   "outputs": [],
   "source": [
    "decoder_model_path = Path(\"/mnt/models/two_stage/decoder/\")\n",
    "decoder_model_path.mkdir(parents=True, exist_ok=True)\n",
    "tune_path = decoder_model_path / \"tune\"\n",
    "tune_path.mkdir(exist_ok=True)"
   ]
  },
  {
   "cell_type": "code",
   "execution_count": null,
   "metadata": {},
   "outputs": [],
   "source": [
    "from models.transformer import TransformerEncoderModel\n",
    "from models.parallel_decoder_model import TransformerDecoderModel, TransformerModel\n",
    "from models import parallel_decoder_model\n",
    "\n",
    "from ray import tune, train as ray_train\n",
    "from ray.tune.schedulers import ASHAScheduler\n",
    "from ray.tune.search.optuna import OptunaSearch\n",
    "from typing import Dict\n",
    "from utils.cluster import attach_ray, disconnect_ray\n",
    "from utils.optimizer import get_optimizer_function, get_learning_rate_scheduler\n",
    "from utils.activation import get_activation\n",
    "from utils.loss_functions import get_loss_function\n",
    "from torch.utils.data import Dataset, DataLoader\n",
    "import random; random.seed(0)"
   ]
  },
  {
   "cell_type": "code",
   "execution_count": null,
   "metadata": {},
   "outputs": [],
   "source": [
    "def parameter_train(parameter: Dict, train_epochs: int, train_set: Dataset, validation_set: Dataset,\n",
    "                    encoder: TransformerEncoderModel, device: torch.device) -> None:\n",
    "\n",
    "    # Determ device on the actual worker used for the trail\n",
    "    device = (\"cuda\" if torch.cuda.is_available() else \"cpu\")\n",
    "\n",
    "    if device != \"cuda\":\n",
    "        print(\"No cuda device found!\")\n",
    "    train_dataloader = DataLoader(train_set, batch_size=parameter[\"batch_size\"], shuffle = True)\n",
    "    validation_dataloader = DataLoader(validation_set, batch_size=parameter[\"batch_size\"], shuffle = True)\n",
    "\n",
    "    activation = get_activation(parameter[\"activation\"])\n",
    "\n",
    "    decoder = TransformerDecoderModel(\n",
    "        model_dim = parameter[\"model_dim\"][0],\n",
    "        num_heads = parameter[\"model_dim\"][1],\n",
    "        feedforward_dim = parameter[\"feedforward_dim\"],\n",
    "        num_decoder_layers = parameter[\"num_decoder_layer\"],\n",
    "        pos_encoder = encoder.pos_encoder,\n",
    "        transformer_dropout = parameter[\"transformer_dropout\"],\n",
    "        activation = activation\n",
    "    )\n",
    "\n",
    "    model = TransformerModel(encoder, decoder)\n",
    "\n",
    "    # The model needs to be on the device used for training before instance the optimizer\n",
    "    model.to(device)\n",
    "\n",
    "    optimizer = get_optimizer_function(parameter[\"optimizer\"], model, 1)\n",
    "    lr_scheduler = get_learning_rate_scheduler(optimizer, parameter[\"model_dim\"][0], parameter[\"warmup_steps\"])\n",
    "    loss_function = get_loss_function()\n",
    "\n",
    "    _ = parallel_decoder_model.train(train_epochs, train_dataloader, validation_dataloader, model, loss_function, optimizer, lr_scheduler, None, device, report_interval=50, tune=True)"
   ]
  },
  {
   "cell_type": "code",
   "execution_count": null,
   "metadata": {},
   "outputs": [],
   "source": [
    "num_samples = 2000\n",
    "num_epochs = 750\n",
    "grace_period = 5"
   ]
  },
  {
   "cell_type": "code",
   "execution_count": null,
   "metadata": {},
   "outputs": [],
   "source": [
    "model_dim_params = []\n",
    "\n",
    "n_neighbors = [3, 5, 7, 10, 15]\n",
    "model_dim = [output_shape]\n",
    "\n",
    "for d in model_dim:\n",
    "    num_heads = []\n",
    "    for i in range(2, d + 1):\n",
    "        if d % i == 0: num_heads.append(i)\n",
    "\n",
    "        for h in num_heads:\n",
    "            model_dim_params.append((d, h))"
   ]
  },
  {
   "cell_type": "code",
   "execution_count": null,
   "metadata": {},
   "outputs": [],
   "source": [
    "start, end = np.log2(256), np.log2(2048)\n",
    "num_values = 10\n",
    "feedforward_dim = [int(2 ** (start + i / (num_values - 1) * (end - start))) for i in range(num_values)]"
   ]
  },
  {
   "cell_type": "code",
   "execution_count": null,
   "metadata": {},
   "outputs": [],
   "source": [
    "parameter_space = {\n",
    "    \"model_dim\": tune.choice(model_dim_params),\n",
    "    \"batch_size\": tune.choice(list(range(64, 256, 16))),\n",
    "    \"warmup_steps\": tune.choice(list(range(1000, 4000, 200))),\n",
    "    \"feedforward_dim\": tune.choice(feedforward_dim),\n",
    "    \"num_decoder_layer\": tune.choice(list(range(1, 10 + 1, 2))),\n",
    "    \"transformer_dropout\": tune.loguniform(0.05, 0.6, base = 2),\n",
    "    \"pos_encoder_dropout\": tune.loguniform(0.05, 0.6, base = 2),\n",
    "    \"optimizer\": tune.choice([\"adam\", \"adamw\"]),\n",
    "    \"activation\": tune.choice([\"relu\", \"gelu\"]),\n",
    "}"
   ]
  },
  {
   "cell_type": "code",
   "execution_count": null,
   "metadata": {},
   "outputs": [],
   "source": [
    "scheduler = ASHAScheduler(\n",
    "    metric = \"loss\",\n",
    "    mode = \"min\",\n",
    "    max_t = num_epochs,\n",
    "    grace_period = grace_period\n",
    ")"
   ]
  },
  {
   "cell_type": "code",
   "execution_count": null,
   "metadata": {},
   "outputs": [],
   "source": [
    "search_alg = OptunaSearch(\n",
    "    metric=\"loss\",\n",
    "    mode=\"min\"\n",
    ") "
   ]
  },
  {
   "cell_type": "code",
   "execution_count": null,
   "metadata": {},
   "outputs": [],
   "source": [
    "attach_ray(use_cluster = True)"
   ]
  },
  {
   "cell_type": "code",
   "execution_count": null,
   "metadata": {},
   "outputs": [],
   "source": [
    "ray_resources_manager = tune.with_resources(\n",
    "    trainable=lambda params: parameter_train(params, num_epochs, train_set, validation_set, encoder.encoder, device),\n",
    "    # See: https://stackoverflow.com/questions/58967793/what-is-the-way-to-make-tune-run-parallel-trials-across-multiple-gpus\n",
    "    resources={ \"cpu\": 6, \"gpu\": 0.25 }\n",
    ")\n",
    "\n",
    "tuner = tune.Tuner(\n",
    "    ray_resources_manager,\n",
    "    param_space=parameter_space,\n",
    "    tune_config=tune.TuneConfig(\n",
    "        scheduler=scheduler,\n",
    "        search_alg=search_alg,\n",
    "         num_samples=num_samples\n",
    "    )\n",
    ")"
   ]
  },
  {
   "cell_type": "code",
   "execution_count": null,
   "metadata": {},
   "outputs": [],
   "source": [
    "results = tuner.fit()"
   ]
  },
  {
   "cell_type": "code",
   "execution_count": null,
   "metadata": {},
   "outputs": [],
   "source": [
    "disconnect_ray()"
   ]
  },
  {
   "cell_type": "code",
   "execution_count": null,
   "metadata": {},
   "outputs": [],
   "source": [
    "# Save as csv file\n",
    "result_grid = results.get_dataframe()\n",
    "result_grid.to_csv(tune_path / \"trail_grid_.csv\")"
   ]
  },
  {
   "cell_type": "code",
   "execution_count": null,
   "metadata": {},
   "outputs": [],
   "source": [
    "best_result = result_grid.iloc[result_grid['loss'].idxmin()].to_dict()\n",
    "trail_id = best_result['trial_id']\n",
    "\n",
    "print(f\"Trail ID from the best run: {trail_id}\")"
   ]
  },
  {
   "cell_type": "code",
   "execution_count": null,
   "metadata": {},
   "outputs": [],
   "source": [
    "print(f\"Best trail by loss value {best_result['loss']}\", \"\\n------\")\n",
    "for key in best_result:\n",
    "    if 'config' in key:\n",
    "        print(f\"Best trail: {key} value {best_result[key]}\")"
   ]
  }
 ],
 "metadata": {
  "kernelspec": {
   "display_name": "Python 3 (ipykernel)",
   "language": "python",
   "name": "python3"
  },
  "language_info": {
   "codemirror_mode": {
    "name": "ipython",
    "version": 3
   },
   "file_extension": ".py",
   "mimetype": "text/x-python",
   "name": "python",
   "nbconvert_exporter": "python",
   "pygments_lexer": "ipython3",
   "version": "3.10.12"
  }
 },
 "nbformat": 4,
 "nbformat_minor": 2
}
