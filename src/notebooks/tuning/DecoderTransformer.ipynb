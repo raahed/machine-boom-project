{
 "cells": [
  {
   "cell_type": "markdown",
   "metadata": {},
   "source": [
    "# Model 4.2: Encoder-Decoder Model"
   ]
  },
  {
   "cell_type": "code",
   "execution_count": 1,
   "metadata": {},
   "outputs": [],
   "source": [
    "import torch\n",
    "import numpy as np"
   ]
  },
  {
   "cell_type": "code",
   "execution_count": 2,
   "metadata": {},
   "outputs": [
    {
     "name": "stdout",
     "output_type": "stream",
     "text": [
      "Using cuda device\n"
     ]
    }
   ],
   "source": [
    "device = (\"cuda\" if torch.cuda.is_available() else \"cpu\")\n",
    "print(f\"Using {device} device\")"
   ]
  },
  {
   "cell_type": "code",
   "execution_count": 3,
   "metadata": {},
   "outputs": [],
   "source": [
    "# Import local modules from 'src/utils' as package 'utils'\n",
    "import sys; sys.path.insert(0, '/mnt/src')"
   ]
  },
  {
   "cell_type": "markdown",
   "metadata": {},
   "source": [
    "## Load ParallelTrajectoriesDatasets from Pretraining"
   ]
  },
  {
   "cell_type": "code",
   "execution_count": 4,
   "metadata": {},
   "outputs": [],
   "source": [
    "from pathlib import Path"
   ]
  },
  {
   "cell_type": "code",
   "execution_count": 5,
   "metadata": {},
   "outputs": [],
   "source": [
    "data_path = Path(\"/mnt/models/two_stage/hpo/data/\")\n",
    "train_path = data_path / \"train_set.pt\"\n",
    "validation_path = data_path / \"validation_set.pt\"\n",
    "train_set = torch.load(train_path)\n",
    "validation_set = torch.load(validation_path)"
   ]
  },
  {
   "cell_type": "code",
   "execution_count": 6,
   "metadata": {},
   "outputs": [
    {
     "name": "stdout",
     "output_type": "stream",
     "text": [
      "torch.Size([1, 256, 16]) torch.Size([1, 256, 3])\n",
      "Data shape 16 / 3 of total 40 data rows!\n"
     ]
    }
   ],
   "source": [
    "features, labels = train_set[0] \n",
    "print(features.shape, labels.shape)\n",
    "input_shape, output_shape = features.shape[-1], labels.shape[-1]\n",
    "num_parallel_trajectories = features.shape[0]\n",
    "print(f\"Data shape {input_shape} / {output_shape} of total {len(train_set) + len(validation_set)} data rows!\")"
   ]
  },
  {
   "cell_type": "markdown",
   "metadata": {},
   "source": [
    "## Train the best parallel encoder model"
   ]
  },
  {
   "cell_type": "markdown",
   "metadata": {},
   "source": [
    "## Load parameter, functions and dataloader"
   ]
  },
  {
   "cell_type": "code",
   "execution_count": 7,
   "metadata": {},
   "outputs": [],
   "source": [
    "import os\n",
    "import ast\n",
    "\n",
    "from dotenv import load_dotenv\n",
    "from torch.utils.data import DataLoader"
   ]
  },
  {
   "cell_type": "code",
   "execution_count": 8,
   "metadata": {},
   "outputs": [],
   "source": [
    "encoder_model_path = Path(\"/mnt/models/two_stage/encoder\")"
   ]
  },
  {
   "cell_type": "code",
   "execution_count": 9,
   "metadata": {},
   "outputs": [],
   "source": [
    "dotenv_path = encoder_model_path / \".env\"\n",
    "load_dotenv(dotenv_path=dotenv_path)\n",
    "\n",
    "batch_size = int(os.getenv(\"BATCH_SIZE\"))\n",
    "optimizer = os.getenv(\"OPTIMIZER\")\n",
    "activation = os.getenv(\"ACTIVATION\")\n",
    "num_encoder_layer = int(os.getenv(\"NUM_ENCODER_LAYER\"))\n",
    "pos_encoder_dropout = float(os.getenv(\"POS_ENCODER_DROPOUT\"))\n",
    "transformer_dropout = float(os.getenv(\"TRANSFORMER_DROPOUT\"))\n",
    "feedforward_dim = int(os.getenv(\"FEEDFORWARD_DIM\"))\n",
    "warmup_steps = int(os.getenv(\"WARMUP_STEPS\"))\n",
    "model_dim_num_heads_projection = ast.literal_eval(os.getenv(\"MODEL_DIM_NUM_HEADS_PROJECTION\"))\n",
    "num_epochs = int(os.getenv(\"NUM_EPOCHS\"))"
   ]
  },
  {
   "cell_type": "code",
   "execution_count": 10,
   "metadata": {},
   "outputs": [],
   "source": [
    "train_dataloader = DataLoader(train_set, batch_size=batch_size, shuffle = True)\n",
    "validation_dataloader = DataLoader(validation_set, batch_size=batch_size, shuffle = True)"
   ]
  },
  {
   "cell_type": "markdown",
   "metadata": {},
   "source": [
    "## Load and Train the model"
   ]
  },
  {
   "cell_type": "code",
   "execution_count": 11,
   "metadata": {},
   "outputs": [],
   "source": [
    "from models.parallel_encoder_model import ParallelEncoderModel\n",
    "from models import parallel_encoder_model\n",
    "from utils.loss_functions import get_loss_function\n",
    "from utils.optimizer import get_optimizer_function, get_learning_rate_scheduler\n",
    "from utils.activation import get_activation\n",
    "from utils.file_io import load_downprojection\n",
    "from utils.early_stopping import EarlyStopping"
   ]
  },
  {
   "cell_type": "code",
   "execution_count": 12,
   "metadata": {},
   "outputs": [],
   "source": [
    "activation = get_activation(activation)\n",
    "\n",
    "downprojection_path = encoder_model_path.parent / \"downprojections\" / f\"{model_dim_num_heads_projection[2]}_projection.sav\"\n",
    "downprojection = load_downprojection(downprojection_path)"
   ]
  },
  {
   "cell_type": "code",
   "execution_count": 13,
   "metadata": {},
   "outputs": [
    {
     "name": "stderr",
     "output_type": "stream",
     "text": [
      "/usr/local/lib/python3.10/dist-packages/torch/nn/modules/transformer.py:282: UserWarning: enable_nested_tensor is True, but self.use_nested_tensor is False because encoder_layer.self_attn.batch_first was not True(use batch_first for better inference performance)\n",
      "  warnings.warn(f\"enable_nested_tensor is True, but self.use_nested_tensor is False because {why_not_sparsity_fast_path}\")\n"
     ]
    }
   ],
   "source": [
    "encoder = ParallelEncoderModel(\n",
    "    num_decoders=num_parallel_trajectories,\n",
    "    num_heads=model_dim_num_heads_projection[1],\n",
    "    model_dim=model_dim_num_heads_projection[0],\n",
    "    feedforward_hidden_dim=feedforward_dim,\n",
    "    output_dim=model_dim_num_heads_projection[0],\n",
    "    num_encoder_layers=num_encoder_layer,\n",
    "    transformer_dropout=transformer_dropout,\n",
    "    pos_encoder_dropout=pos_encoder_dropout,\n",
    "    activation=activation,\n",
    "    projection_function=downprojection\n",
    ")"
   ]
  },
  {
   "cell_type": "code",
   "execution_count": 14,
   "metadata": {},
   "outputs": [],
   "source": [
    "optimizer = get_optimizer_function(optimizer, encoder, 1)\n",
    "lr_scheduler = get_learning_rate_scheduler(optimizer, model_dim_num_heads_projection[0], warmup_steps)\n",
    "loss_function = get_loss_function()"
   ]
  },
  {
   "cell_type": "code",
   "execution_count": 15,
   "metadata": {},
   "outputs": [],
   "source": [
    "early_stopping = EarlyStopping(10)"
   ]
  },
  {
   "cell_type": "code",
   "execution_count": 16,
   "metadata": {},
   "outputs": [
    {
     "name": "stdout",
     "output_type": "stream",
     "text": [
      "Epoch: 1\n",
      "Loss on train: 0, loss on validation: 0.7826835513114929\n",
      "Epoch: 2\n",
      "Loss on train: 0, loss on validation: 0.7828028202056885\n",
      "Epoch: 3\n",
      "Loss on train: 0, loss on validation: 0.7830025553703308\n",
      "Epoch: 4\n",
      "Loss on train: 0, loss on validation: 0.7832890748977661\n",
      "Epoch: 5\n",
      "Loss on train: 0, loss on validation: 0.7835689783096313\n",
      "Epoch: 6\n",
      "Loss on train: 0, loss on validation: 0.783723771572113\n",
      "Epoch: 7\n",
      "Loss on train: 0, loss on validation: 0.7837678790092468\n",
      "Epoch: 8\n",
      "Loss on train: 0, loss on validation: 0.7834810614585876\n",
      "Epoch: 9\n",
      "Loss on train: 0, loss on validation: 0.7833141684532166\n",
      "Epoch: 10\n",
      "Loss on train: 0, loss on validation: 0.7832285761833191\n"
     ]
    }
   ],
   "source": [
    "_, validation_losses = parallel_encoder_model.train(num_epochs, train_dataloader, validation_dataloader, encoder, loss_function, optimizer, lr_scheduler, encoder_model_path, device, early_stopping=early_stopping)"
   ]
  },
  {
   "cell_type": "markdown",
   "metadata": {},
   "source": [
    "## Train the combined model with optuna hyperparameter tuning"
   ]
  },
  {
   "cell_type": "code",
   "execution_count": 17,
   "metadata": {},
   "outputs": [],
   "source": [
    "decoder_model_path = Path(\"/mnt/models/two_stage/decoder/\")\n",
    "decoder_model_path.mkdir(parents=True, exist_ok=True)\n",
    "tune_path = decoder_model_path / \"tune\"\n",
    "tune_path.mkdir(exist_ok=True)"
   ]
  },
  {
   "cell_type": "code",
   "execution_count": 18,
   "metadata": {},
   "outputs": [],
   "source": [
    "from models.transformer import TransformerEncoderModel\n",
    "from models.parallel_decoder_model import TransformerDecoderModel, TransformerModel\n",
    "from models import parallel_decoder_model\n",
    "\n",
    "from ray import tune, train as ray_train\n",
    "from ray.tune.schedulers import ASHAScheduler\n",
    "from ray.tune.search.optuna import OptunaSearch\n",
    "from typing import Dict\n",
    "from utils.cluster import attach_ray, disconnect_ray\n",
    "from utils.optimizer import get_optimizer_function, get_learning_rate_scheduler\n",
    "from utils.activation import get_activation\n",
    "from utils.loss_functions import get_loss_function\n",
    "from torch.utils.data import Dataset, DataLoader\n",
    "import random; random.seed(0)"
   ]
  },
  {
   "cell_type": "code",
   "execution_count": 19,
   "metadata": {},
   "outputs": [],
   "source": [
    "def parameter_train(parameter: Dict, train_epochs: int, train_set: Dataset, validation_set: Dataset,\n",
    "                    encoder: TransformerEncoderModel, device: torch.device) -> None:\n",
    "\n",
    "    # Determ device on the actual worker used for the trail\n",
    "    device = (\"cuda\" if torch.cuda.is_available() else \"cpu\")\n",
    "\n",
    "    if device != \"cuda\":\n",
    "        print(\"No cuda device found!\")\n",
    "    train_dataloader = DataLoader(train_set, batch_size=parameter[\"batch_size\"], shuffle = True)\n",
    "    validation_dataloader = DataLoader(validation_set, batch_size=parameter[\"batch_size\"], shuffle = True)\n",
    "\n",
    "    activation = get_activation(parameter[\"activation\"])\n",
    "\n",
    "    decoder = TransformerDecoderModel(\n",
    "        model_dim = parameter[\"model_dim\"][0],\n",
    "        num_heads = parameter[\"model_dim\"][1],\n",
    "        feedforward_dim = parameter[\"feedforward_dim\"],\n",
    "        num_decoder_layers = parameter[\"num_decoder_layer\"],\n",
    "        pos_encoder = encoder.pos_encoder,\n",
    "        transformer_dropout = parameter[\"transformer_dropout\"],\n",
    "        activation = activation\n",
    "    )\n",
    "\n",
    "    model = TransformerModel(encoder, decoder)\n",
    "\n",
    "    # The model needs to be on the device used for training before instance the optimizer\n",
    "    model.to(device)\n",
    "\n",
    "    optimizer = get_optimizer_function(parameter[\"optimizer\"], model, 1)\n",
    "    lr_scheduler = get_learning_rate_scheduler(optimizer, parameter[\"model_dim\"][0], parameter[\"warmup_steps\"])\n",
    "    loss_function = get_loss_function()\n",
    "\n",
    "    _ = parallel_decoder_model.train(train_epochs, train_dataloader, validation_dataloader, model, loss_function, optimizer, lr_scheduler, None, device, report_interval=50, tune=True)"
   ]
  },
  {
   "cell_type": "code",
   "execution_count": 20,
   "metadata": {},
   "outputs": [],
   "source": [
    "num_samples = 2000\n",
    "num_epochs = 750\n",
    "grace_period = 5"
   ]
  },
  {
   "cell_type": "code",
   "execution_count": 21,
   "metadata": {},
   "outputs": [],
   "source": [
    "model_dim_params = []\n",
    "\n",
    "n_neighbors = [3, 5, 7, 10, 15]\n",
    "model_dim = [output_shape]\n",
    "\n",
    "for d in model_dim:\n",
    "    num_heads = []\n",
    "    for i in range(2, d + 1):\n",
    "        if d % i == 0: num_heads.append(i)\n",
    "\n",
    "        for h in num_heads:\n",
    "            model_dim_params.append((d, h))"
   ]
  },
  {
   "cell_type": "code",
   "execution_count": 22,
   "metadata": {},
   "outputs": [],
   "source": [
    "start, end = np.log2(256), np.log2(2048)\n",
    "num_values = 10\n",
    "feedforward_dim = [int(2 ** (start + i / (num_values - 1) * (end - start))) for i in range(num_values)]"
   ]
  },
  {
   "cell_type": "code",
   "execution_count": 23,
   "metadata": {},
   "outputs": [],
   "source": [
    "parameter_space = {\n",
    "    \"model_dim\": tune.choice(model_dim_params),\n",
    "    \"batch_size\": tune.choice(list(range(64, 256, 16))),\n",
    "    \"warmup_steps\": tune.choice(list(range(1000, 4000, 200))),\n",
    "    \"feedforward_dim\": tune.choice(feedforward_dim),\n",
    "    \"num_decoder_layer\": tune.choice(list(range(1, 10 + 1, 2))),\n",
    "    \"transformer_dropout\": tune.loguniform(0.05, 0.6, base = 2),\n",
    "    \"pos_encoder_dropout\": tune.loguniform(0.05, 0.6, base = 2),\n",
    "    \"optimizer\": tune.choice([\"adam\", \"adamw\"]),\n",
    "    \"activation\": tune.choice([\"relu\", \"gelu\"]),\n",
    "}"
   ]
  },
  {
   "cell_type": "code",
   "execution_count": 24,
   "metadata": {},
   "outputs": [],
   "source": [
    "scheduler = ASHAScheduler(\n",
    "    metric = \"loss\",\n",
    "    mode = \"min\",\n",
    "    max_t = num_epochs,\n",
    "    grace_period = grace_period\n",
    ")"
   ]
  },
  {
   "cell_type": "code",
   "execution_count": 25,
   "metadata": {},
   "outputs": [],
   "source": [
    "search_alg = OptunaSearch(\n",
    "    metric=\"loss\",\n",
    "    mode=\"min\"\n",
    ") "
   ]
  },
  {
   "cell_type": "code",
   "execution_count": 26,
   "metadata": {},
   "outputs": [
    {
     "name": "stderr",
     "output_type": "stream",
     "text": [
      "2023-12-28 18:28:10,262\tINFO worker.py:1724 -- Started a local Ray instance.\n",
      "2023-12-28 18:28:10,269\tINFO packaging.py:530 -- Creating a file package for local directory '/mnt/src/utils'.\n",
      "2023-12-28 18:28:10,274\tINFO packaging.py:358 -- Pushing file package 'gcs://_ray_pkg_9b2abe3b353f6177.zip' (0.11MiB) to Ray cluster...\n",
      "2023-12-28 18:28:10,276\tINFO packaging.py:371 -- Successfully pushed file package 'gcs://_ray_pkg_9b2abe3b353f6177.zip'.\n",
      "2023-12-28 18:28:10,278\tINFO packaging.py:530 -- Creating a file package for local directory '/mnt/src/models'.\n",
      "2023-12-28 18:28:10,281\tINFO packaging.py:358 -- Pushing file package 'gcs://_ray_pkg_394f94149c4f4a5c.zip' (0.06MiB) to Ray cluster...\n",
      "2023-12-28 18:28:10,282\tINFO packaging.py:371 -- Successfully pushed file package 'gcs://_ray_pkg_394f94149c4f4a5c.zip'.\n"
     ]
    },
    {
     "name": "stdout",
     "output_type": "stream",
     "text": [
      "{'hostname': 'ajay-desktop-mbp-runner', 'resources': {'memory': 17563164672.0, 'object_store_memory': 8781582336.0, 'node:172.17.0.2': 1.0, 'CPU': 12.0, 'node:__internal_head__': 1.0, 'accelerator_type:G': 1.0, 'GPU': 1.0}}\n"
     ]
    }
   ],
   "source": [
    "attach_ray(manager = False)"
   ]
  },
  {
   "cell_type": "code",
   "execution_count": 27,
   "metadata": {},
   "outputs": [],
   "source": [
    "ray_resources_manager = tune.with_resources(\n",
    "    trainable=lambda params: parameter_train(params, num_epochs, train_set, validation_set, encoder.encoder, device),\n",
    "    # See: https://stackoverflow.com/questions/58967793/what-is-the-way-to-make-tune-run-parallel-trials-across-multiple-gpus\n",
    "    resources={ \"cpu\": 6, \"gpu\": 0.25 }\n",
    ")\n",
    "\n",
    "tuner = tune.Tuner(\n",
    "    ray_resources_manager,\n",
    "    param_space=parameter_space,\n",
    "    tune_config=tune.TuneConfig(\n",
    "        scheduler=scheduler,\n",
    "        search_alg=search_alg,\n",
    "         num_samples=num_samples\n",
    "    )\n",
    ")"
   ]
  },
  {
   "cell_type": "code",
   "execution_count": 28,
   "metadata": {},
   "outputs": [
    {
     "data": {
      "text/html": [
       "<div class=\"tuneStatus\">\n",
       "  <div style=\"display: flex;flex-direction: row\">\n",
       "    <div style=\"display: flex;flex-direction: column;\">\n",
       "      <h3>Tune Status</h3>\n",
       "      <table>\n",
       "<tbody>\n",
       "<tr><td>Current time:</td><td>2023-12-28 18:32:39</td></tr>\n",
       "<tr><td>Running for: </td><td>00:04:26.53        </td></tr>\n",
       "<tr><td>Memory:      </td><td>8.1/31.2 GiB       </td></tr>\n",
       "</tbody>\n",
       "</table>\n",
       "    </div>\n",
       "    <div class=\"vDivider\"></div>\n",
       "    <div class=\"systemInfo\">\n",
       "      <h3>System Info</h3>\n",
       "      Using AsyncHyperBand: num_stopped=0<br>Bracket: Iter 320.000: None | Iter 80.000: None | Iter 20.000: None | Iter 5.000: -3710.5602416992188<br>Logical resource usage: 12.0/12 CPUs, 0.5/1 GPUs (0.0/1.0 accelerator_type:G)\n",
       "    </div>\n",
       "    \n",
       "  </div>\n",
       "  <div class=\"hDivider\"></div>\n",
       "  <div class=\"trialStatus\">\n",
       "    <h3>Trial Status</h3>\n",
       "    <table>\n",
       "<thead>\n",
       "<tr><th>Trial name     </th><th>status  </th><th>loc              </th><th>activation  </th><th style=\"text-align: right;\">  batch_size</th><th style=\"text-align: right;\">  feedforward_dim</th><th>model_dim  </th><th style=\"text-align: right;\">  num_decoder_layer</th><th>optimizer  </th><th style=\"text-align: right;\">  pos_encoder_dropout</th><th style=\"text-align: right;\">  transformer_dropout</th><th style=\"text-align: right;\">  warmup_steps</th><th style=\"text-align: right;\">  iter</th><th style=\"text-align: right;\">  total time (s)</th><th style=\"text-align: right;\">   loss</th></tr>\n",
       "</thead>\n",
       "<tbody>\n",
       "<tr><td>lambda_c2d2c45f</td><td>RUNNING </td><td>172.17.0.2:191322</td><td>relu        </td><td style=\"text-align: right;\">          96</td><td style=\"text-align: right;\">             1625</td><td>(3, 3)     </td><td style=\"text-align: right;\">                  5</td><td>adam       </td><td style=\"text-align: right;\">            0.415468 </td><td style=\"text-align: right;\">             0.20306 </td><td style=\"text-align: right;\">          3400</td><td style=\"text-align: right;\">    13</td><td style=\"text-align: right;\">         245.253</td><td style=\"text-align: right;\">3715.37</td></tr>\n",
       "<tr><td>lambda_d0b1e059</td><td>RUNNING </td><td>172.17.0.2:191395</td><td>relu        </td><td style=\"text-align: right;\">         128</td><td style=\"text-align: right;\">              406</td><td>(3, 3)     </td><td style=\"text-align: right;\">                  1</td><td>adam       </td><td style=\"text-align: right;\">            0.284546 </td><td style=\"text-align: right;\">             0.30987 </td><td style=\"text-align: right;\">          1200</td><td style=\"text-align: right;\">    13</td><td style=\"text-align: right;\">         238.206</td><td style=\"text-align: right;\">3709.41</td></tr>\n",
       "<tr><td>lambda_4385ab9f</td><td>PENDING </td><td>                 </td><td>relu        </td><td style=\"text-align: right;\">         160</td><td style=\"text-align: right;\">             1024</td><td>(3, 3)     </td><td style=\"text-align: right;\">                  7</td><td>adamw      </td><td style=\"text-align: right;\">            0.0954385</td><td style=\"text-align: right;\">             0.206881</td><td style=\"text-align: right;\">          2800</td><td style=\"text-align: right;\">      </td><td style=\"text-align: right;\">                </td><td style=\"text-align: right;\">       </td></tr>\n",
       "</tbody>\n",
       "</table>\n",
       "  </div>\n",
       "</div>\n",
       "<style>\n",
       ".tuneStatus {\n",
       "  color: var(--jp-ui-font-color1);\n",
       "}\n",
       ".tuneStatus .systemInfo {\n",
       "  display: flex;\n",
       "  flex-direction: column;\n",
       "}\n",
       ".tuneStatus td {\n",
       "  white-space: nowrap;\n",
       "}\n",
       ".tuneStatus .trialStatus {\n",
       "  display: flex;\n",
       "  flex-direction: column;\n",
       "}\n",
       ".tuneStatus h3 {\n",
       "  font-weight: bold;\n",
       "}\n",
       ".tuneStatus .hDivider {\n",
       "  border-bottom-width: var(--jp-border-width);\n",
       "  border-bottom-color: var(--jp-border-color0);\n",
       "  border-bottom-style: solid;\n",
       "}\n",
       ".tuneStatus .vDivider {\n",
       "  border-left-width: var(--jp-border-width);\n",
       "  border-left-color: var(--jp-border-color0);\n",
       "  border-left-style: solid;\n",
       "  margin: 0.5em 1em 0.5em 1em;\n",
       "}\n",
       "</style>\n"
      ],
      "text/plain": [
       "<IPython.core.display.HTML object>"
      ]
     },
     "metadata": {},
     "output_type": "display_data"
    },
    {
     "name": "stdout",
     "output_type": "stream",
     "text": [
      "\u001b[36m(<lambda> pid=191322)\u001b[0m tensor([-0.3647, -1.0009,  1.3657], device='cuda:0', grad_fn=<SliceBackward0>) tensor([1.7523, 2.9143, 1.2329], device='cuda:0')\n",
      "\u001b[36m(<lambda> pid=191395)\u001b[0m tensor([-1.2530,  0.0586,  1.1944], device='cuda:0', grad_fn=<SliceBackward0>) tensor([1.5580, 2.7970, 1.2671], device='cuda:0')\n",
      "\u001b[36m(<lambda> pid=191322)\u001b[0m tensor([ 0.2525, -1.3313,  1.0788], device='cuda:0', grad_fn=<SliceBackward0>) tensor([2.3529, 3.8126, 2.3083], device='cuda:0')\n",
      "\u001b[36m(<lambda> pid=191395)\u001b[0m tensor([-1.2723,  0.1015,  1.1708], device='cuda:0', grad_fn=<SliceBackward0>) tensor([0.7864, 1.6669, 0.4593], device='cuda:0')\n",
      "\u001b[36m(<lambda> pid=191395)\u001b[0m tensor([-1.1085, -0.2061,  1.3147], device='cuda:0', grad_fn=<SliceBackward0>) tensor([1.2922, 2.3488, 1.0424], device='cuda:0')\u001b[32m [repeated 2x across cluster] (Ray deduplicates logs by default. Set RAY_DEDUP_LOGS=0 to disable log deduplication, or see https://docs.ray.io/en/master/ray-observability/ray-logging.html#log-deduplication for more options.)\u001b[0m\n",
      "\u001b[36m(<lambda> pid=191395)\u001b[0m tensor([-1.2033, -0.0415,  1.2448], device='cuda:0', grad_fn=<SliceBackward0>) tensor([0.9497, 1.6159, 0.7818], device='cuda:0')\u001b[32m [repeated 2x across cluster]\u001b[0m\n",
      "\u001b[36m(<lambda> pid=191322)\u001b[0m tensor([-0.1423, -1.1473,  1.2896], device='cuda:0', grad_fn=<SliceBackward0>) \n",
      "\u001b[36m(<lambda> pid=191322)\u001b[0m tensor([1.5580, 2.7970, 1.2671], device='cuda:0')\n",
      "\u001b[36m(<lambda> pid=191322)\u001b[0m tensor([ 0.5920, -1.4082,  0.8162], device='cuda:0', grad_fn=<SliceBackward0>) tensor([0.8798, 1.9739, 0.4984], device='cuda:0')\n",
      "\u001b[36m(<lambda> pid=191395)\u001b[0m tensor([-1.4088,  0.6001,  0.8090], device='cuda:0', grad_fn=<SliceBackward0>) tensor([0.6752, 1.3133, 0.4495], device='cuda:0')\n",
      "\u001b[36m(<lambda> pid=191395)\u001b[0m tensor([-1.3484,  0.3062,  1.0424], device='cuda:0', grad_fn=<SliceBackward0>) tensor([0.4494, 0.8285, 0.1813], device='cuda:0')\n",
      "\u001b[36m(<lambda> pid=191322)\u001b[0m tensor([ 0.6362, -1.4118,  0.7757], device='cuda:0', grad_fn=<SliceBackward0>) tensor([1.7523, 2.9143, 1.2329], device='cuda:0')\n",
      "\u001b[36m(<lambda> pid=191395)\u001b[0m tensor([-1.1620, -0.1159,  1.2782], device='cuda:0', grad_fn=<SliceBackward0>) tensor([0.8798, 1.9739, 0.4984], device='cuda:0')\n",
      "\u001b[36m(<lambda> pid=191322)\u001b[0m tensor([-1.3571,  0.3346,  1.0226], device='cuda:0', grad_fn=<SliceBackward0>) tensor([1.7523, 2.9143, 1.2329], device='cuda:0')\n",
      "\u001b[36m(<lambda> pid=191395)\u001b[0m tensor([-1.2376,  0.0278,  1.2101], device='cuda:0', grad_fn=<SliceBackward0>) tensor([0.9086, 2.1915, 0.6651], device='cuda:0')\n",
      "\u001b[36m(<lambda> pid=191322)\u001b[0m tensor([-0.9403, -0.4443,  1.3847], device='cuda:0', grad_fn=<SliceBackward0>) tensor([0.9497, 1.6159, 0.7818], device='cuda:0')\n",
      "\u001b[36m(<lambda> pid=191395)\u001b[0m tensor([-1.3662,  0.3707,  0.9962], device='cuda:0', grad_fn=<SliceBackward0>) tensor([0.7864, 1.6669, 0.4593], device='cuda:0')\n",
      "\u001b[36m(<lambda> pid=191322)\u001b[0m tensor([-0.9322, -0.4544,  1.3868], device='cuda:0', grad_fn=<SliceBackward0>) tensor([0.8987, 1.4655, 0.8094], device='cuda:0')\n",
      "\u001b[36m(<lambda> pid=191395)\u001b[0m tensor([-1.3904,  0.4787,  0.9127], device='cuda:0', grad_fn=<SliceBackward0>) tensor([1.7468, 3.2675, 1.7050], device='cuda:0')\n",
      "\u001b[36m(<lambda> pid=191322)\u001b[0m tensor([ 1.3053, -1.1235, -0.1817], device='cuda:0', grad_fn=<SliceBackward0>) tensor([0.9723, 1.5009, 0.8528], device='cuda:0')\n",
      "\u001b[36m(<lambda> pid=191395)\u001b[0m tensor([-1.2742,  0.1098,  1.1652], device='cuda:0', grad_fn=<SliceBackward0>) tensor([1.0814, 2.3560, 0.8343], device='cuda:0')\n",
      "\u001b[36m(<lambda> pid=191322)\u001b[0m tensor([ 0.5521, -1.4032,  0.8513], device='cuda:0', grad_fn=<SliceBackward0>) tensor([0.9497, 1.6159, 0.7818], device='cuda:0')\n",
      "\u001b[36m(<lambda> pid=191395)\u001b[0m tensor([-1.2177, -0.0097,  1.2283], device='cuda:0', grad_fn=<SliceBackward0>) tensor([0.7864, 1.6669, 0.4593], device='cuda:0')\n",
      "\u001b[36m(<lambda> pid=191322)\u001b[0m tensor([ 0.0498, -1.2484,  1.1987], device='cuda:0', grad_fn=<SliceBackward0>) tensor([0.9086, 2.1915, 0.6651], device='cuda:0')\n",
      "\u001b[36m(<lambda> pid=191395)\u001b[0m tensor([-1.4062,  0.5956,  0.8128], device='cuda:0', grad_fn=<SliceBackward0>) tensor([0.9723, 1.5009, 0.8528], device='cuda:0')\n",
      "\u001b[36m(<lambda> pid=191322)\u001b[0m tensor([-0.9442, -0.4388,  1.3833], device='cuda:0', grad_fn=<SliceBackward0>) tensor([0.5196, 0.8699, 0.2549], device='cuda:0')\n",
      "\u001b[36m(<lambda> pid=191395)\u001b[0m tensor([-1.3128,  0.2092,  1.1054], device='cuda:0', grad_fn=<SliceBackward0>) tensor([0.8987, 1.4655, 0.8094], device='cuda:0')\n"
     ]
    },
    {
     "name": "stderr",
     "output_type": "stream",
     "text": [
      "2023-12-28 18:32:39,588\tWARNING tune.py:186 -- Stop signal received (e.g. via SIGINT/Ctrl+C), ending Ray Tune run. This will try to checkpoint the experiment state one last time. Press CTRL+C (or send SIGINT/SIGKILL/SIGTERM) to skip. \n",
      "2023-12-28 18:32:42,652\tINFO tune.py:1042 -- Total run time: 271.08 seconds (266.52 seconds for the tuning loop).\n",
      "2023-12-28 18:32:42,653\tWARNING tune.py:1057 -- Experiment has been interrupted, but the most recent state was saved.\n",
      "Resume experiment with: Tuner.restore(path=\"/root/ray_results/lambda_2023-12-28_18-28-11\", trainable=...)\n",
      "2023-12-28 18:32:42,656\tWARNING experiment_analysis.py:193 -- Failed to fetch metrics for 1 trial(s):\n",
      "- lambda_4385ab9f: FileNotFoundError('Could not fetch metrics for lambda_4385ab9f: both result.json and progress.csv were not found at /root/ray_results/lambda_2023-12-28_18-28-11/lambda_4385ab9f_3_activation=relu,batch_size=160,feedforward_dim=1024,model_dim=3_3,num_decoder_layer=7,optimizer=adamw,pos_encode_2023-12-28_18-28-37')\n"
     ]
    }
   ],
   "source": [
    "results = tuner.fit()"
   ]
  },
  {
   "cell_type": "code",
   "execution_count": null,
   "metadata": {},
   "outputs": [],
   "source": [
    "disconnect_ray()"
   ]
  },
  {
   "cell_type": "code",
   "execution_count": null,
   "metadata": {},
   "outputs": [],
   "source": [
    "# Save as csv file\n",
    "result_grid = results.get_dataframe()\n",
    "result_grid.to_csv(tune_path / \"trail_grid_.csv\")"
   ]
  },
  {
   "cell_type": "code",
   "execution_count": null,
   "metadata": {},
   "outputs": [],
   "source": [
    "best_result = result_grid.iloc[result_grid['loss'].idxmin()].to_dict()\n",
    "trail_id = best_result['trial_id']\n",
    "\n",
    "print(f\"Trail ID from the best run: {trail_id}\")"
   ]
  },
  {
   "cell_type": "code",
   "execution_count": null,
   "metadata": {},
   "outputs": [],
   "source": [
    "print(f\"Best trail by loss value {best_result['loss']}\", \"\\n------\")\n",
    "for key in best_result:\n",
    "    if 'config' in key:\n",
    "        print(f\"Best trail: {key} value {best_result[key]}\")"
   ]
  }
 ],
 "metadata": {
  "kernelspec": {
   "display_name": "Python 3 (ipykernel)",
   "language": "python",
   "name": "python3"
  },
  "language_info": {
   "codemirror_mode": {
    "name": "ipython",
    "version": 3
   },
   "file_extension": ".py",
   "mimetype": "text/x-python",
   "name": "python",
   "nbconvert_exporter": "python",
   "pygments_lexer": "ipython3",
   "version": "3.10.12"
  }
 },
 "nbformat": 4,
 "nbformat_minor": 2
}
