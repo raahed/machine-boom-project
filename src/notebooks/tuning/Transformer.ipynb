{
 "cells": [
  {
   "cell_type": "markdown",
   "id": "68428bb911200c6d",
   "metadata": {
    "collapsed": false
   },
   "source": [
    "# Model 3: Transformer Model"
   ]
  },
  {
   "cell_type": "code",
   "execution_count": null,
   "id": "a0d27e318ab2d0a8",
   "metadata": {
    "ExecuteTime": {
     "end_time": "2023-11-08T08:49:45.938428800Z",
     "start_time": "2023-11-08T08:49:45.925429400Z"
    },
    "collapsed": false
   },
   "outputs": [],
   "source": [
    "import sys; sys.path.insert(0, '/mnt/src')"
   ]
  },
  {
   "cell_type": "code",
   "execution_count": null,
   "id": "03d11a90",
   "metadata": {},
   "outputs": [],
   "source": [
    "from models.transformer import TransformerEncoderModel, train"
   ]
  },
  {
   "cell_type": "code",
   "execution_count": null,
   "id": "d70433f4",
   "metadata": {},
   "outputs": [],
   "source": [
    "feature_columns = [\n",
    "    'left_boom_base_yaw_joint', \n",
    "    'left_boom_base_pitch_joint',\n",
    "    'left_boom_main_prismatic_joint',\n",
    "    'left_boom_second_roll_joint',\n",
    "    'left_boom_second_yaw_joint',\n",
    "    'left_boom_top_pitch_joint',\n",
    "    'left_boom_ee_joint',\n",
    "    'cable1_property(length,youngsmodule(bend,twist))',\n",
    "    'cable2_property(length,youngsmodule(bend,twist))',\n",
    "    'cable3_property(length,youngsmodule(bend,twist))'\n",
    "]\n",
    "\n",
    "label_features = [\n",
    "    ('cable1_lowest_point', np.array([1], dtype=np.int64)),\n",
    "    ('cable2_lowest_point', np.array([1], dtype=np.int64)),\n",
    "    ('cable3_lowest_point', np.array([1], dtype=np.int64))\n",
    "]\n",
    "\n",
    "normalized_features = [\n",
    "    ('cable1_property(length,youngsmodule(bend,twist))', np.array([1,2], dtype=np.int64)),\n",
    "    ('cable2_property(length,youngsmodule(bend,twist))', np.array([1,2], dtype=np.int64)),\n",
    "    ('cable3_property(length,youngsmodule(bend,twist))', np.array([1,2], dtype=np.int64))\n",
    "]"
   ]
  },
  {
   "cell_type": "code",
   "execution_count": null,
   "id": "132f29ad39f9351a",
   "metadata": {
    "ExecuteTime": {
     "end_time": "2023-11-08T08:50:49.359883400Z",
     "start_time": "2023-11-08T08:50:38.050809600Z"
    },
    "collapsed": false
   },
   "outputs": [],
   "source": [
    "data_folder = Path(\"/mnt/data\").absolute()\n",
    "train_set, _, validation_set, _ = read_trajectory_datasets(data_folder, 0.8, 0, 0.2, window_size=256, \n",
    "                                                                  feature_columns=feature_columns, label_features=label_features, \n",
    "                                                                  normalized_features=normalized_features)"
   ]
  },
  {
   "cell_type": "markdown",
   "id": "a2cbf5b2",
   "metadata": {},
   "source": [
    "## Load parameter, functions and dataloader"
   ]
  },
  {
   "cell_type": "code",
   "execution_count": null,
   "id": "4c070147",
   "metadata": {},
   "outputs": [],
   "source": [
    "tune_path = Path(\"/mnt/models/transformer/tune\").absolute()\n",
    "tune_path.mkdir(parents=True, exist_ok=True)"
   ]
  },
  {
   "cell_type": "code",
   "execution_count": null,
   "id": "eb20a74562832db3",
   "metadata": {},
   "outputs": [],
   "source": [
    "from ray import tune, train as ray_train\n",
    "from ray.tune.schedulers import ASHAScheduler\n",
    "from ray.tune.search.optuna import OptunaSearch\n",
    "from torch import nn\n",
    "from typing import Dict\n",
    "from utils.cluster import attach_ray, disconnect_ray\n",
    "from utils.optimizer import get_optimizer_function, get_learning_rate_scheduler\n",
    "from utils.activation import get_activation\n",
    "from utils.loss_functions import get_loss_function\n",
    "from torch.utils.data import Dataset, DataLoader\n",
    "import random; random.seed(0)"
   ]
  },
  {
   "cell_type": "code",
   "execution_count": null,
   "id": "b4ac1b76",
   "metadata": {},
   "outputs": [],
   "source": [
    "num_samples = 2000\n",
    "num_epochs = 750\n",
    "grace_period = 5"
   ]
  },
  {
   "cell_type": "code",
   "execution_count": null,
   "id": "926a9b97",
   "metadata": {},
   "outputs": [],
   "source": [
    "model_dim_params = []\n",
    "\n",
    "n_neighbors = [3, 5, 7, 10, 15]\n",
    "model_dim = [input_shape, output_shape]\n",
    "\n",
    "for d in model_dim:\n",
    "    num_heads = []\n",
    "    for i in range(2, d + 1):\n",
    "        if d % i == 0: num_heads.append(i)\n",
    "\n",
    "    for h in num_heads:\n",
    "\n",
    "        if d != output_shape:\n",
    "            model_dim_params.append((d, h, 0))\n",
    "        else:\n",
    "            for n in n_neighbors:\n",
    "                model_dim_params.append((d, h, n))"
   ]
  },
  {
   "cell_type": "code",
   "execution_count": null,
   "id": "ad30e099",
   "metadata": {},
   "outputs": [],
   "source": [
    "start, end = np.log2(256), np.log2(2048)\n",
    "num_values = 10\n",
    "feedforward_dim = [int(2 ** (start + i / (num_values - 1) * (end - start))) for i in range(num_values)]"
   ]
  },
  {
   "cell_type": "code",
   "execution_count": null,
   "id": "58e8f4d2",
   "metadata": {},
   "outputs": [],
   "source": [
    "parameter_space = {\n",
    "    \"pos_encoder_dropout\": tune.loguniform(0.05, 0.6, base = 2),\n",
    "    \"transformer_dropout\": tune.loguniform(0.05, 0.6, base = 2),\n",
    "    \"num_encoder_layer\": tune.choice(list(range(2, 10 + 1, 2))),\n",
    "    \"feedforward_dim\": tune.choice(feedforward_dim),\n",
    "    \"batch_size\": tune.choice(list(range(64, 256, 16))),\n",
    "    \n",
    "    \"model_dim_num_heads_projection\": tune.choice(model_dim_params),\n",
    "    \"optimizer\": tune.choice([\"adam\", \"adamw\"]),\n",
    "    \"activation\": tune.choice([\"relu\", \"gelu\"]),\n",
    "    \"warmup_steps\": tune.choice(list(range(1000, 4000, 200))),\n",
    "}"
   ]
  },
  {
   "cell_type": "code",
   "execution_count": null,
   "id": "0d25776d",
   "metadata": {},
   "outputs": [],
   "source": [
    "scheduler = ASHAScheduler(\n",
    "    metric = \"loss\",\n",
    "    mode = \"min\",\n",
    "    max_t = num_epochs,\n",
    "    grace_period = grace_period\n",
    ")"
   ]
  },
  {
   "cell_type": "code",
   "execution_count": null,
   "id": "ac47fd53",
   "metadata": {},
   "outputs": [],
   "source": [
    "search_alg = OptunaSearch(\n",
    "    metric = \"loss\",\n",
    "    mode = \"min\"\n",
    ") "
   ]
  },
  {
   "cell_type": "code",
   "execution_count": null,
   "id": "9e2d3415",
   "metadata": {},
   "outputs": [],
   "source": [
    "attach_ray(manager = False)"
   ]
  },
  {
   "cell_type": "code",
   "execution_count": null,
   "id": "963ac192",
   "metadata": {},
   "outputs": [],
   "source": [
    "ray_resources_manager = tune.with_resources(\n",
    "    trainable=lambda param: parameter_train(param, num_epochs, train_set, validation_set, input_shape, output_shape),\n",
    "    # See: https://stackoverflow.com/questions/58967793/what-is-the-way-to-make-tune-run-parallel-trials-across-multiple-gpus\n",
    "    resources={ \"cpu\": 3, \"gpu\": 0.25 if torch.cuda.is_available() else 0 }\n",
    ")\n",
    "\n",
    "tuner = tune.Tuner(\n",
    "    ray_resources_manager,\n",
    "    param_space=parameter_space,\n",
    "    tune_config=tune.TuneConfig(\n",
    "        scheduler=scheduler,\n",
    "        search_alg=search_alg,\n",
    "         num_samples=num_samples\n",
    "    ),\n",
    "    run_config = ray_train.RunConfig(\n",
    "        name = \"transformer_encoder\"\n",
    "    )\n",
    ")"
   ]
  },
  {
   "cell_type": "code",
   "execution_count": null,
   "id": "4182b758",
   "metadata": {},
   "outputs": [],
   "source": [
    "results = tuner.fit()"
   ]
  },
  {
   "cell_type": "code",
   "execution_count": null,
   "metadata": {},
   "outputs": [],
   "source": [
    "disconnect_ray()"
   ]
  },
  {
   "cell_type": "code",
   "execution_count": null,
   "metadata": {},
   "outputs": [],
   "source": [
    "# Save as csv file\n",
    "result_grid = results.get_dataframe()\n",
    "result_grid.to_csv(tune_path / \"trail_grid_.csv\")"
   ]
  },
  {
   "cell_type": "code",
   "execution_count": null,
   "metadata": {},
   "outputs": [],
   "source": [
    "best_result = result_grid.iloc[result_grid['loss'].idxmin()].to_dict()\n",
    "trail_id = best_result['trial_id']\n",
    "\n",
    "print(f\"Trail ID from the best run: {trail_id}\")"
   ]
  },
  {
   "cell_type": "code",
   "execution_count": null,
   "metadata": {},
   "outputs": [],
   "source": [
    "print(f\"Best trail by loss value {best_result['loss']}\", \"\\n------\")\n",
    "for key in best_result:\n",
    "    if 'config' in key:\n",
    "        print(f\"Best trail: {key} value {best_result[key]}\")"
   ]
  }
 ],
 "metadata": {
  "kernelspec": {
   "display_name": "Python 3 (ipykernel)",
   "language": "python",
   "name": "python3"
  },
  "language_info": {
   "codemirror_mode": {
    "name": "ipython",
    "version": 3
   },
   "file_extension": ".py",
   "mimetype": "text/x-python",
   "name": "python",
   "nbconvert_exporter": "python",
   "pygments_lexer": "ipython3",
   "version": "3.8.16"
  }
 },
 "nbformat": 4,
 "nbformat_minor": 5
}
