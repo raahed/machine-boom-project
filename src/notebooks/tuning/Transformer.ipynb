{
 "cells": [
  {
   "cell_type": "markdown",
   "id": "68428bb911200c6d",
   "metadata": {
    "collapsed": false
   },
   "source": [
    "# Model 3: Transformer Model"
   ]
  },
  {
   "cell_type": "code",
   "execution_count": null,
   "id": "9bf9c828b972fb25",
   "metadata": {
    "ExecuteTime": {
     "end_time": "2023-11-08T08:49:41.383530200Z",
     "start_time": "2023-11-08T08:49:38.315132700Z"
    },
    "collapsed": false
   },
   "outputs": [],
   "source": [
    "from pathlib import Path\n",
    "import numpy as np\n",
    "import torch "
   ]
  },
  {
   "cell_type": "code",
   "execution_count": null,
   "id": "a0d27e318ab2d0a8",
   "metadata": {
    "ExecuteTime": {
     "end_time": "2023-11-08T08:49:45.938428800Z",
     "start_time": "2023-11-08T08:49:45.925429400Z"
    },
    "collapsed": false
   },
   "outputs": [],
   "source": [
    "import sys; sys.path.insert(0, '/mnt/src')"
   ]
  },
  {
   "cell_type": "code",
   "execution_count": null,
   "metadata": {},
   "outputs": [],
   "source": [
    "from models.transformer import TransformerEncoderOnly, train"
   ]
  },
  {
   "cell_type": "markdown",
   "id": "5626b225d0d87d10",
   "metadata": {
    "collapsed": false
   },
   "source": [
    "## Create Trajectory dataset from dataframe"
   ]
  },
  {
   "cell_type": "code",
   "execution_count": null,
   "id": "c35127225b7572d5",
   "metadata": {
    "ExecuteTime": {
     "end_time": "2023-11-08T08:50:37.088191200Z",
     "start_time": "2023-11-08T08:50:36.916190Z"
    },
    "collapsed": false
   },
   "outputs": [],
   "source": [
    "from utils.file_io import read_trajectory_datasets"
   ]
  },
  {
   "cell_type": "code",
   "execution_count": null,
   "id": "d70433f4",
   "metadata": {},
   "outputs": [],
   "source": [
    "feature_columns = [\n",
    "\n",
    "]\n",
    "\n",
    "label_features = [\n",
    "\n",
    "]"
   ]
  },
  {
   "cell_type": "code",
   "execution_count": null,
   "id": "132f29ad39f9351a",
   "metadata": {
    "ExecuteTime": {
     "end_time": "2023-11-08T08:50:49.359883400Z",
     "start_time": "2023-11-08T08:50:38.050809600Z"
    },
    "collapsed": false
   },
   "outputs": [],
   "source": [
    "data_folder = Path(\"/mnt/data\").absolute()\n",
    "train_set, test_set, validation_set, _ = read_trajectory_datasets(data_folder, 0.8, 0.15, 0.045, window_size=256)"
   ]
  },
  {
   "cell_type": "code",
   "execution_count": null,
   "metadata": {},
   "outputs": [],
   "source": [
    "input_shape, output_shape = len(feature_columns), len(label_features)\n",
    "print(f\"Data shape {input_shape} / {output_shape} of total {len(train_set) + len(test_set) + len(validation_set)} data rows!\")"
   ]
  },
  {
   "cell_type": "markdown",
   "metadata": {},
   "source": [
    "## Load parameter, functions and dataloader"
   ]
  },
  {
   "cell_type": "code",
   "execution_count": null,
   "id": "39f3e9d32a352dc1",
   "metadata": {},
   "outputs": [],
   "source": [
    "from utils.file_io import define_dataloader_from_subset"
   ]
  },
  {
   "cell_type": "code",
   "execution_count": null,
   "metadata": {},
   "outputs": [],
   "source": [
    "tune_path = Path(\"/mnt/models/transformer/tune\").absolute()\n",
    "tune_path.mkdir(parents=True, exist_ok=True)"
   ]
  },
  {
   "cell_type": "markdown",
   "metadata": {},
   "source": [
    "## Train the model with optuna hyperparameter tuning"
   ]
  },
  {
   "cell_type": "code",
   "execution_count": null,
   "id": "eb20a74562832db3",
   "metadata": {},
   "outputs": [],
   "source": [
    "from ray import tune, train as ray_train\n",
    "from ray.tune.schedulers import ASHAScheduler\n",
    "from ray.tune.search.optuna import OptunaSearch\n",
    "from torch import nn\n",
    "from typing import Dict\n",
    "from utils.cluster import attach_ray, disconnect_ray\n",
    "from utils.optimizer import get_optimizer_function, get_learning_rate_scheduler\n",
    "from utils.activation import get_activation\n",
    "from utils.loss_functions import get_loss_function\n",
    "from torch.utils.data import Dataset\n",
    "import random; random.seed(0)"
   ]
  },
  {
   "cell_type": "code",
   "execution_count": null,
   "metadata": {},
   "outputs": [],
   "source": [
    "def parameter_train(parameter: Dict, train_epochs: int, train_set: Dataset, validation_set: Dataset, test_set: Dataset, model_input_shape: int,\n",
    "                    model_output_shape: int) -> None:\n",
    "\n",
    "    # Determ device on the actual worker used for the trail\n",
    "    device = (\"cuda\" if torch.cuda.is_available() else \"cpu\")\n",
    "\n",
    "    if device != \"cuda\":\n",
    "        print(\"No cuda device found!\")\n",
    "\n",
    "    train_dataloader, validation_dataloader, _ = define_dataloader_from_subset(train_set, validation_set, test_set, batch_size=parameter[\"batch_size\"], shuffle=True)\n",
    "\n",
    "    activation = get_activation(parameter[\"activation\"])\n",
    "    model = TransformerEncoderOnly(parameter[\"num_heads\"], parameter[\"model_dim_downprojection_n_neighbors\"][0], parameter[\"feedforward_dim\"], model_output_shape,\n",
    "                                   parameter[\"num_encoder_layer\"], parameter[\"transformer_dropout\"], parameter[\"pos_encoder_dropout\"], activation)\n",
    "\n",
    "    # The model needs to be on the device used for training before instance the optimizer\n",
    "    model.to(device)\n",
    "\n",
    "    optimizer = get_optimizer_function(parameter[\"optimizer\"], model, 1)\n",
    "    lr_scheduler = get_learning_rate_scheduler(optimizer, parameter[\"model_dim\"], parameter[\"warmup_steps\"])\n",
    "    loss_function = get_loss_function()\n",
    "\n",
    "    _ = train(train_epochs, train_dataloader, validation_dataloader, model, loss_function, optimizer, lr_scheduler, None, device, report_interval=50, tune=True)"
   ]
  },
  {
   "cell_type": "code",
   "execution_count": null,
   "metadata": {},
   "outputs": [],
   "source": [
    "num_samples = 2000\n",
    "num_epochs = 750\n",
    "grace_period = 10"
   ]
  },
  {
   "cell_type": "code",
   "execution_count": null,
   "id": "926a9b97",
   "metadata": {},
   "outputs": [],
   "source": [
    "model_dim_params = []\n",
    "n_neighbors = [3, 5, 7, 10, 15]\n",
    "\n",
    "# If model_dim is 9\n",
    "for n in n_neighbors:\n",
    "    model_dim_params.append((9, True, n))\n",
    "\n",
    "# If model_dim is 15\n",
    "model_dim_params.append((15, False, 1))"
   ]
  },
  {
   "cell_type": "code",
   "execution_count": null,
   "metadata": {},
   "outputs": [],
   "source": [
    "parameter_space = {\n",
    "    \"pos_encoder_dropout\": tune.loguniform(0.05, 0.6, base = 2),\n",
    "    \"transformer_dropout\": tune.loguniform(0.05, 0.6, base = 2),\n",
    "    \"num_encoder_layer\": tune.choice(list(range(1, 10, 2))),\n",
    "    \"feedforward_dim\": tune.choice(np.logspace(256, 2048, base=2, dtype=np.int32)),\n",
    "    \"batch_size\": tune.choice(list(range(64, 256, 16))),\n",
    "    \"model_dim_downprojection_n_neighbors\": tune.choice(model_dim_params),\n",
    "    \"optimizer\": tune.choice([\"adam\", \"sgd\", \"adamw\", \"adagrad\"]),\n",
    "    \"activation\": tune.choice([\"relu\", \"gelu\"]),\n",
    "    \"warmup_steps\": tune.choice(list(range(1000, 4000, 200))),\n",
    "}"
   ]
  },
  {
   "cell_type": "code",
   "execution_count": null,
   "metadata": {},
   "outputs": [],
   "source": [
    "scheduler = ASHAScheduler(\n",
    "    metric = \"loss\",\n",
    "    mode = \"min\",\n",
    "    max_t = num_epochs,\n",
    "    grace_period = grace_period\n",
    ")"
   ]
  },
  {
   "cell_type": "code",
   "execution_count": null,
   "metadata": {},
   "outputs": [],
   "source": [
    "search_alg = OptunaSearch(\n",
    "    metric = \"loss\",\n",
    "    mode = \"min\"\n",
    ") "
   ]
  },
  {
   "cell_type": "code",
   "execution_count": null,
   "metadata": {},
   "outputs": [],
   "source": [
    "attach_ray(manager = True)"
   ]
  },
  {
   "cell_type": "code",
   "execution_count": null,
   "metadata": {},
   "outputs": [],
   "source": [
    "ray_resources_manager = tune.with_resources(\n",
    "    trainable=lambda param: parameter_train(param, num_epochs, train_set, validation_set, test_set, input_shape, output_shape),\n",
    "    # See: https://stackoverflow.com/questions/58967793/what-is-the-way-to-make-tune-run-parallel-trials-across-multiple-gpus\n",
    "    resources={ \"cpu\": 3, \"gpu\": 0.25 }\n",
    ")\n",
    "\n",
    "tuner = tune.Tuner(\n",
    "    ray_resources_manager,\n",
    "    param_space=parameter_space,\n",
    "    tune_config=tune.TuneConfig(\n",
    "        scheduler=scheduler,\n",
    "        search_alg=search_alg,\n",
    "         num_samples=num_samples\n",
    "    ),\n",
    "    run_config = ray_train.RunConfig(\n",
    "        name = \"transformer_encoder\"\n",
    "    )\n",
    ")"
   ]
  },
  {
   "cell_type": "code",
   "execution_count": null,
   "metadata": {},
   "outputs": [],
   "source": [
    "results = tuner.fit()"
   ]
  },
  {
   "cell_type": "code",
   "execution_count": null,
   "metadata": {},
   "outputs": [],
   "source": [
    "disconnect_ray()"
   ]
  },
  {
   "cell_type": "code",
   "execution_count": null,
   "metadata": {},
   "outputs": [],
   "source": [
    "# Save as csv file\n",
    "result_grid = results.get_dataframe()\n",
    "result_grid.to_csv(tune_path / \"trail_grid_.csv\")"
   ]
  },
  {
   "cell_type": "code",
   "execution_count": null,
   "metadata": {},
   "outputs": [],
   "source": [
    "best_result = result_grid.iloc[result_grid['loss'].idxmin()].to_dict()\n",
    "trail_id = best_result['trial_id']\n",
    "\n",
    "print(f\"Trail ID from the best run: {trail_id}\")"
   ]
  },
  {
   "cell_type": "code",
   "execution_count": null,
   "metadata": {},
   "outputs": [],
   "source": [
    "print(f\"Best trail by loss value {best_result['loss']}\", \"\\n------\")\n",
    "for key in best_result:\n",
    "    if 'config' in key:\n",
    "        print(f\"Best trail: {key} value {best_result[key]}\")"
   ]
  }
 ],
 "metadata": {
  "kernelspec": {
   "display_name": "Python 3 (ipykernel)",
   "language": "python",
   "name": "python3"
  }
 },
 "nbformat": 4,
 "nbformat_minor": 5
}
