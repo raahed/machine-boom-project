{
 "cells": [
  {
   "cell_type": "markdown",
   "id": "68428bb911200c6d",
   "metadata": {
    "collapsed": false
   },
   "source": [
    "# Model 3: Transformer Model"
   ]
  },
  {
   "cell_type": "code",
   "execution_count": null,
   "id": "9bf9c828b972fb25",
   "metadata": {
    "ExecuteTime": {
     "end_time": "2023-11-08T08:49:41.383530200Z",
     "start_time": "2023-11-08T08:49:38.315132700Z"
    },
    "collapsed": false
   },
   "outputs": [],
   "source": [
    "from pathlib import Path\n",
    "import numpy as np\n",
    "import torch "
   ]
  },
  {
   "cell_type": "code",
   "execution_count": null,
   "id": "ab313103656b4738",
   "metadata": {
    "ExecuteTime": {
     "end_time": "2023-11-08T08:49:41.393531200Z",
     "start_time": "2023-11-08T08:49:41.389528900Z"
    },
    "collapsed": false
   },
   "outputs": [],
   "source": [
    "device = (\"cuda\" if torch.cuda.is_available() else \"cpu\")\n",
    "print(f\"Using {device} device\")"
   ]
  },
  {
   "cell_type": "code",
   "execution_count": null,
   "id": "a0d27e318ab2d0a8",
   "metadata": {
    "ExecuteTime": {
     "end_time": "2023-11-08T08:49:45.938428800Z",
     "start_time": "2023-11-08T08:49:45.925429400Z"
    },
    "collapsed": false
   },
   "outputs": [],
   "source": [
    "import sys; sys.path.insert(0, '../')"
   ]
  },
  {
   "cell_type": "code",
   "execution_count": null,
   "metadata": {},
   "outputs": [],
   "source": [
    "from models.transformer import TransformerEncoderOnly, get_loss_function, get_optimizer_function"
   ]
  },
  {
   "cell_type": "markdown",
   "id": "5626b225d0d87d10",
   "metadata": {
    "collapsed": false
   },
   "source": [
    "## Read Datasets from .csv"
   ]
  },
  {
   "cell_type": "code",
   "execution_count": null,
   "id": "c35127225b7572d5",
   "metadata": {
    "ExecuteTime": {
     "end_time": "2023-11-08T08:50:37.088191200Z",
     "start_time": "2023-11-08T08:50:36.916190Z"
    },
    "collapsed": false
   },
   "outputs": [],
   "source": [
    "from utils.file_io import read_trajectory_datasets"
   ]
  },
  {
   "cell_type": "code",
   "execution_count": null,
   "id": "132f29ad39f9351a",
   "metadata": {
    "ExecuteTime": {
     "end_time": "2023-11-08T08:50:49.359883400Z",
     "start_time": "2023-11-08T08:50:38.050809600Z"
    },
    "collapsed": false
   },
   "outputs": [],
   "source": [
    "data_folder = Path(\"../../data/\")\n",
    "train_set, test_set, validation_set, visualization_set = read_trajectory_datasets(data_folder, 0.85, 0.10, 0.045, 0.005, 256, normalize_features=True)"
   ]
  },
  {
   "cell_type": "code",
   "execution_count": null,
   "metadata": {},
   "outputs": [],
   "source": [
    "# FIXME: Total loaded size correct?\n",
    "input_shape, output_shape = 8, 3\n",
    "print(f\"Data shape {input_shape} / {output_shape} of total {len(train_set) + len(test_set) + len(validation_set) + len(visualization_set)} data rows!\")"
   ]
  },
  {
   "cell_type": "markdown",
   "metadata": {},
   "source": [
    "## Load parameter, functions and dataloader"
   ]
  },
  {
   "cell_type": "code",
   "execution_count": null,
   "id": "39f3e9d32a352dc1",
   "metadata": {},
   "outputs": [],
   "source": [
    "import os\n",
    "\n",
    "from torch.utils.data import DataLoader\n",
    "from dotenv import load_dotenv\n",
    "from torch import nn\n",
    "\n",
    "from utils.file_io import define_dataloader_from_subset\n",
    "from utils.evaluation import compute_loss_on\n",
    "from utils.optimizer import rate"
   ]
  },
  {
   "cell_type": "code",
   "execution_count": null,
   "metadata": {},
   "outputs": [],
   "source": [
    "model_path = Path(\"../../models/transformer/\").absolute()"
   ]
  },
  {
   "cell_type": "code",
   "execution_count": null,
   "metadata": {},
   "outputs": [],
   "source": [
    "dotenv_path = model_path / \".env\"\n",
    "load_dotenv(dotenv_path=dotenv_path)\n",
    "\n",
    "learning_rate = float(os.getenv(\"LEARNING_RATE\"))\n",
    "batch_size = int(os.getenv(\"BATCH_SIZE\"))\n",
    "num_epochs = int(os.getenv(\"NUM_EPOCHS\"))"
   ]
  },
  {
   "cell_type": "code",
   "execution_count": null,
   "metadata": {},
   "outputs": [],
   "source": [
    "train_dataloader, validation_dataloader, test_dataloader = define_dataloader_from_subset(train_set, validation_set, test_set, batch_size=batch_size, shuffle=True)"
   ]
  },
  {
   "cell_type": "markdown",
   "metadata": {},
   "source": [
    "## Define train methods"
   ]
  },
  {
   "cell_type": "code",
   "execution_count": null,
   "metadata": {},
   "outputs": [],
   "source": [
    "from ray import train as ray_train"
   ]
  },
  {
   "cell_type": "code",
   "execution_count": null,
   "metadata": {},
   "outputs": [],
   "source": [
    "def train_epoch(train_dataloader: DataLoader, model, loss_function, optimizer, lr_scheduler,\n",
    "                device: torch.device, report_interval: int = 1000):\n",
    "    \n",
    "    running_loss = 0\n",
    "    last_loss = 0\n",
    "    \n",
    "    for i, (inputs, true_values) in enumerate(train_dataloader):\n",
    "        \n",
    "        inputs = inputs.to(device)\n",
    "        true_values = true_values.to(device)\n",
    "    \n",
    "        inputs_shape, true_values_shape = inputs.size(), true_values.size()\n",
    "        inputs = inputs.view(inputs_shape[1], inputs_shape[0], inputs_shape[2])\n",
    "        true_values = true_values.view(true_values_shape[1], true_values_shape[0], true_values_shape[2])\n",
    "        optimizer.zero_grad()\n",
    "        outputs = model(inputs)\n",
    "        loss = loss_function(outputs, true_values)\n",
    "        running_loss += loss\n",
    "        loss.backward()\n",
    "        optimizer.step()\n",
    "        lr_scheduler.step()\n",
    "    \n",
    "        if i % report_interval == report_interval - 1:\n",
    "            last_loss = running_loss / report_interval\n",
    "\n",
    "            print(f\"batch {i + 1}, Mean Squared Error: {last_loss}\")\n",
    "            \n",
    "            running_loss = 0\n",
    "\n",
    "    return last_loss"
   ]
  },
  {
   "cell_type": "code",
   "execution_count": null,
   "id": "1fa622ccaad785e9",
   "metadata": {},
   "outputs": [],
   "source": [
    "def train(epochs: int, train_dataloader: DataLoader, validation_dataloader: DataLoader, model: nn.Module, \n",
    "          loss_function, optimizer, lr_scheduler, checkpoint_path: Path, device: torch.device = 'cpu', report_interval: int = 128, tune: bool = False) -> nn.Module:\n",
    "    \n",
    "    best_val_loss = float(\"inf\")\n",
    "\n",
    "    checkpoint_file = checkpoint_path / \"checkpoint.pt\"\n",
    "\n",
    "    if torch.cuda.device_count() > 1:\n",
    "        model = nn.DataParallel(model)\n",
    "        \n",
    "    model.to(device)\n",
    "\n",
    "    if checkpoint_file.exists():\n",
    "        model_state = torch.load(checkpoint_file)\n",
    "        model.load_state_dict(model_state)\n",
    "\n",
    "    for epoch in range(model.total_epochs, epochs):\n",
    "        if not tune:\n",
    "            print(f\"Epoch: {epoch + 1}\")\n",
    "\n",
    "        model.train(True)\n",
    "        avg_loss = train_epoch(train_dataloader, model, loss_function, optimizer, lr_scheduler, device, report_interval)\n",
    "        model.eval()\n",
    "\n",
    "        with torch.no_grad():\n",
    "            avg_val_loss = compute_loss_on(validation_dataloader, model, loss_function, device=device)\n",
    "\n",
    "        if not tune:\n",
    "            print(f\"Loss on train: {avg_loss}, loss on validation: {avg_val_loss}\")\n",
    "\n",
    "        model.total_epochs += 1\n",
    "    \n",
    "        if avg_val_loss < best_val_loss or tune:\n",
    "            best_val_loss = avg_val_loss            \n",
    "            \n",
    "            torch.save(model.state_dict(), checkpoint_file)\n",
    "\n",
    "        if tune:\n",
    "            ray_train.report(metrics={ \"loss\": float(avg_val_loss) })\n",
    "            \n",
    "    return model"
   ]
  },
  {
   "cell_type": "markdown",
   "metadata": {},
   "source": [
    "## Train the model with optuna hyperparameter tuning"
   ]
  },
  {
   "cell_type": "code",
   "execution_count": null,
   "id": "eb20a74562832db3",
   "metadata": {},
   "outputs": [],
   "source": [
    "import ray\n",
    "from ray import tune\n",
    "from ray.tune.schedulers import ASHAScheduler\n",
    "from ray.tune.search.optuna import OptunaSearch\n",
    "from typing import Dict\n",
    "from utils.evaluation import compute_sliding_window_predictions, compute_losses_from\n",
    "from utils.cluster import attach_ray, disconnect_ray"
   ]
  },
  {
   "cell_type": "code",
   "execution_count": null,
   "metadata": {},
   "outputs": [],
   "source": [
    "def parameter_train(parameter: Dict, train_epochs: int, train_data: DataLoader, validation_data: DataLoader, model_input_shape: int,\n",
    "                    model_output_shape: int, checkpoint_path: Path) -> None:\n",
    "\n",
    "    # Determ device on the actual worker used for the trail\n",
    "    device = (\"cuda\" if torch.cuda.is_available() else \"cpu\")\n",
    "\n",
    "    run_id = ray_train.get_context().get_trial_id()\n",
    "    run_checkpoint = checkpoint_path / run_id\n",
    "    run_checkpoint.mkdir(parents=True)\n",
    "\n",
    "    model = TransformerEncoderOnly(model_input_shape, parameter[\"model_dim\"], parameter[\"feedforward_dim\"], model_output_shape,\n",
    "                                   parameter[\"encoder_layer\"], parameter[\"transformer_dropout\"], parameter[\"pos_encoder_dropout\"])\n",
    "\n",
    "    optimizer = get_optimizer_function(model, parameter[\"lr\"])\n",
    "    loss_function = get_loss_function()\n",
    "\n",
    "    _ = train(train_epochs, train_data, validation_data, model, loss_function, optimizer, run_checkpoint, device, report_interval=50, tune=True)"
   ]
  },
  {
   "cell_type": "code",
   "execution_count": null,
   "metadata": {},
   "outputs": [],
   "source": [
    "learning_rate_radius = 1e-3\n",
    "batch_size_radius = 10\n",
    "num_samples = 100"
   ]
  },
  {
   "cell_type": "code",
   "execution_count": null,
   "metadata": {},
   "outputs": [],
   "source": [
    "parameter_space = {\n",
    "    \"lr\": tune.loguniform(learning_rate_radius - learning_rate, learning_rate + learning_rate_radius),\n",
    "    \"batch_size\": tune.choice(list(range(batch_size - batch_size_radius, batch_size + batch_size_radius, 4))),\n",
    "    \"model_dim\": tune.choice([8]),\n",
    "    \"feedforward_dim\": tune.choice([32]),\n",
    "    \"encoder_layer\": tune.choice([1, 2, 3]),\n",
    "    \"transformer_dropout\": tune.uniform(0.1, 0.5),\n",
    "    \"pos_encoder_dropout\": tune.uniform(0.1, 0.5)\n",
    "}"
   ]
  },
  {
   "cell_type": "code",
   "execution_count": null,
   "metadata": {},
   "outputs": [],
   "source": [
    "scheduler = ASHAScheduler(\n",
    "    metric=\"loss\",\n",
    "    mode=\"min\",\n",
    "    max_t=num_epochs\n",
    ")"
   ]
  },
  {
   "cell_type": "code",
   "execution_count": null,
   "metadata": {},
   "outputs": [],
   "source": [
    "search_alg = OptunaSearch(\n",
    "    metric=\"loss\",\n",
    "    mode=\"min\"\n",
    ") "
   ]
  },
  {
   "cell_type": "code",
   "execution_count": null,
   "metadata": {},
   "outputs": [],
   "source": [
    "attach_ray(manager = True)"
   ]
  },
  {
   "cell_type": "code",
   "execution_count": null,
   "metadata": {},
   "outputs": [],
   "source": [
    "ray_resources_manager = tune.with_resources(\n",
    "    trainable=lambda param: parameter_train(param, num_epochs, train_dataloader, validation_dataloader, input_shape, output_shape, model_path),\n",
    "    # See: https://stackoverflow.com/questions/58967793/what-is-the-way-to-make-tune-run-parallel-trials-across-multiple-gpus\n",
    "    resources={ \"cpu\": 3, \"gpu\": 0.25 }\n",
    ")\n",
    "\n",
    "tuner = tune.Tuner(\n",
    "    ray_resources_manager,\n",
    "    param_space=parameter_space,\n",
    "    tune_config=tune.TuneConfig(\n",
    "        scheduler=scheduler,\n",
    "        search_alg=search_alg,\n",
    "         num_samples=num_samples\n",
    "    )\n",
    ")"
   ]
  },
  {
   "cell_type": "code",
   "execution_count": null,
   "metadata": {},
   "outputs": [],
   "source": [
    "results = tuner.fit()"
   ]
  },
  {
   "cell_type": "code",
   "execution_count": null,
   "metadata": {},
   "outputs": [],
   "source": [
    "disconnect_ray()"
   ]
  },
  {
   "cell_type": "code",
   "execution_count": null,
   "metadata": {},
   "outputs": [],
   "source": [
    "# Save as csv file\n",
    "result_grid = results.get_dataframe()\n",
    "result_grid.to_csv(model_path / \"trail_grid_.csv\")"
   ]
  },
  {
   "cell_type": "code",
   "execution_count": null,
   "metadata": {},
   "outputs": [],
   "source": [
    "best_result = result_grid.iloc[result_grid['loss'].idxmin()].to_dict()\n",
    "trail_id = best_result['trial_id']\n",
    "\n",
    "print(f\"Trail ID from the best run: {trail_id}\")"
   ]
  },
  {
   "cell_type": "code",
   "execution_count": null,
   "metadata": {},
   "outputs": [],
   "source": [
    "print(f\"Best trail by loss value {best_result['loss']}\", \"\\n------\")\n",
    "for key in best_result:\n",
    "    if 'config' in key:\n",
    "        print(f\"Best trail: {key} value {best_result[key]}\")"
   ]
  },
  {
   "cell_type": "code",
   "execution_count": null,
   "metadata": {},
   "outputs": [],
   "source": [
    "print(y_true)"
   ]
  },
  {
   "cell_type": "code",
   "execution_count": null,
   "metadata": {},
   "outputs": [],
   "source": []
  }
 ],
 "metadata": {
  "kernelspec": {
   "display_name": "Python 3 (ipykernel)",
   "language": "python",
   "name": "python3"
  }
 },
 "nbformat": 4,
 "nbformat_minor": 5
}
