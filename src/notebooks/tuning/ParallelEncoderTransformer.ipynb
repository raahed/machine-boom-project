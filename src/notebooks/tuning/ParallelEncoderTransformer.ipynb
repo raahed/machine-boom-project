{
 "cells": [
  {
   "cell_type": "markdown",
   "metadata": {},
   "source": [
    "# Model 4.1: Parallel Encoder Transformer"
   ]
  },
  {
   "cell_type": "code",
   "execution_count": 1,
   "metadata": {},
   "outputs": [],
   "source": [
    "import torch\n",
    "import numpy as np"
   ]
  },
  {
   "cell_type": "code",
   "execution_count": 2,
   "metadata": {},
   "outputs": [
    {
     "name": "stdout",
     "output_type": "stream",
     "text": [
      "Using cuda device\n"
     ]
    }
   ],
   "source": [
    "device = (\"cuda\" if torch.cuda.is_available() else \"cpu\")\n",
    "print(f\"Using {device} device\")"
   ]
  },
  {
   "cell_type": "code",
   "execution_count": 3,
   "metadata": {},
   "outputs": [],
   "source": [
    "# Import local modules from 'src/utils' as package 'utils'\n",
    "import sys; sys.path.insert(0, '/mnt/src')"
   ]
  },
  {
   "cell_type": "code",
   "execution_count": 4,
   "metadata": {},
   "outputs": [],
   "source": [
    "from models.parallel_encoder_model import ParallelEncoderModel, train"
   ]
  },
  {
   "cell_type": "markdown",
   "metadata": {},
   "source": [
    "## Load ParallelTrajectoryDatasets"
   ]
  },
  {
   "cell_type": "code",
   "execution_count": 5,
   "metadata": {},
   "outputs": [],
   "source": [
    "from pathlib import Path\n",
    "from utils.file_io import read_parallel_trajectory_datasets"
   ]
  },
  {
   "cell_type": "code",
   "execution_count": 6,
   "metadata": {},
   "outputs": [],
   "source": [
    "data_path = Path(\"../../data/boomer_data_simulation/\")\n",
    "\n",
    "feature_columns = [\n",
    "    'left_boom_base_yaw_joint', \n",
    "    'left_boom_base_pitch_joint',\n",
    "    'left_boom_main_prismatic_joint',\n",
    "    'left_boom_second_roll_joint',\n",
    "    'left_boom_second_yaw_joint',\n",
    "    'left_boom_top_pitch_joint',\n",
    "    'left_boom_ee_joint',\n",
    "    'cable1_property(length,youngsmodule(bend,twist))',\n",
    "    'cable2_property(length,youngsmodule(bend,twist))',\n",
    "    'cable3_property(length,youngsmodule(bend,twist))'\n",
    "]\n",
    "\n",
    "label_features = [\n",
    "    ('cable1_lowest_point', np.array([2], dtype=np.int64)),\n",
    "    ('cable2_lowest_point', np.array([2], dtype=np.int64)),\n",
    "    ('cable3_lowest_point', np.array([2], dtype=np.int64))\n",
    "]\n",
    "\n",
    "normalized_features = [\n",
    "    ('cable1_property(length,youngsmodule(bend,twist))', np.array([1,2], dtype=np.int64)),\n",
    "    ('cable2_property(length,youngsmodule(bend,twist))', np.array([1,2], dtype=np.int64)),\n",
    "    ('cable3_property(length,youngsmodule(bend,twist))', np.array([1,2], dtype=np.int64))\n",
    "]"
   ]
  },
  {
   "cell_type": "code",
   "execution_count": 7,
   "metadata": {},
   "outputs": [
    {
     "name": "stderr",
     "output_type": "stream",
     "text": [
      "Reading .csv files: 1it [00:00,  3.19it/s]\n",
      "/mnt/src/notebooks/../utils/preprocessing.py:132: RuntimeWarning: divide by zero encountered in divide\n",
      "  return np.where(x_max != x_min, (features - x_min) / (x_max - x_min), 1).astype(dtype=np.float32)\n",
      "/mnt/src/notebooks/../utils/preprocessing.py:132: RuntimeWarning: invalid value encountered in divide\n",
      "  return np.where(x_max != x_min, (features - x_min) / (x_max - x_min), 1).astype(dtype=np.float32)\n"
     ]
    },
    {
     "name": "stdout",
     "output_type": "stream",
     "text": [
      "Reshaping dataframe for learning\n"
     ]
    }
   ],
   "source": [
    "data_folder = Path(\"/mnt/data\").absolute()\n",
    "train_set, _, validation_set, _ = read_parallel_trajectory_datasets(data_folder, 0.8, 0, 0.2, window_size=256, \n",
    "                                                                  feature_columns=feature_columns, label_features=label_features, \n",
    "                                                                  normalized_features=normalized_features)"
   ]
  },
  {
   "cell_type": "code",
   "execution_count": 8,
   "metadata": {},
   "outputs": [
    {
     "name": "stdout",
     "output_type": "stream",
     "text": [
      "torch.Size([1, 256, 16]) torch.Size([1, 256, 3])\n",
      "Data shape 16 / 3 of total 40 data rows!\n"
     ]
    }
   ],
   "source": [
    "features, labels = train_set[0] \n",
    "print(features.shape, labels.shape)\n",
    "input_shape, output_shape = features.shape[-1], labels.shape[-1]\n",
    "num_parallel_trajectories = features.shape[0]\n",
    "print(f\"Data shape {input_shape} / {output_shape} of total {len(train_set) + len(validation_set)} data rows!\")"
   ]
  },
  {
   "cell_type": "markdown",
   "metadata": {},
   "source": [
    "## Load parameter, functions and dataloader"
   ]
  },
  {
   "cell_type": "code",
   "execution_count": 9,
   "metadata": {},
   "outputs": [],
   "source": [
    "tune_path = Path(\"/mnt/models/transformer/tune\").absolute()\n",
    "tune_path.mkdir(parents=True, exist_ok=True)"
   ]
  },
  {
   "cell_type": "markdown",
   "metadata": {},
   "source": [
    "## Train the model with optuna hyperparameter tuning"
   ]
  },
  {
   "cell_type": "code",
   "execution_count": 10,
   "metadata": {},
   "outputs": [],
   "source": [
    "from ray import tune, train as ray_train\n",
    "from ray.tune.schedulers import ASHAScheduler\n",
    "from ray.tune.search.optuna import OptunaSearch\n",
    "from typing import Dict\n",
    "from utils.cluster import attach_ray, disconnect_ray\n",
    "from utils.optimizer import get_optimizer_function, get_learning_rate_scheduler\n",
    "from utils.activation import get_activation\n",
    "from utils.loss_functions import get_loss_function\n",
    "from torch.utils.data import Dataset, DataLoader\n",
    "import random; random.seed(0)"
   ]
  },
  {
   "cell_type": "code",
   "execution_count": 11,
   "metadata": {},
   "outputs": [],
   "source": [
    "def parameter_train(parameter: Dict, train_epochs: int, train_set: Dataset, validation_set: Dataset, model_input_shape: int,\n",
    "                    model_output_shape: int, num_parallel_trajectories: int) -> None:\n",
    "\n",
    "    # Determ device on the actual worker used for the trail\n",
    "    device = (\"cuda\" if torch.cuda.is_available() else \"cpu\")\n",
    "\n",
    "    if device != \"cuda\":\n",
    "        print(\"No cuda device found!\")\n",
    "\n",
    "    train_dataloader = DataLoader(train_set, batch_size=parameter[\"batch_size\"], shuffle = True)\n",
    "    validation_dataloader = DataLoader(validation_set, batch_size=parameter[\"batch_size\"], shuffle = True)\n",
    "\n",
    "    activation = get_activation(parameter[\"activation\"])\n",
    "\n",
    "    model = ParallelEncoderModel(\n",
    "        num_decoders = num_parallel_trajectories,\n",
    "        num_heads = parameter[\"model_dim\"][1],\n",
    "        model_dim = parameter[\"model_dim\"][0],\n",
    "        feedforward_hidden_dim = parameter[\"feedforward_dim\"],\n",
    "        num_encoder_layers = parameter[\"num_encoder_layer\"],\n",
    "        output_dim = model_output_shape,\n",
    "        transformer_dropout = parameter[\"transformer_dropout\"],\n",
    "        pos_encoder_dropout = parameter[\"pos_encoder_dropout\"],\n",
    "        activation = activation\n",
    "    )\n",
    "\n",
    "    # The model needs to be on the device used for training before instance the optimizer\n",
    "    model.to(device)\n",
    "\n",
    "    optimizer = get_optimizer_function(parameter[\"optimizer\"], model, 1)\n",
    "    lr_scheduler = get_learning_rate_scheduler(optimizer, parameter[\"model_dim\"][0], parameter[\"warmup_steps\"])\n",
    "    loss_function = get_loss_function()\n",
    "\n",
    "    _ = train(train_epochs, train_dataloader, validation_dataloader, model, loss_function, optimizer, lr_scheduler, None, device, report_interval=50, tune=True)"
   ]
  },
  {
   "cell_type": "code",
   "execution_count": 12,
   "metadata": {},
   "outputs": [],
   "source": [
    "num_samples = 2000\n",
    "num_epochs = 750\n",
    "grace_period = 5"
   ]
  },
  {
   "cell_type": "code",
   "execution_count": 13,
   "metadata": {},
   "outputs": [],
   "source": [
    "model_dim_params = []\n",
    "\n",
    "n_neighbors = [3, 5, 7, 10, 15]\n",
    "model_dim = [output_shape]\n",
    "\n",
    "for d in model_dim:\n",
    "    num_heads = []\n",
    "    for i in range(2, d + 1):\n",
    "        if d % i == 0: num_heads.append(i)\n",
    "\n",
    "    for h in num_heads:\n",
    "        for n in n_neighbors:\n",
    "            model_dim_params.append((d, h, n))"
   ]
  },
  {
   "cell_type": "code",
   "execution_count": 14,
   "metadata": {},
   "outputs": [],
   "source": [
    "start, end = np.log2(256), np.log2(2048)\n",
    "num_values = 10\n",
    "feedforward_dim = [int(2 ** (start + i / (num_values - 1) * (end - start))) for i in range(num_values)]"
   ]
  },
  {
   "cell_type": "code",
   "execution_count": 15,
   "metadata": {},
   "outputs": [],
   "source": [
    "parameter_space = {\n",
    "    \"pos_encoder_dropout\": tune.loguniform(0.05, 0.6, base = 2),\n",
    "    \"transformer_dropout\": tune.loguniform(0.05, 0.6, base = 2),\n",
    "    \"num_encoder_layer\": tune.choice(list(range(1, 10 + 1, 2))),\n",
    "    \"feedforward_dim\": tune.choice(feedforward_dim),\n",
    "    \"batch_size\": tune.choice(list(range(64, 256, 16))),\n",
    "    \"model_dim_proj_neighbors\": tune.choice(model_dim_params),\n",
    "    \"downprojection\": tune.choice([True]),\n",
    "    \"optimizer\": tune.choice([\"adam\", \"adamw\"]),\n",
    "    \"activation\": tune.choice([\"relu\", \"gelu\"]),\n",
    "    \"warmup_steps\": tune.choice(list(range(1000, 4000, 200))),\n",
    "}"
   ]
  },
  {
   "cell_type": "code",
   "execution_count": 16,
   "metadata": {},
   "outputs": [],
   "source": [
    "scheduler = ASHAScheduler(\n",
    "    metric = \"loss\",\n",
    "    mode = \"min\",\n",
    "    max_t = num_epochs,\n",
    "    grace_period = grace_period\n",
    ")"
   ]
  },
  {
   "cell_type": "code",
   "execution_count": 17,
   "metadata": {},
   "outputs": [],
   "source": [
    "search_alg = OptunaSearch(\n",
    "    metric = \"loss\",\n",
    "    mode = \"min\"\n",
    ") "
   ]
  },
  {
   "cell_type": "code",
   "execution_count": 18,
   "metadata": {},
   "outputs": [
    {
     "name": "stderr",
     "output_type": "stream",
     "text": [
      "2023-12-23 10:59:57,885\tINFO worker.py:1540 -- Connecting to existing Ray cluster at address: 172.17.0.2:2099...\n"
     ]
    },
    {
     "name": "stdout",
     "output_type": "stream",
     "text": [
      "Caution: Assign node as manager different from project .env file.\n"
     ]
    },
    {
     "ename": "ConnectionError",
     "evalue": "",
     "output_type": "error",
     "traceback": [
      "\u001b[0;31m---------------------------------------------------------------------------\u001b[0m",
      "\u001b[0;31mRuntimeError\u001b[0m                              Traceback (most recent call last)",
      "File \u001b[0;32m/usr/local/lib/python3.10/dist-packages/ray/_private/worker.py:1680\u001b[0m, in \u001b[0;36minit\u001b[0;34m(address, num_cpus, num_gpus, resources, labels, object_store_memory, local_mode, ignore_reinit_error, include_dashboard, dashboard_host, dashboard_port, job_config, configure_logging, logging_level, logging_format, log_to_driver, namespace, runtime_env, storage, **kwargs)\u001b[0m\n\u001b[1;32m   1679\u001b[0m \u001b[39mtry\u001b[39;00m:\n\u001b[0;32m-> 1680\u001b[0m     _global_node \u001b[39m=\u001b[39m ray\u001b[39m.\u001b[39;49m_private\u001b[39m.\u001b[39;49mnode\u001b[39m.\u001b[39;49mNode(\n\u001b[1;32m   1681\u001b[0m         ray_params,\n\u001b[1;32m   1682\u001b[0m         head\u001b[39m=\u001b[39;49m\u001b[39mFalse\u001b[39;49;00m,\n\u001b[1;32m   1683\u001b[0m         shutdown_at_exit\u001b[39m=\u001b[39;49m\u001b[39mFalse\u001b[39;49;00m,\n\u001b[1;32m   1684\u001b[0m         spawn_reaper\u001b[39m=\u001b[39;49m\u001b[39mFalse\u001b[39;49;00m,\n\u001b[1;32m   1685\u001b[0m         connect_only\u001b[39m=\u001b[39;49m\u001b[39mTrue\u001b[39;49;00m,\n\u001b[1;32m   1686\u001b[0m     )\n\u001b[1;32m   1687\u001b[0m \u001b[39mexcept\u001b[39;00m (\u001b[39mConnectionError\u001b[39;00m, \u001b[39mRuntimeError\u001b[39;00m):\n",
      "File \u001b[0;32m/usr/local/lib/python3.10/dist-packages/ray/_private/node.py:153\u001b[0m, in \u001b[0;36mNode.__init__\u001b[0;34m(self, ray_params, head, shutdown_at_exit, spawn_reaper, connect_only, default_worker)\u001b[0m\n\u001b[1;32m    152\u001b[0m     \u001b[39mself\u001b[39m\u001b[39m.\u001b[39mvalidate_ip_port(\u001b[39mself\u001b[39m\u001b[39m.\u001b[39maddress)\n\u001b[0;32m--> 153\u001b[0m     \u001b[39mself\u001b[39;49m\u001b[39m.\u001b[39;49m_init_gcs_client()\n\u001b[1;32m    155\u001b[0m \u001b[39m# Register the temp dir.\u001b[39;00m\n",
      "File \u001b[0;32m/usr/local/lib/python3.10/dist-packages/ray/_private/node.py:730\u001b[0m, in \u001b[0;36mNode._init_gcs_client\u001b[0;34m(self)\u001b[0m\n\u001b[1;32m    729\u001b[0m     \u001b[39melse\u001b[39;00m:\n\u001b[0;32m--> 730\u001b[0m         \u001b[39mraise\u001b[39;00m \u001b[39mRuntimeError\u001b[39;00m(\n\u001b[1;32m    731\u001b[0m             \u001b[39mf\u001b[39m\u001b[39m\"\u001b[39m\u001b[39mFailed to \u001b[39m\u001b[39m{\u001b[39;00m\u001b[39m'\u001b[39m\u001b[39mstart\u001b[39m\u001b[39m'\u001b[39m\u001b[39m \u001b[39m\u001b[39mif\u001b[39;00m\u001b[39m \u001b[39m\u001b[39mself\u001b[39m\u001b[39m.\u001b[39mhead\u001b[39m \u001b[39m\u001b[39melse\u001b[39;00m\u001b[39m \u001b[39m\u001b[39m'\u001b[39m\u001b[39mconnect to\u001b[39m\u001b[39m'\u001b[39m\u001b[39m}\u001b[39;00m\u001b[39m GCS.\u001b[39m\u001b[39m\"\u001b[39m\n\u001b[1;32m    732\u001b[0m         )\n\u001b[1;32m    734\u001b[0m ray\u001b[39m.\u001b[39mexperimental\u001b[39m.\u001b[39minternal_kv\u001b[39m.\u001b[39m_initialize_internal_kv(\u001b[39mself\u001b[39m\u001b[39m.\u001b[39m_gcs_client)\n",
      "\u001b[0;31mRuntimeError\u001b[0m: Failed to connect to GCS.",
      "\nDuring handling of the above exception, another exception occurred:\n",
      "\u001b[0;31mConnectionError\u001b[0m                           Traceback (most recent call last)",
      "\u001b[1;32m/home/pandavid/uni/WiSe2324/ProjectWork/machine-boom-project/src/notebooks/tuning/ParallelEncoderTransformer.ipynb Cell 22\u001b[0m line \u001b[0;36m1\n\u001b[0;32m----> <a href='vscode-notebook-cell:/home/pandavid/uni/WiSe2324/ProjectWork/machine-boom-project/src/notebooks/tuning/ParallelEncoderTransformer.ipynb#X30sZmlsZQ%3D%3D?line=0'>1</a>\u001b[0m attach_ray(manager \u001b[39m=\u001b[39;49m \u001b[39mTrue\u001b[39;49;00m)\n",
      "File \u001b[0;32m/mnt/src/notebooks/../utils/cluster.py:24\u001b[0m, in \u001b[0;36mattach_ray\u001b[0;34m(manager)\u001b[0m\n\u001b[1;32m     21\u001b[0m     \u001b[39mprint\u001b[39m(\u001b[39m\"\u001b[39m\u001b[39mCaution: Assign node as manager different from project .env file.\u001b[39m\u001b[39m\"\u001b[39m)\n\u001b[1;32m     23\u001b[0m \u001b[39mif\u001b[39;00m manager:\n\u001b[0;32m---> 24\u001b[0m     ray\u001b[39m.\u001b[39;49minit(address\u001b[39m=\u001b[39;49m\u001b[39m'\u001b[39;49m\u001b[39mlocalhost:2099\u001b[39;49m\u001b[39m'\u001b[39;49m, runtime_env\u001b[39m=\u001b[39;49m{ \u001b[39m\"\u001b[39;49m\u001b[39mpy_modules\u001b[39;49m\u001b[39m\"\u001b[39;49m: [utils, models] })\n\u001b[1;32m     25\u001b[0m \u001b[39melse\u001b[39;00m:\n\u001b[1;32m     26\u001b[0m     ray\u001b[39m.\u001b[39minit(runtime_env\u001b[39m=\u001b[39m{ \u001b[39m\"\u001b[39m\u001b[39mpy_modules\u001b[39m\u001b[39m\"\u001b[39m: [utils, models] })\n",
      "File \u001b[0;32m/usr/local/lib/python3.10/dist-packages/ray/_private/client_mode_hook.py:103\u001b[0m, in \u001b[0;36mclient_mode_hook.<locals>.wrapper\u001b[0;34m(*args, **kwargs)\u001b[0m\n\u001b[1;32m    101\u001b[0m     \u001b[39mif\u001b[39;00m func\u001b[39m.\u001b[39m\u001b[39m__name__\u001b[39m \u001b[39m!=\u001b[39m \u001b[39m\"\u001b[39m\u001b[39minit\u001b[39m\u001b[39m\"\u001b[39m \u001b[39mor\u001b[39;00m is_client_mode_enabled_by_default:\n\u001b[1;32m    102\u001b[0m         \u001b[39mreturn\u001b[39;00m \u001b[39mgetattr\u001b[39m(ray, func\u001b[39m.\u001b[39m\u001b[39m__name__\u001b[39m)(\u001b[39m*\u001b[39margs, \u001b[39m*\u001b[39m\u001b[39m*\u001b[39mkwargs)\n\u001b[0;32m--> 103\u001b[0m \u001b[39mreturn\u001b[39;00m func(\u001b[39m*\u001b[39;49margs, \u001b[39m*\u001b[39;49m\u001b[39m*\u001b[39;49mkwargs)\n",
      "File \u001b[0;32m/usr/local/lib/python3.10/dist-packages/ray/_private/worker.py:1696\u001b[0m, in \u001b[0;36minit\u001b[0;34m(address, num_cpus, num_gpus, resources, labels, object_store_memory, local_mode, ignore_reinit_error, include_dashboard, dashboard_host, dashboard_port, job_config, configure_logging, logging_level, logging_format, log_to_driver, namespace, runtime_env, storage, **kwargs)\u001b[0m\n\u001b[1;32m   1688\u001b[0m         \u001b[39mif\u001b[39;00m gcs_address \u001b[39m==\u001b[39m ray\u001b[39m.\u001b[39m_private\u001b[39m.\u001b[39mutils\u001b[39m.\u001b[39mread_ray_address(_temp_dir):\n\u001b[1;32m   1689\u001b[0m             logger\u001b[39m.\u001b[39minfo(\n\u001b[1;32m   1690\u001b[0m                 \u001b[39m\"\u001b[39m\u001b[39mFailed to connect to the default Ray cluster address at \u001b[39m\u001b[39m\"\u001b[39m\n\u001b[1;32m   1691\u001b[0m                 \u001b[39mf\u001b[39m\u001b[39m\"\u001b[39m\u001b[39m{\u001b[39;00mgcs_address\u001b[39m}\u001b[39;00m\u001b[39m. This is most likely due to a previous Ray \u001b[39m\u001b[39m\"\u001b[39m\n\u001b[0;32m   (...)\u001b[0m\n\u001b[1;32m   1694\u001b[0m                 \u001b[39m\"\u001b[39m\u001b[39m`ray start`.\u001b[39m\u001b[39m\"\u001b[39m\n\u001b[1;32m   1695\u001b[0m             )\n\u001b[0;32m-> 1696\u001b[0m         \u001b[39mraise\u001b[39;00m \u001b[39mConnectionError\u001b[39;00m\n\u001b[1;32m   1698\u001b[0m \u001b[39m# Log a message to find the Ray address that we connected to and the\u001b[39;00m\n\u001b[1;32m   1699\u001b[0m \u001b[39m# dashboard URL.\u001b[39;00m\n\u001b[1;32m   1700\u001b[0m \u001b[39mif\u001b[39;00m ray_constants\u001b[39m.\u001b[39mRAY_OVERRIDE_DASHBOARD_URL \u001b[39min\u001b[39;00m os\u001b[39m.\u001b[39menviron:\n",
      "\u001b[0;31mConnectionError\u001b[0m: "
     ]
    }
   ],
   "source": [
    "attach_ray(manager = True)"
   ]
  },
  {
   "cell_type": "code",
   "execution_count": null,
   "metadata": {},
   "outputs": [],
   "source": [
    "ray_resources_manager = tune.with_resources(\n",
    "    trainable=lambda param: parameter_train(param, num_epochs, train_set, validation_set, input_shape, output_shape),\n",
    "    # See: https://stackoverflow.com/questions/58967793/what-is-the-way-to-make-tune-run-parallel-trials-across-multiple-gpus\n",
    "    resources={ \"cpu\": 6, \"gpu\": 0.5 if torch.cuda.is_available() else 0 }\n",
    ")\n",
    "\n",
    "tuner = tune.Tuner(\n",
    "    ray_resources_manager,\n",
    "    param_space=parameter_space,\n",
    "    tune_config=tune.TuneConfig(\n",
    "        scheduler=scheduler,\n",
    "        search_alg=search_alg,\n",
    "         num_samples=num_samples\n",
    "    ),\n",
    "    run_config = ray_train.RunConfig(\n",
    "        name = \"parallel_transformer_encoder\"\n",
    "    )\n",
    ")"
   ]
  },
  {
   "cell_type": "code",
   "execution_count": null,
   "metadata": {},
   "outputs": [],
   "source": [
    "results = tuner.fit()"
   ]
  },
  {
   "cell_type": "code",
   "execution_count": null,
   "metadata": {},
   "outputs": [],
   "source": [
    "disconnect_ray()"
   ]
  },
  {
   "cell_type": "code",
   "execution_count": null,
   "metadata": {},
   "outputs": [],
   "source": [
    "# Save as csv file\n",
    "result_grid = results.get_dataframe()\n",
    "result_grid.to_csv(tune_path / \"trail_grid_.csv\")"
   ]
  },
  {
   "cell_type": "code",
   "execution_count": null,
   "metadata": {},
   "outputs": [],
   "source": [
    "best_result = result_grid.iloc[result_grid['loss'].idxmin()].to_dict()\n",
    "trail_id = best_result['trial_id']\n",
    "\n",
    "print(f\"Trail ID from the best run: {trail_id}\")"
   ]
  },
  {
   "cell_type": "code",
   "execution_count": null,
   "metadata": {},
   "outputs": [],
   "source": [
    "print(f\"Best trail by loss value {best_result['loss']}\", \"\\n------\")\n",
    "for key in best_result:\n",
    "    if 'config' in key:\n",
    "        print(f\"Best trail: {key} value {best_result[key]}\")"
   ]
  },
  {
   "cell_type": "markdown",
   "metadata": {},
   "source": []
  }
 ],
 "metadata": {
  "kernelspec": {
   "display_name": "Python 3 (ipykernel)",
   "language": "python",
   "name": "python3"
  },
  "language_info": {
   "codemirror_mode": {
    "name": "ipython",
    "version": 3
   },
   "file_extension": ".py",
   "mimetype": "text/x-python",
   "name": "python",
   "nbconvert_exporter": "python",
   "pygments_lexer": "ipython3",
   "version": "3.10.12"
  }
 },
 "nbformat": 4,
 "nbformat_minor": 2
}
