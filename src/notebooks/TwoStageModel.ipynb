{
 "cells": [
  {
   "cell_type": "markdown",
   "metadata": {},
   "source": [
    "# Model 4: Two Stage Model"
   ]
  },
  {
   "cell_type": "code",
   "execution_count": null,
   "metadata": {},
   "outputs": [],
   "source": [
    "import torch\n",
    "import numpy as np\n",
    "import pandas as pd"
   ]
  },
  {
   "cell_type": "code",
   "execution_count": null,
   "metadata": {},
   "outputs": [],
   "source": [
    "device = (\"cuda\" if torch.cuda.is_available() else \"cpu\")\n",
    "print(f\"Using {device} device\")"
   ]
  },
  {
   "cell_type": "code",
   "execution_count": null,
   "metadata": {},
   "outputs": [],
   "source": [
    "# Import local modules from 'src/utils' as package 'utils'\n",
    "import sys; sys.path.insert(0, '../')"
   ]
  },
  {
   "cell_type": "markdown",
   "metadata": {},
   "source": [
    "## Load ParallelTrajectoryDatasets"
   ]
  },
  {
   "cell_type": "code",
   "execution_count": null,
   "metadata": {},
   "outputs": [],
   "source": [
    "from pathlib import Path\n",
    "from utils.file_io import read_parallel_trajectory_datasets"
   ]
  },
  {
   "cell_type": "code",
   "execution_count": null,
   "metadata": {},
   "outputs": [],
   "source": [
    "data_path = Path(\"../../data\")\n",
    "\n",
    "feature_columns = [\n",
    "    'left_boom_base_yaw_joint', 'left_boom_base_pitch_joint', 'left_boom_main_prismatic_joint', 'left_boom_second_roll_joint',\n",
    "    'left_boom_second_yaw_joint', 'left_boom_top_pitch_joint'\n",
    "]\n",
    "\n",
    "label_columns = ['cable1_lowest_point', 'cable2_lowest_point', 'cable3_lowest_point']"
   ]
  },
  {
   "cell_type": "code",
   "execution_count": null,
   "metadata": {},
   "outputs": [],
   "source": [
    "train_set, test_set, validation_set, visualization_set = read_parallel_trajectory_datasets(data_path, 0.85, 0.10, 0.045, 0.005, 256, feature_columns, label_columns)"
   ]
  },
  {
   "cell_type": "code",
   "execution_count": null,
   "metadata": {},
   "outputs": [],
   "source": [
    "features, labels, last_indices = test_set[257] \n",
    "print(features.shape, labels.shape, last_indices)\n",
    "input_shape, output_shape = features.shape[-1], labels.shape[-1]"
   ]
  },
  {
   "cell_type": "markdown",
   "metadata": {},
   "source": [
    "## Define Transformer Encoder Model"
   ]
  },
  {
   "cell_type": "code",
   "execution_count": null,
   "metadata": {},
   "outputs": [],
   "source": [
    "from torch import nn, Tensor\n",
    "from torch.nn import TransformerEncoder, TransformerEncoderLayer\n",
    "import math"
   ]
  },
  {
   "cell_type": "markdown",
   "metadata": {},
   "source": [
    "### Transformer positional encoding"
   ]
  },
  {
   "cell_type": "code",
   "execution_count": null,
   "metadata": {},
   "outputs": [],
   "source": [
    "class PositionalEncoding(nn.Module):\n",
    "    def __init__(self, d_model: int, dropout: float = 0.1, max_len: int = 1024) -> None:\n",
    "        super().__init__()\n",
    "        self.dropout = nn.Dropout(p=dropout)\n",
    "\n",
    "        position = torch.arange(max_len).unsqueeze(1)\n",
    "        div_term = torch.exp(torch.arange(0, d_model, 2) * (-math.log(10000.0) / d_model))\n",
    "        pe = torch.zeros(max_len, 1, d_model)\n",
    "        pe[:, 0, 0::2] = torch.sin(position * div_term)\n",
    "        pe[:, 0, 1::2] = torch.cos(position * div_term)\n",
    "        self.register_buffer('pe', pe)\n",
    "\n",
    "    def forward(self, x: Tensor) -> Tensor:\n",
    "        \"\"\"\n",
    "        Arguments:\n",
    "            x: Tensor, shape ``[seq_len, batch_size, embedding_dim]``\n",
    "        \"\"\"\n",
    "        x += self.pe[:x.size(0)]\n",
    "        return self.dropout(x)"
   ]
  },
  {
   "cell_type": "code",
   "execution_count": null,
   "metadata": {},
   "outputs": [],
   "source": [
    "class TransformerEncoderModel(nn.Module):\n",
    "    def __init__(self, num_heads: int, model_dim: int, feedforward_hidden_dim: int,\n",
    "                 num_encoder_layers: int = 6, transformer_dropout: float = 0.1, pos_encoder_dropout: float = 0.25) -> None:\n",
    "        super().__init__()\n",
    "        self.model_type = 'Transformer'\n",
    "        self.total_epochs = 0\n",
    "        encoder_layers = TransformerEncoderLayer(model_dim, num_heads, feedforward_hidden_dim, transformer_dropout)\n",
    "        self.transformer_encoder = TransformerEncoder(encoder_layers, num_encoder_layers)   \n",
    "        self.pos_encoder = PositionalEncoding(model_dim, pos_encoder_dropout)\n",
    "\n",
    "    def forward(self, source: Tensor, source_msk: Tensor = None) -> Tensor:\n",
    "        # expect input shape to be (S, N, E) with S being the sequence length, N batch size and, E the input dimensionality\n",
    "        # target_mask masks out all values right of the diagonal such that information from the target sequence cant bleed into the left hand side at training time\n",
    "        source = self.pos_encoder(source)\n",
    "        return self.transformer_encoder(source, source_msk)\n",
    "    \n",
    "\n",
    "class ParallelEncoderModel(nn.Module):\n",
    "    def __init__(self, num_decoders: int, num_heads: int, model_dim: int, feedforward_hidden_dim: int, output_dim: int,\n",
    "                 num_encoder_layers: int = 6, transformer_dropout: float = 0.1, pos_encoder_dropout: float = 0.25) -> None:\n",
    "        super().__init__()\n",
    "        self.model_type = 'Transformer'\n",
    "        self.total_epochs = 0\n",
    "        encoder_layers = TransformerEncoderLayer(model_dim, num_heads, feedforward_hidden_dim, transformer_dropout)\n",
    "        self.transformer_encoder = TransformerEncoder(encoder_layers, num_encoder_layers)   \n",
    "        self.pos_encoder = PositionalEncoding(model_dim, pos_encoder_dropout)\n",
    "        self.decoders = nn.ModuleList([nn.Linear(model_dim, output_dim) for i in range(num_decoders)])\n",
    "        self.activation = nn.ReLU()\n",
    "\n",
    "    def forward(self, source: Tensor, source_mask: Tensor = None) -> Tensor:\n",
    "        decoded = []\n",
    "        for i, decoder in enumerate(self.decoders):\n",
    "            trajectory_source = source[i, :, :, :]\n",
    "            trajectory_source = self.pos_encoder(trajectory_source)\n",
    "            trajectory_source = self.transformer_encoder(trajectory_source, source_mask)\n",
    "            decoded_trajectory = decoder(trajectory_source)\n",
    "            decoded_trajectory = self.activation(decoded_trajectory)\n",
    "            decoded.append(decoded_trajectory)\n",
    "        return torch.stack(decoded, dim=0)\n"
   ]
  },
  {
   "cell_type": "code",
   "execution_count": null,
   "metadata": {},
   "outputs": [],
   "source": [
    "encoder_model = ParallelEncoderModel(2, 3, input_shape, 64, output_shape).to(device) "
   ]
  },
  {
   "cell_type": "markdown",
   "metadata": {},
   "source": [
    "## Model Training Step 1"
   ]
  },
  {
   "cell_type": "markdown",
   "metadata": {},
   "source": [
    "### Load parameters, functions, and Dataloader"
   ]
  },
  {
   "cell_type": "code",
   "execution_count": null,
   "metadata": {},
   "outputs": [],
   "source": [
    "import os\n",
    "\n",
    "from typing import Any\n",
    "\n",
    "from torch.utils.data import DataLoader\n",
    "from dotenv import load_dotenv\n",
    "\n",
    "from utils.file_io import save_model\n",
    "from utils.file_io import define_dataloader_from_subset\n",
    "from utils.evaluation import compute_loss_on\n",
    "from utils.optimizer import rate"
   ]
  },
  {
   "cell_type": "code",
   "execution_count": null,
   "metadata": {},
   "outputs": [],
   "source": [
    "model_path = Path(\"../../models/encoder/\").absolute()"
   ]
  },
  {
   "cell_type": "code",
   "execution_count": null,
   "metadata": {},
   "outputs": [],
   "source": [
    "dotenv_path = model_path / \".env\"\n",
    "load_dotenv(dotenv_path=dotenv_path)\n",
    "\n",
    "batch_size = int(os.getenv(\"BATCH_SIZE\"))\n",
    "num_epochs = int(os.getenv(\"NUM_EPOCHS\"))"
   ]
  },
  {
   "cell_type": "code",
   "execution_count": null,
   "metadata": {},
   "outputs": [],
   "source": [
    "def get_optimizer_function_and_learning_rate_scheduler(model: nn.Module, model_size: int, warmup_steps: int, factor: float = 1) -> Tuple[Any, Any]:\n",
    "    optimizer = torch.optim.AdamW(model.parameters(), lr=1)\n",
    "    lr_scheduler = torch.optim.lr_scheduler.LambdaLR(optimizer=optimizer, lr_lambda=lambda step: rate(step, model_size, factor, warmup_steps))\n",
    "    return optimizer, lr_scheduler\n",
    "\n",
    "\n",
    "def get_loss_function() -> nn.Module:\n",
    "    return torch.nn.MSELoss()"
   ]
  },
  {
   "cell_type": "code",
   "execution_count": null,
   "metadata": {},
   "outputs": [],
   "source": [
    "train_dataloader, validation_dataloader, test_dataloader = define_dataloader_from_subset(train_set, validation_set, test_set, batch_size=batch_size, shuffle=True)"
   ]
  },
  {
   "cell_type": "markdown",
   "metadata": {},
   "source": [
    "### Define train methods"
   ]
  },
  {
   "cell_type": "code",
   "execution_count": null,
   "metadata": {},
   "outputs": [],
   "source": [
    "from ray import train as ray_train\n",
    "from ray.train import Checkpoint"
   ]
  },
  {
   "cell_type": "code",
   "execution_count": null,
   "metadata": {},
   "outputs": [],
   "source": [
    "def train_epoch(train_dataloader: DataLoader, model, loss_function, optimizer, lr_scheduler,\n",
    "                device: torch.device, report_interval: int = 100):\n",
    "    \n",
    "    running_loss = 0\n",
    "    last_loss = 0\n",
    "    \n",
    "    for i, (inputs, true_values) in enumerate(train_dataloader):\n",
    "        \n",
    "        inputs = inputs.to(device)\n",
    "        true_values = true_values.to(device)\n",
    "    \n",
    "        inputs_shape, true_values_shape = inputs.size(), true_values.size()\n",
    "        inputs = inputs.view(inputs_shape[1], inputs_shape[2], inputs_shape[0], inputs_shape[3])\n",
    "        true_values = true_values.view(true_values_shape[1], true_values_shape[2], true_values_shape[0], true_values_shape[3])\n",
    "        optimizer.zero_grad()\n",
    "        outputs = model(inputs)\n",
    "        loss = loss_function(outputs, true_values)\n",
    "        running_loss += loss\n",
    "        loss.backward()\n",
    "        optimizer.step()\n",
    "        lr_scheduler.step()\n",
    "\n",
    "        optimizer.zero_grad()\n",
    "        outputs = model(inputs)\n",
    "    \n",
    "        if i % report_interval == report_interval - 1:\n",
    "            last_loss = running_loss / report_interval\n",
    "            print(f\"batch {i + 1}, Mean Squared Error: {last_loss}\")\n",
    "            running_loss = 0\n",
    "\n",
    "    return last_loss"
   ]
  },
  {
   "cell_type": "code",
   "execution_count": null,
   "metadata": {},
   "outputs": [],
   "source": [
    "def train(epochs: int, train_dataloader: DataLoader, validation_dataloader: DataLoader, model: nn.Module, \n",
    "          loss_function, optimizer, lr_scheduler, checkpoint_path: Path, device: torch.device = 'cpu', report_interval: int = 128, tune: bool = False) -> nn.Module:\n",
    "    \n",
    "    best_val_loss = float(\"inf\")\n",
    "\n",
    "    if torch.cuda.device_count() > 1:\n",
    "        model = nn.DataParallel(model)\n",
    "\n",
    "    model.to(device)\n",
    "\n",
    "    if tune:\n",
    "        checkpoint = ray_train.get_checkpoint()\n",
    "\n",
    "        if checkpoint:\n",
    "            with checkpoint.as_directory() as checkpoint_dir:\n",
    "                model_state = torch.load(os.path.join(checkpoint_dir, \"checkpoint.pt\"))\n",
    "                model.load_state_dict(model_state)\n",
    "\n",
    "    for epoch in range(model.total_epochs, epochs):\n",
    "        print(f\"Epoch: {epoch + 1}\")\n",
    "\n",
    "        model.train(True)\n",
    "        avg_loss = train_epoch(train_dataloader, model, loss_function, optimizer, lr_scheduler, device, report_interval)\n",
    "        model.eval()\n",
    "\n",
    "        with torch.no_grad():\n",
    "            avg_val_loss = compute_loss_on(validation_dataloader, model, loss_function, reshape=True, device=device)\n",
    "\n",
    "        print(f\"Loss on train: {avg_loss}, loss on validation: {avg_val_loss}\")\n",
    "\n",
    "        model.total_epochs += 1\n",
    "    \n",
    "\n",
    "        if avg_val_loss < best_val_loss or tune:\n",
    "            best_val_loss = avg_val_loss            \n",
    "            \n",
    "            torch.save(model.state_dict(), checkpoint_path / \"checkpoint.pt\")\n",
    "\n",
    "        if tune:\n",
    "            ray_train.report(metrics={ \"loss\": float(avg_val_loss) }, checkpoint=Checkpoint.from_directory(checkpoint_path))\n",
    "\n",
    "    return model"
   ]
  },
  {
   "cell_type": "markdown",
   "metadata": {},
   "source": [
    "## Train the model with optuna hyperparameter tuning"
   ]
  },
  {
   "cell_type": "code",
   "execution_count": null,
   "metadata": {},
   "outputs": [],
   "source": [
    "import ray\n",
    "from ray import tune\n",
    "from ray.tune.schedulers import ASHAScheduler\n",
    "from ray.tune.search.optuna import OptunaSearch\n",
    "from typing import Dict"
   ]
  },
  {
   "cell_type": "code",
   "execution_count": null,
   "metadata": {},
   "outputs": [],
   "source": [
    "def parameter_train(parameter: Dict, train_epochs: int, train_data: DataLoader, validation_data: DataLoader, model_input_shape: int,\n",
    "                    model_output_shape: int, checkpoint_path: Path, device: torch.device) -> None:\n",
    "    features. _ = train_dataloader.dataset[0]\n",
    "    parallel_trajectories = features.shape[0]\n",
    "    run_id = ray_train.get_context().get_trial_id()\n",
    "    run_checkpoint = checkpoint_path / run_id\n",
    "    run_checkpoint.mkdir(parents=True)\n",
    "\n",
    "    model = ParallelEncoderModel(parallel_trajectories, model_input_shape, parameter[\"model_dim\"], parameter[\"feedforward_dim\"], model_output_shape,\n",
    "                                   parameter[\"encoder_layer\"], parameter[\"transformer_dropout\"], parameter[\"pos_encoder_dropout\"]).to(device)\n",
    "\n",
    "    optimizer, lr_scheduler = get_optimizer_function_and_learning_rate_scheduler(model, parameter[\"model_dim\"], warmup_steps=parameter[\"warmup_steps\"])\n",
    "    loss_function = get_loss_function()\n",
    "\n",
    "    _ = train(train_epochs, train_data, validation_data, model, loss_function, optimizer, lr_scheduler, run_checkpoint, device, report_interval=50, tune=True)"
   ]
  },
  {
   "cell_type": "code",
   "execution_count": null,
   "metadata": {},
   "outputs": [],
   "source": [
    "learning_rate_radius = 1e-3\n",
    "batch_size_radius = 10\n",
    "num_samples = 100"
   ]
  },
  {
   "cell_type": "code",
   "execution_count": null,
   "metadata": {},
   "outputs": [],
   "source": [
    "parameter_space = {\n",
    "    \"batch_size\": tune.choice(list(range(batch_size - batch_size_radius, batch_size + batch_size_radius, 4))),\n",
    "    \"model_dim\": tune.choice([6]),\n",
    "    \"warmup_steps\": tune.choice(list(range(1000, 1200, 2000))),\n",
    "    \"feedforward_dim\": tune.choice([32]),\n",
    "    \"encoder_layer\": tune.choice([1, 2, 3]),\n",
    "    \"transformer_dropout\": tune.uniform(0.1, 0.5),\n",
    "    \"pos_encoder_dropout\": tune.uniform(0.1, 0.5)\n",
    "}"
   ]
  },
  {
   "cell_type": "code",
   "execution_count": null,
   "metadata": {},
   "outputs": [],
   "source": [
    "scheduler = ASHAScheduler(\n",
    "    metric=\"loss\",\n",
    "    mode=\"min\",\n",
    "    max_t=num_epochs\n",
    ")"
   ]
  },
  {
   "cell_type": "code",
   "execution_count": null,
   "metadata": {},
   "outputs": [],
   "source": [
    "search_alg = OptunaSearch(\n",
    "    metric=\"loss\",\n",
    "    mode=\"min\"\n",
    ") "
   ]
  },
  {
   "cell_type": "code",
   "execution_count": null,
   "metadata": {},
   "outputs": [],
   "source": [
    "import utils\n",
    "if ray.is_initialized():\n",
    "    ray.shutdown()\n",
    "\n",
    "ray.init(runtime_env={ \"py_modules\": [utils] })"
   ]
  },
  {
   "cell_type": "code",
   "execution_count": null,
   "metadata": {},
   "outputs": [],
   "source": [
    "ray_resources_manager = tune.with_resources(\n",
    "    trainable=lambda param: parameter_train(param, num_epochs, train_dataloader, validation_dataloader, input_shape, output_shape, model_path, device),\n",
    "    # See: https://stackoverflow.com/questions/58967793/what-is-the-way-to-make-tune-run-parallel-trials-across-multiple-gpus\n",
    "    resources={ \"cpu\": 3, \"gpu\": 0.25 }\n",
    ")\n",
    "\n",
    "tuner = tune.Tuner(\n",
    "    ray_resources_manager,\n",
    "    param_space=parameter_space,\n",
    "    tune_config=tune.TuneConfig(\n",
    "        scheduler=scheduler,\n",
    "        search_alg=search_alg,\n",
    "         num_samples=num_samples\n",
    "    )\n",
    ")"
   ]
  },
  {
   "cell_type": "code",
   "execution_count": null,
   "metadata": {},
   "outputs": [],
   "source": [
    "results = tuner.fit()"
   ]
  },
  {
   "cell_type": "code",
   "execution_count": null,
   "metadata": {},
   "outputs": [],
   "source": [
    "if ray.is_initialized():\n",
    "    ray.shutdown()"
   ]
  },
  {
   "cell_type": "code",
   "execution_count": null,
   "metadata": {},
   "outputs": [],
   "source": [
    "# Save as csv file\n",
    "results.get_dataframe().to_csv(model_path / \"trail_grid.csv\")"
   ]
  },
  {
   "cell_type": "code",
   "execution_count": null,
   "metadata": {},
   "outputs": [],
   "source": [
    "best_result = results.get_best_result(\"loss\", \"min\")\n",
    "best_checkpoint = best_result.get_best_checkpoint(\"loss\", \"min\")\n",
    "\n",
    "best_model = torch.load(f\"{best_checkpoint.path}/checkpoint.pt\")"
   ]
  },
  {
   "cell_type": "code",
   "execution_count": null,
   "metadata": {},
   "outputs": [],
   "source": [
    "print(f\"Best trail by loss value {best_result.metrics['loss']}\", \"\\n------\")\n",
    "for i in best_result.config:\n",
    "    print(f\"Best trail: {i} value {best_result.config[i]}\")"
   ]
  },
  {
   "cell_type": "markdown",
   "metadata": {},
   "source": [
    "## Infer Length and Cable Properties from Sample Trajectory"
   ]
  },
  {
   "cell_type": "markdown",
   "metadata": {},
   "source": []
  }
 ],
 "metadata": {
  "kernelspec": {
   "display_name": "Python 3 (ipykernel)",
   "language": "python",
   "name": "python3"
  },
  "language_info": {
   "codemirror_mode": {
    "name": "ipython",
    "version": 3
   },
   "file_extension": ".py",
   "mimetype": "text/x-python",
   "name": "python",
   "nbconvert_exporter": "python",
   "pygments_lexer": "ipython3",
   "version": "3.10.12"
  }
 },
 "nbformat": 4,
 "nbformat_minor": 2
}
