{
 "cells": [
  {
   "cell_type": "markdown",
   "metadata": {},
   "source": [
    "# Model 4: Two Stage Model"
   ]
  },
  {
   "cell_type": "code",
   "execution_count": 1,
   "metadata": {},
   "outputs": [],
   "source": [
    "import torch\n",
    "import numpy as np\n",
    "import pandas as pd"
   ]
  },
  {
   "cell_type": "code",
   "execution_count": 2,
   "metadata": {},
   "outputs": [
    {
     "name": "stdout",
     "output_type": "stream",
     "text": [
      "Using cuda device\n"
     ]
    }
   ],
   "source": [
    "device = (\"cuda\" if torch.cuda.is_available() else \"cpu\")\n",
    "print(f\"Using {device} device\")"
   ]
  },
  {
   "cell_type": "code",
   "execution_count": 3,
   "metadata": {},
   "outputs": [],
   "source": [
    "# Import local modules from 'src/utils' as package 'utils'\n",
    "import sys; sys.path.insert(0, '../')"
   ]
  },
  {
   "cell_type": "markdown",
   "metadata": {},
   "source": [
    "## Load ParallelTrajectoryDatasets"
   ]
  },
  {
   "cell_type": "code",
   "execution_count": 4,
   "metadata": {},
   "outputs": [],
   "source": [
    "from pathlib import Path\n",
    "from utils.file_io import read_parallel_trajectory_datasets"
   ]
  },
  {
   "cell_type": "code",
   "execution_count": 5,
   "metadata": {},
   "outputs": [],
   "source": [
    "data_path = Path(\"../../data\")\n",
    "\n",
    "feature_columns = [\n",
    "    'left_boom_base_yaw_joint', 'left_boom_base_pitch_joint', 'left_boom_main_prismatic_joint', 'left_boom_second_roll_joint',\n",
    "    'left_boom_second_yaw_joint', 'left_boom_top_pitch_joint', 'cable1_property(length,youngsmodule(bend,twist))', \n",
    "    'cable2_property(length,youngsmodule(bend,twist))', 'cable3_property(length,youngsmodule(bend,twist))'\n",
    "]\n",
    "\n",
    "label_features = [\n",
    "    ('cable1_lowest_point', np.array([0, 1, 2], dtype=np.int64)),\n",
    "    ('cable2_lowest_point', np.array([0, 1, 2], dtype=np.int64)),\n",
    "    ('cable3_lowest_point', np.array([0, 1, 2], dtype=np.int64))\n",
    "]\n",
    "\n",
    "normalized_features = [\n",
    "    ('cable1_property(length,youngsmodule(bend,twist))', np.array([1,2], dtype=np.int64)),\n",
    "    ('cable2_property(length,youngsmodule(bend,twist))', np.array([1,2], dtype=np.int64)),\n",
    "    ('cable3_property(length,youngsmodule(bend,twist))', np.array([1,2], dtype=np.int64))\n",
    "]"
   ]
  },
  {
   "cell_type": "code",
   "execution_count": 6,
   "metadata": {},
   "outputs": [
    {
     "name": "stderr",
     "output_type": "stream",
     "text": [
      "Reading .csv files: 2it [00:05,  2.81s/it]\n"
     ]
    },
    {
     "name": "stdout",
     "output_type": "stream",
     "text": [
      "Reshaping dataframe for learning\n",
      "Reshaping dataframe for learning\n"
     ]
    }
   ],
   "source": [
    "train_set, test_set, validation_set, visualization_set = read_parallel_trajectory_datasets(data_path, 0.85, 0.10, 0.045, 0.005, 256, \n",
    "                                                                                           feature_columns=feature_columns, label_features=label_features,\n",
    "                                                                                           normalized_features=normalized_features)"
   ]
  },
  {
   "cell_type": "code",
   "execution_count": 7,
   "metadata": {},
   "outputs": [
    {
     "name": "stdout",
     "output_type": "stream",
     "text": [
      "torch.Size([2, 256, 15]) torch.Size([2, 9]) tensor([1, 1])\n"
     ]
    }
   ],
   "source": [
    "features, labels, last_indices = test_set[257] \n",
    "print(features.shape, labels.shape, last_indices)\n",
    "input_shape, output_shape = features.shape[-1], labels.shape[-1]"
   ]
  },
  {
   "cell_type": "markdown",
   "metadata": {},
   "source": [
    "## Define Transformer Encoder Model"
   ]
  },
  {
   "cell_type": "code",
   "execution_count": 8,
   "metadata": {},
   "outputs": [],
   "source": [
    "from torch import nn, Tensor\n",
    "from torch.nn import TransformerEncoder, TransformerEncoderLayer\n",
    "from umap import UMAP\n",
    "import math"
   ]
  },
  {
   "cell_type": "markdown",
   "metadata": {},
   "source": [
    "### Transformer positional encoding"
   ]
  },
  {
   "cell_type": "code",
   "execution_count": 9,
   "metadata": {},
   "outputs": [],
   "source": [
    "class PositionalEncoding(nn.Module):\n",
    "    def __init__(self, d_model: int, dropout: float = 0.1, max_len: int = 1024) -> None:\n",
    "        super().__init__()\n",
    "        self.dropout = nn.Dropout(p=dropout)\n",
    "\n",
    "        position = torch.arange(max_len).unsqueeze(1)\n",
    "        div_term = torch.exp(torch.arange(0, d_model, 2) * (-math.log(10000.0) / d_model))\n",
    "        pe = torch.zeros(max_len, 1, d_model)\n",
    "        pe[:, 0, 0::2] = torch.sin(position * div_term)\n",
    "        cosine_embed = torch.cos(position * div_term)\n",
    "        pe[:, 0, 1::2] = cosine_embed if d_model % 2 == 0 else cosine_embed[:, :-1]\n",
    "        self.register_buffer('pe', pe)\n",
    "\n",
    "    def forward(self, x: Tensor) -> Tensor:\n",
    "        \"\"\"\n",
    "        Arguments:\n",
    "            x: Tensor, shape ``[seq_len, batch_size, embedding_dim]``\n",
    "        \"\"\"\n",
    "        x =+ self.pe[:x.size(0)]\n",
    "        return self.dropout(x)"
   ]
  },
  {
   "cell_type": "code",
   "execution_count": 10,
   "metadata": {},
   "outputs": [],
   "source": [
    "class TransformerEncoderModel(nn.Module):\n",
    "    def __init__(self, num_heads: int, model_dim: int, feedforward_hidden_dim: int,\n",
    "                 num_encoder_layers: int = 6, transformer_dropout: float = 0.1, pos_encoder_dropout: float = 0.25,\n",
    "                 downprojection: bool = False, projection_num_neighbors: int = 5) -> None:\n",
    "        super().__init__()\n",
    "        self.model_type = 'Transformer'\n",
    "        self.total_epochs = 0\n",
    "        self.model_dim = model_dim\n",
    "        self.downprojection = downprojection\n",
    "        if self.downprojection:\n",
    "            self.create_projection(projection_num_neighbors)\n",
    "        encoder_layers = TransformerEncoderLayer(model_dim, num_heads, feedforward_hidden_dim, transformer_dropout)\n",
    "        self.transformer_encoder = TransformerEncoder(encoder_layers, num_encoder_layers)   \n",
    "        self.pos_encoder = PositionalEncoding(model_dim, pos_encoder_dropout)\n",
    "\n",
    "    def create_projection(self, projection_num_neighbors: int):\n",
    "        self.projection_function = UMAP(n_components=self.model_dim, n_neighbors=projection_num_neighbors)            \n",
    "\n",
    "    def forward(self, source: Tensor, source_msk: Tensor = None) -> Tensor:\n",
    "        # expect input shape to be (S, N, E) with S being the sequence length, N batch size and, E the input dimensionality\n",
    "        source = self.project(source)\n",
    "        encoded = self.pos_encoder(source)\n",
    "        return self.transformer_encoder(encoded, source_msk)\n",
    "    \n",
    "    def project(self, source: Tensor) -> Tensor:\n",
    "        if self.downprojection:\n",
    "            return self.projection_function.transform(source)\n",
    "        return source\n",
    "    \n",
    "\n",
    "class ParallelEncoderModel(nn.Module):\n",
    "    def __init__(self, num_decoders: int, num_heads: int, model_dim: int, feedforward_hidden_dim: int, output_dim: int,\n",
    "                 num_encoder_layers: int = 6, transformer_dropout: float = 0.1, pos_encoder_dropout: float = 0.25,\n",
    "                 downprojection: bool = False, projection_num_neighbors: int = 5) -> None:\n",
    "        super().__init__()\n",
    "        self.model_type = 'Transformer'\n",
    "        self.total_epochs = 0\n",
    "        self.encoder = TransformerEncoderModel(num_heads, model_dim, feedforward_hidden_dim, \n",
    "                                               num_encoder_layers, transformer_dropout, pos_encoder_dropout,\n",
    "                                               downprojection=downprojection, projection_num_neighbors=projection_num_neighbors)\n",
    "        self.decoders = nn.ModuleList([nn.Linear(model_dim, output_dim) for i in range(num_decoders)])\n",
    "        self.activation = nn.ReLU()\n",
    "\n",
    "    def forward(self, source: Tensor, source_mask: Tensor = None) -> Tensor:\n",
    "        decoded = []\n",
    "        for i, decoder in enumerate(self.decoders):\n",
    "            trajectory_source = source[i, :, :, :]\n",
    "            trajectory_source = self.encoder(trajectory_source, source_mask)\n",
    "            decoded_trajectory = decoder(trajectory_source)\n",
    "            decoded_trajectory = self.activation(decoded_trajectory)\n",
    "            decoded.append(decoded_trajectory)\n",
    "        return torch.stack(decoded, dim=0)\n",
    "    \n",
    "    @property\n",
    "    def downprojection(self):\n",
    "        return self.encoder.downprojection\n"
   ]
  },
  {
   "cell_type": "code",
   "execution_count": 11,
   "metadata": {},
   "outputs": [
    {
     "name": "stderr",
     "output_type": "stream",
     "text": [
      "/usr/local/lib/python3.10/dist-packages/torch/nn/modules/transformer.py:282: UserWarning: enable_nested_tensor is True, but self.use_nested_tensor is False because encoder_layer.self_attn.batch_first was not True(use batch_first for better inference performance)\n",
      "  warnings.warn(f\"enable_nested_tensor is True, but self.use_nested_tensor is False because {why_not_sparsity_fast_path}\")\n"
     ]
    }
   ],
   "source": [
    "encoder_model = ParallelEncoderModel(2, 3, input_shape, 64, output_shape).to(device) "
   ]
  },
  {
   "cell_type": "markdown",
   "metadata": {},
   "source": [
    "## Model Training Step 1"
   ]
  },
  {
   "cell_type": "markdown",
   "metadata": {},
   "source": [
    "### Load parameters, functions, and Dataloader"
   ]
  },
  {
   "cell_type": "code",
   "execution_count": 12,
   "metadata": {},
   "outputs": [],
   "source": [
    "import os\n",
    "\n",
    "from typing import Any, Tuple\n",
    "\n",
    "from torch.utils.data import DataLoader\n",
    "from dotenv import load_dotenv\n",
    "\n",
    "from utils.file_io import save_model\n",
    "from utils.file_io import define_dataloader_from_subset\n",
    "from utils.evaluation import compute_loss_on\n",
    "from utils.optimizer import rate"
   ]
  },
  {
   "cell_type": "code",
   "execution_count": 13,
   "metadata": {},
   "outputs": [],
   "source": [
    "model_path = Path(\"../../models/encoder/\").absolute()"
   ]
  },
  {
   "cell_type": "code",
   "execution_count": 14,
   "metadata": {},
   "outputs": [],
   "source": [
    "dotenv_path = model_path / \".env\"\n",
    "load_dotenv(dotenv_path=dotenv_path)\n",
    "\n",
    "batch_size = int(os.getenv(\"BATCH_SIZE\"))\n",
    "num_epochs = int(os.getenv(\"NUM_EPOCHS\"))"
   ]
  },
  {
   "cell_type": "code",
   "execution_count": 15,
   "metadata": {},
   "outputs": [],
   "source": [
    "def get_optimizer_function_and_learning_rate_scheduler(model: nn.Module, model_size: int, warmup_steps: int, factor: float = 1) -> Tuple[Any, Any]:\n",
    "    optimizer = torch.optim.AdamW(model.parameters(), lr=1)\n",
    "    lr_scheduler = torch.optim.lr_scheduler.LambdaLR(optimizer=optimizer, lr_lambda=lambda step: rate(step, model_size, factor, warmup_steps))\n",
    "    return optimizer, lr_scheduler\n",
    "\n",
    "\n",
    "def get_loss_function() -> nn.Module:\n",
    "    return torch.nn.MSELoss()"
   ]
  },
  {
   "cell_type": "code",
   "execution_count": 16,
   "metadata": {},
   "outputs": [],
   "source": [
    "train_dataloader, validation_dataloader, test_dataloader = define_dataloader_from_subset(train_set, validation_set, test_set, batch_size=batch_size, shuffle=True)"
   ]
  },
  {
   "cell_type": "markdown",
   "metadata": {},
   "source": [
    "### Define Train Functions"
   ]
  },
  {
   "cell_type": "markdown",
   "metadata": {},
   "source": [
    "#### Feature Downprojection"
   ]
  },
  {
   "cell_type": "code",
   "execution_count": 17,
   "metadata": {},
   "outputs": [],
   "source": [
    "from torch.utils.data import DataLoader"
   ]
  },
  {
   "cell_type": "code",
   "execution_count": 18,
   "metadata": {},
   "outputs": [],
   "source": [
    "def train_downprojection(projection: UMAP, train_dataloader: DataLoader) -> None:\n",
    "    feature_vectors = []\n",
    "    for features, labels in train_dataloader:\n",
    "        features = torch.flatten(features, start_dim=0, end_dim=-2)\n",
    "        feature_vectors.append(features)\n",
    "    features = torch.concat(feature_vectors, dim=0)\n",
    "    projection = projection.fit(features)      "
   ]
  },
  {
   "cell_type": "markdown",
   "metadata": {},
   "source": [
    "#### Model train methods"
   ]
  },
  {
   "cell_type": "code",
   "execution_count": 19,
   "metadata": {},
   "outputs": [],
   "source": [
    "from typing import Callable\n",
    "\n",
    "from ray import train as ray_train\n",
    "from ray.train import Checkpoint"
   ]
  },
  {
   "cell_type": "code",
   "execution_count": 20,
   "metadata": {},
   "outputs": [],
   "source": [
    "def train_epoch_parallel(train_dataloader: DataLoader, model, loss_function, optimizer, lr_scheduler,\n",
    "                         device: torch.device, report_interval: int = 10):\n",
    "    \n",
    "    running_loss = 0\n",
    "    last_loss = 0\n",
    "    \n",
    "    for i, (inputs, true_values) in enumerate(train_dataloader):\n",
    "        \n",
    "        inputs = inputs.to(device)\n",
    "        true_values = true_values.to(device)\n",
    "    \n",
    "        inputs_shape, true_values_shape = inputs.size(), true_values.size()\n",
    "        inputs = inputs.view(inputs_shape[1], inputs_shape[2], inputs_shape[0], inputs_shape[3])\n",
    "        true_values = true_values.view(true_values_shape[1], true_values_shape[2], true_values_shape[0], true_values_shape[3])\n",
    "        optimizer.zero_grad()\n",
    "        outputs = model(inputs)\n",
    "        loss = loss_function(outputs, true_values)\n",
    "        running_loss += loss\n",
    "        loss.backward()\n",
    "        optimizer.step()\n",
    "        lr_scheduler.step()\n",
    "\n",
    "        optimizer.zero_grad()\n",
    "        outputs = model(inputs)\n",
    "    \n",
    "        if i % report_interval == report_interval - 1:\n",
    "            last_loss = running_loss / report_interval\n",
    "            print(f\"batch {i + 1}, Mean Squared Error: {last_loss}\")\n",
    "            running_loss = 0\n",
    "\n",
    "    return last_loss"
   ]
  },
  {
   "cell_type": "code",
   "execution_count": 21,
   "metadata": {},
   "outputs": [],
   "source": [
    "def train(train_epoch_func: Callable, epochs: int, train_dataloader: DataLoader, validation_dataloader: DataLoader, model: nn.Module, \n",
    "          loss_function, optimizer, lr_scheduler, checkpoint_path: Path, device: torch.device = 'cpu',\n",
    "          report_interval: int = 10, tune: bool = False) -> nn.Module:\n",
    "    \n",
    "    best_val_loss = float(\"inf\")\n",
    "    if model.downprojection:\n",
    "        print(\"Fitting downprojection!\")\n",
    "        train_downprojection(model.projection_function, train_dataloader)\n",
    "\n",
    "    if torch.cuda.device_count() > 1:\n",
    "        model = nn.DataParallel(model)\n",
    "\n",
    "    model.to(device)\n",
    "\n",
    "    if tune:\n",
    "        checkpoint = ray_train.get_checkpoint()\n",
    "\n",
    "        if checkpoint:\n",
    "            with checkpoint.as_directory() as checkpoint_dir:\n",
    "                model_state = torch.load(os.path.join(checkpoint_dir, \"checkpoint.pt\"))\n",
    "                model.load_state_dict(model_state)\n",
    "\n",
    "    for epoch in range(model.total_epochs, epochs):\n",
    "        print(f\"Epoch: {epoch + 1}\")\n",
    "\n",
    "        model.train(True)\n",
    "        avg_loss = train_epoch_func(train_dataloader, model, loss_function, optimizer, lr_scheduler, device, report_interval)\n",
    "        model.eval()\n",
    "\n",
    "        with torch.no_grad():\n",
    "            avg_val_loss = compute_loss_on(validation_dataloader, model, loss_function, reshape=True, device=device)\n",
    "\n",
    "        print(f\"Loss on train: {avg_loss}, loss on validation: {avg_val_loss}\")\n",
    "\n",
    "        model.total_epochs += 1\n",
    "    \n",
    "\n",
    "        if avg_val_loss < best_val_loss or tune:\n",
    "            best_val_loss = avg_val_loss            \n",
    "            \n",
    "            torch.save(model.state_dict(), checkpoint_path / \"checkpoint.pt\")\n",
    "\n",
    "        if tune:\n",
    "            ray_train.report(metrics={ \"loss\": float(avg_val_loss) }, checkpoint=Checkpoint.from_directory(checkpoint_path))\n",
    "\n",
    "    return model"
   ]
  },
  {
   "cell_type": "markdown",
   "metadata": {},
   "source": [
    "## Train the model with optuna hyperparameter tuning"
   ]
  },
  {
   "cell_type": "code",
   "execution_count": 22,
   "metadata": {},
   "outputs": [],
   "source": [
    "import ray\n",
    "from ray import tune\n",
    "from ray.tune.schedulers import ASHAScheduler\n",
    "from ray.tune.search.optuna import OptunaSearch\n",
    "from typing import Dict"
   ]
  },
  {
   "cell_type": "code",
   "execution_count": 23,
   "metadata": {},
   "outputs": [],
   "source": [
    "def parameter_train(parameter: Dict, train_epochs: int, train_data: DataLoader, validation_data: DataLoader, model_input_shape: int,\n",
    "                    model_output_shape: int, checkpoint_path: Path, device: torch.device) -> None:\n",
    "    features. _ = train_dataloader.dataset[0]\n",
    "    parallel_trajectories = features.shape[0]\n",
    "    run_id = ray_train.get_context().get_trial_id()\n",
    "    run_checkpoint = checkpoint_path / run_id\n",
    "    run_checkpoint.mkdir(parents=True)\n",
    "\n",
    "    model = ParallelEncoderModel(parallel_trajectories, parameter[\"model_dim\"], parameter[\"model_dim\"], parameter[\"feedforward_dim\"], model_output_shape,\n",
    "                                 parameter[\"encoder_layer\"], parameter[\"transformer_dropout\"], parameter[\"pos_encoder_dropout\"],\n",
    "                                 ).to(device)\n",
    "\n",
    "    optimizer, lr_scheduler = get_optimizer_function_and_learning_rate_scheduler(model, parameter[\"model_dim\"], warmup_steps=parameter[\"warmup_steps\"])\n",
    "    loss_function = get_loss_function()\n",
    "\n",
    "    _ = train(train_epoch_parallel, train_epochs, train_data, validation_data, model, loss_function, optimizer, lr_scheduler, run_checkpoint, device, report_interval=50, tune=True)"
   ]
  },
  {
   "cell_type": "code",
   "execution_count": 24,
   "metadata": {},
   "outputs": [],
   "source": [
    "learning_rate_radius = 1e-3\n",
    "batch_size_radius = 10\n",
    "num_samples = 100"
   ]
  },
  {
   "cell_type": "code",
   "execution_count": 25,
   "metadata": {},
   "outputs": [],
   "source": [
    "parameter_space = {\n",
    "    \"batch_size\": tune.choice(list(range(batch_size - batch_size_radius, batch_size + batch_size_radius, 4))),\n",
    "    \"model_dim\": tune.choice([15, 9]),\n",
    "    \"downprojection\": tune.choice([True, False]),\n",
    "    \"projection_num_neighbors\": tune.choice(list(range(2, 10))),\n",
    "    \"warmup_steps\": tune.choice(list(range(1000, 2000, 200))),\n",
    "    \"feedforward_dim\": tune.choice([32, 64, 128]),\n",
    "    \"encoder_layer\": tune.choice([1, 2, 3]),\n",
    "    \"transformer_dropout\": tune.uniform(0.1, 0.5),\n",
    "    \"pos_encoder_dropout\": tune.uniform(0.1, 0.5)\n",
    "}"
   ]
  },
  {
   "cell_type": "code",
   "execution_count": 26,
   "metadata": {},
   "outputs": [],
   "source": [
    "scheduler = ASHAScheduler(\n",
    "    metric=\"loss\",\n",
    "    mode=\"min\",\n",
    "    max_t=num_epochs\n",
    ")"
   ]
  },
  {
   "cell_type": "code",
   "execution_count": 27,
   "metadata": {},
   "outputs": [],
   "source": [
    "search_alg = OptunaSearch(\n",
    "    metric=\"loss\",\n",
    "    mode=\"min\"\n",
    ") "
   ]
  },
  {
   "cell_type": "code",
   "execution_count": 28,
   "metadata": {},
   "outputs": [
    {
     "name": "stderr",
     "output_type": "stream",
     "text": [
      "2023-12-06 12:35:33,765\tWARNING services.py:1996 -- WARNING: The object store is using /tmp instead of /dev/shm because /dev/shm has only 67104768 bytes available. This will harm performance! You may be able to free up space by deleting files in /dev/shm. If you are inside a Docker container, you can increase /dev/shm size by passing '--shm-size=10.24gb' to 'docker run' (or add it to the run_options list in a Ray cluster config). Make sure to set this to more than 30% of available RAM.\n",
      "2023-12-06 12:35:33,879\tINFO worker.py:1673 -- Started a local Ray instance.\n",
      "2023-12-06 12:35:33,885\tINFO packaging.py:530 -- Creating a file package for local directory '/mnt/src/notebooks/../utils'.\n",
      "2023-12-06 12:35:33,889\tINFO packaging.py:358 -- Pushing file package 'gcs://_ray_pkg_8aabca47098b906a.zip' (0.10MiB) to Ray cluster...\n",
      "2023-12-06 12:35:33,891\tINFO packaging.py:371 -- Successfully pushed file package 'gcs://_ray_pkg_8aabca47098b906a.zip'.\n"
     ]
    },
    {
     "data": {
      "application/vnd.jupyter.widget-view+json": {
       "model_id": "19a6737a60084687bb863cab3a4d5385",
       "version_major": 2,
       "version_minor": 0
      },
      "text/html": [
       "<div class=\"lm-Widget p-Widget lm-Panel p-Panel jp-Cell-outputWrapper\">\n",
       "    <div style=\"margin-left: 50px;display: flex;flex-direction: row;align-items: center\">\n",
       "        <div class=\"jp-RenderedHTMLCommon\" style=\"display: flex; flex-direction: row;\">\n",
       "  <svg viewBox=\"0 0 567 224\" fill=\"none\" xmlns=\"http://www.w3.org/2000/svg\" style=\"height: 3em;\">\n",
       "    <g clip-path=\"url(#clip0_4338_178347)\">\n",
       "        <path d=\"M341.29 165.561H355.29L330.13 129.051C345.63 123.991 354.21 112.051 354.21 94.2307C354.21 71.3707 338.72 58.1807 311.88 58.1807H271V165.561H283.27V131.661H311.8C314.25 131.661 316.71 131.501 319.01 131.351L341.25 165.561H341.29ZM283.29 119.851V70.0007H311.82C331.3 70.0007 342.34 78.2907 342.34 94.5507C342.34 111.271 331.34 119.861 311.82 119.861L283.29 119.851ZM451.4 138.411L463.4 165.561H476.74L428.74 58.1807H416L367.83 165.561H380.83L392.83 138.411H451.4ZM446.19 126.601H398L422 72.1407L446.24 126.601H446.19ZM526.11 128.741L566.91 58.1807H554.35L519.99 114.181L485.17 58.1807H472.44L514.01 129.181V165.541H526.13V128.741H526.11Z\" fill=\"var(--jp-ui-font-color0)\"/>\n",
       "        <path d=\"M82.35 104.44C84.0187 97.8827 87.8248 92.0678 93.1671 87.9146C98.5094 83.7614 105.083 81.5067 111.85 81.5067C118.617 81.5067 125.191 83.7614 130.533 87.9146C135.875 92.0678 139.681 97.8827 141.35 104.44H163.75C164.476 101.562 165.622 98.8057 167.15 96.2605L127.45 56.5605C121.071 60.3522 113.526 61.6823 106.235 60.3005C98.9443 58.9187 92.4094 54.9203 87.8602 49.0574C83.3109 43.1946 81.0609 35.8714 81.5332 28.4656C82.0056 21.0599 85.1679 14.0819 90.4252 8.8446C95.6824 3.60726 102.672 0.471508 110.08 0.0272655C117.487 -0.416977 124.802 1.86091 130.647 6.4324C136.493 11.0039 140.467 17.5539 141.821 24.8501C143.175 32.1463 141.816 39.6859 138 46.0505L177.69 85.7505C182.31 82.9877 187.58 81.4995 192.962 81.4375C198.345 81.3755 203.648 82.742 208.33 85.3976C213.012 88.0532 216.907 91.9029 219.616 96.5544C222.326 101.206 223.753 106.492 223.753 111.875C223.753 117.258 222.326 122.545 219.616 127.197C216.907 131.848 213.012 135.698 208.33 138.353C203.648 141.009 198.345 142.375 192.962 142.313C187.58 142.251 182.31 140.763 177.69 138L138 177.7C141.808 184.071 143.155 191.614 141.79 198.91C140.424 206.205 136.44 212.75 130.585 217.313C124.731 221.875 117.412 224.141 110.004 223.683C102.596 223.226 95.6103 220.077 90.3621 214.828C85.1139 209.58 81.9647 202.595 81.5072 195.187C81.0497 187.779 83.3154 180.459 87.878 174.605C92.4405 168.751 98.9853 164.766 106.281 163.401C113.576 162.035 121.119 163.383 127.49 167.19L167.19 127.49C165.664 124.941 164.518 122.182 163.79 119.3H141.39C139.721 125.858 135.915 131.673 130.573 135.826C125.231 139.98 118.657 142.234 111.89 142.234C105.123 142.234 98.5494 139.98 93.2071 135.826C87.8648 131.673 84.0587 125.858 82.39 119.3H60C58.1878 126.495 53.8086 132.78 47.6863 136.971C41.5641 141.163 34.1211 142.972 26.7579 142.059C19.3947 141.146 12.6191 137.574 7.70605 132.014C2.79302 126.454 0.0813599 119.29 0.0813599 111.87C0.0813599 104.451 2.79302 97.2871 7.70605 91.7272C12.6191 86.1673 19.3947 82.5947 26.7579 81.6817C34.1211 80.7686 41.5641 82.5781 47.6863 86.7696C53.8086 90.9611 58.1878 97.2456 60 104.44H82.35ZM100.86 204.32C103.407 206.868 106.759 208.453 110.345 208.806C113.93 209.159 117.527 208.258 120.522 206.256C123.517 204.254 125.725 201.276 126.771 197.828C127.816 194.38 127.633 190.677 126.253 187.349C124.874 184.021 122.383 181.274 119.205 179.577C116.027 177.88 112.359 177.337 108.826 178.042C105.293 178.746 102.113 180.654 99.8291 183.44C97.5451 186.226 96.2979 189.718 96.3 193.32C96.2985 195.364 96.7006 197.388 97.4831 199.275C98.2656 201.163 99.4132 202.877 100.86 204.32ZM204.32 122.88C206.868 120.333 208.453 116.981 208.806 113.396C209.159 109.811 208.258 106.214 206.256 103.219C204.254 100.223 201.275 98.0151 197.827 96.97C194.38 95.9249 190.676 96.1077 187.348 97.4873C184.02 98.8669 181.274 101.358 179.577 104.536C177.879 107.714 177.337 111.382 178.041 114.915C178.746 118.448 180.653 121.627 183.439 123.911C186.226 126.195 189.717 127.443 193.32 127.44C195.364 127.443 197.388 127.042 199.275 126.259C201.163 125.476 202.878 124.328 204.32 122.88ZM122.88 19.4205C120.333 16.8729 116.981 15.2876 113.395 14.9347C109.81 14.5817 106.213 15.483 103.218 17.4849C100.223 19.4868 98.0146 22.4654 96.9696 25.9131C95.9245 29.3608 96.1073 33.0642 97.4869 36.3922C98.8665 39.7202 101.358 42.4668 104.535 44.1639C107.713 45.861 111.381 46.4036 114.914 45.6992C118.447 44.9949 121.627 43.0871 123.911 40.301C126.195 37.515 127.442 34.0231 127.44 30.4205C127.44 28.3772 127.038 26.3539 126.255 24.4664C125.473 22.5788 124.326 20.8642 122.88 19.4205ZM19.42 100.86C16.8725 103.408 15.2872 106.76 14.9342 110.345C14.5813 113.93 15.4826 117.527 17.4844 120.522C19.4863 123.518 22.4649 125.726 25.9127 126.771C29.3604 127.816 33.0638 127.633 36.3918 126.254C39.7198 124.874 42.4664 122.383 44.1635 119.205C45.8606 116.027 46.4032 112.359 45.6988 108.826C44.9944 105.293 43.0866 102.114 40.3006 99.8296C37.5145 97.5455 34.0227 96.2983 30.42 96.3005C26.2938 96.3018 22.337 97.9421 19.42 100.86ZM100.86 100.86C98.3125 103.408 96.7272 106.76 96.3742 110.345C96.0213 113.93 96.9226 117.527 98.9244 120.522C100.926 123.518 103.905 125.726 107.353 126.771C110.8 127.816 114.504 127.633 117.832 126.254C121.16 124.874 123.906 122.383 125.604 119.205C127.301 116.027 127.843 112.359 127.139 108.826C126.434 105.293 124.527 102.114 121.741 99.8296C118.955 97.5455 115.463 96.2983 111.86 96.3005C109.817 96.299 107.793 96.701 105.905 97.4835C104.018 98.2661 102.303 99.4136 100.86 100.86Z\" fill=\"#00AEEF\"/>\n",
       "    </g>\n",
       "    <defs>\n",
       "        <clipPath id=\"clip0_4338_178347\">\n",
       "            <rect width=\"566.93\" height=\"223.75\" fill=\"white\"/>\n",
       "        </clipPath>\n",
       "    </defs>\n",
       "  </svg>\n",
       "</div>\n",
       "\n",
       "        <table class=\"jp-RenderedHTMLCommon\" style=\"border-collapse: collapse;color: var(--jp-ui-font-color1);font-size: var(--jp-ui-font-size1);\">\n",
       "    <tr>\n",
       "        <td style=\"text-align: left\"><b>Python version:</b></td>\n",
       "        <td style=\"text-align: left\"><b>3.10.12</b></td>\n",
       "    </tr>\n",
       "    <tr>\n",
       "        <td style=\"text-align: left\"><b>Ray version:</b></td>\n",
       "        <td style=\"text-align: left\"><b>2.8.1</b></td>\n",
       "    </tr>\n",
       "    \n",
       "</table>\n",
       "\n",
       "    </div>\n",
       "</div>\n"
      ],
      "text/plain": [
       "RayContext(dashboard_url='', python_version='3.10.12', ray_version='2.8.1', ray_commit='82a8df138fe7fcc5c42536ebf26e8c3665704fee', protocol_version=None)"
      ]
     },
     "execution_count": 28,
     "metadata": {},
     "output_type": "execute_result"
    }
   ],
   "source": [
    "import utils\n",
    "if ray.is_initialized():\n",
    "    ray.shutdown()\n",
    "\n",
    "ray.init(runtime_env={ \"py_modules\": [utils] })"
   ]
  },
  {
   "cell_type": "code",
   "execution_count": 29,
   "metadata": {},
   "outputs": [],
   "source": [
    "ray_resources_manager = tune.with_resources(\n",
    "    trainable=lambda param: parameter_train(param, num_epochs, train_dataloader, validation_dataloader, input_shape, output_shape, model_path, device),\n",
    "    # See: https://stackoverflow.com/questions/58967793/what-is-the-way-to-make-tune-run-parallel-trials-across-multiple-gpus\n",
    "    resources={ \"cpu\": 3, \"gpu\": 0.25 }\n",
    ")\n",
    "\n",
    "tuner = tune.Tuner(\n",
    "    ray_resources_manager,\n",
    "    param_space=parameter_space,\n",
    "    tune_config=tune.TuneConfig(\n",
    "        scheduler=scheduler,\n",
    "        search_alg=search_alg,\n",
    "         num_samples=num_samples\n",
    "    )\n",
    ")"
   ]
  },
  {
   "cell_type": "code",
   "execution_count": 30,
   "metadata": {},
   "outputs": [
    {
     "data": {
      "text/html": [
       "<div class=\"tuneStatus\">\n",
       "  <div style=\"display: flex;flex-direction: row\">\n",
       "    <div style=\"display: flex;flex-direction: column;\">\n",
       "      <h3>Tune Status</h3>\n",
       "      <table>\n",
       "<tbody>\n",
       "<tr><td>Current time:</td><td>2023-12-06 12:37:52</td></tr>\n",
       "<tr><td>Running for: </td><td>00:02:13.35        </td></tr>\n",
       "<tr><td>Memory:      </td><td>8.3/62.7 GiB       </td></tr>\n",
       "</tbody>\n",
       "</table>\n",
       "    </div>\n",
       "    <div class=\"vDivider\"></div>\n",
       "    <div class=\"systemInfo\">\n",
       "      <h3>System Info</h3>\n",
       "      Using AsyncHyperBand: num_stopped=26<br>Bracket: Iter 64.000: -11.32154893875122 | Iter 16.000: -11.39562463760376 | Iter 4.000: -11.341861963272095 | Iter 1.000: -11.570239067077637<br>Logical resource usage: 12.0/12 CPUs, 1.0/1 GPUs (0.0/1.0 accelerator_type:G)\n",
       "    </div>\n",
       "    <div class=\"vDivider\"></div>\n",
       "<div class=\"messages\">\n",
       "  <h3>Messages</h3>\n",
       "  \n",
       "  ... 10 more trials not shown (10 TERMINATED)\n",
       "  \n",
       "</div>\n",
       "<style>\n",
       ".messages {\n",
       "  color: var(--jp-ui-font-color1);\n",
       "  display: flex;\n",
       "  flex-direction: column;\n",
       "  padding-left: 1em;\n",
       "  overflow-y: auto;\n",
       "}\n",
       ".messages h3 {\n",
       "  font-weight: bold;\n",
       "}\n",
       ".vDivider {\n",
       "  border-left-width: var(--jp-border-width);\n",
       "  border-left-color: var(--jp-border-color0);\n",
       "  border-left-style: solid;\n",
       "  margin: 0.5em 1em 0.5em 1em;\n",
       "}\n",
       "</style>\n",
       "\n",
       "  </div>\n",
       "  <div class=\"hDivider\"></div>\n",
       "  <div class=\"trialStatus\">\n",
       "    <h3>Trial Status</h3>\n",
       "    <table>\n",
       "<thead>\n",
       "<tr><th>Trial name     </th><th>status    </th><th>loc            </th><th style=\"text-align: right;\">  batch_size</th><th>downprojection  </th><th style=\"text-align: right;\">  encoder_layer</th><th style=\"text-align: right;\">  feedforward_dim</th><th style=\"text-align: right;\">  model_dim</th><th style=\"text-align: right;\">  pos_encoder_dropout</th><th style=\"text-align: right;\">  projection_num_neigh\n",
       "bors</th><th style=\"text-align: right;\">  transformer_dropout</th><th style=\"text-align: right;\">  warmup_steps</th><th style=\"text-align: right;\">  iter</th><th style=\"text-align: right;\">  total time (s)</th><th style=\"text-align: right;\">   loss</th></tr>\n",
       "</thead>\n",
       "<tbody>\n",
       "<tr><td>lambda_14cc4023</td><td>RUNNING   </td><td>172.17.0.2:9054</td><td style=\"text-align: right;\">          58</td><td>True            </td><td style=\"text-align: right;\">              3</td><td style=\"text-align: right;\">               32</td><td style=\"text-align: right;\">         15</td><td style=\"text-align: right;\">             0.307865</td><td style=\"text-align: right;\">2</td><td style=\"text-align: right;\">             0.192747</td><td style=\"text-align: right;\">          1200</td><td style=\"text-align: right;\">    30</td><td style=\"text-align: right;\">       10.643   </td><td style=\"text-align: right;\">11.3465</td></tr>\n",
       "<tr><td>lambda_466786c8</td><td>RUNNING   </td><td>172.17.0.2:9135</td><td style=\"text-align: right;\">          58</td><td>True            </td><td style=\"text-align: right;\">              2</td><td style=\"text-align: right;\">               32</td><td style=\"text-align: right;\">         15</td><td style=\"text-align: right;\">             0.328255</td><td style=\"text-align: right;\">4</td><td style=\"text-align: right;\">             0.18678 </td><td style=\"text-align: right;\">          1000</td><td style=\"text-align: right;\">     6</td><td style=\"text-align: right;\">        2.08541 </td><td style=\"text-align: right;\">11.1855</td></tr>\n",
       "<tr><td>lambda_680323a4</td><td>RUNNING   </td><td>172.17.0.2:9196</td><td style=\"text-align: right;\">          58</td><td>True            </td><td style=\"text-align: right;\">              2</td><td style=\"text-align: right;\">               32</td><td style=\"text-align: right;\">         15</td><td style=\"text-align: right;\">             0.319119</td><td style=\"text-align: right;\">4</td><td style=\"text-align: right;\">             0.184401</td><td style=\"text-align: right;\">          1200</td><td style=\"text-align: right;\">     1</td><td style=\"text-align: right;\">        0.374793</td><td style=\"text-align: right;\">12.139 </td></tr>\n",
       "<tr><td>lambda_a256bc86</td><td>RUNNING   </td><td>172.17.0.2:9259</td><td style=\"text-align: right;\">          62</td><td>True            </td><td style=\"text-align: right;\">              3</td><td style=\"text-align: right;\">               32</td><td style=\"text-align: right;\">          9</td><td style=\"text-align: right;\">             0.208895</td><td style=\"text-align: right;\">9</td><td style=\"text-align: right;\">             0.317636</td><td style=\"text-align: right;\">          1400</td><td style=\"text-align: right;\">    73</td><td style=\"text-align: right;\">       26.1107  </td><td style=\"text-align: right;\">11.3389</td></tr>\n",
       "<tr><td>lambda_39443cb9</td><td>PENDING   </td><td>               </td><td style=\"text-align: right;\">          66</td><td>True            </td><td style=\"text-align: right;\">              2</td><td style=\"text-align: right;\">              128</td><td style=\"text-align: right;\">          9</td><td style=\"text-align: right;\">             0.498947</td><td style=\"text-align: right;\">4</td><td style=\"text-align: right;\">             0.373794</td><td style=\"text-align: right;\">          1200</td><td style=\"text-align: right;\">      </td><td style=\"text-align: right;\">                </td><td style=\"text-align: right;\">       </td></tr>\n",
       "<tr><td>lambda_03db0f48</td><td>TERMINATED</td><td>172.17.0.2:9259</td><td style=\"text-align: right;\">          54</td><td>True            </td><td style=\"text-align: right;\">              3</td><td style=\"text-align: right;\">              128</td><td style=\"text-align: right;\">          9</td><td style=\"text-align: right;\">             0.222072</td><td style=\"text-align: right;\">7</td><td style=\"text-align: right;\">             0.178859</td><td style=\"text-align: right;\">          1600</td><td style=\"text-align: right;\">   100</td><td style=\"text-align: right;\">       35.9631  </td><td style=\"text-align: right;\">11.6278</td></tr>\n",
       "<tr><td>lambda_0c114c29</td><td>TERMINATED</td><td>172.17.0.2:9054</td><td style=\"text-align: right;\">          54</td><td>True            </td><td style=\"text-align: right;\">              3</td><td style=\"text-align: right;\">               32</td><td style=\"text-align: right;\">          9</td><td style=\"text-align: right;\">             0.337445</td><td style=\"text-align: right;\">6</td><td style=\"text-align: right;\">             0.106795</td><td style=\"text-align: right;\">          1400</td><td style=\"text-align: right;\">     1</td><td style=\"text-align: right;\">        0.363528</td><td style=\"text-align: right;\">11.6879</td></tr>\n",
       "<tr><td>lambda_142942d5</td><td>TERMINATED</td><td>172.17.0.2:9054</td><td style=\"text-align: right;\">          54</td><td>False           </td><td style=\"text-align: right;\">              2</td><td style=\"text-align: right;\">              128</td><td style=\"text-align: right;\">          9</td><td style=\"text-align: right;\">             0.103762</td><td style=\"text-align: right;\">9</td><td style=\"text-align: right;\">             0.317953</td><td style=\"text-align: right;\">          1800</td><td style=\"text-align: right;\">     1</td><td style=\"text-align: right;\">        0.349779</td><td style=\"text-align: right;\">12.0108</td></tr>\n",
       "<tr><td>lambda_16d6cc2f</td><td>TERMINATED</td><td>172.17.0.2:9259</td><td style=\"text-align: right;\">          66</td><td>True            </td><td style=\"text-align: right;\">              3</td><td style=\"text-align: right;\">              128</td><td style=\"text-align: right;\">          9</td><td style=\"text-align: right;\">             0.348419</td><td style=\"text-align: right;\">6</td><td style=\"text-align: right;\">             0.211465</td><td style=\"text-align: right;\">          1200</td><td style=\"text-align: right;\">     1</td><td style=\"text-align: right;\">        0.363663</td><td style=\"text-align: right;\">12.0483</td></tr>\n",
       "<tr><td>lambda_1d55d306</td><td>TERMINATED</td><td>172.17.0.2:9054</td><td style=\"text-align: right;\">          58</td><td>True            </td><td style=\"text-align: right;\">              1</td><td style=\"text-align: right;\">              128</td><td style=\"text-align: right;\">         15</td><td style=\"text-align: right;\">             0.227573</td><td style=\"text-align: right;\">8</td><td style=\"text-align: right;\">             0.137846</td><td style=\"text-align: right;\">          1000</td><td style=\"text-align: right;\">     1</td><td style=\"text-align: right;\">        0.354214</td><td style=\"text-align: right;\">12.1201</td></tr>\n",
       "<tr><td>lambda_2a87f6b9</td><td>TERMINATED</td><td>172.17.0.2:9054</td><td style=\"text-align: right;\">          54</td><td>True            </td><td style=\"text-align: right;\">              3</td><td style=\"text-align: right;\">               64</td><td style=\"text-align: right;\">          9</td><td style=\"text-align: right;\">             0.462697</td><td style=\"text-align: right;\">3</td><td style=\"text-align: right;\">             0.387254</td><td style=\"text-align: right;\">          1600</td><td style=\"text-align: right;\">     1</td><td style=\"text-align: right;\">        0.408003</td><td style=\"text-align: right;\">12.0138</td></tr>\n",
       "<tr><td>lambda_3edd9536</td><td>TERMINATED</td><td>172.17.0.2:9259</td><td style=\"text-align: right;\">          58</td><td>False           </td><td style=\"text-align: right;\">              3</td><td style=\"text-align: right;\">              128</td><td style=\"text-align: right;\">         15</td><td style=\"text-align: right;\">             0.356793</td><td style=\"text-align: right;\">6</td><td style=\"text-align: right;\">             0.253495</td><td style=\"text-align: right;\">          1200</td><td style=\"text-align: right;\">     1</td><td style=\"text-align: right;\">        0.379041</td><td style=\"text-align: right;\">12.0394</td></tr>\n",
       "<tr><td>lambda_3fc4142a</td><td>TERMINATED</td><td>172.17.0.2:9054</td><td style=\"text-align: right;\">          62</td><td>False           </td><td style=\"text-align: right;\">              2</td><td style=\"text-align: right;\">               64</td><td style=\"text-align: right;\">         15</td><td style=\"text-align: right;\">             0.223872</td><td style=\"text-align: right;\">8</td><td style=\"text-align: right;\">             0.292553</td><td style=\"text-align: right;\">          1800</td><td style=\"text-align: right;\">     1</td><td style=\"text-align: right;\">        0.392288</td><td style=\"text-align: right;\">12.0863</td></tr>\n",
       "<tr><td>lambda_54e3047f</td><td>TERMINATED</td><td>172.17.0.2:9054</td><td style=\"text-align: right;\">          70</td><td>True            </td><td style=\"text-align: right;\">              2</td><td style=\"text-align: right;\">               64</td><td style=\"text-align: right;\">         15</td><td style=\"text-align: right;\">             0.383781</td><td style=\"text-align: right;\">7</td><td style=\"text-align: right;\">             0.467755</td><td style=\"text-align: right;\">          1600</td><td style=\"text-align: right;\">   100</td><td style=\"text-align: right;\">       34.4971  </td><td style=\"text-align: right;\">12.0248</td></tr>\n",
       "<tr><td>lambda_58088567</td><td>TERMINATED</td><td>172.17.0.2:9135</td><td style=\"text-align: right;\">          70</td><td>False           </td><td style=\"text-align: right;\">              1</td><td style=\"text-align: right;\">               32</td><td style=\"text-align: right;\">          9</td><td style=\"text-align: right;\">             0.409641</td><td style=\"text-align: right;\">2</td><td style=\"text-align: right;\">             0.142829</td><td style=\"text-align: right;\">          1400</td><td style=\"text-align: right;\">     1</td><td style=\"text-align: right;\">        0.347772</td><td style=\"text-align: right;\">11.8327</td></tr>\n",
       "<tr><td>lambda_61f2a7a8</td><td>TERMINATED</td><td>172.17.0.2:9135</td><td style=\"text-align: right;\">          58</td><td>True            </td><td style=\"text-align: right;\">              3</td><td style=\"text-align: right;\">               32</td><td style=\"text-align: right;\">         15</td><td style=\"text-align: right;\">             0.14148 </td><td style=\"text-align: right;\">5</td><td style=\"text-align: right;\">             0.417475</td><td style=\"text-align: right;\">          1800</td><td style=\"text-align: right;\">     1</td><td style=\"text-align: right;\">        0.37043 </td><td style=\"text-align: right;\">11.8493</td></tr>\n",
       "<tr><td>lambda_7e62cc9a</td><td>TERMINATED</td><td>172.17.0.2:9259</td><td style=\"text-align: right;\">          66</td><td>True            </td><td style=\"text-align: right;\">              3</td><td style=\"text-align: right;\">              128</td><td style=\"text-align: right;\">          9</td><td style=\"text-align: right;\">             0.485519</td><td style=\"text-align: right;\">7</td><td style=\"text-align: right;\">             0.18394 </td><td style=\"text-align: right;\">          1200</td><td style=\"text-align: right;\">     1</td><td style=\"text-align: right;\">        0.38683 </td><td style=\"text-align: right;\">11.8617</td></tr>\n",
       "<tr><td>lambda_7f8e837e</td><td>TERMINATED</td><td>172.17.0.2:9196</td><td style=\"text-align: right;\">          54</td><td>False           </td><td style=\"text-align: right;\">              1</td><td style=\"text-align: right;\">               64</td><td style=\"text-align: right;\">          9</td><td style=\"text-align: right;\">             0.459139</td><td style=\"text-align: right;\">3</td><td style=\"text-align: right;\">             0.250508</td><td style=\"text-align: right;\">          1800</td><td style=\"text-align: right;\">   100</td><td style=\"text-align: right;\">       33.821   </td><td style=\"text-align: right;\">11.8007</td></tr>\n",
       "<tr><td>lambda_8d25cb65</td><td>TERMINATED</td><td>172.17.0.2:9196</td><td style=\"text-align: right;\">          66</td><td>True            </td><td style=\"text-align: right;\">              3</td><td style=\"text-align: right;\">              128</td><td style=\"text-align: right;\">          9</td><td style=\"text-align: right;\">             0.491181</td><td style=\"text-align: right;\">6</td><td style=\"text-align: right;\">             0.290129</td><td style=\"text-align: right;\">          1200</td><td style=\"text-align: right;\">   100</td><td style=\"text-align: right;\">       35.734   </td><td style=\"text-align: right;\">11.0591</td></tr>\n",
       "<tr><td>lambda_9aa133fc</td><td>TERMINATED</td><td>172.17.0.2:9054</td><td style=\"text-align: right;\">          62</td><td>False           </td><td style=\"text-align: right;\">              2</td><td style=\"text-align: right;\">               64</td><td style=\"text-align: right;\">         15</td><td style=\"text-align: right;\">             0.233159</td><td style=\"text-align: right;\">8</td><td style=\"text-align: right;\">             0.286799</td><td style=\"text-align: right;\">          1800</td><td style=\"text-align: right;\">     1</td><td style=\"text-align: right;\">        0.374303</td><td style=\"text-align: right;\">12.2367</td></tr>\n",
       "</tbody>\n",
       "</table>\n",
       "  </div>\n",
       "</div>\n",
       "<style>\n",
       ".tuneStatus {\n",
       "  color: var(--jp-ui-font-color1);\n",
       "}\n",
       ".tuneStatus .systemInfo {\n",
       "  display: flex;\n",
       "  flex-direction: column;\n",
       "}\n",
       ".tuneStatus td {\n",
       "  white-space: nowrap;\n",
       "}\n",
       ".tuneStatus .trialStatus {\n",
       "  display: flex;\n",
       "  flex-direction: column;\n",
       "}\n",
       ".tuneStatus h3 {\n",
       "  font-weight: bold;\n",
       "}\n",
       ".tuneStatus .hDivider {\n",
       "  border-bottom-width: var(--jp-border-width);\n",
       "  border-bottom-color: var(--jp-border-color0);\n",
       "  border-bottom-style: solid;\n",
       "}\n",
       ".tuneStatus .vDivider {\n",
       "  border-left-width: var(--jp-border-width);\n",
       "  border-left-color: var(--jp-border-color0);\n",
       "  border-left-style: solid;\n",
       "  margin: 0.5em 1em 0.5em 1em;\n",
       "}\n",
       "</style>\n"
      ],
      "text/plain": [
       "<IPython.core.display.HTML object>"
      ]
     },
     "metadata": {},
     "output_type": "display_data"
    },
    {
     "name": "stderr",
     "output_type": "stream",
     "text": [
      "2023-12-06 12:35:43,003\tWARNING worker.py:2074 -- Warning: The actor ImplicitFunc is very large (34 MiB). Check that its definition is not implicitly capturing a large array or other object in scope. Tip: use ray.put() to put large objects in the Ray object store.\n",
      "\u001b[36m(<lambda> pid=9054)\u001b[0m /usr/local/lib/python3.10/dist-packages/torch/nn/modules/transformer.py:282: UserWarning: enable_nested_tensor is True, but self.use_nested_tensor is False because encoder_layer.self_attn.batch_first was not True(use batch_first for better inference performance)\n",
      "\u001b[36m(<lambda> pid=9054)\u001b[0m   warnings.warn(f\"enable_nested_tensor is True, but self.use_nested_tensor is False because {why_not_sparsity_fast_path}\")\n"
     ]
    },
    {
     "name": "stdout",
     "output_type": "stream",
     "text": [
      "\u001b[36m(<lambda> pid=9054)\u001b[0m Epoch: 1\n"
     ]
    },
    {
     "name": "stderr",
     "output_type": "stream",
     "text": [
      "\u001b[36m(<lambda> pid=9054)\u001b[0m /usr/local/lib/python3.10/dist-packages/torch/nn/modules/loss.py:535: UserWarning: Using a target size (torch.Size([2, 256, 64, 9])) that is different to the input size (torch.Size([2, 256, 1, 9])). This will likely lead to incorrect results due to broadcasting. Please ensure they have the same size.\n",
      "\u001b[36m(<lambda> pid=9054)\u001b[0m   return F.mse_loss(input, target, reduction=self.reduction)\n",
      "\u001b[36m(<lambda> pid=9054)\u001b[0m /usr/local/lib/python3.10/dist-packages/torch/nn/modules/loss.py:535: UserWarning: Using a target size (torch.Size([2, 256, 13, 9])) that is different to the input size (torch.Size([2, 256, 1, 9])). This will likely lead to incorrect results due to broadcasting. Please ensure they have the same size.\n",
      "\u001b[36m(<lambda> pid=9054)\u001b[0m   return F.mse_loss(input, target, reduction=self.reduction)\n",
      "\u001b[36m(<lambda> pid=9054)\u001b[0m /usr/local/lib/python3.10/dist-packages/torch/nn/modules/loss.py:535: UserWarning: Using a target size (torch.Size([2, 256, 14, 9])) that is different to the input size (torch.Size([2, 256, 1, 9])). This will likely lead to incorrect results due to broadcasting. Please ensure they have the same size.\n",
      "\u001b[36m(<lambda> pid=9054)\u001b[0m   return F.mse_loss(input, target, reduction=self.reduction)\n",
      "\u001b[36m(<lambda> pid=9054)\u001b[0m Checkpoint successfully created at: Checkpoint(filesystem=local, path=/root/ray_results/lambda_2023-12-06_12-35-36/lambda_54e3047f_1_batch_size=70,downprojection=True,encoder_layer=2,feedforward_dim=64,model_dim=15,pos_encoder_dropout=0.3838,pro_2023-12-06_12-35-40/checkpoint_000000)\n"
     ]
    },
    {
     "name": "stdout",
     "output_type": "stream",
     "text": [
      "\u001b[36m(<lambda> pid=9054)\u001b[0m Loss on train: 0, loss on validation: 12.077954292297363\n",
      "\u001b[36m(<lambda> pid=9054)\u001b[0m Epoch: 2\n",
      "\u001b[36m(<lambda> pid=9054)\u001b[0m Loss on train: 0, loss on validation: 12.026263236999512\n",
      "\u001b[36m(<lambda> pid=9054)\u001b[0m Epoch: 3\n"
     ]
    },
    {
     "name": "stderr",
     "output_type": "stream",
     "text": [
      "\u001b[36m(<lambda> pid=9054)\u001b[0m Checkpoint successfully created at: Checkpoint(filesystem=local, path=/root/ray_results/lambda_2023-12-06_12-35-36/lambda_54e3047f_1_batch_size=70,downprojection=True,encoder_layer=2,feedforward_dim=64,model_dim=15,pos_encoder_dropout=0.3838,pro_2023-12-06_12-35-40/checkpoint_000001)\n",
      "\u001b[36m(<lambda> pid=9054)\u001b[0m Checkpoint successfully created at: Checkpoint(filesystem=local, path=/root/ray_results/lambda_2023-12-06_12-35-36/lambda_54e3047f_1_batch_size=70,downprojection=True,encoder_layer=2,feedforward_dim=64,model_dim=15,pos_encoder_dropout=0.3838,pro_2023-12-06_12-35-40/checkpoint_000002)\n"
     ]
    },
    {
     "name": "stdout",
     "output_type": "stream",
     "text": [
      "\u001b[36m(<lambda> pid=9054)\u001b[0m Loss on train: 0, loss on validation: 12.05372142791748\n",
      "\u001b[36m(<lambda> pid=9054)\u001b[0m Epoch: 4\n"
     ]
    },
    {
     "name": "stderr",
     "output_type": "stream",
     "text": [
      "\u001b[36m(<lambda> pid=9054)\u001b[0m Checkpoint successfully created at: Checkpoint(filesystem=local, path=/root/ray_results/lambda_2023-12-06_12-35-36/lambda_54e3047f_1_batch_size=70,downprojection=True,encoder_layer=2,feedforward_dim=64,model_dim=15,pos_encoder_dropout=0.3838,pro_2023-12-06_12-35-40/checkpoint_000003)\n"
     ]
    },
    {
     "name": "stdout",
     "output_type": "stream",
     "text": [
      "\u001b[36m(<lambda> pid=9054)\u001b[0m Loss on train: 0, loss on validation: 12.031371116638184\n",
      "\u001b[36m(<lambda> pid=9054)\u001b[0m Epoch: 5\n"
     ]
    },
    {
     "name": "stderr",
     "output_type": "stream",
     "text": [
      "\u001b[36m(<lambda> pid=9054)\u001b[0m Checkpoint successfully created at: Checkpoint(filesystem=local, path=/root/ray_results/lambda_2023-12-06_12-35-36/lambda_54e3047f_1_batch_size=70,downprojection=True,encoder_layer=2,feedforward_dim=64,model_dim=15,pos_encoder_dropout=0.3838,pro_2023-12-06_12-35-40/checkpoint_000004)\n"
     ]
    },
    {
     "name": "stdout",
     "output_type": "stream",
     "text": [
      "\u001b[36m(<lambda> pid=9054)\u001b[0m Loss on train: 0, loss on validation: 12.087495803833008\n",
      "\u001b[36m(<lambda> pid=9054)\u001b[0m Epoch: 6\n"
     ]
    },
    {
     "name": "stderr",
     "output_type": "stream",
     "text": [
      "\u001b[36m(<lambda> pid=9054)\u001b[0m Checkpoint successfully created at: Checkpoint(filesystem=local, path=/root/ray_results/lambda_2023-12-06_12-35-36/lambda_54e3047f_1_batch_size=70,downprojection=True,encoder_layer=2,feedforward_dim=64,model_dim=15,pos_encoder_dropout=0.3838,pro_2023-12-06_12-35-40/checkpoint_000005)\n"
     ]
    },
    {
     "name": "stdout",
     "output_type": "stream",
     "text": [
      "\u001b[36m(<lambda> pid=9054)\u001b[0m Loss on train: 0, loss on validation: 12.001324653625488\n",
      "\u001b[36m(<lambda> pid=9054)\u001b[0m Epoch: 7\n"
     ]
    },
    {
     "name": "stderr",
     "output_type": "stream",
     "text": [
      "\u001b[36m(<lambda> pid=9054)\u001b[0m Checkpoint successfully created at: Checkpoint(filesystem=local, path=/root/ray_results/lambda_2023-12-06_12-35-36/lambda_54e3047f_1_batch_size=70,downprojection=True,encoder_layer=2,feedforward_dim=64,model_dim=15,pos_encoder_dropout=0.3838,pro_2023-12-06_12-35-40/checkpoint_000006)\n"
     ]
    },
    {
     "name": "stdout",
     "output_type": "stream",
     "text": [
      "\u001b[36m(<lambda> pid=9054)\u001b[0m Loss on train: 0, loss on validation: 12.04684829711914\n",
      "\u001b[36m(<lambda> pid=9054)\u001b[0m Epoch: 8\n"
     ]
    },
    {
     "name": "stderr",
     "output_type": "stream",
     "text": [
      "\u001b[36m(<lambda> pid=9054)\u001b[0m Checkpoint successfully created at: Checkpoint(filesystem=local, path=/root/ray_results/lambda_2023-12-06_12-35-36/lambda_54e3047f_1_batch_size=70,downprojection=True,encoder_layer=2,feedforward_dim=64,model_dim=15,pos_encoder_dropout=0.3838,pro_2023-12-06_12-35-40/checkpoint_000007)\n"
     ]
    },
    {
     "name": "stdout",
     "output_type": "stream",
     "text": [
      "\u001b[36m(<lambda> pid=9054)\u001b[0m Loss on train: 0, loss on validation: 12.059436798095703\n",
      "\u001b[36m(<lambda> pid=9054)\u001b[0m Epoch: 9\n"
     ]
    },
    {
     "name": "stderr",
     "output_type": "stream",
     "text": [
      "\u001b[36m(<lambda> pid=9054)\u001b[0m Checkpoint successfully created at: Checkpoint(filesystem=local, path=/root/ray_results/lambda_2023-12-06_12-35-36/lambda_54e3047f_1_batch_size=70,downprojection=True,encoder_layer=2,feedforward_dim=64,model_dim=15,pos_encoder_dropout=0.3838,pro_2023-12-06_12-35-40/checkpoint_000008)\n"
     ]
    },
    {
     "name": "stdout",
     "output_type": "stream",
     "text": [
      "\u001b[36m(<lambda> pid=9054)\u001b[0m Loss on train: 0, loss on validation: 12.060734748840332\n",
      "\u001b[36m(<lambda> pid=9054)\u001b[0m Epoch: 10\n"
     ]
    },
    {
     "name": "stderr",
     "output_type": "stream",
     "text": [
      "\u001b[36m(<lambda> pid=9054)\u001b[0m Checkpoint successfully created at: Checkpoint(filesystem=local, path=/root/ray_results/lambda_2023-12-06_12-35-36/lambda_54e3047f_1_batch_size=70,downprojection=True,encoder_layer=2,feedforward_dim=64,model_dim=15,pos_encoder_dropout=0.3838,pro_2023-12-06_12-35-40/checkpoint_000009)\n"
     ]
    },
    {
     "name": "stdout",
     "output_type": "stream",
     "text": [
      "\u001b[36m(<lambda> pid=9054)\u001b[0m Loss on train: 0, loss on validation: 12.046168327331543\n",
      "\u001b[36m(<lambda> pid=9054)\u001b[0m Epoch: 11\n"
     ]
    },
    {
     "name": "stderr",
     "output_type": "stream",
     "text": [
      "\u001b[36m(<lambda> pid=9054)\u001b[0m Checkpoint successfully created at: Checkpoint(filesystem=local, path=/root/ray_results/lambda_2023-12-06_12-35-36/lambda_54e3047f_1_batch_size=70,downprojection=True,encoder_layer=2,feedforward_dim=64,model_dim=15,pos_encoder_dropout=0.3838,pro_2023-12-06_12-35-40/checkpoint_000010)\n"
     ]
    },
    {
     "name": "stdout",
     "output_type": "stream",
     "text": [
      "\u001b[36m(<lambda> pid=9054)\u001b[0m Loss on train: 0, loss on validation: 12.032072067260742\n",
      "\u001b[36m(<lambda> pid=9054)\u001b[0m Epoch: 12\n"
     ]
    },
    {
     "name": "stderr",
     "output_type": "stream",
     "text": [
      "\u001b[36m(<lambda> pid=9054)\u001b[0m Checkpoint successfully created at: Checkpoint(filesystem=local, path=/root/ray_results/lambda_2023-12-06_12-35-36/lambda_54e3047f_1_batch_size=70,downprojection=True,encoder_layer=2,feedforward_dim=64,model_dim=15,pos_encoder_dropout=0.3838,pro_2023-12-06_12-35-40/checkpoint_000011)\n"
     ]
    },
    {
     "name": "stdout",
     "output_type": "stream",
     "text": [
      "\u001b[36m(<lambda> pid=9054)\u001b[0m Loss on train: 0, loss on validation: 12.045676231384277\n",
      "\u001b[36m(<lambda> pid=9054)\u001b[0m Epoch: 13\n"
     ]
    },
    {
     "name": "stderr",
     "output_type": "stream",
     "text": [
      "\u001b[36m(<lambda> pid=9054)\u001b[0m Checkpoint successfully created at: Checkpoint(filesystem=local, path=/root/ray_results/lambda_2023-12-06_12-35-36/lambda_54e3047f_1_batch_size=70,downprojection=True,encoder_layer=2,feedforward_dim=64,model_dim=15,pos_encoder_dropout=0.3838,pro_2023-12-06_12-35-40/checkpoint_000012)\n"
     ]
    },
    {
     "name": "stdout",
     "output_type": "stream",
     "text": [
      "\u001b[36m(<lambda> pid=9054)\u001b[0m Loss on train: 0, loss on validation: 12.076269149780273\n",
      "\u001b[36m(<lambda> pid=9054)\u001b[0m Epoch: 14\n"
     ]
    },
    {
     "name": "stderr",
     "output_type": "stream",
     "text": [
      "\u001b[36m(<lambda> pid=9054)\u001b[0m Checkpoint successfully created at: Checkpoint(filesystem=local, path=/root/ray_results/lambda_2023-12-06_12-35-36/lambda_54e3047f_1_batch_size=70,downprojection=True,encoder_layer=2,feedforward_dim=64,model_dim=15,pos_encoder_dropout=0.3838,pro_2023-12-06_12-35-40/checkpoint_000013)\n"
     ]
    },
    {
     "name": "stdout",
     "output_type": "stream",
     "text": [
      "\u001b[36m(<lambda> pid=9054)\u001b[0m Loss on train: 0, loss on validation: 12.067008972167969\n",
      "\u001b[36m(<lambda> pid=9054)\u001b[0m Epoch: 15\n"
     ]
    },
    {
     "name": "stderr",
     "output_type": "stream",
     "text": [
      "\u001b[36m(<lambda> pid=9054)\u001b[0m Checkpoint successfully created at: Checkpoint(filesystem=local, path=/root/ray_results/lambda_2023-12-06_12-35-36/lambda_54e3047f_1_batch_size=70,downprojection=True,encoder_layer=2,feedforward_dim=64,model_dim=15,pos_encoder_dropout=0.3838,pro_2023-12-06_12-35-40/checkpoint_000014)\n"
     ]
    },
    {
     "name": "stdout",
     "output_type": "stream",
     "text": [
      "\u001b[36m(<lambda> pid=9054)\u001b[0m Loss on train: 0, loss on validation: 12.07937240600586\n",
      "\u001b[36m(<lambda> pid=9054)\u001b[0m Epoch: 16\n"
     ]
    },
    {
     "name": "stderr",
     "output_type": "stream",
     "text": [
      "\u001b[36m(<lambda> pid=9054)\u001b[0m Checkpoint successfully created at: Checkpoint(filesystem=local, path=/root/ray_results/lambda_2023-12-06_12-35-36/lambda_54e3047f_1_batch_size=70,downprojection=True,encoder_layer=2,feedforward_dim=64,model_dim=15,pos_encoder_dropout=0.3838,pro_2023-12-06_12-35-40/checkpoint_000015)\n"
     ]
    },
    {
     "name": "stdout",
     "output_type": "stream",
     "text": [
      "\u001b[36m(<lambda> pid=9054)\u001b[0m Loss on train: 0, loss on validation: 12.043169021606445\n",
      "\u001b[36m(<lambda> pid=9054)\u001b[0m Epoch: 17\n",
      "\u001b[36m(<lambda> pid=9054)\u001b[0m Loss on train: 0, loss on validation: 12.052725791931152\n",
      "\u001b[36m(<lambda> pid=9054)\u001b[0m Epoch: 18\n"
     ]
    },
    {
     "name": "stderr",
     "output_type": "stream",
     "text": [
      "\u001b[36m(<lambda> pid=9054)\u001b[0m Checkpoint successfully created at: Checkpoint(filesystem=local, path=/root/ray_results/lambda_2023-12-06_12-35-36/lambda_54e3047f_1_batch_size=70,downprojection=True,encoder_layer=2,feedforward_dim=64,model_dim=15,pos_encoder_dropout=0.3838,pro_2023-12-06_12-35-40/checkpoint_000016)\n",
      "\u001b[36m(<lambda> pid=9054)\u001b[0m Checkpoint successfully created at: Checkpoint(filesystem=local, path=/root/ray_results/lambda_2023-12-06_12-35-36/lambda_54e3047f_1_batch_size=70,downprojection=True,encoder_layer=2,feedforward_dim=64,model_dim=15,pos_encoder_dropout=0.3838,pro_2023-12-06_12-35-40/checkpoint_000017)\n"
     ]
    },
    {
     "name": "stdout",
     "output_type": "stream",
     "text": [
      "\u001b[36m(<lambda> pid=9054)\u001b[0m Loss on train: 0, loss on validation: 12.061445236206055\n",
      "\u001b[36m(<lambda> pid=9054)\u001b[0m Epoch: 19\n"
     ]
    },
    {
     "name": "stderr",
     "output_type": "stream",
     "text": [
      "\u001b[36m(<lambda> pid=9054)\u001b[0m Checkpoint successfully created at: Checkpoint(filesystem=local, path=/root/ray_results/lambda_2023-12-06_12-35-36/lambda_54e3047f_1_batch_size=70,downprojection=True,encoder_layer=2,feedforward_dim=64,model_dim=15,pos_encoder_dropout=0.3838,pro_2023-12-06_12-35-40/checkpoint_000018)\n",
      "\u001b[36m(<lambda> pid=9135)\u001b[0m /usr/local/lib/python3.10/dist-packages/torch/nn/modules/transformer.py:282: UserWarning: enable_nested_tensor is True, but self.use_nested_tensor is False because encoder_layer.self_attn.batch_first was not True(use batch_first for better inference performance)\n",
      "\u001b[36m(<lambda> pid=9135)\u001b[0m   warnings.warn(f\"enable_nested_tensor is True, but self.use_nested_tensor is False because {why_not_sparsity_fast_path}\")\n"
     ]
    },
    {
     "name": "stdout",
     "output_type": "stream",
     "text": [
      "\u001b[36m(<lambda> pid=9054)\u001b[0m Loss on train: 0, loss on validation: 12.059674263000488\n",
      "\u001b[36m(<lambda> pid=9054)\u001b[0m Epoch: 20\n"
     ]
    },
    {
     "name": "stderr",
     "output_type": "stream",
     "text": [
      "\u001b[36m(<lambda> pid=9054)\u001b[0m Checkpoint successfully created at: Checkpoint(filesystem=local, path=/root/ray_results/lambda_2023-12-06_12-35-36/lambda_54e3047f_1_batch_size=70,downprojection=True,encoder_layer=2,feedforward_dim=64,model_dim=15,pos_encoder_dropout=0.3838,pro_2023-12-06_12-35-40/checkpoint_000019)\n",
      "\u001b[36m(<lambda> pid=9135)\u001b[0m /usr/local/lib/python3.10/dist-packages/torch/nn/modules/loss.py:535: UserWarning: Using a target size (torch.Size([2, 256, 64, 9])) that is different to the input size (torch.Size([2, 256, 1, 9])). This will likely lead to incorrect results due to broadcasting. Please ensure they have the same size.\n",
      "\u001b[36m(<lambda> pid=9135)\u001b[0m   return F.mse_loss(input, target, reduction=self.reduction)\n",
      "\u001b[36m(<lambda> pid=9135)\u001b[0m /usr/local/lib/python3.10/dist-packages/torch/nn/modules/loss.py:535: UserWarning: Using a target size (torch.Size([2, 256, 13, 9])) that is different to the input size (torch.Size([2, 256, 1, 9])). This will likely lead to incorrect results due to broadcasting. Please ensure they have the same size.\n",
      "\u001b[36m(<lambda> pid=9135)\u001b[0m   return F.mse_loss(input, target, reduction=self.reduction)\n",
      "\u001b[36m(<lambda> pid=9135)\u001b[0m /usr/local/lib/python3.10/dist-packages/torch/nn/modules/loss.py:535: UserWarning: Using a target size (torch.Size([2, 256, 14, 9])) that is different to the input size (torch.Size([2, 256, 1, 9])). This will likely lead to incorrect results due to broadcasting. Please ensure they have the same size.\n",
      "\u001b[36m(<lambda> pid=9135)\u001b[0m   return F.mse_loss(input, target, reduction=self.reduction)\n"
     ]
    },
    {
     "name": "stdout",
     "output_type": "stream",
     "text": [
      "\u001b[36m(<lambda> pid=9054)\u001b[0m Loss on train: 0, loss on validation: 12.024023056030273\n",
      "\u001b[36m(<lambda> pid=9054)\u001b[0m Epoch: 26\u001b[32m [repeated 12x across cluster] (Ray deduplicates logs by default. Set RAY_DEDUP_LOGS=0 to disable log deduplication, or see https://docs.ray.io/en/master/ray-observability/ray-logging.html#log-deduplication for more options.)\u001b[0m\n",
      "\u001b[36m(<lambda> pid=9054)\u001b[0m Loss on train: 0, loss on validation: 12.063196182250977\u001b[32m [repeated 12x across cluster]\u001b[0m\n"
     ]
    },
    {
     "name": "stderr",
     "output_type": "stream",
     "text": [
      "\u001b[36m(<lambda> pid=9135)\u001b[0m Checkpoint successfully created at: Checkpoint(filesystem=local, path=/root/ray_results/lambda_2023-12-06_12-35-36/lambda_ce7b6616_2_batch_size=54,downprojection=True,encoder_layer=1,feedforward_dim=64,model_dim=15,pos_encoder_dropout=0.2813,pro_2023-12-06_12-35-49/checkpoint_000006)\u001b[32m [repeated 12x across cluster]\u001b[0m\n",
      "\u001b[36m(<lambda> pid=9196)\u001b[0m /usr/local/lib/python3.10/dist-packages/torch/nn/modules/transformer.py:282: UserWarning: enable_nested_tensor is True, but self.use_nested_tensor is False because encoder_layer.self_attn.batch_first was not True(use batch_first for better inference performance)\n",
      "\u001b[36m(<lambda> pid=9196)\u001b[0m   warnings.warn(f\"enable_nested_tensor is True, but self.use_nested_tensor is False because {why_not_sparsity_fast_path}\")\n"
     ]
    },
    {
     "name": "stdout",
     "output_type": "stream",
     "text": [
      "\u001b[36m(<lambda> pid=9135)\u001b[0m Epoch: 21\u001b[32m [repeated 28x across cluster]\u001b[0m\n",
      "\u001b[36m(<lambda> pid=9196)\u001b[0m Loss on train: 0, loss on validation: 11.876659393310547\u001b[32m [repeated 29x across cluster]\u001b[0m\n"
     ]
    },
    {
     "name": "stderr",
     "output_type": "stream",
     "text": [
      "\u001b[36m(<lambda> pid=9196)\u001b[0m /usr/local/lib/python3.10/dist-packages/torch/nn/modules/loss.py:535: UserWarning: Using a target size (torch.Size([2, 256, 64, 9])) that is different to the input size (torch.Size([2, 256, 1, 9])). This will likely lead to incorrect results due to broadcasting. Please ensure they have the same size.\n",
      "\u001b[36m(<lambda> pid=9196)\u001b[0m   return F.mse_loss(input, target, reduction=self.reduction)\n",
      "\u001b[36m(<lambda> pid=9196)\u001b[0m /usr/local/lib/python3.10/dist-packages/torch/nn/modules/loss.py:535: UserWarning: Using a target size (torch.Size([2, 256, 13, 9])) that is different to the input size (torch.Size([2, 256, 1, 9])). This will likely lead to incorrect results due to broadcasting. Please ensure they have the same size.\n",
      "\u001b[36m(<lambda> pid=9196)\u001b[0m   return F.mse_loss(input, target, reduction=self.reduction)\n",
      "\u001b[36m(<lambda> pid=9196)\u001b[0m /usr/local/lib/python3.10/dist-packages/torch/nn/modules/loss.py:535: UserWarning: Using a target size (torch.Size([2, 256, 14, 9])) that is different to the input size (torch.Size([2, 256, 1, 9])). This will likely lead to incorrect results due to broadcasting. Please ensure they have the same size.\n",
      "\u001b[36m(<lambda> pid=9196)\u001b[0m   return F.mse_loss(input, target, reduction=self.reduction)\n",
      "\u001b[36m(<lambda> pid=9054)\u001b[0m Checkpoint successfully created at: Checkpoint(filesystem=local, path=/root/ray_results/lambda_2023-12-06_12-35-36/lambda_54e3047f_1_batch_size=70,downprojection=True,encoder_layer=2,feedforward_dim=64,model_dim=15,pos_encoder_dropout=0.3838,pro_2023-12-06_12-35-40/checkpoint_000039)\u001b[32m [repeated 30x across cluster]\u001b[0m\n"
     ]
    },
    {
     "name": "stdout",
     "output_type": "stream",
     "text": [
      "\u001b[36m(<lambda> pid=9054)\u001b[0m Epoch: 52\u001b[32m [repeated 38x across cluster]\u001b[0m\n",
      "\u001b[36m(<lambda> pid=9054)\u001b[0m Loss on train: 0, loss on validation: 12.063070297241211\u001b[32m [repeated 34x across cluster]\u001b[0m\n"
     ]
    },
    {
     "name": "stderr",
     "output_type": "stream",
     "text": [
      "\u001b[36m(<lambda> pid=9135)\u001b[0m Checkpoint successfully created at: Checkpoint(filesystem=local, path=/root/ray_results/lambda_2023-12-06_12-35-36/lambda_ce7b6616_2_batch_size=54,downprojection=True,encoder_layer=1,feedforward_dim=64,model_dim=15,pos_encoder_dropout=0.2813,pro_2023-12-06_12-35-49/checkpoint_000036)\u001b[32m [repeated 45x across cluster]\u001b[0m\n",
      "\u001b[36m(<lambda> pid=9259)\u001b[0m /usr/local/lib/python3.10/dist-packages/torch/nn/modules/transformer.py:282: UserWarning: enable_nested_tensor is True, but self.use_nested_tensor is False because encoder_layer.self_attn.batch_first was not True(use batch_first for better inference performance)\n",
      "\u001b[36m(<lambda> pid=9259)\u001b[0m   warnings.warn(f\"enable_nested_tensor is True, but self.use_nested_tensor is False because {why_not_sparsity_fast_path}\")\n",
      "\u001b[36m(<lambda> pid=9259)\u001b[0m /usr/local/lib/python3.10/dist-packages/torch/nn/modules/loss.py:535: UserWarning: Using a target size (torch.Size([2, 256, 64, 9])) that is different to the input size (torch.Size([2, 256, 1, 9])). This will likely lead to incorrect results due to broadcasting. Please ensure they have the same size.\n",
      "\u001b[36m(<lambda> pid=9259)\u001b[0m   return F.mse_loss(input, target, reduction=self.reduction)\n",
      "\u001b[36m(<lambda> pid=9259)\u001b[0m /usr/local/lib/python3.10/dist-packages/torch/nn/modules/loss.py:535: UserWarning: Using a target size (torch.Size([2, 256, 13, 9])) that is different to the input size (torch.Size([2, 256, 1, 9])). This will likely lead to incorrect results due to broadcasting. Please ensure they have the same size.\n",
      "\u001b[36m(<lambda> pid=9259)\u001b[0m   return F.mse_loss(input, target, reduction=self.reduction)\n",
      "\u001b[36m(<lambda> pid=9259)\u001b[0m /usr/local/lib/python3.10/dist-packages/torch/nn/modules/loss.py:535: UserWarning: Using a target size (torch.Size([2, 256, 14, 9])) that is different to the input size (torch.Size([2, 256, 1, 9])). This will likely lead to incorrect results due to broadcasting. Please ensure they have the same size.\n",
      "\u001b[36m(<lambda> pid=9259)\u001b[0m   return F.mse_loss(input, target, reduction=self.reduction)\n"
     ]
    },
    {
     "name": "stdout",
     "output_type": "stream",
     "text": [
      "\u001b[36m(<lambda> pid=9054)\u001b[0m Epoch: 62\u001b[32m [repeated 37x across cluster]\u001b[0m\n",
      "\u001b[36m(<lambda> pid=9054)\u001b[0m Loss on train: 0, loss on validation: 12.07406997680664\u001b[32m [repeated 36x across cluster]\u001b[0m\n"
     ]
    },
    {
     "name": "stderr",
     "output_type": "stream",
     "text": [
      "\u001b[36m(<lambda> pid=9054)\u001b[0m Checkpoint successfully created at: Checkpoint(filesystem=local, path=/root/ray_results/lambda_2023-12-06_12-35-36/lambda_54e3047f_1_batch_size=70,downprojection=True,encoder_layer=2,feedforward_dim=64,model_dim=15,pos_encoder_dropout=0.3838,pro_2023-12-06_12-35-40/checkpoint_000064)\u001b[32m [repeated 39x across cluster]\u001b[0m\n"
     ]
    },
    {
     "name": "stdout",
     "output_type": "stream",
     "text": [
      "\u001b[36m(<lambda> pid=9135)\u001b[0m Epoch: 60\u001b[32m [repeated 58x across cluster]\u001b[0m\n",
      "\u001b[36m(<lambda> pid=9135)\u001b[0m Loss on train: 0, loss on validation: 11.875997543334961\u001b[32m [repeated 58x across cluster]\u001b[0m\n"
     ]
    },
    {
     "name": "stderr",
     "output_type": "stream",
     "text": [
      "\u001b[36m(<lambda> pid=9135)\u001b[0m Checkpoint successfully created at: Checkpoint(filesystem=local, path=/root/ray_results/lambda_2023-12-06_12-35-36/lambda_ce7b6616_2_batch_size=54,downprojection=True,encoder_layer=1,feedforward_dim=64,model_dim=15,pos_encoder_dropout=0.2813,pro_2023-12-06_12-35-49/checkpoint_000062)\u001b[32m [repeated 59x across cluster]\u001b[0m\n"
     ]
    },
    {
     "name": "stdout",
     "output_type": "stream",
     "text": [
      "\u001b[36m(<lambda> pid=9135)\u001b[0m Epoch: 75\u001b[32m [repeated 60x across cluster]\u001b[0m\n",
      "\u001b[36m(<lambda> pid=9135)\u001b[0m Loss on train: 0, loss on validation: 11.913981437683105\u001b[32m [repeated 61x across cluster]\u001b[0m\n"
     ]
    },
    {
     "name": "stderr",
     "output_type": "stream",
     "text": [
      "\u001b[36m(<lambda> pid=9054)\u001b[0m Checkpoint successfully created at: Checkpoint(filesystem=local, path=/root/ray_results/lambda_2023-12-06_12-35-36/lambda_54e3047f_1_batch_size=70,downprojection=True,encoder_layer=2,feedforward_dim=64,model_dim=15,pos_encoder_dropout=0.3838,pro_2023-12-06_12-35-40/checkpoint_000093)\u001b[32m [repeated 59x across cluster]\u001b[0m\n",
      "\u001b[36m(<lambda> pid=9054)\u001b[0m /usr/local/lib/python3.10/dist-packages/torch/nn/modules/transformer.py:282: UserWarning: enable_nested_tensor is True, but self.use_nested_tensor is False because encoder_layer.self_attn.batch_first was not True(use batch_first for better inference performance)\n",
      "\u001b[36m(<lambda> pid=9054)\u001b[0m   warnings.warn(f\"enable_nested_tensor is True, but self.use_nested_tensor is False because {why_not_sparsity_fast_path}\")\n"
     ]
    },
    {
     "name": "stdout",
     "output_type": "stream",
     "text": [
      "\u001b[36m(<lambda> pid=9054)\u001b[0m Epoch: 1\u001b[32m [repeated 41x across cluster]\u001b[0m\n",
      "\u001b[36m(<lambda> pid=9054)\u001b[0m Loss on train: 0, loss on validation: 12.120086669921875\u001b[32m [repeated 43x across cluster]\u001b[0m\n"
     ]
    },
    {
     "name": "stderr",
     "output_type": "stream",
     "text": [
      "\u001b[36m(<lambda> pid=9054)\u001b[0m Checkpoint successfully created at: Checkpoint(filesystem=local, path=/root/ray_results/lambda_2023-12-06_12-35-36/lambda_e5a2bc9a_7_batch_size=58,downprojection=False,encoder_layer=2,feedforward_dim=64,model_dim=15,pos_encoder_dropout=0.2358,pr_2023-12-06_12-36-31/checkpoint_000000)\u001b[32m [repeated 34x across cluster]\u001b[0m\n"
     ]
    },
    {
     "name": "stdout",
     "output_type": "stream",
     "text": [
      "\u001b[36m(<lambda> pid=9259)\u001b[0m Epoch: 50\u001b[32m [repeated 31x across cluster]\u001b[0m\n",
      "\u001b[36m(<lambda> pid=9259)\u001b[0m Loss on train: 0, loss on validation: 11.607279777526855\u001b[32m [repeated 28x across cluster]\u001b[0m\n"
     ]
    },
    {
     "name": "stderr",
     "output_type": "stream",
     "text": [
      "\u001b[36m(<lambda> pid=9259)\u001b[0m Checkpoint successfully created at: Checkpoint(filesystem=local, path=/root/ray_results/lambda_2023-12-06_12-35-36/lambda_03db0f48_4_batch_size=54,downprojection=True,encoder_layer=3,feedforward_dim=128,model_dim=9,pos_encoder_dropout=0.2221,pro_2023-12-06_12-36-05/checkpoint_000054)\u001b[32m [repeated 47x across cluster]\u001b[0m\n",
      "\u001b[36m(<lambda> pid=9135)\u001b[0m /usr/local/lib/python3.10/dist-packages/torch/nn/modules/transformer.py:282: UserWarning: enable_nested_tensor is True, but self.use_nested_tensor is False because encoder_layer.self_attn.batch_first was not True(use batch_first for better inference performance)\n",
      "\u001b[36m(<lambda> pid=9135)\u001b[0m   warnings.warn(f\"enable_nested_tensor is True, but self.use_nested_tensor is False because {why_not_sparsity_fast_path}\")\n"
     ]
    },
    {
     "name": "stdout",
     "output_type": "stream",
     "text": [
      "\u001b[36m(<lambda> pid=9054)\u001b[0m Epoch: 16\u001b[32m [repeated 34x across cluster]\u001b[0m\n",
      "\u001b[36m(<lambda> pid=9135)\u001b[0m Loss on train: 0, loss on validation: 11.568135261535645\u001b[32m [repeated 37x across cluster]\u001b[0m\n"
     ]
    },
    {
     "name": "stderr",
     "output_type": "stream",
     "text": [
      "\u001b[36m(<lambda> pid=9259)\u001b[0m Checkpoint successfully created at: Checkpoint(filesystem=local, path=/root/ray_results/lambda_2023-12-06_12-35-36/lambda_03db0f48_4_batch_size=54,downprojection=True,encoder_layer=3,feedforward_dim=128,model_dim=9,pos_encoder_dropout=0.2221,pro_2023-12-06_12-36-05/checkpoint_000061)\u001b[32m [repeated 29x across cluster]\u001b[0m\n"
     ]
    },
    {
     "name": "stdout",
     "output_type": "stream",
     "text": [
      "\u001b[36m(<lambda> pid=9196)\u001b[0m Epoch: 97\u001b[32m [repeated 59x across cluster]\u001b[0m\n",
      "\u001b[36m(<lambda> pid=9196)\u001b[0m Loss on train: 0, loss on validation: 11.834798812866211\u001b[32m [repeated 56x across cluster]\u001b[0m\n"
     ]
    },
    {
     "name": "stderr",
     "output_type": "stream",
     "text": [
      "\u001b[36m(<lambda> pid=9054)\u001b[0m Checkpoint successfully created at: Checkpoint(filesystem=local, path=/root/ray_results/lambda_2023-12-06_12-35-36/lambda_e5a2bc9a_7_batch_size=58,downprojection=False,encoder_layer=2,feedforward_dim=64,model_dim=15,pos_encoder_dropout=0.2358,pr_2023-12-06_12-36-31/checkpoint_000031)\u001b[32m [repeated 48x across cluster]\u001b[0m\n"
     ]
    },
    {
     "name": "stdout",
     "output_type": "stream",
     "text": [
      "\u001b[36m(<lambda> pid=9054)\u001b[0m Epoch: 34\u001b[32m [repeated 11x across cluster]\u001b[0m\n",
      "\u001b[36m(<lambda> pid=9259)\u001b[0m Loss on train: 0, loss on validation: 11.608792304992676\u001b[32m [repeated 14x across cluster]\u001b[0m\n"
     ]
    },
    {
     "name": "stderr",
     "output_type": "stream",
     "text": [
      "\u001b[36m(<lambda> pid=9054)\u001b[0m Checkpoint successfully created at: Checkpoint(filesystem=local, path=/root/ray_results/lambda_2023-12-06_12-35-36/lambda_e5a2bc9a_7_batch_size=58,downprojection=False,encoder_layer=2,feedforward_dim=64,model_dim=15,pos_encoder_dropout=0.2358,pr_2023-12-06_12-36-31/checkpoint_000034)\u001b[32m [repeated 11x across cluster]\u001b[0m\n",
      "\u001b[36m(<lambda> pid=9196)\u001b[0m /usr/local/lib/python3.10/dist-packages/torch/nn/modules/transformer.py:282: UserWarning: enable_nested_tensor is True, but self.use_nested_tensor is False because encoder_layer.self_attn.batch_first was not True(use batch_first for better inference performance)\n",
      "\u001b[36m(<lambda> pid=9196)\u001b[0m   warnings.warn(f\"enable_nested_tensor is True, but self.use_nested_tensor is False because {why_not_sparsity_fast_path}\")\n"
     ]
    },
    {
     "name": "stdout",
     "output_type": "stream",
     "text": [
      "\u001b[36m(<lambda> pid=9054)\u001b[0m Epoch: 37\u001b[32m [repeated 11x across cluster]\u001b[0m\n",
      "\u001b[36m(<lambda> pid=9259)\u001b[0m Loss on train: 0, loss on validation: 11.633232116699219\u001b[32m [repeated 11x across cluster]\u001b[0m\n"
     ]
    },
    {
     "name": "stderr",
     "output_type": "stream",
     "text": [
      "\u001b[36m(<lambda> pid=9054)\u001b[0m Checkpoint successfully created at: Checkpoint(filesystem=local, path=/root/ray_results/lambda_2023-12-06_12-35-36/lambda_e5a2bc9a_7_batch_size=58,downprojection=False,encoder_layer=2,feedforward_dim=64,model_dim=15,pos_encoder_dropout=0.2358,pr_2023-12-06_12-36-31/checkpoint_000042)\u001b[32m [repeated 31x across cluster]\u001b[0m\n"
     ]
    },
    {
     "name": "stdout",
     "output_type": "stream",
     "text": [
      "\u001b[36m(<lambda> pid=9054)\u001b[0m Epoch: 52\u001b[32m [repeated 60x across cluster]\u001b[0m\n",
      "\u001b[36m(<lambda> pid=9054)\u001b[0m Loss on train: 0, loss on validation: 11.436466217041016\u001b[32m [repeated 57x across cluster]\u001b[0m\n"
     ]
    },
    {
     "name": "stderr",
     "output_type": "stream",
     "text": [
      "\u001b[36m(<lambda> pid=9259)\u001b[0m Checkpoint successfully created at: Checkpoint(filesystem=local, path=/root/ray_results/lambda_2023-12-06_12-35-36/lambda_03db0f48_4_batch_size=54,downprojection=True,encoder_layer=3,feedforward_dim=128,model_dim=9,pos_encoder_dropout=0.2221,pro_2023-12-06_12-36-05/checkpoint_000098)\u001b[32m [repeated 58x across cluster]\u001b[0m\n",
      "\u001b[36m(<lambda> pid=9259)\u001b[0m /usr/local/lib/python3.10/dist-packages/torch/nn/modules/transformer.py:282: UserWarning: enable_nested_tensor is True, but self.use_nested_tensor is False because encoder_layer.self_attn.batch_first was not True(use batch_first for better inference performance)\n",
      "\u001b[36m(<lambda> pid=9259)\u001b[0m   warnings.warn(f\"enable_nested_tensor is True, but self.use_nested_tensor is False because {why_not_sparsity_fast_path}\")\n"
     ]
    },
    {
     "name": "stdout",
     "output_type": "stream",
     "text": [
      "\u001b[36m(<lambda> pid=9054)\u001b[0m Epoch: 60\u001b[32m [repeated 33x across cluster]\u001b[0m\n",
      "\u001b[36m(<lambda> pid=9259)\u001b[0m Loss on train: 0, loss on validation: 12.048307418823242\u001b[32m [repeated 36x across cluster]\u001b[0m\n"
     ]
    },
    {
     "name": "stderr",
     "output_type": "stream",
     "text": [
      "\u001b[36m(<lambda> pid=9054)\u001b[0m Checkpoint successfully created at: Checkpoint(filesystem=local, path=/root/ray_results/lambda_2023-12-06_12-35-36/lambda_e5a2bc9a_7_batch_size=58,downprojection=False,encoder_layer=2,feedforward_dim=64,model_dim=15,pos_encoder_dropout=0.2358,pr_2023-12-06_12-36-31/checkpoint_000060)\u001b[32m [repeated 15x across cluster]\u001b[0m\n"
     ]
    },
    {
     "name": "stdout",
     "output_type": "stream",
     "text": [
      "\u001b[36m(<lambda> pid=9054)\u001b[0m Epoch: 63\u001b[32m [repeated 11x across cluster]\u001b[0m\n",
      "\u001b[36m(<lambda> pid=9259)\u001b[0m Loss on train: 0, loss on validation: 11.344552993774414\u001b[32m [repeated 11x across cluster]\u001b[0m\n"
     ]
    },
    {
     "name": "stderr",
     "output_type": "stream",
     "text": [
      "\u001b[36m(<lambda> pid=9054)\u001b[0m Checkpoint successfully created at: Checkpoint(filesystem=local, path=/root/ray_results/lambda_2023-12-06_12-35-36/lambda_e5a2bc9a_7_batch_size=58,downprojection=False,encoder_layer=2,feedforward_dim=64,model_dim=15,pos_encoder_dropout=0.2358,pr_2023-12-06_12-36-31/checkpoint_000068)\u001b[32m [repeated 31x across cluster]\u001b[0m\n"
     ]
    },
    {
     "name": "stdout",
     "output_type": "stream",
     "text": [
      "\u001b[36m(<lambda> pid=9196)\u001b[0m Epoch: 41\u001b[32m [repeated 58x across cluster]\u001b[0m\n",
      "\u001b[36m(<lambda> pid=9196)\u001b[0m Loss on train: 0, loss on validation: 11.070581436157227\u001b[32m [repeated 55x across cluster]\u001b[0m\n"
     ]
    },
    {
     "name": "stderr",
     "output_type": "stream",
     "text": [
      "\u001b[36m(<lambda> pid=9135)\u001b[0m Checkpoint successfully created at: Checkpoint(filesystem=local, path=/root/ray_results/lambda_2023-12-06_12-35-36/lambda_b1028452_14_batch_size=54,downprojection=True,encoder_layer=2,feedforward_dim=128,model_dim=9,pos_encoder_dropout=0.4122,pr_2023-12-06_12-36-52/checkpoint_000048)\u001b[32m [repeated 58x across cluster]\u001b[0m\n"
     ]
    },
    {
     "name": "stdout",
     "output_type": "stream",
     "text": [
      "\u001b[36m(<lambda> pid=9259)\u001b[0m Epoch: 29\u001b[32m [repeated 55x across cluster]\u001b[0m\n",
      "\u001b[36m(<lambda> pid=9054)\u001b[0m Loss on train: 0, loss on validation: 11.448993682861328\u001b[32m [repeated 56x across cluster]\u001b[0m\n"
     ]
    },
    {
     "name": "stderr",
     "output_type": "stream",
     "text": [
      "\u001b[36m(<lambda> pid=9196)\u001b[0m Checkpoint successfully created at: Checkpoint(filesystem=local, path=/root/ray_results/lambda_2023-12-06_12-35-36/lambda_8d25cb65_15_batch_size=66,downprojection=True,encoder_layer=3,feedforward_dim=128,model_dim=9,pos_encoder_dropout=0.4912,pr_2023-12-06_12-36-54/checkpoint_000060)\u001b[32m [repeated 59x across cluster]\u001b[0m\n"
     ]
    },
    {
     "name": "stdout",
     "output_type": "stream",
     "text": [
      "\u001b[36m(<lambda> pid=9135)\u001b[0m Epoch: 67\u001b[32m [repeated 41x across cluster]\u001b[0m\n",
      "\u001b[36m(<lambda> pid=9054)\u001b[0m Loss on train: 0, loss on validation: 12.010765075683594\u001b[32m [repeated 42x across cluster]\u001b[0m\n"
     ]
    },
    {
     "name": "stderr",
     "output_type": "stream",
     "text": [
      "\u001b[36m(<lambda> pid=9054)\u001b[0m Checkpoint successfully created at: Checkpoint(filesystem=local, path=/root/ray_results/lambda_2023-12-06_12-35-36/lambda_3fc4142a_24_batch_size=62,downprojection=False,encoder_layer=2,feedforward_dim=64,model_dim=15,pos_encoder_dropout=0.2239,p_2023-12-06_12-37-30/checkpoint_000000)\u001b[32m [repeated 18x across cluster]\u001b[0m\n"
     ]
    },
    {
     "name": "stdout",
     "output_type": "stream",
     "text": [
      "\u001b[36m(<lambda> pid=9054)\u001b[0m Epoch: 1\u001b[32m [repeated 13x across cluster]\u001b[0m\n",
      "\u001b[36m(<lambda> pid=9259)\u001b[0m Loss on train: 0, loss on validation: 11.358732223510742\u001b[32m [repeated 14x across cluster]\u001b[0m\n"
     ]
    },
    {
     "name": "stderr",
     "output_type": "stream",
     "text": [
      "\u001b[36m(<lambda> pid=9196)\u001b[0m Checkpoint successfully created at: Checkpoint(filesystem=local, path=/root/ray_results/lambda_2023-12-06_12-35-36/lambda_8d25cb65_15_batch_size=66,downprojection=True,encoder_layer=3,feedforward_dim=128,model_dim=9,pos_encoder_dropout=0.4912,pr_2023-12-06_12-36-54/checkpoint_000068)\u001b[32m [repeated 16x across cluster]\u001b[0m\n"
     ]
    },
    {
     "name": "stdout",
     "output_type": "stream",
     "text": [
      "\u001b[36m(<lambda> pid=9135)\u001b[0m Epoch: 79\u001b[32m [repeated 28x across cluster]\u001b[0m\n",
      "\u001b[36m(<lambda> pid=9135)\u001b[0m Loss on train: 0, loss on validation: 11.324853897094727\u001b[32m [repeated 25x across cluster]\u001b[0m\n"
     ]
    },
    {
     "name": "stderr",
     "output_type": "stream",
     "text": [
      "\u001b[36m(<lambda> pid=9259)\u001b[0m Checkpoint successfully created at: Checkpoint(filesystem=local, path=/root/ray_results/lambda_2023-12-06_12-35-36/lambda_a256bc86_20_batch_size=62,downprojection=True,encoder_layer=3,feedforward_dim=32,model_dim=9,pos_encoder_dropout=0.2089,pro_2023-12-06_12-37-10/checkpoint_000052)\u001b[32m [repeated 41x across cluster]\u001b[0m\n"
     ]
    },
    {
     "name": "stdout",
     "output_type": "stream",
     "text": [
      "\u001b[36m(<lambda> pid=9054)\u001b[0m Epoch: 19\u001b[32m [repeated 57x across cluster]\u001b[0m\n",
      "\u001b[36m(<lambda> pid=9054)\u001b[0m Loss on train: 0, loss on validation: 11.334953308105469\u001b[32m [repeated 57x across cluster]\u001b[0m\n"
     ]
    },
    {
     "name": "stderr",
     "output_type": "stream",
     "text": [
      "\u001b[36m(<lambda> pid=9054)\u001b[0m Checkpoint successfully created at: Checkpoint(filesystem=local, path=/root/ray_results/lambda_2023-12-06_12-35-36/lambda_14cc4023_27_batch_size=58,downprojection=True,encoder_layer=3,feedforward_dim=32,model_dim=15,pos_encoder_dropout=0.3079,pr_2023-12-06_12-37-35/checkpoint_000023)\u001b[32m [repeated 56x across cluster]\u001b[0m\n"
     ]
    },
    {
     "name": "stdout",
     "output_type": "stream",
     "text": [
      "\u001b[36m(<lambda> pid=9054)\u001b[0m Epoch: 29\u001b[32m [repeated 41x across cluster]\u001b[0m\n",
      "\u001b[36m(<lambda> pid=9054)\u001b[0m Loss on train: 0, loss on validation: 11.419482231140137\u001b[32m [repeated 41x across cluster]\u001b[0m\n"
     ]
    },
    {
     "name": "stderr",
     "output_type": "stream",
     "text": [
      "\u001b[36m(<lambda> pid=9196)\u001b[0m Checkpoint successfully created at: Checkpoint(filesystem=local, path=/root/ray_results/lambda_2023-12-06_12-35-36/lambda_39443cb9_30_batch_size=66,downprojection=True,encoder_layer=2,feedforward_dim=128,model_dim=9,pos_encoder_dropout=0.4989,pr_2023-12-06_12-37-51/checkpoint_000000)\u001b[32m [repeated 34x across cluster]\u001b[0m\n"
     ]
    },
    {
     "name": "stdout",
     "output_type": "stream",
     "text": [
      "\u001b[36m(<lambda> pid=9054)\u001b[0m Epoch: 34\u001b[32m [repeated 26x across cluster]\u001b[0m\n",
      "\u001b[36m(<lambda> pid=9054)\u001b[0m Loss on train: 0, loss on validation: 11.404744148254395\u001b[32m [repeated 27x across cluster]\u001b[0m\n"
     ]
    }
   ],
   "source": [
    "results = tuner.fit()"
   ]
  },
  {
   "cell_type": "code",
   "execution_count": null,
   "metadata": {},
   "outputs": [],
   "source": [
    "if ray.is_initialized():\n",
    "    ray.shutdown()"
   ]
  },
  {
   "cell_type": "code",
   "execution_count": null,
   "metadata": {},
   "outputs": [],
   "source": [
    "# Save as csv file\n",
    "results.get_dataframe().to_csv(model_path / \"trail_grid.csv\")"
   ]
  },
  {
   "cell_type": "code",
   "execution_count": null,
   "metadata": {},
   "outputs": [],
   "source": [
    "best_parallel_result = results.get_best_result(\"loss\", \"min\")\n",
    "best_parallel_checkpoint = best_parallel_result.get_best_checkpoint(\"loss\", \"min\")\n",
    "\n",
    "best_parallel_model_dict = torch.load(f\"{best_parallel_checkpoint.path}/checkpoint.pt\")"
   ]
  },
  {
   "cell_type": "code",
   "execution_count": null,
   "metadata": {},
   "outputs": [],
   "source": [
    "print(f\"Best trail by loss value {best_parallel_result.metrics['loss']}\", \"\\n------\")\n",
    "for i in best_parallel_result.config:\n",
    "    print(f\"Best trail: {i} value {best_parallel_result.config[i]}\")"
   ]
  },
  {
   "cell_type": "code",
   "execution_count": null,
   "metadata": {},
   "outputs": [],
   "source": [
    "best_parallel_model = ParallelEncoderModel(\n",
    "    2,\n",
    "    best_parallel_result.config[\"model_dim\"], \n",
    "    best_parallel_result.config[\"model_dim\"], \n",
    "    best_parallel_result.config[\"feedforward_dim\"], \n",
    "    output_shape,\n",
    "    num_encoder_layers=best_parallel_result.config[\"encoder_layer\"],\n",
    "    transformer_dropout=best_parallel_result.config[\"transformer_dropout\"],\n",
    "    pos_encoder_dropout=best_parallel_result.config[\"pos_encoder_dropout\"]\n",
    ")\n",
    "best_parallel_model.load_state_dict(best_parallel_model_dict)\n",
    "encoder = best_parallel_model.encoder"
   ]
  },
  {
   "cell_type": "markdown",
   "metadata": {},
   "source": [
    "## Predict Length and Cable Properties from Sample Trajectory"
   ]
  },
  {
   "cell_type": "code",
   "execution_count": null,
   "metadata": {},
   "outputs": [],
   "source": [
    "def predict_cable_properties_from_complete_data(model: nn.Module, trajectory_features: Tensor, cable_properties_dim: int, \n",
    "                                                trajectory_lowpoints: Tensor, n_iterations: int = 100, lr: float = 1e-4, \n",
    "                                                loss_function=nn.MSELoss()):\n",
    "    true_cable_properties = trajectory_features[:, :, :, -cable_properties_dim:]\n",
    "    predicted_cable_properties = predict_cable_properties(model, trajectory_features[:, :, :, :-cable_properties_dim], trajectory_lowpoints, \n",
    "                                                          cable_properties_dim, n_iterations, lr, loss_function)\n",
    "    return predicted_cable_properties, true_cable_properties\n",
    "\n",
    "\n",
    "def predict_cable_properties(model: nn.Module, trajectory_features: Tensor, trajectory_lowpoints: Tensor, \n",
    "                             cable_properties_dim: int, n_iterations: int, lr: float, loss_function):\n",
    "    model.eval()\n",
    "    freeze_parameters(model)\n",
    "    cable_properties = torch.rand(trajectory_features.shape[0], trajectory_features.shape[1], trajectory_features.shape[2], cable_properties_dim)\n",
    "    loss = torch.autograd.Variable(torch.tensor(float('inf'), dtype=torch.float32), requires_grad=True)\n",
    "    i = 0\n",
    "    while loss > 2 or i < n_iterations:\n",
    "        if i == 0:\n",
    "            complete_input = torch.autograd.Variable(torch.concat([trajectory_features, cable_properties], dim=-1), requires_grad=True)\n",
    "            optimizer = torch.optim.SGD([complete_input], lr=lr)\n",
    "        optimizer.zero_grad() \n",
    "        predicted_lowpoints = model(complete_input)\n",
    "        loss = loss_function(predicted_lowpoints, trajectory_lowpoints)\n",
    "        loss = torch.autograd.Variable(loss, requires_grad=True)\n",
    "        loss.backward()\n",
    "        optimizer.step()\n",
    "        #print(complete_input.grad)\n",
    "        i += 1\n",
    "\n",
    "    result = complete_input[:,:,:, -cable_properties_dim:]\n",
    "    return result\n",
    "\n",
    "\n",
    "def freeze_parameters(model: nn.Module) -> None:\n",
    "    for param in model.parameters():\n",
    "        param.requires_grad = False"
   ]
  },
  {
   "cell_type": "code",
   "execution_count": null,
   "metadata": {},
   "outputs": [],
   "source": [
    "trajectories, lowpoints = validation_set[0]\n",
    "trajectories, lowpoints = trajectories.unsqueeze(2), lowpoints.unsqueeze(2)\n",
    "print(trajectories.shape, lowpoints.shape)\n",
    "predicted_cable_properties, true_cable_properties = predict_cable_properties_from_complete_data(\n",
    "    best_parallel_model, trajectories, 9, lowpoints\n",
    ")\n",
    "\n",
    "print(torch.norm(true_cable_properties - predicted_cable_properties))"
   ]
  },
  {
   "cell_type": "markdown",
   "metadata": {},
   "source": [
    "## Model Training Step 2"
   ]
  },
  {
   "cell_type": "markdown",
   "metadata": {},
   "source": [
    "### Decoder Definition"
   ]
  },
  {
   "cell_type": "code",
   "execution_count": null,
   "metadata": {},
   "outputs": [],
   "source": [
    "from torch.nn import TransformerDecoder, TransformerDecoderLayer"
   ]
  },
  {
   "cell_type": "code",
   "execution_count": null,
   "metadata": {},
   "outputs": [],
   "source": [
    "class TransformerDecoderModel(nn.Module):\n",
    "    def __init__(self, model_dim: int, num_heads: int, feedforward_dim: int, num_decoder_layers: int, \n",
    "                 pos_encoder: PositionalEncoding, transformer_dropout: float = 0.25) -> None:\n",
    "        super().__init__()\n",
    "        self.model_type = 'Transformer'\n",
    "        self.total_epochs = 0\n",
    "        self.model_dim = model_dim\n",
    "        decoder_layer = TransformerDecoderLayer(model_dim, num_heads, dim_feedforward=feedforward_dim, dropout=transformer_dropout)\n",
    "        self.decoder = TransformerDecoder(decoder_layer, num_decoder_layers)\n",
    "        self.pos_encoder = pos_encoder\n",
    "\n",
    "    def forward(self, memory: Tensor, target: Tensor, target_mask: Tensor = None) -> Tensor:\n",
    "        # expect input shape to be (S, N, E) with S being the sequence length, N batch size and, E the input dimensionality\n",
    "        if target_mask is None:\n",
    "            target_mask = nn.Transformer.generate_square_subsequent_mask(target.shape[0])\n",
    "        source = self.pos_encoder(source)\n",
    "        return self.decoder(memory, target, tgt_mask=target_mask)\n",
    "    \n",
    "\n",
    "class TransformerModel(nn.Module):\n",
    "    def __init__(self, encoder: TransformerEncoderModel, decoder: TransformerDecoderModel) -> None:\n",
    "        super().__init__()\n",
    "        if encoder.model_dim != decoder.model_dim:\n",
    "            raise ValueError(\"Both encoder and decoder must have the same model dimension!\")\n",
    "        self.model_type = 'Transformer'\n",
    "        self.total_epochs = 0\n",
    "        self.encoder = encoder\n",
    "        self.decoder = decoder\n",
    "\n",
    "    def forward(self, source: Tensor, target: Tensor = None, source_mask: Tensor = None, \n",
    "                target_mask: Tensor = None, mode: str = \"train\") -> Tensor:\n",
    "        # expect input shape to be (S, N, E) with S being the sequence length, N batch size and, E the input dimensionality\n",
    "        # target_mask masks out all values right of the diagonal such that information from the target sequence cant bleed into the left hand side at training time\n",
    "        if mode == \"train\":\n",
    "            prediction = self.forward_train(source, target, source_mask, target_mask)\n",
    "        elif mode == \"generate\":\n",
    "            prediction = self.generate(source)\n",
    "        else:\n",
    "            raise ValueError(\"Invalid mode selected!\")\n",
    "\n",
    "        return prediction\n",
    "\n",
    "    def forward_train(self, source: Tensor, target: Tensor, source_mask: Tensor = None, \n",
    "                      target_mask: Tensor = None) -> Tensor:\n",
    "        if target is None:\n",
    "            raise ValueError(\"In train mode a target sequence has to be provided!\")\n",
    "        \n",
    "        memory = self.encoder(source, source_mask)\n",
    "        return self.decoder(memory, target, target_mask)\n",
    "    \n",
    "    def generate(self, source: Tensor):\n",
    "        memory = self.encoder(source)\n",
    "        target = torch.zeroes_like(source)\n",
    "        predicted = torch.zeros_like(source)\n",
    "\n",
    "        for i, mem_batch in enumerate(memory):\n",
    "            predicted[i, :, :] = self.decoder(mem_batch, target[i, :, :])\n",
    "            target[i + 1, :, :] = predicted[i, :, :]\n",
    "        \n",
    "        return predicted\n",
    "    \n",
    "    @property\n",
    "    def downprojection(self) -> bool:\n",
    "        return self.encoder.downprojection \n"
   ]
  },
  {
   "cell_type": "markdown",
   "metadata": {},
   "source": [
    "### Model Train Functions"
   ]
  },
  {
   "cell_type": "markdown",
   "metadata": {},
   "source": [
    "#### Encoder fixed training"
   ]
  },
  {
   "cell_type": "markdown",
   "metadata": {},
   "source": [
    "#### Load datasets"
   ]
  },
  {
   "cell_type": "code",
   "execution_count": null,
   "metadata": {},
   "outputs": [],
   "source": [
    "from utils.file_io import read_trajectory_datasets"
   ]
  },
  {
   "cell_type": "code",
   "execution_count": null,
   "metadata": {},
   "outputs": [],
   "source": [
    "train_set, test_set, validation_set, visualization_set = read_trajectory_datasets(data_path, 0.85, 0.10, 0.045, 0.005, 256, \n",
    "                                                                                  feature_columns=feature_columns, label_columns=label_features,\n",
    "                                                                                  normalized_features=normalized_features)\n",
    "train_dataloader, validation_dataloader, test_dataloader = define_dataloader_from_subset(train_set, validation_set, test_set, batch_size=batch_size, shuffle=True)"
   ]
  },
  {
   "cell_type": "markdown",
   "metadata": {},
   "source": [
    "#### Define train methods"
   ]
  },
  {
   "cell_type": "code",
   "execution_count": null,
   "metadata": {},
   "outputs": [],
   "source": [
    "def train_epoch(train_dataloader: DataLoader, model, loss_function, optimizer, lr_scheduler,\n",
    "                device: torch.device, report_interval: int = 1000):\n",
    "    \n",
    "    running_loss = 0\n",
    "    last_loss = 0\n",
    "    \n",
    "    for i, (inputs, true_values) in enumerate(train_dataloader):\n",
    "        \n",
    "        inputs = inputs.to(device)\n",
    "        true_values = true_values.to(device)\n",
    "    \n",
    "        inputs_shape, true_values_shape = inputs.size(), true_values.size()\n",
    "        inputs = inputs.view(inputs_shape[1], inputs_shape[0], inputs_shape[2])\n",
    "        true_values = true_values.view(true_values_shape[1], true_values_shape[0], true_values_shape[2])\n",
    "        optimizer.zero_grad()\n",
    "        outputs = model(inputs)\n",
    "        loss = loss_function(outputs, true_values)\n",
    "        running_loss += loss\n",
    "        loss.backward()\n",
    "        optimizer.step()\n",
    "        lr_scheduler.step()\n",
    "    \n",
    "        if i % report_interval == report_interval - 1:\n",
    "            last_loss = running_loss / report_interval\n",
    "            print(f\"batch {i + 1}, Mean Squared Error: {last_loss}\")\n",
    "            running_loss = 0\n",
    "\n",
    "    return last_loss"
   ]
  },
  {
   "cell_type": "code",
   "execution_count": null,
   "metadata": {},
   "outputs": [],
   "source": [
    "def parameter_train_decoder(encoder: TransformerEncoderModel, parameter: Dict, train_epochs: int, train_data: DataLoader, \n",
    "                            validation_data: DataLoader, checkpoint_path: Path, \n",
    "                            device: torch.device) -> None:\n",
    "    features. _ = train_dataloader.dataset[0]\n",
    "    run_id = ray_train.get_context().get_trial_id()\n",
    "    run_checkpoint = checkpoint_path / run_id\n",
    "    run_checkpoint.mkdir(parents=True)\n",
    "    decoder = TransformerDecoderModel(encoder.model_dim, encoder.model_dim, parameter[\"feedforward_dim\"], parameter[\"decoder_layer\"], parameter[\"transformer_dropout\"], parameter[\"pos_encoder_dropout\"])\n",
    "    model = TransformerModel(encoder, decoder)\n",
    "\n",
    "    optimizer, lr_scheduler = get_optimizer_function_and_learning_rate_scheduler(decoder, encoder.model_dim, warmup_steps=parameter[\"warmup_steps\"])\n",
    "    loss_function = get_loss_function()\n",
    "\n",
    "    _ = train(train_epoch, train_epochs, train_data, validation_data, model, loss_function, optimizer, lr_scheduler, run_checkpoint, device, report_interval=50, tune=True)"
   ]
  },
  {
   "cell_type": "code",
   "execution_count": null,
   "metadata": {},
   "outputs": [],
   "source": [
    "parameter_space = {\n",
    "    \"batch_size\": tune.choice(list(range(batch_size - batch_size_radius, batch_size + batch_size_radius, 4))),\n",
    "    \"warmup_steps\": tune.choice(list(range(1000, 2000, 200))),\n",
    "    \"feedforward_dim\": tune.choice([32, 64, 128]),\n",
    "    \"decoder_layer\": tune.choice([1, 2, 3]),\n",
    "    \"transformer_dropout\": tune.uniform(0.1, 0.5),\n",
    "    \"pos_encoder_dropout\": tune.uniform(0.1, 0.5)\n",
    "}"
   ]
  },
  {
   "cell_type": "code",
   "execution_count": null,
   "metadata": {},
   "outputs": [],
   "source": [
    "if ray.is_initialized():\n",
    "    ray.shutdown()\n",
    "\n",
    "ray.init(runtime_env={ \"py_modules\": [utils] })"
   ]
  },
  {
   "cell_type": "code",
   "execution_count": null,
   "metadata": {},
   "outputs": [],
   "source": [
    "ray_resources_manager = tune.with_resources(\n",
    "    trainable=lambda param: parameter_train_decoder(encoder, param, num_epochs, train_dataloader, validation_dataloader, input_shape, output_shape, model_path, device),\n",
    "    # See: https://stackoverflow.com/questions/58967793/what-is-the-way-to-make-tune-run-parallel-trials-across-multiple-gpus\n",
    "    resources={ \"cpu\": 3, \"gpu\": 0.25 }\n",
    ")\n",
    "\n",
    "tuner = tune.Tuner(\n",
    "    ray_resources_manager,\n",
    "    param_space=parameter_space,\n",
    "    tune_config=tune.TuneConfig(\n",
    "        scheduler=scheduler,\n",
    "        search_alg=search_alg,\n",
    "         num_samples=num_samples\n",
    "    )\n",
    ")"
   ]
  },
  {
   "cell_type": "code",
   "execution_count": null,
   "metadata": {},
   "outputs": [],
   "source": [
    "results = tuner.fit()"
   ]
  },
  {
   "cell_type": "code",
   "execution_count": null,
   "metadata": {},
   "outputs": [],
   "source": [
    "if ray.is_initialized():\n",
    "    ray.shutdown()"
   ]
  },
  {
   "cell_type": "code",
   "execution_count": null,
   "metadata": {},
   "outputs": [],
   "source": [
    "# Save as csv file\n",
    "results.get_dataframe().to_csv(model_path / \"trail_grid.csv\")"
   ]
  },
  {
   "cell_type": "code",
   "execution_count": null,
   "metadata": {},
   "outputs": [],
   "source": [
    "best_decoder_result = results.get_best_result(\"loss\", \"min\")\n",
    "best_decoder_checkpoint = best_decoder_result.get_best_checkpoint(\"loss\", \"min\")\n",
    "\n",
    "best_decoder_model_dict = torch.load(f\"{best_decoder_checkpoint.path}/checkpoint.pt\")"
   ]
  },
  {
   "cell_type": "code",
   "execution_count": null,
   "metadata": {},
   "outputs": [],
   "source": [
    "print(f\"Best trail by loss value {best_decoder_result.metrics['loss']}\", \"\\n------\")\n",
    "for i in best_decoder_result.config:\n",
    "    print(f\"Best trail: {i} value {best_decoder_result.config[i]}\")"
   ]
  },
  {
   "cell_type": "code",
   "execution_count": null,
   "metadata": {},
   "outputs": [],
   "source": [
    "encoder = TransformerEncoderModel(best_parallel_result.config[\"model_dim\"], best_parallel_result.config[\"model_dim\"], \n",
    "                                  best_parallel_result.config[\"feedforward_dim\"], best_parallel_result.config[\"encoder_layer\"], \n",
    "                                  best_parallel_result.config[\"transformer_dropout\"], best_parallel_result.config[\"pos_encoder_dropout\"], \n",
    "                                  best_parallel_result.config[\"downprojection\"], best_parallel_result.config[\"projection_num_neighbors\"])\n",
    "decoder = TransformerDecoderModel(encoder.model_dim, encoder.model_dim, best_decoder_result.config[\"feedforward_dim\"],\n",
    "                                  best_decoder_result.config[\"decoder_layer\"], best_decoder_result.config[\"transformer_dropout\"],\n",
    "                                  best_decoder_result.config[\"pos_encoder_dropout\"])\n",
    "best_decoder_model = TransformerModel(\n",
    "    encoder,\n",
    "    decoder\n",
    ")\n",
    "best_decoder_model.load_state_dict(best_decoder_model_dict)"
   ]
  },
  {
   "cell_type": "markdown",
   "metadata": {},
   "source": [
    "### Encoder/Decoder Joint Training"
   ]
  },
  {
   "cell_type": "code",
   "execution_count": null,
   "metadata": {},
   "outputs": [],
   "source": [
    "def parameter_train_encoder_decoder(parameter: Dict, train_epochs: int, train_data: DataLoader, \n",
    "                            validation_data: DataLoader, checkpoint_path: Path, \n",
    "                            device: torch.device) -> None:\n",
    "    features. _ = train_dataloader.dataset[0]\n",
    "    run_id = ray_train.get_context().get_trial_id()\n",
    "    run_checkpoint = checkpoint_path / run_id\n",
    "    run_checkpoint.mkdir(parents=True)\n",
    "    encoder = TransformerEncoderModel(parameter[\"model_dim\"], parameter[\"model_dim\"], parameter[\"enc_feedforward_dim\"], \n",
    "                                      parameter[\"encoder_layer\"], parameter[\"enc_transformer_dropout\"], parameter[\"pos_encoder_dropout\"], \n",
    "                                      parameter[\"downprojection\"], parameter[\"projection_num_neighbors\"])\n",
    "    decoder = TransformerDecoderModel(encoder.model_dim, encoder.model_dim, parameter[\"dec_feedforward_dim\"], parameter[\"decoder_layer\"], \n",
    "                                      parameter[\"dec_transformer_dropout\"], parameter[\"pos_encoder_dropout\"])\n",
    "    model = TransformerModel(encoder, decoder)\n",
    "\n",
    "    optimizer, lr_scheduler = get_optimizer_function_and_learning_rate_scheduler(model, encoder.model_dim, warmup_steps=parameter[\"warmup_steps\"])\n",
    "    loss_function = get_loss_function()\n",
    "\n",
    "    _ = train(train_epoch, train_epochs, train_data, validation_data, model, loss_function, optimizer, lr_scheduler, run_checkpoint, device, report_interval=50, tune=True)"
   ]
  },
  {
   "cell_type": "code",
   "execution_count": null,
   "metadata": {},
   "outputs": [],
   "source": [
    "parameter_space = {\n",
    "    \"model_dim\": tune.choice([15, 9]),\n",
    "    \"batch_size\": tune.choice(list(range(batch_size - batch_size_radius, batch_size + batch_size_radius, 4))),\n",
    "    \"warmup_steps\": tune.choice(list(range(1000, 2000, 200))),\n",
    "    \"enc_feedforward_dim\": tune.choice([32, 64, 128]),\n",
    "    \"dec_feedforward_dim\": tune.choice([32, 64, 128]),\n",
    "    \"encoder_layer\": tune.choice([1, 2, 3]),\n",
    "    \"decoder_layer\": tune.choice([1, 2, 3]),\n",
    "    \"enc_transformer_dropout\": tune.uniform(0.1, 0.5),\n",
    "    \"dec_transformer_dropout\": tune.uniform(0.1, 0.5),\n",
    "    \"pos_encoder_dropout\": tune.uniform(0.1, 0.5),\n",
    "    \"downprojection\": tune.choice([True, False]),\n",
    "    \"projection_num_neighbors\": tune.choice(list(range(2, 10)))\n",
    "}"
   ]
  },
  {
   "cell_type": "code",
   "execution_count": null,
   "metadata": {},
   "outputs": [],
   "source": [
    "if ray.is_initialized():\n",
    "    ray.shutdown()\n",
    "\n",
    "ray.init(runtime_env={ \"py_modules\": [utils] })"
   ]
  },
  {
   "cell_type": "code",
   "execution_count": null,
   "metadata": {},
   "outputs": [],
   "source": [
    "ray_resources_manager = tune.with_resources(\n",
    "    trainable=lambda param: parameter_train_encoder_decoder(encoder, param, num_epochs, train_dataloader, validation_dataloader, input_shape, output_shape, model_path, device),\n",
    "    # See: https://stackoverflow.com/questions/58967793/what-is-the-way-to-make-tune-run-parallel-trials-across-multiple-gpus\n",
    "    resources={ \"cpu\": 3, \"gpu\": 0.25 }\n",
    ")\n",
    "\n",
    "tuner = tune.Tuner(\n",
    "    ray_resources_manager,\n",
    "    param_space=parameter_space,\n",
    "    tune_config=tune.TuneConfig(\n",
    "        scheduler=scheduler,\n",
    "        search_alg=search_alg,\n",
    "         num_samples=num_samples\n",
    "    )\n",
    ")"
   ]
  },
  {
   "cell_type": "code",
   "execution_count": null,
   "metadata": {},
   "outputs": [],
   "source": [
    "results = tuner.fit()"
   ]
  },
  {
   "cell_type": "code",
   "execution_count": null,
   "metadata": {},
   "outputs": [],
   "source": [
    "if ray.is_initialized():\n",
    "    ray.shutdown()"
   ]
  },
  {
   "cell_type": "code",
   "execution_count": null,
   "metadata": {},
   "outputs": [],
   "source": [
    "# Save as csv file\n",
    "results.get_dataframe().to_csv(model_path / \"trail_grid.csv\")"
   ]
  },
  {
   "cell_type": "code",
   "execution_count": null,
   "metadata": {},
   "outputs": [],
   "source": [
    "best_encoder_decoder_result = results.get_best_result(\"loss\", \"min\")\n",
    "best_encoder_decoder_checkpoint = best_encoder_decoder_result.get_best_checkpoint(\"loss\", \"min\")\n",
    "\n",
    "best_encoder_decoder_model_dict = torch.load(f\"{best_encoder_decoder_checkpoint.path}/checkpoint.pt\")"
   ]
  },
  {
   "cell_type": "code",
   "execution_count": null,
   "metadata": {},
   "outputs": [],
   "source": [
    "print(f\"Best trail by loss value {best_encoder_decoder_result.metrics['loss']}\", \"\\n------\")\n",
    "for i in best_encoder_decoder_result.config:\n",
    "    print(f\"Best trail: {i} value {best_encoder_decoder_result.config[i]}\")"
   ]
  },
  {
   "cell_type": "code",
   "execution_count": null,
   "metadata": {},
   "outputs": [],
   "source": [
    "encoder = TransformerEncoderModel(best_parallel_result.config[\"model_dim\"], best_parallel_result.config[\"model_dim\"], \n",
    "                                  best_parallel_result.config[\"enc_feedforward_dim\"], best_parallel_result.config[\"encoder_layer\"], \n",
    "                                  best_parallel_result.config[\"enc_transformer_dropout\"], best_parallel_result.config[\"pos_encoder_dropout\"], \n",
    "                                  best_parallel_result.config[\"downprojection\"], best_parallel_result.config[\"projection_num_neighbors\"])\n",
    "decoder = TransformerDecoderModel(encoder.model_dim, encoder.model_dim, best_decoder_result.config[\"dec_feedforward_dim\"],\n",
    "                                  best_decoder_result.config[\"decoder_layer\"], best_decoder_result.config[\"dec_transformer_dropout\"],\n",
    "                                  best_decoder_result.config[\"pos_encoder_dropout\"])\n",
    "best_encoder_decoder_model = TransformerModel(\n",
    "    encoder,\n",
    "    decoder\n",
    ")\n",
    "best_encoder_decoder_model.load_state_dict(best_decoder_model_dict)"
   ]
  }
 ],
 "metadata": {
  "kernelspec": {
   "display_name": "Python 3 (ipykernel)",
   "language": "python",
   "name": "python3"
  },
  "language_info": {
   "codemirror_mode": {
    "name": "ipython",
    "version": 3
   },
   "file_extension": ".py",
   "mimetype": "text/x-python",
   "name": "python",
   "nbconvert_exporter": "python",
   "pygments_lexer": "ipython3",
   "version": "3.10.12"
  }
 },
 "nbformat": 4,
 "nbformat_minor": 2
}
