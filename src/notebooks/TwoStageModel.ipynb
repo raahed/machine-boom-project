{
 "cells": [
  {
   "cell_type": "markdown",
   "metadata": {},
   "source": [
    "# Model 4: Two Stage Model"
   ]
  },
  {
   "cell_type": "code",
   "execution_count": null,
   "metadata": {},
   "outputs": [],
   "source": [
    "import torch\n",
    "import numpy as np"
   ]
  },
  {
   "cell_type": "code",
   "execution_count": null,
   "metadata": {},
   "outputs": [],
   "source": [
    "device = (\"cuda\" if torch.cuda.is_available() else \"cpu\")\n",
    "print(f\"Using {device} device\")"
   ]
  },
  {
   "cell_type": "code",
   "execution_count": null,
   "metadata": {},
   "outputs": [],
   "source": [
    "# Import local modules from 'src/utils' as package 'utils'\n",
    "import sys; sys.path.insert(0, '../')"
   ]
  },
  {
   "cell_type": "markdown",
   "metadata": {},
   "source": [
    "## Load ParallelTrajectoryDatasets"
   ]
  },
  {
   "cell_type": "code",
   "execution_count": null,
   "metadata": {},
   "outputs": [],
   "source": [
    "from pathlib import Path\n",
    "from utils.file_io import read_parallel_trajectory_datasets"
   ]
  },
  {
   "cell_type": "code",
   "execution_count": null,
   "metadata": {},
   "outputs": [],
   "source": [
    "data_path = Path(\"../../data/boomer_data_simulation/\")\n",
    "\n",
    "feature_columns = [\n",
    "    'left_boom_base_yaw_joint', 'left_boom_base_pitch_joint', 'left_boom_main_prismatic_joint', 'left_boom_second_roll_joint',\n",
    "    'left_boom_second_yaw_joint', 'left_boom_top_pitch_joint', 'cable1_property(length,youngsmodule(bend,twist))', \n",
    "    'cable2_property(length,youngsmodule(bend,twist))', 'cable3_property(length,youngsmodule(bend,twist))'\n",
    "]\n",
    "\n",
    "label_features = [\n",
    "    ('cable1_lowest_point', np.array([0, 1, 2], dtype=np.int64)),\n",
    "    ('cable2_lowest_point', np.array([0, 1, 2], dtype=np.int64)),\n",
    "    ('cable3_lowest_point', np.array([0, 1, 2], dtype=np.int64))\n",
    "]\n",
    "\n",
    "normalized_features = [\n",
    "    ('cable1_property(length,youngsmodule(bend,twist))', np.array([1, 2], dtype=np.int64)),\n",
    "    ('cable2_property(length,youngsmodule(bend,twist))', np.array([1, 2], dtype=np.int64)),\n",
    "    ('cable3_property(length,youngsmodule(bend,twist))', np.array([1, 2], dtype=np.int64))\n",
    "]"
   ]
  },
  {
   "cell_type": "code",
   "execution_count": null,
   "metadata": {},
   "outputs": [],
   "source": [
    "train_set, test_set, validation_set, visualization_set = read_parallel_trajectory_datasets(data_path, 0.85, 0.10, 0.045, 0.005, 256, \n",
    "                                                                                    feature_columns=feature_columns, \n",
    "                                                                                    label_features=label_features,\n",
    "                                                                                    normalized_features=normalized_features)"
   ]
  },
  {
   "cell_type": "code",
   "execution_count": null,
   "metadata": {},
   "outputs": [],
   "source": [
    "features, labels, last_indices = test_set[257] \n",
    "print(features.shape, labels.shape, last_indices)\n",
    "input_shape, output_shape = features.shape[-1], labels.shape[-1]"
   ]
  },
  {
   "cell_type": "markdown",
   "metadata": {},
   "source": [
    "## Define Transformer Encoder Model"
   ]
  },
  {
   "cell_type": "code",
   "execution_count": null,
   "metadata": {},
   "outputs": [],
   "source": [
    "from torch import nn, Tensor\n",
    "from torch.nn import TransformerEncoder, TransformerEncoderLayer\n",
    "from umap import UMAP\n",
    "import math"
   ]
  },
  {
   "cell_type": "markdown",
   "metadata": {},
   "source": [
    "### Transformer positional encoding"
   ]
  },
  {
   "cell_type": "code",
   "execution_count": null,
   "metadata": {},
   "outputs": [],
   "source": [
    "class PositionalEncoding(nn.Module):\n",
    "    def __init__(self, d_model: int, dropout: float = 0.1, max_len: int = 1024) -> None:\n",
    "        super().__init__()\n",
    "        self.dropout = nn.Dropout(p=dropout)\n",
    "\n",
    "        position = torch.arange(max_len).unsqueeze(1)\n",
    "        div_term = torch.exp(torch.arange(0, d_model, 2) * (-math.log(10000.0) / d_model))\n",
    "        pe = torch.zeros(max_len, 1, d_model)\n",
    "        pe[:, 0, 0::2] = torch.sin(position * div_term)\n",
    "        cosine_embed = torch.cos(position * div_term)\n",
    "        pe[:, 0, 1::2] = cosine_embed if d_model % 2 == 0 else cosine_embed[:, :-1]\n",
    "        self.register_buffer('pe', pe)\n",
    "\n",
    "    def forward(self, x: Tensor) -> Tensor:\n",
    "        \"\"\"\n",
    "        Arguments:\n",
    "            x: Tensor, shape ``[seq_len, batch_size, embedding_dim]``\n",
    "        \"\"\"\n",
    "        x =+ self.pe[:x.size(0)]\n",
    "        return self.dropout(x)"
   ]
  },
  {
   "cell_type": "code",
   "execution_count": null,
   "metadata": {},
   "outputs": [],
   "source": [
    "class TransformerEncoderModel(nn.Module):\n",
    "    def __init__(self, num_heads: int, model_dim: int, feedforward_hidden_dim: int,\n",
    "                 num_encoder_layers: int = 6, transformer_dropout: float = 0.1, pos_encoder_dropout: float = 0.25,\n",
    "                 downprojection: bool = False, projection_num_neighbors: int = 5) -> None:\n",
    "        super().__init__()\n",
    "        self.model_type = 'Transformer'\n",
    "        self.total_epochs = 0\n",
    "        self.model_dim = model_dim\n",
    "        self.downprojection = downprojection\n",
    "        if self.downprojection:\n",
    "            self.create_projection(projection_num_neighbors)\n",
    "        encoder_layers = TransformerEncoderLayer(model_dim, num_heads, feedforward_hidden_dim, transformer_dropout)\n",
    "        self.transformer_encoder = TransformerEncoder(encoder_layers, num_encoder_layers)   \n",
    "        self.pos_encoder = PositionalEncoding(model_dim, pos_encoder_dropout)\n",
    "\n",
    "    def create_projection(self, projection_num_neighbors: int):\n",
    "        self.projection_function = UMAP(n_components=self.model_dim, n_neighbors=projection_num_neighbors)            \n",
    "\n",
    "    def forward(self, source: Tensor, source_msk: Tensor = None) -> Tensor:\n",
    "        # expect input shape to be (S, N, E) with S being the sequence length, N batch size and, E the input dimensionality\n",
    "        source = self.project(source)\n",
    "        encoded = self.pos_encoder(source)\n",
    "        return self.transformer_encoder(encoded, source_msk)\n",
    "    \n",
    "    def project(self, source: Tensor) -> Tensor:\n",
    "        if self.downprojection:\n",
    "            return self.projection_function.transform(source)\n",
    "        return source\n",
    "    \n",
    "\n",
    "class ParallelEncoderModel(nn.Module):\n",
    "    def __init__(self, num_decoders: int, num_heads: int, model_dim: int, feedforward_hidden_dim: int, output_dim: int,\n",
    "                 num_encoder_layers: int = 6, transformer_dropout: float = 0.1, pos_encoder_dropout: float = 0.25,\n",
    "                 downprojection: bool = False, projection_num_neighbors: int = 5) -> None:\n",
    "        super().__init__()\n",
    "        self.model_type = 'Transformer'\n",
    "        self.total_epochs = 0\n",
    "        self.encoder = TransformerEncoderModel(num_heads, model_dim, feedforward_hidden_dim, \n",
    "                                               num_encoder_layers, transformer_dropout, pos_encoder_dropout,\n",
    "                                               downprojection=downprojection, projection_num_neighbors=projection_num_neighbors)\n",
    "        self.decoders = nn.ModuleList([nn.Linear(model_dim, output_dim) for i in range(num_decoders)])\n",
    "        self.activation = nn.ReLU()\n",
    "\n",
    "    def forward(self, source: Tensor, source_mask: Tensor = None) -> Tensor:\n",
    "        decoded = []\n",
    "        for i, decoder in enumerate(self.decoders):\n",
    "            trajectory_source = source[i, :, :, :]\n",
    "            trajectory_source = self.encoder(trajectory_source, source_mask)\n",
    "            decoded_trajectory = decoder(trajectory_source)\n",
    "            decoded_trajectory = self.activation(decoded_trajectory)\n",
    "            decoded.append(decoded_trajectory)\n",
    "        return torch.stack(decoded, dim=0)\n",
    "    \n",
    "    @property\n",
    "    def downprojection(self):\n",
    "        return self.encoder.downprojection\n"
   ]
  },
  {
   "cell_type": "code",
   "execution_count": null,
   "metadata": {},
   "outputs": [],
   "source": [
    "encoder_model = ParallelEncoderModel(2, 3, input_shape, 64, output_shape).to(device) "
   ]
  },
  {
   "cell_type": "markdown",
   "metadata": {},
   "source": [
    "## Model Training Step 1"
   ]
  },
  {
   "cell_type": "markdown",
   "metadata": {},
   "source": [
    "### Load parameters, functions, and Dataloader"
   ]
  },
  {
   "cell_type": "code",
   "execution_count": null,
   "metadata": {},
   "outputs": [],
   "source": [
    "import os\n",
    "\n",
    "from typing import Any, Tuple\n",
    "\n",
    "from torch.utils.data import DataLoader\n",
    "from dotenv import load_dotenv\n",
    "\n",
    "from utils.file_io import save_model\n",
    "from utils.file_io import define_dataloader_from_subset\n",
    "from utils.evaluation import compute_loss_on\n",
    "from utils.optimizer import rate"
   ]
  },
  {
   "cell_type": "code",
   "execution_count": null,
   "metadata": {},
   "outputs": [],
   "source": [
    "model_path = Path(\"../../models/encoder/\").absolute()"
   ]
  },
  {
   "cell_type": "code",
   "execution_count": null,
   "metadata": {},
   "outputs": [],
   "source": [
    "dotenv_path = model_path / \".env\"\n",
    "load_dotenv(dotenv_path=dotenv_path)\n",
    "\n",
    "batch_size = int(os.getenv(\"BATCH_SIZE\"))\n",
    "num_epochs = int(os.getenv(\"NUM_EPOCHS\"))"
   ]
  },
  {
   "cell_type": "code",
   "execution_count": null,
   "metadata": {},
   "outputs": [],
   "source": [
    "def get_optimizer_function_and_learning_rate_scheduler(model: nn.Module, model_size: int, warmup_steps: int, factor: float = 1) -> Tuple[Any, Any]:\n",
    "    optimizer = torch.optim.AdamW(model.parameters(), lr=1)\n",
    "    lr_scheduler = torch.optim.lr_scheduler.LambdaLR(optimizer=optimizer, lr_lambda=lambda step: rate(step, model_size, factor, warmup_steps))\n",
    "    return optimizer, lr_scheduler\n",
    "\n",
    "\n",
    "def get_loss_function() -> nn.Module:\n",
    "    return torch.nn.MSELoss()"
   ]
  },
  {
   "cell_type": "code",
   "execution_count": null,
   "metadata": {},
   "outputs": [],
   "source": [
    "train_dataloader, validation_dataloader, test_dataloader = define_dataloader_from_subset(train_set, validation_set, test_set, batch_size=batch_size, shuffle=True)"
   ]
  },
  {
   "cell_type": "markdown",
   "metadata": {},
   "source": [
    "### Define Train Functions"
   ]
  },
  {
   "cell_type": "markdown",
   "metadata": {},
   "source": [
    "#### Feature Downprojection"
   ]
  },
  {
   "cell_type": "code",
   "execution_count": null,
   "metadata": {},
   "outputs": [],
   "source": [
    "from torch.utils.data import DataLoader"
   ]
  },
  {
   "cell_type": "code",
   "execution_count": null,
   "metadata": {},
   "outputs": [],
   "source": [
    "def train_downprojection(projection: UMAP, train_dataloader: DataLoader) -> None:\n",
    "    feature_vectors = []\n",
    "    for features, labels in train_dataloader:\n",
    "        features = torch.flatten(features, start_dim=0, end_dim=-2)\n",
    "        feature_vectors.append(features)\n",
    "    features = torch.concat(feature_vectors, dim=0)\n",
    "    projection = projection.fit(features)      "
   ]
  },
  {
   "cell_type": "markdown",
   "metadata": {},
   "source": [
    "#### Model train methods"
   ]
  },
  {
   "cell_type": "code",
   "execution_count": null,
   "metadata": {},
   "outputs": [],
   "source": [
    "from typing import Callable\n",
    "\n",
    "from ray import train as ray_train\n",
    "from ray.train import Checkpoint"
   ]
  },
  {
   "cell_type": "code",
   "execution_count": null,
   "metadata": {},
   "outputs": [],
   "source": [
    "def train_epoch_parallel(train_dataloader: DataLoader, model, loss_function, optimizer, lr_scheduler,\n",
    "                         device: torch.device, report_interval: int = 10):\n",
    "    \n",
    "    running_loss = 0\n",
    "    last_loss = 0\n",
    "    \n",
    "    for i, (inputs, true_values) in enumerate(train_dataloader):\n",
    "        \n",
    "        inputs = inputs.to(device)\n",
    "        true_values = true_values.to(device)\n",
    "    \n",
    "        inputs_shape, true_values_shape = inputs.size(), true_values.size()\n",
    "        inputs = inputs.view(inputs_shape[1], inputs_shape[2], inputs_shape[0], inputs_shape[3])\n",
    "        true_values = true_values.view(true_values_shape[1], true_values_shape[2], true_values_shape[0], true_values_shape[3])\n",
    "        optimizer.zero_grad()\n",
    "        outputs = model(inputs)\n",
    "        loss = loss_function(outputs, true_values)\n",
    "        running_loss += loss\n",
    "        loss.backward()\n",
    "        optimizer.step()\n",
    "        lr_scheduler.step()\n",
    "\n",
    "        optimizer.zero_grad()\n",
    "        outputs = model(inputs)\n",
    "    \n",
    "        if i % report_interval == report_interval - 1:\n",
    "            last_loss = running_loss / report_interval\n",
    "            print(f\"batch {i + 1}, Mean Squared Error: {last_loss}\")\n",
    "            running_loss = 0\n",
    "\n",
    "    return last_loss"
   ]
  },
  {
   "cell_type": "code",
   "execution_count": null,
   "metadata": {},
   "outputs": [],
   "source": [
    "def train(train_epoch_func: Callable, epochs: int, train_dataloader: DataLoader, validation_dataloader: DataLoader, model: nn.Module, \n",
    "          loss_function, optimizer, lr_scheduler, checkpoint_path: Path, device: torch.device = 'cpu',\n",
    "          report_interval: int = 10, tune: bool = False) -> nn.Module:\n",
    "    \n",
    "    best_val_loss = float(\"inf\")\n",
    "    if model.downprojection:\n",
    "        print(\"Fitting downprojection!\")\n",
    "        train_downprojection(model.projection_function, train_dataloader)\n",
    "\n",
    "    if torch.cuda.device_count() > 1:\n",
    "        model = nn.DataParallel(model)\n",
    "\n",
    "    model.to(device)\n",
    "\n",
    "    if tune:\n",
    "        checkpoint = ray_train.get_checkpoint()\n",
    "\n",
    "        if checkpoint:\n",
    "            with checkpoint.as_directory() as checkpoint_dir:\n",
    "                model_state = torch.load(os.path.join(checkpoint_dir, \"checkpoint.pt\"))\n",
    "                model.load_state_dict(model_state)\n",
    "\n",
    "    for epoch in range(model.total_epochs, epochs):\n",
    "        print(f\"Epoch: {epoch + 1}\")\n",
    "\n",
    "        model.train(True)\n",
    "        avg_loss = train_epoch_func(train_dataloader, model, loss_function, optimizer, lr_scheduler, device, report_interval)\n",
    "        model.eval()\n",
    "\n",
    "        with torch.no_grad():\n",
    "            avg_val_loss = compute_loss_on(validation_dataloader, model, loss_function, reshape=True, device=device)\n",
    "\n",
    "        print(f\"Loss on train: {avg_loss}, loss on validation: {avg_val_loss}\")\n",
    "\n",
    "        model.total_epochs += 1\n",
    "    \n",
    "\n",
    "        if avg_val_loss < best_val_loss or tune:\n",
    "            best_val_loss = avg_val_loss            \n",
    "            \n",
    "            torch.save(model.state_dict(), checkpoint_path / \"checkpoint.pt\")\n",
    "\n",
    "        if tune:\n",
    "            ray_train.report(metrics={ \"loss\": float(avg_val_loss) }, checkpoint=Checkpoint.from_directory(checkpoint_path))\n",
    "\n",
    "    return model"
   ]
  },
  {
   "cell_type": "markdown",
   "metadata": {},
   "source": [
    "## Train the model with optuna hyperparameter tuning"
   ]
  },
  {
   "cell_type": "code",
   "execution_count": null,
   "metadata": {},
   "outputs": [],
   "source": [
    "import ray\n",
    "from ray import tune\n",
    "from ray.tune.schedulers import ASHAScheduler\n",
    "from ray.tune.search.optuna import OptunaSearch\n",
    "from typing import Dict"
   ]
  },
  {
   "cell_type": "code",
   "execution_count": null,
   "metadata": {},
   "outputs": [],
   "source": [
    "def parameter_train(parameter: Dict, train_epochs: int, train_data: DataLoader, validation_data: DataLoader, model_input_shape: int,\n",
    "                    model_output_shape: int, checkpoint_path: Path, device: torch.device) -> None:\n",
    "    features. _ = train_dataloader.dataset[0]\n",
    "    parallel_trajectories = features.shape[0]\n",
    "    run_id = ray_train.get_context().get_trial_id()\n",
    "    run_checkpoint = checkpoint_path / run_id\n",
    "    run_checkpoint.mkdir(parents=True)\n",
    "\n",
    "    model = ParallelEncoderModel(parallel_trajectories, parameter[\"model_dim\"], parameter[\"model_dim\"], parameter[\"feedforward_dim\"], model_output_shape,\n",
    "                                 parameter[\"encoder_layer\"], parameter[\"transformer_dropout\"], parameter[\"pos_encoder_dropout\"],\n",
    "                                 ).to(device)\n",
    "\n",
    "    optimizer, lr_scheduler = get_optimizer_function_and_learning_rate_scheduler(model, parameter[\"model_dim\"], warmup_steps=parameter[\"warmup_steps\"])\n",
    "    loss_function = get_loss_function()\n",
    "\n",
    "    _ = train(train_epoch_parallel, train_epochs, train_data, validation_data, model, loss_function, optimizer, lr_scheduler, run_checkpoint, device, report_interval=50, tune=True)"
   ]
  },
  {
   "cell_type": "code",
   "execution_count": null,
   "metadata": {},
   "outputs": [],
   "source": [
    "learning_rate_radius = 1e-3\n",
    "batch_size_radius = 10\n",
    "num_samples = 100"
   ]
  },
  {
   "cell_type": "code",
   "execution_count": null,
   "metadata": {},
   "outputs": [],
   "source": [
    "parameter_space = {\n",
    "    \"batch_size\": tune.choice(list(range(batch_size - batch_size_radius, batch_size + batch_size_radius, 4))),\n",
    "    \"model_dim\": tune.choice([9]),\n",
    "    \"downprojection\": tune.choice([True]),\n",
    "    \"projection_num_neighbors\": tune.choice(list(range(2, 10))),\n",
    "    \"warmup_steps\": tune.choice(list(range(1000, 2000, 200))),\n",
    "    \"feedforward_dim\": tune.choice([32, 64, 128]),\n",
    "    \"encoder_layer\": tune.choice([1, 2, 3]),\n",
    "    \"transformer_dropout\": tune.uniform(0.1, 0.5),\n",
    "    \"pos_encoder_dropout\": tune.uniform(0.1, 0.5)\n",
    "}"
   ]
  },
  {
   "cell_type": "code",
   "execution_count": null,
   "metadata": {},
   "outputs": [],
   "source": [
    "scheduler = ASHAScheduler(\n",
    "    metric=\"loss\",\n",
    "    mode=\"min\",\n",
    "    max_t=num_epochs\n",
    ")"
   ]
  },
  {
   "cell_type": "code",
   "execution_count": null,
   "metadata": {},
   "outputs": [],
   "source": [
    "search_alg = OptunaSearch(\n",
    "    metric=\"loss\",\n",
    "    mode=\"min\"\n",
    ") "
   ]
  },
  {
   "cell_type": "code",
   "execution_count": null,
   "metadata": {},
   "outputs": [],
   "source": [
    "import utils\n",
    "if ray.is_initialized():\n",
    "    ray.shutdown()\n",
    "\n",
    "ray.init(runtime_env={ \"py_modules\": [utils] })"
   ]
  },
  {
   "cell_type": "code",
   "execution_count": null,
   "metadata": {},
   "outputs": [],
   "source": [
    "ray_resources_manager = tune.with_resources(\n",
    "    trainable=lambda param: parameter_train(param, num_epochs, train_dataloader, validation_dataloader, input_shape, output_shape, model_path, device),\n",
    "    # See: https://stackoverflow.com/questions/58967793/what-is-the-way-to-make-tune-run-parallel-trials-across-multiple-gpus\n",
    "    resources={ \"cpu\": 3, \"gpu\": 0.25 }\n",
    ")\n",
    "\n",
    "tuner = tune.Tuner(\n",
    "    ray_resources_manager,\n",
    "    param_space=parameter_space,\n",
    "    tune_config=tune.TuneConfig(\n",
    "        scheduler=scheduler,\n",
    "        search_alg=search_alg,\n",
    "        num_samples=num_samples\n",
    "    )\n",
    ")"
   ]
  },
  {
   "cell_type": "code",
   "execution_count": null,
   "metadata": {},
   "outputs": [],
   "source": [
    "results = tuner.fit()"
   ]
  },
  {
   "cell_type": "code",
   "execution_count": null,
   "metadata": {},
   "outputs": [],
   "source": [
    "if ray.is_initialized():\n",
    "    ray.shutdown()"
   ]
  },
  {
   "cell_type": "code",
   "execution_count": null,
   "metadata": {},
   "outputs": [],
   "source": [
    "# Save as csv file\n",
    "results.get_dataframe().to_csv(model_path / \"trail_grid.csv\")"
   ]
  },
  {
   "cell_type": "code",
   "execution_count": null,
   "metadata": {},
   "outputs": [],
   "source": [
    "best_parallel_result = results.get_best_result(\"loss\", \"min\")\n",
    "best_parallel_checkpoint = best_parallel_result.get_best_checkpoint(\"loss\", \"min\")\n",
    "\n",
    "best_parallel_model_dict = torch.load(f\"{best_parallel_checkpoint.path}/checkpoint.pt\")"
   ]
  },
  {
   "cell_type": "code",
   "execution_count": null,
   "metadata": {},
   "outputs": [],
   "source": [
    "print(f\"Best trail by loss value {best_parallel_result.metrics['loss']}\", \"\\n------\")\n",
    "for i in best_parallel_result.config:\n",
    "    print(f\"Best trail: {i} value {best_parallel_result.config[i]}\")"
   ]
  },
  {
   "cell_type": "code",
   "execution_count": null,
   "metadata": {},
   "outputs": [],
   "source": [
    "best_parallel_model = ParallelEncoderModel(\n",
    "    2,\n",
    "    best_parallel_result.config[\"model_dim\"], \n",
    "    best_parallel_result.config[\"model_dim\"], \n",
    "    best_parallel_result.config[\"feedforward_dim\"], \n",
    "    output_shape,\n",
    "    num_encoder_layers=best_parallel_result.config[\"encoder_layer\"],\n",
    "    transformer_dropout=best_parallel_result.config[\"transformer_dropout\"],\n",
    "    pos_encoder_dropout=best_parallel_result.config[\"pos_encoder_dropout\"]\n",
    ")\n",
    "best_parallel_model.load_state_dict(best_parallel_model_dict)\n",
    "encoder = best_parallel_model.encoder"
   ]
  },
  {
   "cell_type": "markdown",
   "metadata": {},
   "source": [
    "## Predict Length and Cable Properties from Sample Trajectory"
   ]
  },
  {
   "cell_type": "code",
   "execution_count": null,
   "metadata": {},
   "outputs": [],
   "source": [
    "def predict_cable_properties_from_complete_data(model: nn.Module, trajectory_features: Tensor, cable_properties_dim: int, \n",
    "                                                trajectory_lowpoints: Tensor, n_iterations: int = 100, lr: float = 1e-4, \n",
    "                                                loss_function=nn.MSELoss()):\n",
    "    true_cable_properties = trajectory_features[:, :, :, -cable_properties_dim:]\n",
    "    predicted_cable_properties = predict_cable_properties(model, trajectory_features[:, :, :, :-cable_properties_dim], trajectory_lowpoints, \n",
    "                                                          cable_properties_dim, n_iterations, lr, loss_function)\n",
    "    return predicted_cable_properties, true_cable_properties\n",
    "\n",
    "\n",
    "def predict_cable_properties(model: nn.Module, trajectory_features: Tensor, trajectory_lowpoints: Tensor, \n",
    "                             cable_properties_dim: int, n_iterations: int, lr: float, loss_function):\n",
    "    model.eval()\n",
    "    freeze_parameters(model)\n",
    "    cable_properties = torch.rand(trajectory_features.shape[0], trajectory_features.shape[1], trajectory_features.shape[2], cable_properties_dim)\n",
    "    loss = torch.autograd.Variable(torch.tensor(float('inf'), dtype=torch.float32), requires_grad=True)\n",
    "    i = 0\n",
    "    while loss > 2 or i < n_iterations:\n",
    "        if i == 0:\n",
    "            complete_input = torch.autograd.Variable(torch.concat([trajectory_features, cable_properties], dim=-1), requires_grad=True)\n",
    "            optimizer = torch.optim.SGD([complete_input], lr=lr)\n",
    "        optimizer.zero_grad() \n",
    "        predicted_lowpoints = model(complete_input)\n",
    "        loss = loss_function(predicted_lowpoints, trajectory_lowpoints)\n",
    "        loss = torch.autograd.Variable(loss, requires_grad=True)\n",
    "        loss.backward()\n",
    "        optimizer.step()\n",
    "        #print(complete_input.grad)\n",
    "        i += 1\n",
    "\n",
    "    result = complete_input[:,:,:, -cable_properties_dim:]\n",
    "    return result\n",
    "\n",
    "\n",
    "def freeze_parameters(model: nn.Module) -> None:\n",
    "    for param in model.parameters():\n",
    "        param.requires_grad = False"
   ]
  },
  {
   "cell_type": "code",
   "execution_count": null,
   "metadata": {},
   "outputs": [],
   "source": [
    "trajectories, lowpoints = validation_set[0]\n",
    "trajectories, lowpoints = trajectories.unsqueeze(2), lowpoints.unsqueeze(2)\n",
    "print(trajectories.shape, lowpoints.shape)\n",
    "predicted_cable_properties, true_cable_properties = predict_cable_properties_from_complete_data(\n",
    "    best_parallel_model, trajectories, 9, lowpoints\n",
    ")\n",
    "\n",
    "print(torch.norm(true_cable_properties - predicted_cable_properties))"
   ]
  },
  {
   "cell_type": "markdown",
   "metadata": {},
   "source": [
    "## Model Training Step 2"
   ]
  },
  {
   "cell_type": "markdown",
   "metadata": {},
   "source": [
    "### Decoder Definition"
   ]
  },
  {
   "cell_type": "code",
   "execution_count": null,
   "metadata": {},
   "outputs": [],
   "source": [
    "from torch.nn import TransformerDecoder, TransformerDecoderLayer"
   ]
  },
  {
   "cell_type": "code",
   "execution_count": null,
   "metadata": {},
   "outputs": [],
   "source": [
    "class TransformerDecoderModel(nn.Module):\n",
    "    def __init__(self, model_dim: int, num_heads: int, feedforward_dim: int, num_decoder_layers: int, \n",
    "                 pos_encoder: PositionalEncoding, transformer_dropout: float = 0.25) -> None:\n",
    "        super().__init__()\n",
    "        self.model_type = 'Transformer'\n",
    "        self.total_epochs = 0\n",
    "        self.model_dim = model_dim\n",
    "        decoder_layer = TransformerDecoderLayer(model_dim, num_heads, dim_feedforward=feedforward_dim, dropout=transformer_dropout)\n",
    "        self.decoder = TransformerDecoder(decoder_layer, num_decoder_layers)\n",
    "        self.pos_encoder = pos_encoder\n",
    "\n",
    "    def forward(self, memory: Tensor, target: Tensor, target_mask: Tensor = None) -> Tensor:\n",
    "        # expect input shape to be (S, N, E) with S being the sequence length, N batch size and, E the input dimensionality\n",
    "        if target_mask is None:\n",
    "            target_mask = nn.Transformer.generate_square_subsequent_mask(target.shape[0])\n",
    "        target = self.pos_encoder(target)\n",
    "        return self.decoder(memory, target, tgt_mask=target_mask)\n",
    "    \n",
    "\n",
    "class TransformerModel(nn.Module):\n",
    "    def __init__(self, encoder: TransformerEncoderModel, decoder: TransformerDecoderModel) -> None:\n",
    "        super().__init__()\n",
    "        if encoder.model_dim != decoder.model_dim:\n",
    "            raise ValueError(\"Both encoder and decoder must have the same model dimension!\")\n",
    "        self.model_type = 'Transformer'\n",
    "        self.total_epochs = 0\n",
    "        self.encoder = encoder\n",
    "        self.decoder = decoder\n",
    "\n",
    "    def forward(self, source: Tensor, target: Tensor = None, source_mask: Tensor = None, \n",
    "                target_mask: Tensor = None, mode: str = \"train\") -> Tensor:\n",
    "        # expect input shape to be (S, N, E) with S being the sequence length, N batch size and, E the input dimensionality\n",
    "        # target_mask masks out all values right of the diagonal such that information from the target sequence cant bleed into the left hand side at training time\n",
    "        if mode == \"train\":\n",
    "            prediction = self.forward_train(source, target, source_mask, target_mask)\n",
    "        elif mode == \"generate\":\n",
    "            prediction = self.generate(source)\n",
    "        else:\n",
    "            raise ValueError(\"Invalid mode selected!\")\n",
    "\n",
    "        return prediction\n",
    "\n",
    "    def forward_train(self, source: Tensor, target: Tensor, source_mask: Tensor = None, \n",
    "                      target_mask: Tensor = None) -> Tensor:\n",
    "        if target is None:\n",
    "            raise ValueError(\"In train mode a target sequence has to be provided!\")\n",
    "        \n",
    "        memory = self.encoder(source, source_mask)\n",
    "        return self.decoder(memory, target, target_mask)\n",
    "    \n",
    "    def generate(self, source: Tensor):\n",
    "        memory = self.encoder(source)\n",
    "        target = torch.zeroes_like(source)\n",
    "        predicted = torch.zeros_like(source)\n",
    "\n",
    "        for i, mem_batch in enumerate(memory):\n",
    "            predicted[i, :, :] = self.decoder(mem_batch, target[i, :, :])\n",
    "            target[i + 1, :, :] = predicted[i, :, :]\n",
    "        \n",
    "        return predicted\n",
    "    \n",
    "    @property\n",
    "    def downprojection(self) -> bool:\n",
    "        return self.encoder.downprojection \n"
   ]
  },
  {
   "cell_type": "markdown",
   "metadata": {},
   "source": [
    "### Model Train Functions"
   ]
  },
  {
   "cell_type": "markdown",
   "metadata": {},
   "source": [
    "#### Encoder fixed training"
   ]
  },
  {
   "cell_type": "markdown",
   "metadata": {},
   "source": [
    "#### Load datasets"
   ]
  },
  {
   "cell_type": "code",
   "execution_count": null,
   "metadata": {},
   "outputs": [],
   "source": [
    "from utils.file_io import read_trajectory_datasets"
   ]
  },
  {
   "cell_type": "code",
   "execution_count": null,
   "metadata": {},
   "outputs": [],
   "source": [
    "train_set, test_set, validation_set, visualization_set = read_trajectory_datasets(data_path, 0.85, 0.10, 0.045, 0.005, 256, \n",
    "                                                                                  feature_columns=feature_columns, label_features=label_features)\n",
    "train_dataloader, validation_dataloader, test_dataloader = define_dataloader_from_subset(train_set, validation_set, test_set, batch_size=batch_size, shuffle=True)"
   ]
  },
  {
   "cell_type": "markdown",
   "metadata": {},
   "source": [
    "#### Define train methods"
   ]
  },
  {
   "cell_type": "code",
   "execution_count": null,
   "metadata": {},
   "outputs": [],
   "source": [
    "def train_epoch(train_dataloader: DataLoader, model, loss_function, optimizer, lr_scheduler,\n",
    "                device: torch.device, report_interval: int = 1000):\n",
    "    \n",
    "    running_loss = 0\n",
    "    last_loss = 0\n",
    "    \n",
    "    for i, (inputs, true_values) in enumerate(train_dataloader):\n",
    "        \n",
    "        inputs = inputs.to(device)\n",
    "        true_values = true_values.to(device)\n",
    "    \n",
    "        inputs_shape, true_values_shape = inputs.size(), true_values.size()\n",
    "        inputs = inputs.view(inputs_shape[1], inputs_shape[0], inputs_shape[2])\n",
    "        true_values = true_values.view(true_values_shape[1], true_values_shape[0], true_values_shape[2])\n",
    "        optimizer.zero_grad()\n",
    "        outputs = model(inputs, true_values)\n",
    "        loss = loss_function(outputs, true_values)\n",
    "        running_loss += loss\n",
    "        loss.backward()\n",
    "        optimizer.step()\n",
    "        lr_scheduler.step()\n",
    "    \n",
    "        if i % report_interval == report_interval - 1:\n",
    "            last_loss = running_loss / report_interval\n",
    "            print(f\"batch {i + 1}, Mean Squared Error: {last_loss}\")\n",
    "            running_loss = 0\n",
    "\n",
    "    return last_loss"
   ]
  },
  {
   "cell_type": "code",
   "execution_count": null,
   "metadata": {},
   "outputs": [],
   "source": [
    "def parameter_train_decoder(encoder: TransformerEncoderModel, parameter: Dict, train_epochs: int, train_data: DataLoader, \n",
    "                            validation_data: DataLoader, checkpoint_path: Path, \n",
    "                            device: torch.device) -> None:\n",
    "    features. _ = train_dataloader.dataset[0]\n",
    "    run_id = ray_train.get_context().get_trial_id()\n",
    "    run_checkpoint = checkpoint_path / run_id\n",
    "    run_checkpoint.mkdir(parents=True)\n",
    "    decoder = TransformerDecoderModel(encoder.model_dim, encoder.model_dim, parameter[\"feedforward_dim\"], parameter[\"decoder_layer\"], encoder.pos_encoder, parameter[\"transformer_dropout\"])\n",
    "    model = TransformerModel(encoder, decoder)\n",
    "\n",
    "    optimizer, lr_scheduler = get_optimizer_function_and_learning_rate_scheduler(decoder, encoder.model_dim, warmup_steps=parameter[\"warmup_steps\"])\n",
    "    loss_function = get_loss_function()\n",
    "\n",
    "    _ = train(train_epoch, train_epochs, train_data, validation_data, model, loss_function, optimizer, lr_scheduler, run_checkpoint, device, report_interval=50, tune=True)"
   ]
  },
  {
   "cell_type": "code",
   "execution_count": null,
   "metadata": {},
   "outputs": [],
   "source": [
    "parameter_space = {\n",
    "    \"batch_size\": tune.choice(list(range(batch_size - batch_size_radius, batch_size + batch_size_radius, 4))),\n",
    "    \"warmup_steps\": tune.choice(list(range(1000, 2000, 200))),\n",
    "    \"feedforward_dim\": tune.choice([32, 64, 128]),\n",
    "    \"decoder_layer\": tune.choice([1, 2, 3]),\n",
    "    \"transformer_dropout\": tune.uniform(0.1, 0.5),\n",
    "    \"pos_encoder_dropout\": tune.uniform(0.1, 0.5)\n",
    "}"
   ]
  },
  {
   "cell_type": "code",
   "execution_count": null,
   "metadata": {},
   "outputs": [],
   "source": [
    "scheduler = ASHAScheduler(\n",
    "    metric=\"loss\",\n",
    "    mode=\"min\",\n",
    "    max_t=num_epochs\n",
    ")"
   ]
  },
  {
   "cell_type": "code",
   "execution_count": null,
   "metadata": {},
   "outputs": [],
   "source": [
    "search_alg = OptunaSearch(\n",
    "    metric=\"loss\",\n",
    "    mode=\"min\"\n",
    ") "
   ]
  },
  {
   "cell_type": "code",
   "execution_count": null,
   "metadata": {},
   "outputs": [],
   "source": [
    "if ray.is_initialized():\n",
    "    ray.shutdown()\n",
    "\n",
    "ray.init(runtime_env={ \"py_modules\": [utils] })"
   ]
  },
  {
   "cell_type": "code",
   "execution_count": null,
   "metadata": {},
   "outputs": [],
   "source": [
    "ray_resources_manager = tune.with_resources(\n",
    "    trainable=lambda params: parameter_train_decoder(encoder, params, num_epochs, train_dataloader, validation_dataloader, model_path, device),\n",
    "    # See: https://stackoverflow.com/questions/58967793/what-is-the-way-to-make-tune-run-parallel-trials-across-multiple-gpus\n",
    "    resources={ \"cpu\": 3, \"gpu\": 0.25 }\n",
    ")\n",
    "\n",
    "tuner = tune.Tuner(\n",
    "    ray_resources_manager,\n",
    "    param_space=parameter_space,\n",
    "    tune_config=tune.TuneConfig(\n",
    "        scheduler=scheduler,\n",
    "        search_alg=search_alg,\n",
    "         num_samples=num_samples\n",
    "    )\n",
    ")"
   ]
  },
  {
   "cell_type": "code",
   "execution_count": null,
   "metadata": {},
   "outputs": [],
   "source": [
    "results = tuner.fit()"
   ]
  },
  {
   "cell_type": "code",
   "execution_count": null,
   "metadata": {},
   "outputs": [],
   "source": [
    "if ray.is_initialized():\n",
    "    ray.shutdown()"
   ]
  },
  {
   "cell_type": "code",
   "execution_count": null,
   "metadata": {},
   "outputs": [],
   "source": [
    "# Save as csv file\n",
    "results.get_dataframe().to_csv(model_path / \"trail_grid.csv\")"
   ]
  },
  {
   "cell_type": "code",
   "execution_count": null,
   "metadata": {},
   "outputs": [],
   "source": [
    "best_decoder_result = results.get_best_result(\"loss\", \"min\")\n",
    "best_decoder_checkpoint = best_decoder_result.get_best_checkpoint(\"loss\", \"min\")\n",
    "\n",
    "best_decoder_model_dict = torch.load(f\"{best_decoder_checkpoint.path}/checkpoint.pt\")"
   ]
  },
  {
   "cell_type": "code",
   "execution_count": null,
   "metadata": {},
   "outputs": [],
   "source": [
    "print(f\"Best trail by loss value {best_decoder_result.metrics['loss']}\", \"\\n------\")\n",
    "for i in best_decoder_result.config:\n",
    "    print(f\"Best trail: {i} value {best_decoder_result.config[i]}\")"
   ]
  },
  {
   "cell_type": "code",
   "execution_count": null,
   "metadata": {},
   "outputs": [],
   "source": [
    "encoder = TransformerEncoderModel(best_parallel_result.config[\"model_dim\"], best_parallel_result.config[\"model_dim\"], \n",
    "                                  best_parallel_result.config[\"feedforward_dim\"], best_parallel_result.config[\"encoder_layer\"], \n",
    "                                  best_parallel_result.config[\"transformer_dropout\"], best_parallel_result.config[\"pos_encoder_dropout\"], \n",
    "                                  best_parallel_result.config[\"downprojection\"], best_parallel_result.config[\"projection_num_neighbors\"])\n",
    "decoder = TransformerDecoderModel(encoder.model_dim, encoder.model_dim, best_decoder_result.config[\"feedforward_dim\"],\n",
    "                                  best_decoder_result.config[\"decoder_layer\"], encoder.pos_encoder, best_decoder_result.config[\"transformer_dropout\"])\n",
    "best_decoder_model = TransformerModel(\n",
    "    encoder,\n",
    "    decoder\n",
    ")\n",
    "best_decoder_model.load_state_dict(best_decoder_model_dict)"
   ]
  },
  {
   "cell_type": "markdown",
   "metadata": {},
   "source": [
    "### Encoder/Decoder Joint Training"
   ]
  },
  {
   "cell_type": "code",
   "execution_count": null,
   "metadata": {},
   "outputs": [],
   "source": [
    "def parameter_train_encoder_decoder(parameter: Dict, train_epochs: int, train_data: DataLoader, \n",
    "                            validation_data: DataLoader, checkpoint_path: Path, \n",
    "                            device: torch.device) -> None:\n",
    "    features. _ = train_dataloader.dataset[0]\n",
    "    run_id = ray_train.get_context().get_trial_id()\n",
    "    run_checkpoint = checkpoint_path / run_id\n",
    "    run_checkpoint.mkdir(parents=True)\n",
    "    encoder = TransformerEncoderModel(parameter[\"model_dim\"], parameter[\"model_dim\"], parameter[\"enc_feedforward_dim\"], \n",
    "                                      parameter[\"encoder_layer\"], parameter[\"enc_transformer_dropout\"], parameter[\"pos_encoder_dropout\"], \n",
    "                                      parameter[\"downprojection\"], parameter[\"projection_num_neighbors\"])\n",
    "    decoder = TransformerDecoderModel(encoder.model_dim, encoder.model_dim, parameter[\"dec_feedforward_dim\"], parameter[\"decoder_layer\"], \n",
    "                                      encoder.pos_encoder, parameter[\"dec_transformer_dropout\"])\n",
    "    model = TransformerModel(encoder, decoder)\n",
    "\n",
    "    optimizer, lr_scheduler = get_optimizer_function_and_learning_rate_scheduler(model, encoder.model_dim, warmup_steps=parameter[\"warmup_steps\"])\n",
    "    loss_function = get_loss_function()\n",
    "\n",
    "    _ = train(train_epoch, train_epochs, train_data, validation_data, model, loss_function, optimizer, lr_scheduler, run_checkpoint, device, report_interval=50, tune=True)"
   ]
  },
  {
   "cell_type": "code",
   "execution_count": null,
   "metadata": {},
   "outputs": [],
   "source": [
    "parameter_space = {\n",
    "    \"model_dim\": tune.choice([15, 9]),\n",
    "    \"batch_size\": tune.choice(list(range(batch_size - batch_size_radius, batch_size + batch_size_radius, 4))),\n",
    "    \"warmup_steps\": tune.choice(list(range(1000, 2000, 200))),\n",
    "    \"enc_feedforward_dim\": tune.choice([32, 64, 128]),\n",
    "    \"dec_feedforward_dim\": tune.choice([32, 64, 128]),\n",
    "    \"encoder_layer\": tune.choice([1, 2, 3]),\n",
    "    \"decoder_layer\": tune.choice([1, 2, 3]),\n",
    "    \"enc_transformer_dropout\": tune.uniform(0.1, 0.5),\n",
    "    \"dec_transformer_dropout\": tune.uniform(0.1, 0.5),\n",
    "    \"pos_encoder_dropout\": tune.uniform(0.1, 0.5),\n",
    "    \"downprojection\": tune.choice([True]),\n",
    "    \"projection_num_neighbors\": tune.choice(list(range(2, 10)))\n",
    "}"
   ]
  },
  {
   "cell_type": "code",
   "execution_count": null,
   "metadata": {},
   "outputs": [],
   "source": [
    "scheduler = ASHAScheduler(\n",
    "    metric=\"loss\",\n",
    "    mode=\"min\",\n",
    "    max_t=num_epochs\n",
    ")"
   ]
  },
  {
   "cell_type": "code",
   "execution_count": null,
   "metadata": {},
   "outputs": [],
   "source": [
    "search_alg = OptunaSearch(\n",
    "    metric=\"loss\",\n",
    "    mode=\"min\"\n",
    ") "
   ]
  },
  {
   "cell_type": "code",
   "execution_count": null,
   "metadata": {},
   "outputs": [],
   "source": [
    "if ray.is_initialized():\n",
    "    ray.shutdown()\n",
    "\n",
    "ray.init(runtime_env={ \"py_modules\": [utils] })"
   ]
  },
  {
   "cell_type": "code",
   "execution_count": null,
   "metadata": {},
   "outputs": [],
   "source": [
    "ray_resources_manager = tune.with_resources(\n",
    "    trainable=lambda param: parameter_train_encoder_decoder(param, num_epochs, train_dataloader, validation_dataloader, model_path, device),\n",
    "    # See: https://stackoverflow.com/questions/58967793/what-is-the-way-to-make-tune-run-parallel-trials-across-multiple-gpus\n",
    "    resources={ \"cpu\": 3, \"gpu\": 0.25 }\n",
    ")\n",
    "\n",
    "tuner = tune.Tuner(\n",
    "    ray_resources_manager,\n",
    "    param_space=parameter_space,\n",
    "    tune_config=tune.TuneConfig(\n",
    "        scheduler=scheduler,\n",
    "        search_alg=search_alg,\n",
    "         num_samples=num_samples\n",
    "    )\n",
    ")"
   ]
  },
  {
   "cell_type": "code",
   "execution_count": null,
   "metadata": {},
   "outputs": [],
   "source": [
    "results = tuner.fit()"
   ]
  },
  {
   "cell_type": "code",
   "execution_count": null,
   "metadata": {},
   "outputs": [],
   "source": [
    "if ray.is_initialized():\n",
    "    ray.shutdown()"
   ]
  },
  {
   "cell_type": "code",
   "execution_count": null,
   "metadata": {},
   "outputs": [],
   "source": [
    "# Save as csv file\n",
    "results.get_dataframe().to_csv(model_path / \"trail_grid.csv\")"
   ]
  },
  {
   "cell_type": "code",
   "execution_count": null,
   "metadata": {},
   "outputs": [],
   "source": [
    "best_encoder_decoder_result = results.get_best_result(\"loss\", \"min\")\n",
    "best_encoder_decoder_checkpoint = best_encoder_decoder_result.get_best_checkpoint(\"loss\", \"min\")\n",
    "\n",
    "best_encoder_decoder_model_dict = torch.load(f\"{best_encoder_decoder_checkpoint.path}/checkpoint.pt\")"
   ]
  },
  {
   "cell_type": "code",
   "execution_count": null,
   "metadata": {},
   "outputs": [],
   "source": [
    "print(f\"Best trail by loss value {best_encoder_decoder_result.metrics['loss']}\", \"\\n------\")\n",
    "for i in best_encoder_decoder_result.config:\n",
    "    print(f\"Best trail: {i} value {best_encoder_decoder_result.config[i]}\")"
   ]
  },
  {
   "cell_type": "code",
   "execution_count": null,
   "metadata": {},
   "outputs": [],
   "source": [
    "encoder = TransformerEncoderModel(best_parallel_result.config[\"model_dim\"], best_parallel_result.config[\"model_dim\"], \n",
    "                                  best_parallel_result.config[\"enc_feedforward_dim\"], best_parallel_result.config[\"encoder_layer\"], \n",
    "                                  best_parallel_result.config[\"enc_transformer_dropout\"], best_parallel_result.config[\"pos_encoder_dropout\"], \n",
    "                                  best_parallel_result.config[\"downprojection\"], best_parallel_result.config[\"projection_num_neighbors\"])\n",
    "decoder = TransformerDecoderModel(encoder.model_dim, encoder.model_dim, best_decoder_result.config[\"dec_feedforward_dim\"],\n",
    "                                  best_decoder_result.config[\"decoder_layer\"], best_decoder_result.config[\"dec_transformer_dropout\"],\n",
    "                                  best_decoder_result.config[\"pos_encoder_dropout\"])\n",
    "best_encoder_decoder_model = TransformerModel(\n",
    "    encoder,\n",
    "    decoder\n",
    ")\n",
    "best_encoder_decoder_model.load_state_dict(best_decoder_model_dict)"
   ]
  },
  {
   "cell_type": "code",
   "execution_count": null,
   "metadata": {},
   "outputs": [],
   "source": []
  }
 ],
 "metadata": {
  "kernelspec": {
   "display_name": "Python 3 (ipykernel)",
   "language": "python",
   "name": "python3"
  },
  "language_info": {
   "codemirror_mode": {
    "name": "ipython",
    "version": 3
   },
   "file_extension": ".py",
   "mimetype": "text/x-python",
   "name": "python",
   "nbconvert_exporter": "python",
   "pygments_lexer": "ipython3",
   "version": "3.8.16"
  }
 },
 "nbformat": 4,
 "nbformat_minor": 2
}
