{
 "cells": [
  {
   "cell_type": "markdown",
   "metadata": {},
   "source": [
    "# Model 4: Three Stage Model"
   ]
  },
  {
   "cell_type": "code",
   "execution_count": 1,
   "metadata": {},
   "outputs": [],
   "source": [
    "import torch\n",
    "import numpy as np\n",
    "import pandas as pd"
   ]
  },
  {
   "cell_type": "code",
   "execution_count": 2,
   "metadata": {},
   "outputs": [
    {
     "name": "stdout",
     "output_type": "stream",
     "text": [
      "Using cuda device\n"
     ]
    }
   ],
   "source": [
    "device = (\"cuda\" if torch.cuda.is_available() else \"cpu\")\n",
    "print(f\"Using {device} device\")"
   ]
  },
  {
   "cell_type": "code",
   "execution_count": 3,
   "metadata": {},
   "outputs": [],
   "source": [
    "# Import local modules from 'src/utils' as package 'utils'\n",
    "import sys; sys.path.insert(0, '../')"
   ]
  },
  {
   "cell_type": "markdown",
   "metadata": {},
   "source": [
    "## Read Yuxuan's .csv files"
   ]
  },
  {
   "cell_type": "code",
   "execution_count": 4,
   "metadata": {},
   "outputs": [],
   "source": [
    "from pathlib import Path\n",
    "from tqdm import tqdm\n",
    "from typing import List"
   ]
  },
  {
   "cell_type": "code",
   "execution_count": 5,
   "metadata": {},
   "outputs": [],
   "source": [
    "def read_all_data_dumps_in(data_folder: Path) -> List[pd.DataFrame]:\n",
    "    \"\"\"\n",
    "    Read all .csv data dumps in data_folder and put them into one List.\n",
    "    \"\"\"\n",
    "    dataframes = []\n",
    "    for data_file in tqdm(data_folder.glob(\"*.csv\"), \"Reading .csv files\"):\n",
    "        dataframes.append(read_data_csv(data_file))\n",
    "    return dataframes\n",
    "\n",
    "\n",
    "def read_data_csv(filepath: Path, separator: str = \";\") -> pd.DataFrame:\n",
    "    dataframe = pd.read_csv(filepath, sep=separator)\n",
    "    dataframe[\"Timestamp\"] = pd.to_datetime(dataframe[\"Timestamp\"], unit=\"ns\")  \n",
    "    convert_list_columns(dataframe)\n",
    "    return dataframe\n",
    "\n",
    "\n",
    "def convert_list_columns(dataframe: pd.DataFrame):\n",
    "    \"\"\"\n",
    "    Convert string columns to np.ndarrays.\n",
    "    \"\"\"\n",
    "    convertible_columns = [column for column in dataframe.columns if column != \"Timestamp\"]\n",
    "    for column in convertible_columns:\n",
    "        # do not convert columns that do not contain a list\n",
    "        if dataframe[column][0][0] == \"[\":\n",
    "            dataframe[column] = dataframe[column].apply(convert_list)\n",
    "\n",
    "\n",
    "def convert_list(text: str) -> np.ndarray:\n",
    "    \"\"\"\n",
    "    Converts strings like \"[el1, el2, el3]\", with el1, el2, el3 being floats into an np.ndarray. \n",
    "    \"\"\"\n",
    "    return np.fromstring(text[1:-1], sep=\",\", dtype=np.float32)"
   ]
  },
  {
   "cell_type": "code",
   "execution_count": 6,
   "metadata": {},
   "outputs": [
    {
     "name": "stderr",
     "output_type": "stream",
     "text": [
      "Reading .csv files: 2it [00:05,  2.91s/it]\n"
     ]
    }
   ],
   "source": [
    "data_path = Path(\"../../data/\")\n",
    "dataset = read_all_data_dumps_in(data_path)"
   ]
  },
  {
   "cell_type": "code",
   "execution_count": 7,
   "metadata": {},
   "outputs": [
    {
     "name": "stdout",
     "output_type": "stream",
     "text": [
      "Index(['Timestamp', 'left_boom_base_yaw_joint', 'left_boom_base_pitch_joint',\n",
      "       'left_boom_main_prismatic_joint', 'left_boom_second_roll_joint',\n",
      "       'left_boom_second_yaw_joint', 'left_boom_top_pitch_joint',\n",
      "       'left_boom_ee_joint', 'cable1_lowest_point', 'cable2_lowest_point',\n",
      "       'cable3_lowest_point',\n",
      "       'cable1_property(length,youngsmodule(bend,twist))',\n",
      "       'cable2_property(length,youngsmodule(bend,twist))',\n",
      "       'cable3_property(length,youngsmodule(bend,twist))',\n",
      "       'left_boom_yaw_link(x,y,z,w,qx,qy,qz)',\n",
      "       'left_boom_main_link(x,y,z,w,qx,qy,qz)',\n",
      "       'left_boom_second_link(x,y,z,w,qx,qy,qz)',\n",
      "       'left_boom_pitch_link(x,y,z,w,qx,qy,qz)',\n",
      "       'left_boom_top_link(x,y,z,w,qx,qy,qz)',\n",
      "       'left_boom_top_second_link(x,y,z,w,qx,qy,qz)',\n",
      "       'left_boom_tip(x,y,z,w,qx,qy,qz)'],\n",
      "      dtype='object')\n"
     ]
    }
   ],
   "source": [
    "print(dataset[0].columns)\n",
    "feature_columns = [\n",
    "    'left_boom_base_yaw_joint', 'left_boom_base_pitch_joint', 'left_boom_main_prismatic_joint', 'left_boom_second_roll_joint',\n",
    "    'left_boom_second_yaw_joint', 'left_boom_top_pitch_joint'\n",
    "]\n",
    "\n",
    "label_columns = ['cable1_lowest_point', 'cable2_lowest_point', 'cable3_lowest_point']"
   ]
  },
  {
   "cell_type": "markdown",
   "metadata": {},
   "source": [
    "## Preprocessing dataframes"
   ]
  },
  {
   "cell_type": "code",
   "execution_count": 8,
   "metadata": {},
   "outputs": [],
   "source": [
    "from typing import List"
   ]
  },
  {
   "cell_type": "code",
   "execution_count": 9,
   "metadata": {},
   "outputs": [],
   "source": [
    "def reshape_dataframe_for_learning(dataframe: pd.DataFrame, feature_columns: List[str] = None, label_columns: List[str] = None, label_dims: List[int] = None, standardize_features: bool = False, normalize_features: bool = False) -> pd.DataFrame:\n",
    "    \"\"\"\n",
    "    Flattens the arm's angle columns into one feature column and creates a view on the original dataframe \n",
    "    which only contains the flattened angle vector and lowest point. \n",
    "    \"\"\"\n",
    "    # FIXME: Scale youngsmodule bend and twist\n",
    "    print(\"Preprocessing dataframe.\")\n",
    "    feature_columns = [col for col in dataframe.columns][1:-1] if feature_columns is None else feature_columns\n",
    "    dataframe[\"features\"] = dataframe[feature_columns].apply(lambda row: np.concatenate(row.values), axis=1)\n",
    "    if label_columns is None: \n",
    "        label_columns = dataframe.columns[-1]\n",
    "        data_columns = [\"features\", label_columns]\n",
    "    else:\n",
    "        dataframe[\"labels\"] = dataframe[label_columns].apply(lambda row: np.concatenate(row.values), axis=1) if label_dims is None else dataframe[label_columns].apply(lambda row: np.concatenate(row.values[label_dims]), axis=1)\n",
    "        data_columns = [\"features\", \"labels\"]\n",
    "    if normalize_features:\n",
    "        dataframe[\"features\"] = normalize(np.stack(dataframe[\"features\"].to_numpy())).tolist()\n",
    "    if standardize_features:\n",
    "        dataframe[\"features\"] = standardize(np.stack(dataframe[\"features\"].to_numpy())).tolist()\n",
    "    return dataframe[data_columns]\n",
    "\n",
    "\n",
    "def standardize(features: np.ndarray) -> np.ndarray:\n",
    "    return (features - features.mean(axis=0)) / features.std(axis=0)\n",
    "\n",
    "\n",
    "def normalize(features: np.ndarray) -> np.ndarray:\n",
    "    x_min = features.min(axis=0)\n",
    "    x_max = features.max(axis=0)\n",
    "    return (features - x_min) / (x_max - x_min)"
   ]
  },
  {
   "cell_type": "code",
   "execution_count": 10,
   "metadata": {},
   "outputs": [],
   "source": [
    "def preprocess_dataframes_for_parallel_training(dataframes: List[pd.DataFrame], feature_columns: List[str] = None, label_columns: List[str] = None, label_dims: List[int] = None, standardize_features: bool = False, normalize_features: bool = False):\n",
    "   preprocess = lambda dataframe: reshape_dataframe_for_learning(dataframe, feature_columns=feature_columns, label_columns=label_columns, label_dims=label_dims, standardize_features=standardize_features, normalize_features=normalize_features)\n",
    "   dataframes = [preprocess(dataframe) for dataframe in dataframes]\n",
    "   dataframes = cut_dataframes_to_same_length(dataframes)\n",
    "   return dataframes\n",
    "\n",
    "def cut_dataframes_to_same_length(dataframes: pd.DataFrame):\n",
    "    dataframe_lengths = [len(dataframe.index) for dataframe in dataframes]\n",
    "    min_len = min(dataframe_lengths)\n",
    "    return [dataframe.head(min_len) for dataframe in dataframes]"
   ]
  },
  {
   "cell_type": "code",
   "execution_count": 11,
   "metadata": {},
   "outputs": [
    {
     "name": "stdout",
     "output_type": "stream",
     "text": [
      "Preprocessing dataframe.\n",
      "Preprocessing dataframe.\n"
     ]
    }
   ],
   "source": [
    "dataset = preprocess_dataframes_for_parallel_training(dataset, feature_columns=feature_columns, label_columns=label_columns)"
   ]
  },
  {
   "cell_type": "code",
   "execution_count": 12,
   "metadata": {},
   "outputs": [
    {
     "name": "stdout",
     "output_type": "stream",
     "text": [
      "[81215, 81215]\n",
      "[                                            features  \\\n",
      "0  [0.0224931, -0.0883802, 0.523592, -1.03304, 0....   \n",
      "1  [0.0224938, -0.0883812, 0.5236, -1.03305, 0.07...   \n",
      "2  [0.0224945, -0.0883802, 0.523608, -1.03305, 0....   \n",
      "3  [0.0224952, -0.0883792, 0.523616, -1.03306, 0....   \n",
      "4  [0.0224973, -0.0883783, 0.523639, -1.03308, 0....   \n",
      "\n",
      "                                              labels  \n",
      "0  [-1.21362, 5.32123, -0.190972, -0.804286, 5.69...  \n",
      "1  [-1.21362, 5.32124, -0.190982, -0.80429, 5.691...  \n",
      "2  [-1.21362, 5.32125, -0.190985, -0.804292, 5.69...  \n",
      "3  [-1.21363, 5.32126, -0.19099, -0.804294, 5.691...  \n",
      "4  [-1.21363, 5.32127, -0.190995, -0.804298, 5.69...  ,                                             features  \\\n",
      "0  [0.0104718, -1.52122e-07, 0.00400016, 0.020017...   \n",
      "1  [0.010462, 3.99373e-05, 0.00401454, 0.020676, ...   \n",
      "2  [0.0104325, 0.000158116, 0.00406007, 0.0227489...   \n",
      "3  [0.0104325, 0.000158116, 0.00406007, 0.0227489...   \n",
      "4  [0.0104069, 0.000232887, 0.00408717, 0.0241912...   \n",
      "\n",
      "                                              labels  \n",
      "0  [-1.13526, 5.01145, 0.482271, -0.590069, 4.688...  \n",
      "1  [-1.13524, 5.01149, 0.482266, -0.590101, 4.688...  \n",
      "2  [-1.13517, 5.01163, 0.482273, -0.5902, 4.68864...  \n",
      "3  [-1.1351, 5.01169, 0.482374, -0.590281, 4.6884...  \n",
      "4  [-1.13505, 5.01168, 0.48257, -0.590378, 4.6882...  ]\n",
      "(6,) (9,)\n"
     ]
    }
   ],
   "source": [
    "print([len(dataframe) for dataframe in dataset])\n",
    "print([dataframe.head() for dataframe in dataset])\n",
    "print(dataset[0][\"features\"][0].shape, dataset[0][\"labels\"][0].shape)"
   ]
  },
  {
   "cell_type": "markdown",
   "metadata": {},
   "source": [
    "## Create Parallel Trajectory Dataset"
   ]
  },
  {
   "cell_type": "code",
   "execution_count": 13,
   "metadata": {},
   "outputs": [],
   "source": [
    "from utils.trajectory_dataset import *\n",
    "from torch.utils.data import Dataset"
   ]
  },
  {
   "cell_type": "code",
   "execution_count": 14,
   "metadata": {},
   "outputs": [],
   "source": [
    "class ParallelTrajectoryDataset(Dataset):\n",
    "    def __init__(self, datasets: List[TrajectoryDataset]) -> None:\n",
    "        super().__init__()\n",
    "        self.datasets = datasets\n",
    "\n",
    "    def __len__(self) -> int:\n",
    "        return len(self.datasets[0])\n",
    "    \n",
    "    def __getitem__(self, index) -> Tuple[torch.Tensor, torch.Tensor]:\n",
    "        trajectory_features, trajectory_true_lowpoints = [], []\n",
    "        for dataset in self.datasets:\n",
    "            features, true_lowpoints = dataset[index]\n",
    "            trajectory_features.append(features)\n",
    "            trajectory_true_lowpoints.append(true_lowpoints)\n",
    "        return torch.stack(trajectory_features), torch.stack(trajectory_true_lowpoints)\n",
    "\n",
    "\n",
    "class ParallelSlidingWindowTrajectoryDataset(Dataset):\n",
    "    def __init__(self, datasets: List[SlidingWindowTrajectoryDataset]) -> None:\n",
    "        super().__init__()\n",
    "        self.datasets = datasets\n",
    "\n",
    "    def __len__(self) -> int:\n",
    "        return len(self.datasets[0])\n",
    "    \n",
    "    def __getitem__(self, index) -> Tuple[torch.Tensor, torch.Tensor, torch.Tensor]:\n",
    "        trajectory_features, trajectory_true_lowpoints, trajectory_last_indices = [], [], []\n",
    "        for dataset in self.datasets:\n",
    "            features, true_lowpoints, last_index = dataset[index]\n",
    "            trajectory_features.append(features)\n",
    "            trajectory_true_lowpoints.append(true_lowpoints)\n",
    "            trajectory_last_indices.append(last_index)\n",
    "        return torch.stack(trajectory_features), torch.stack(trajectory_true_lowpoints), torch.tensor(trajectory_last_indices, dtype=torch.int64)\n"
   ]
  },
  {
   "cell_type": "code",
   "execution_count": 15,
   "metadata": {},
   "outputs": [],
   "source": [
    "dataset = [TrajectoryDataset(df, 256) for df in dataset]\n",
    "dataset = ParallelTrajectoryDataset(dataset)"
   ]
  },
  {
   "cell_type": "code",
   "execution_count": 16,
   "metadata": {},
   "outputs": [
    {
     "name": "stdout",
     "output_type": "stream",
     "text": [
      "torch.Size([2, 256, 6]) torch.Size([2, 256, 9])\n"
     ]
    }
   ],
   "source": [
    "feature_tensor, lowpoint_tensor = dataset[0]\n",
    "# The output shape is #Parallel trajectories, Sequence length, feature/label dim\n",
    "print(feature_tensor.shape, lowpoint_tensor.shape)"
   ]
  },
  {
   "cell_type": "markdown",
   "metadata": {},
   "source": [
    "### Load ParallelTrajectoryDatasets"
   ]
  },
  {
   "cell_type": "code",
   "execution_count": 17,
   "metadata": {},
   "outputs": [],
   "source": [
    "from torch.utils.data import random_split, Subset"
   ]
  },
  {
   "cell_type": "code",
   "execution_count": 18,
   "metadata": {},
   "outputs": [],
   "source": [
    "def read_parallel_trajectory_datasets(data_folder: Path, train_split: float, test_split: float, validation_split: float, \n",
    "                             visualization_split: float = 0.0, window_size: int = 128, feature_columns: List[str] = None, label_columns: List[str] = None, label_dims: List[int] = None,\n",
    "                             standardize_features: bool = False, normalize_features = False) -> Tuple[Subset, SlidingWindowTrajectoryDataset, Subset, SlidingWindowTrajectoryDataset]:\n",
    "    \"\"\"\n",
    "\n",
    "    :param data_folder: The path to the folder containing the data.\n",
    "    :param train_split: A float between 0 and 1 describing the relative size of the training dataset compared to the whole dataset.\n",
    "    :param test_split: A float between 0 and 1 describing the relative size of the test dataset compared to the whole dataset.\n",
    "    :param validation_split: A float between 0 and 1 describing the relative size of the validation dataset compared to the whole dataset.\n",
    "    :param visualization_split: A float between 0 and 1 describing the relative size of the visualization dataset compared to the whole dataset.\n",
    "    :param window_size: The length of the trajectories in the dataset.\n",
    "    :param feature_columns: The columns of the .csv files used as features. By default all columns between the first and last column are used.\n",
    "    :param label_columns: The columns of the .csv files used as labels. By default the last column is used as the label column.\n",
    "    :param label_dims: A list of the entries in the label column used to create label vectors.\n",
    "    :param standardize_features: Set this to true to standardize the features (subtract the standard deviation and divide by the variance), incompatible with normalize_features\n",
    "    :param normalize_features: Set this to true to normalize the features between [-1, 1].\n",
    "\n",
    "    :return: The train dataset, test dataset, validation dataset and visualization_dataset\n",
    "    \"\"\"\n",
    "    sum_of_splits = train_split + test_split + validation_split + visualization_split\n",
    "    if not sum_of_splits <= 1:\n",
    "        raise ValueError(f\"The sum of all splits should be smaller than 1.0, given {sum_of_splits}!\")\n",
    "    \n",
    "    dataframes = read_all_data_dumps_in(data_folder)\n",
    "    preprocessed = preprocess_dataframes_for_parallel_training(dataframes, feature_columns=feature_columns, label_columns=label_columns, label_dims=label_dims, standardize_features=standardize_features, normalize_features=normalize_features)\n",
    "    complete_datasets = [TrajectoryDataset(dataframe, window_size) for dataframe in preprocessed]\n",
    "    dataset_length = len(complete_datasets[0])\n",
    "\n",
    "    train_length, test_length, validation_length, shuffled_split_len = compute_split_lengths(dataset_length, train_split, test_split, validation_split)\n",
    "\n",
    "    shuffled_split = [Subset(dataset, list(range(0, shuffled_split_len))) for dataset in complete_datasets]\n",
    "    contigous_split = [SlidingWindowTrajectoryDataset(Subset(dataset, list(range(shuffled_split_len, dataset_length))), window_size, contigous=True) for dataset in complete_datasets]\n",
    "    shuffled_split = ParallelTrajectoryDataset(shuffled_split)\n",
    "    contigous_split = ParallelTrajectoryDataset(contigous_split)\n",
    "\n",
    "    train_set, test_set, validation_set = random_split(shuffled_split, [train_length, test_length, validation_length])\n",
    "    test_set = ParallelSlidingWindowTrajectoryDataset([SlidingWindowTrajectoryDataset(ts, window_size) for ts in test_set.dataset.datasets])\n",
    "    return train_set, test_set, validation_set, contigous_split\n",
    "\n",
    "\n",
    "def compute_split_lengths(dataset_length: int, train_split: float, test_split: float, validation_split: float) -> Tuple[int, int, int, int]:\n",
    "    train_length = int(dataset_length * train_split)\n",
    "    test_length = int(dataset_length * test_split)\n",
    "    validation_length = int(dataset_length * validation_split)\n",
    "    shuffled_split_len = train_length + test_length + validation_length\n",
    "    return train_length, test_length, validation_length, shuffled_split_len"
   ]
  },
  {
   "cell_type": "code",
   "execution_count": 19,
   "metadata": {},
   "outputs": [
    {
     "name": "stderr",
     "output_type": "stream",
     "text": [
      "Reading .csv files: 2it [00:05,  2.89s/it]\n"
     ]
    },
    {
     "name": "stdout",
     "output_type": "stream",
     "text": [
      "Preprocessing dataframe.\n",
      "Preprocessing dataframe.\n"
     ]
    }
   ],
   "source": [
    "train_set, test_set, validation_set, visualization_set = read_parallel_trajectory_datasets(data_path, 0.85, 0.10, 0.045, 0.005, 256, feature_columns, label_columns)"
   ]
  },
  {
   "cell_type": "code",
   "execution_count": 20,
   "metadata": {},
   "outputs": [
    {
     "name": "stdout",
     "output_type": "stream",
     "text": [
      "torch.Size([2, 256, 6]) torch.Size([2, 9]) tensor([1, 1])\n"
     ]
    }
   ],
   "source": [
    "features, labels, last_indices = test_set[257] \n",
    "print(features.shape, labels.shape, last_indices)\n",
    "input_shape, output_shape = features.shape[-1], labels.shape[-1]"
   ]
  },
  {
   "cell_type": "markdown",
   "metadata": {},
   "source": [
    "## Define Transformer Encoder Model"
   ]
  },
  {
   "cell_type": "code",
   "execution_count": 21,
   "metadata": {},
   "outputs": [],
   "source": [
    "from torch import nn, Tensor\n",
    "from torch.nn import TransformerEncoder, TransformerEncoderLayer\n",
    "import math"
   ]
  },
  {
   "cell_type": "markdown",
   "metadata": {},
   "source": [
    "### Transformer positional encoding"
   ]
  },
  {
   "cell_type": "code",
   "execution_count": 22,
   "metadata": {},
   "outputs": [],
   "source": [
    "class PositionalEncoding(nn.Module):\n",
    "    def __init__(self, d_model: int, dropout: float = 0.1, max_len: int = 1024) -> None:\n",
    "        super().__init__()\n",
    "        self.dropout = nn.Dropout(p=dropout)\n",
    "\n",
    "        position = torch.arange(max_len).unsqueeze(1)\n",
    "        div_term = torch.exp(torch.arange(0, d_model, 2) * (-math.log(10000.0) / d_model))\n",
    "        pe = torch.zeros(max_len, 1, d_model)\n",
    "        pe[:, 0, 0::2] = torch.sin(position * div_term)\n",
    "        pe[:, 0, 1::2] = torch.cos(position * div_term)\n",
    "        self.register_buffer('pe', pe)\n",
    "\n",
    "    def forward(self, x: Tensor) -> Tensor:\n",
    "        \"\"\"\n",
    "        Arguments:\n",
    "            x: Tensor, shape ``[seq_len, batch_size, embedding_dim]``\n",
    "        \"\"\"\n",
    "        x += self.pe[:x.size(0)]\n",
    "        return self.dropout(x)"
   ]
  },
  {
   "cell_type": "code",
   "execution_count": 23,
   "metadata": {},
   "outputs": [],
   "source": [
    "class TransformerEncoderModel(nn.Module):\n",
    "    def __init__(self, num_heads: int, model_dim: int, feedforward_hidden_dim: int,\n",
    "                 num_encoder_layers: int = 6, transformer_dropout: float = 0.1, pos_encoder_dropout: float = 0.25) -> None:\n",
    "        super().__init__()\n",
    "        self.model_type = 'Transformer'\n",
    "        self.total_epochs = 0\n",
    "        encoder_layers = TransformerEncoderLayer(model_dim, num_heads, feedforward_hidden_dim, transformer_dropout)\n",
    "        self.transformer_encoder = TransformerEncoder(encoder_layers, num_encoder_layers)   \n",
    "        self.pos_encoder = PositionalEncoding(model_dim, pos_encoder_dropout)\n",
    "\n",
    "    def forward(self, source: Tensor, source_msk: Tensor = None) -> Tensor:\n",
    "        # expect input shape to be (S, N, E) with S being the sequence length, N batch size and, E the input dimensionality\n",
    "        # target_mask masks out all values right of the diagonal such that information from the target sequence cant bleed into the left hand side at training time\n",
    "        source = self.pos_encoder(source)\n",
    "        return self.transformer_encoder(source, source_msk)\n",
    "    \n",
    "\n",
    "class ParallelEncoderModel(nn.Module):\n",
    "    def __init__(self, num_decoders: int, num_heads: int, model_dim: int, feedforward_hidden_dim: int, output_dim: int,\n",
    "                 num_encoder_layers: int = 6, transformer_dropout: float = 0.1, pos_encoder_dropout: float = 0.25) -> None:\n",
    "        super().__init__()\n",
    "        self.model_type = 'Transformer'\n",
    "        self.total_epochs = 0\n",
    "        encoder_layers = TransformerEncoderLayer(model_dim, num_heads, feedforward_hidden_dim, transformer_dropout)\n",
    "        self.transformer_encoder = TransformerEncoder(encoder_layers, num_encoder_layers)   \n",
    "        self.pos_encoder = PositionalEncoding(model_dim, pos_encoder_dropout)\n",
    "        self.decoders = nn.ModuleList([nn.Linear(model_dim, output_dim) for i in range(num_decoders)])\n",
    "        self.activation = nn.ReLU()\n",
    "\n",
    "    def forward(self, source: Tensor, source_mask: Tensor = None) -> Tensor:\n",
    "        decoded = []\n",
    "        for i, decoder in enumerate(self.decoders):\n",
    "            trajectory_source = source[i, :, :, :]\n",
    "            trajectory_source = self.pos_encoder(trajectory_source)\n",
    "            trajectory_source = self.transformer_encoder(trajectory_source, source_mask)\n",
    "            decoded_trajectory = decoder(trajectory_source)\n",
    "            decoded_trajectory = self.activation(decoded_trajectory)\n",
    "            decoded.append(decoded_trajectory)\n",
    "        return torch.stack(decoded, dim=0)\n"
   ]
  },
  {
   "cell_type": "code",
   "execution_count": 24,
   "metadata": {},
   "outputs": [
    {
     "name": "stderr",
     "output_type": "stream",
     "text": [
      "/usr/local/lib/python3.10/dist-packages/torch/nn/modules/transformer.py:282: UserWarning: enable_nested_tensor is True, but self.use_nested_tensor is False because encoder_layer.self_attn.batch_first was not True(use batch_first for better inference performance)\n",
      "  warnings.warn(f\"enable_nested_tensor is True, but self.use_nested_tensor is False because {why_not_sparsity_fast_path}\")\n"
     ]
    }
   ],
   "source": [
    "encoder_model = ParallelEncoderModel(2, 3, input_shape, 64, output_shape).to(device) "
   ]
  },
  {
   "cell_type": "markdown",
   "metadata": {},
   "source": [
    "## Model Training Step 1"
   ]
  },
  {
   "cell_type": "markdown",
   "metadata": {},
   "source": [
    "### Load parameters, functions, and Dataloader"
   ]
  },
  {
   "cell_type": "code",
   "execution_count": 25,
   "metadata": {},
   "outputs": [],
   "source": [
    "import os\n",
    "\n",
    "from typing import Any\n",
    "\n",
    "from torch.utils.data import DataLoader\n",
    "from dotenv import load_dotenv\n",
    "\n",
    "from utils.file_io import save_model\n",
    "from utils.file_io import define_dataloader_from_subset\n",
    "from utils.evaluation import compute_loss_on\n",
    "from utils.optimizer import rate"
   ]
  },
  {
   "cell_type": "code",
   "execution_count": 26,
   "metadata": {},
   "outputs": [],
   "source": [
    "model_path = Path(\"../../models/encoder/\").absolute()"
   ]
  },
  {
   "cell_type": "code",
   "execution_count": 27,
   "metadata": {},
   "outputs": [],
   "source": [
    "dotenv_path = model_path / \".env\"\n",
    "load_dotenv(dotenv_path=dotenv_path)\n",
    "\n",
    "batch_size = int(os.getenv(\"BATCH_SIZE\"))\n",
    "num_epochs = int(os.getenv(\"NUM_EPOCHS\"))"
   ]
  },
  {
   "cell_type": "code",
   "execution_count": 28,
   "metadata": {},
   "outputs": [],
   "source": [
    "def get_optimizer_function_and_learning_rate_scheduler(model: nn.Module, model_size: int, warmup_steps: int, factor: float = 1) -> Tuple[Any, Any]:\n",
    "    optimizer = torch.optim.AdamW(model.parameters(), lr=1)\n",
    "    lr_scheduler = torch.optim.lr_scheduler.LambdaLR(optimizer=optimizer, lr_lambda=lambda step: rate(step, model_size, factor, warmup_steps))\n",
    "    return optimizer, lr_scheduler\n",
    "\n",
    "\n",
    "def get_loss_function() -> nn.Module:\n",
    "    return torch.nn.MSELoss()"
   ]
  },
  {
   "cell_type": "code",
   "execution_count": 29,
   "metadata": {},
   "outputs": [],
   "source": [
    "train_dataloader, validation_dataloader, test_dataloader = define_dataloader_from_subset(train_set, validation_set, test_set, batch_size=batch_size, shuffle=True)"
   ]
  },
  {
   "cell_type": "markdown",
   "metadata": {},
   "source": [
    "### Define train methods"
   ]
  },
  {
   "cell_type": "code",
   "execution_count": 30,
   "metadata": {},
   "outputs": [],
   "source": [
    "from ray import train as ray_train\n",
    "from ray.train import Checkpoint"
   ]
  },
  {
   "cell_type": "code",
   "execution_count": 31,
   "metadata": {},
   "outputs": [],
   "source": [
    "def train_epoch(train_dataloader: DataLoader, model, loss_function, optimizer, lr_scheduler,\n",
    "                device: torch.device, report_interval: int = 100):\n",
    "    \n",
    "    running_loss = 0\n",
    "    last_loss = 0\n",
    "    \n",
    "    for i, (inputs, true_values) in enumerate(train_dataloader):\n",
    "        \n",
    "        inputs = inputs.to(device)\n",
    "        true_values = true_values.to(device)\n",
    "    \n",
    "        inputs_shape, true_values_shape = inputs.size(), true_values.size()\n",
    "        inputs = inputs.view(inputs_shape[1], inputs_shape[2], inputs_shape[0], inputs_shape[3])\n",
    "        true_values = true_values.view(true_values_shape[1], true_values_shape[2], true_values_shape[0], true_values_shape[3])\n",
    "        optimizer.zero_grad()\n",
    "        outputs = model(inputs)\n",
    "        loss = loss_function(outputs, true_values)\n",
    "        running_loss += loss\n",
    "        loss.backward()\n",
    "        optimizer.step()\n",
    "        lr_scheduler.step()\n",
    "\n",
    "        optimizer.zero_grad()\n",
    "        outputs = model(inputs)\n",
    "    \n",
    "        if i % report_interval == report_interval - 1:\n",
    "            last_loss = running_loss / report_interval\n",
    "            print(f\"batch {i + 1}, Mean Squared Error: {last_loss}\")\n",
    "            running_loss = 0\n",
    "\n",
    "    return last_loss"
   ]
  },
  {
   "cell_type": "code",
   "execution_count": 32,
   "metadata": {},
   "outputs": [],
   "source": [
    "def train(epochs: int, train_dataloader: DataLoader, validation_dataloader: DataLoader, model: nn.Module, \n",
    "          loss_function, optimizer, lr_scheduler, checkpoint_path: Path, device: torch.device = 'cpu', report_interval: int = 128, tune: bool = False) -> nn.Module:\n",
    "    \n",
    "    best_val_loss = float(\"inf\")\n",
    "\n",
    "    if torch.cuda.device_count() > 1:\n",
    "        model = nn.DataParallel(model)\n",
    "\n",
    "    model.to(device)\n",
    "\n",
    "    if tune:\n",
    "        checkpoint = ray_train.get_checkpoint()\n",
    "\n",
    "        if checkpoint:\n",
    "            with checkpoint.as_directory() as checkpoint_dir:\n",
    "                model_state = torch.load(os.path.join(checkpoint_dir, \"checkpoint.pt\"))\n",
    "                model.load_state_dict(model_state)\n",
    "\n",
    "    for epoch in range(model.total_epochs, epochs):\n",
    "        print(f\"Epoch: {epoch + 1}\")\n",
    "\n",
    "        model.train(True)\n",
    "        avg_loss = train_epoch(train_dataloader, model, loss_function, optimizer, lr_scheduler, device, report_interval)\n",
    "        model.eval()\n",
    "\n",
    "        with torch.no_grad():\n",
    "            avg_val_loss = compute_loss_on(validation_dataloader, model, loss_function, reshape=True, device=device)\n",
    "\n",
    "        print(f\"Loss on train: {avg_loss}, loss on validation: {avg_val_loss}\")\n",
    "\n",
    "        model.total_epochs += 1\n",
    "    \n",
    "\n",
    "        if avg_val_loss < best_val_loss or tune:\n",
    "            best_val_loss = avg_val_loss            \n",
    "            \n",
    "            torch.save(model.state_dict(), checkpoint_path / \"checkpoint.pt\")\n",
    "\n",
    "        if tune:\n",
    "            ray_train.report(metrics={ \"loss\": float(avg_val_loss) }, checkpoint=Checkpoint.from_directory(checkpoint_path))\n",
    "\n",
    "    return model"
   ]
  },
  {
   "cell_type": "markdown",
   "metadata": {},
   "source": [
    "## Train the model with optuna hyperparameter tuning"
   ]
  },
  {
   "cell_type": "code",
   "execution_count": 42,
   "metadata": {},
   "outputs": [],
   "source": [
    "import ray\n",
    "from ray import tune\n",
    "from ray.tune.schedulers import ASHAScheduler\n",
    "from ray.tune.search.optuna import OptunaSearch\n",
    "from typing import Dict"
   ]
  },
  {
   "cell_type": "code",
   "execution_count": 43,
   "metadata": {},
   "outputs": [],
   "source": [
    "def parameter_train(parameter: Dict, train_epochs: int, train_data: DataLoader, validation_data: DataLoader, model_input_shape: int,\n",
    "                    model_output_shape: int, checkpoint_path: Path, device: torch.device) -> None:\n",
    "    features. _ = train_dataloader.dataset[0]\n",
    "    parallel_trajectories = features.shape[0]\n",
    "    run_id = ray_train.get_context().get_trial_id()\n",
    "    run_checkpoint = checkpoint_path / run_id\n",
    "    run_checkpoint.mkdir(parents=True)\n",
    "\n",
    "    model = ParallelEncoderModel(parallel_trajectories, model_input_shape, parameter[\"model_dim\"], parameter[\"feedforward_dim\"], model_output_shape,\n",
    "                                   parameter[\"encoder_layer\"], parameter[\"transformer_dropout\"], parameter[\"pos_encoder_dropout\"]).to(device)\n",
    "\n",
    "    optimizer, lr_scheduler = get_optimizer_function_and_learning_rate_scheduler(model, parameter[\"model_dim\"], warmup_steps=parameter[\"warmup_steps\"])\n",
    "    loss_function = get_loss_function()\n",
    "\n",
    "    _ = train(train_epochs, train_data, validation_data, model, loss_function, optimizer, lr_scheduler, run_checkpoint, device, report_interval=50, tune=True)"
   ]
  },
  {
   "cell_type": "code",
   "execution_count": 44,
   "metadata": {},
   "outputs": [],
   "source": [
    "learning_rate_radius = 1e-3\n",
    "batch_size_radius = 10\n",
    "num_samples = 100"
   ]
  },
  {
   "cell_type": "code",
   "execution_count": 45,
   "metadata": {},
   "outputs": [],
   "source": [
    "parameter_space = {\n",
    "    \"batch_size\": tune.choice(list(range(batch_size - batch_size_radius, batch_size + batch_size_radius, 4))),\n",
    "    \"model_dim\": tune.choice([6]),\n",
    "    \"warmup_steps\": tune.choice(list(range(1000, 1200, 2000))),\n",
    "    \"feedforward_dim\": tune.choice([32]),\n",
    "    \"encoder_layer\": tune.choice([1, 2, 3]),\n",
    "    \"transformer_dropout\": tune.uniform(0.1, 0.5),\n",
    "    \"pos_encoder_dropout\": tune.uniform(0.1, 0.5)\n",
    "}"
   ]
  },
  {
   "cell_type": "code",
   "execution_count": 46,
   "metadata": {},
   "outputs": [],
   "source": [
    "scheduler = ASHAScheduler(\n",
    "    metric=\"loss\",\n",
    "    mode=\"min\",\n",
    "    max_t=num_epochs\n",
    ")"
   ]
  },
  {
   "cell_type": "code",
   "execution_count": 47,
   "metadata": {},
   "outputs": [],
   "source": [
    "search_alg = OptunaSearch(\n",
    "    metric=\"loss\",\n",
    "    mode=\"min\"\n",
    ") "
   ]
  },
  {
   "cell_type": "code",
   "execution_count": 48,
   "metadata": {},
   "outputs": [
    {
     "name": "stderr",
     "output_type": "stream",
     "text": [
      "2023-11-28 00:11:48,157\tWARNING services.py:1996 -- WARNING: The object store is using /tmp instead of /dev/shm because /dev/shm has only 67104768 bytes available. This will harm performance! You may be able to free up space by deleting files in /dev/shm. If you are inside a Docker container, you can increase /dev/shm size by passing '--shm-size=10.24gb' to 'docker run' (or add it to the run_options list in a Ray cluster config). Make sure to set this to more than 30% of available RAM.\n",
      "2023-11-28 00:11:48,320\tINFO worker.py:1673 -- Started a local Ray instance.\n",
      "2023-11-28 00:11:48,325\tINFO packaging.py:530 -- Creating a file package for local directory '/mnt/src/notebooks/../utils'.\n",
      "2023-11-28 00:11:48,329\tINFO packaging.py:358 -- Pushing file package 'gcs://_ray_pkg_93581ef4ec11384f.zip' (0.05MiB) to Ray cluster...\n",
      "2023-11-28 00:11:48,330\tINFO packaging.py:371 -- Successfully pushed file package 'gcs://_ray_pkg_93581ef4ec11384f.zip'.\n"
     ]
    },
    {
     "data": {
      "application/vnd.jupyter.widget-view+json": {
       "model_id": "4a055c6bcdbe48af9f9eac70ce187b25",
       "version_major": 2,
       "version_minor": 0
      },
      "text/html": [
       "<div class=\"lm-Widget p-Widget lm-Panel p-Panel jp-Cell-outputWrapper\">\n",
       "    <div style=\"margin-left: 50px;display: flex;flex-direction: row;align-items: center\">\n",
       "        <div class=\"jp-RenderedHTMLCommon\" style=\"display: flex; flex-direction: row;\">\n",
       "  <svg viewBox=\"0 0 567 224\" fill=\"none\" xmlns=\"http://www.w3.org/2000/svg\" style=\"height: 3em;\">\n",
       "    <g clip-path=\"url(#clip0_4338_178347)\">\n",
       "        <path d=\"M341.29 165.561H355.29L330.13 129.051C345.63 123.991 354.21 112.051 354.21 94.2307C354.21 71.3707 338.72 58.1807 311.88 58.1807H271V165.561H283.27V131.661H311.8C314.25 131.661 316.71 131.501 319.01 131.351L341.25 165.561H341.29ZM283.29 119.851V70.0007H311.82C331.3 70.0007 342.34 78.2907 342.34 94.5507C342.34 111.271 331.34 119.861 311.82 119.861L283.29 119.851ZM451.4 138.411L463.4 165.561H476.74L428.74 58.1807H416L367.83 165.561H380.83L392.83 138.411H451.4ZM446.19 126.601H398L422 72.1407L446.24 126.601H446.19ZM526.11 128.741L566.91 58.1807H554.35L519.99 114.181L485.17 58.1807H472.44L514.01 129.181V165.541H526.13V128.741H526.11Z\" fill=\"var(--jp-ui-font-color0)\"/>\n",
       "        <path d=\"M82.35 104.44C84.0187 97.8827 87.8248 92.0678 93.1671 87.9146C98.5094 83.7614 105.083 81.5067 111.85 81.5067C118.617 81.5067 125.191 83.7614 130.533 87.9146C135.875 92.0678 139.681 97.8827 141.35 104.44H163.75C164.476 101.562 165.622 98.8057 167.15 96.2605L127.45 56.5605C121.071 60.3522 113.526 61.6823 106.235 60.3005C98.9443 58.9187 92.4094 54.9203 87.8602 49.0574C83.3109 43.1946 81.0609 35.8714 81.5332 28.4656C82.0056 21.0599 85.1679 14.0819 90.4252 8.8446C95.6824 3.60726 102.672 0.471508 110.08 0.0272655C117.487 -0.416977 124.802 1.86091 130.647 6.4324C136.493 11.0039 140.467 17.5539 141.821 24.8501C143.175 32.1463 141.816 39.6859 138 46.0505L177.69 85.7505C182.31 82.9877 187.58 81.4995 192.962 81.4375C198.345 81.3755 203.648 82.742 208.33 85.3976C213.012 88.0532 216.907 91.9029 219.616 96.5544C222.326 101.206 223.753 106.492 223.753 111.875C223.753 117.258 222.326 122.545 219.616 127.197C216.907 131.848 213.012 135.698 208.33 138.353C203.648 141.009 198.345 142.375 192.962 142.313C187.58 142.251 182.31 140.763 177.69 138L138 177.7C141.808 184.071 143.155 191.614 141.79 198.91C140.424 206.205 136.44 212.75 130.585 217.313C124.731 221.875 117.412 224.141 110.004 223.683C102.596 223.226 95.6103 220.077 90.3621 214.828C85.1139 209.58 81.9647 202.595 81.5072 195.187C81.0497 187.779 83.3154 180.459 87.878 174.605C92.4405 168.751 98.9853 164.766 106.281 163.401C113.576 162.035 121.119 163.383 127.49 167.19L167.19 127.49C165.664 124.941 164.518 122.182 163.79 119.3H141.39C139.721 125.858 135.915 131.673 130.573 135.826C125.231 139.98 118.657 142.234 111.89 142.234C105.123 142.234 98.5494 139.98 93.2071 135.826C87.8648 131.673 84.0587 125.858 82.39 119.3H60C58.1878 126.495 53.8086 132.78 47.6863 136.971C41.5641 141.163 34.1211 142.972 26.7579 142.059C19.3947 141.146 12.6191 137.574 7.70605 132.014C2.79302 126.454 0.0813599 119.29 0.0813599 111.87C0.0813599 104.451 2.79302 97.2871 7.70605 91.7272C12.6191 86.1673 19.3947 82.5947 26.7579 81.6817C34.1211 80.7686 41.5641 82.5781 47.6863 86.7696C53.8086 90.9611 58.1878 97.2456 60 104.44H82.35ZM100.86 204.32C103.407 206.868 106.759 208.453 110.345 208.806C113.93 209.159 117.527 208.258 120.522 206.256C123.517 204.254 125.725 201.276 126.771 197.828C127.816 194.38 127.633 190.677 126.253 187.349C124.874 184.021 122.383 181.274 119.205 179.577C116.027 177.88 112.359 177.337 108.826 178.042C105.293 178.746 102.113 180.654 99.8291 183.44C97.5451 186.226 96.2979 189.718 96.3 193.32C96.2985 195.364 96.7006 197.388 97.4831 199.275C98.2656 201.163 99.4132 202.877 100.86 204.32ZM204.32 122.88C206.868 120.333 208.453 116.981 208.806 113.396C209.159 109.811 208.258 106.214 206.256 103.219C204.254 100.223 201.275 98.0151 197.827 96.97C194.38 95.9249 190.676 96.1077 187.348 97.4873C184.02 98.8669 181.274 101.358 179.577 104.536C177.879 107.714 177.337 111.382 178.041 114.915C178.746 118.448 180.653 121.627 183.439 123.911C186.226 126.195 189.717 127.443 193.32 127.44C195.364 127.443 197.388 127.042 199.275 126.259C201.163 125.476 202.878 124.328 204.32 122.88ZM122.88 19.4205C120.333 16.8729 116.981 15.2876 113.395 14.9347C109.81 14.5817 106.213 15.483 103.218 17.4849C100.223 19.4868 98.0146 22.4654 96.9696 25.9131C95.9245 29.3608 96.1073 33.0642 97.4869 36.3922C98.8665 39.7202 101.358 42.4668 104.535 44.1639C107.713 45.861 111.381 46.4036 114.914 45.6992C118.447 44.9949 121.627 43.0871 123.911 40.301C126.195 37.515 127.442 34.0231 127.44 30.4205C127.44 28.3772 127.038 26.3539 126.255 24.4664C125.473 22.5788 124.326 20.8642 122.88 19.4205ZM19.42 100.86C16.8725 103.408 15.2872 106.76 14.9342 110.345C14.5813 113.93 15.4826 117.527 17.4844 120.522C19.4863 123.518 22.4649 125.726 25.9127 126.771C29.3604 127.816 33.0638 127.633 36.3918 126.254C39.7198 124.874 42.4664 122.383 44.1635 119.205C45.8606 116.027 46.4032 112.359 45.6988 108.826C44.9944 105.293 43.0866 102.114 40.3006 99.8296C37.5145 97.5455 34.0227 96.2983 30.42 96.3005C26.2938 96.3018 22.337 97.9421 19.42 100.86ZM100.86 100.86C98.3125 103.408 96.7272 106.76 96.3742 110.345C96.0213 113.93 96.9226 117.527 98.9244 120.522C100.926 123.518 103.905 125.726 107.353 126.771C110.8 127.816 114.504 127.633 117.832 126.254C121.16 124.874 123.906 122.383 125.604 119.205C127.301 116.027 127.843 112.359 127.139 108.826C126.434 105.293 124.527 102.114 121.741 99.8296C118.955 97.5455 115.463 96.2983 111.86 96.3005C109.817 96.299 107.793 96.701 105.905 97.4835C104.018 98.2661 102.303 99.4136 100.86 100.86Z\" fill=\"#00AEEF\"/>\n",
       "    </g>\n",
       "    <defs>\n",
       "        <clipPath id=\"clip0_4338_178347\">\n",
       "            <rect width=\"566.93\" height=\"223.75\" fill=\"white\"/>\n",
       "        </clipPath>\n",
       "    </defs>\n",
       "  </svg>\n",
       "</div>\n",
       "\n",
       "        <table class=\"jp-RenderedHTMLCommon\" style=\"border-collapse: collapse;color: var(--jp-ui-font-color1);font-size: var(--jp-ui-font-size1);\">\n",
       "    <tr>\n",
       "        <td style=\"text-align: left\"><b>Python version:</b></td>\n",
       "        <td style=\"text-align: left\"><b>3.10.12</b></td>\n",
       "    </tr>\n",
       "    <tr>\n",
       "        <td style=\"text-align: left\"><b>Ray version:</b></td>\n",
       "        <td style=\"text-align: left\"><b>2.8.0</b></td>\n",
       "    </tr>\n",
       "    \n",
       "</table>\n",
       "\n",
       "    </div>\n",
       "</div>\n"
      ],
      "text/plain": [
       "RayContext(dashboard_url='', python_version='3.10.12', ray_version='2.8.0', ray_commit='105355bd253d6538ed34d331f6a4bdf0e38ace3a', protocol_version=None)"
      ]
     },
     "execution_count": 48,
     "metadata": {},
     "output_type": "execute_result"
    }
   ],
   "source": [
    "import utils\n",
    "if ray.is_initialized():\n",
    "    ray.shutdown()\n",
    "\n",
    "ray.init(runtime_env={ \"py_modules\": [utils] })"
   ]
  },
  {
   "cell_type": "code",
   "execution_count": 49,
   "metadata": {},
   "outputs": [],
   "source": [
    "ray_resources_manager = tune.with_resources(\n",
    "    trainable=lambda param: parameter_train(param, num_epochs, train_dataloader, validation_dataloader, input_shape, output_shape, model_path, device),\n",
    "    # See: https://stackoverflow.com/questions/58967793/what-is-the-way-to-make-tune-run-parallel-trials-across-multiple-gpus\n",
    "    resources={ \"cpu\": 3, \"gpu\": 0.25 }\n",
    ")\n",
    "\n",
    "tuner = tune.Tuner(\n",
    "    ray_resources_manager,\n",
    "    param_space=parameter_space,\n",
    "    tune_config=tune.TuneConfig(\n",
    "        scheduler=scheduler,\n",
    "        search_alg=search_alg,\n",
    "         num_samples=num_samples\n",
    "    )\n",
    ")"
   ]
  },
  {
   "cell_type": "code",
   "execution_count": 50,
   "metadata": {},
   "outputs": [
    {
     "data": {
      "text/html": [
       "<div class=\"tuneStatus\">\n",
       "  <div style=\"display: flex;flex-direction: row\">\n",
       "    <div style=\"display: flex;flex-direction: column;\">\n",
       "      <h3>Tune Status</h3>\n",
       "      <table>\n",
       "<tbody>\n",
       "<tr><td>Current time:</td><td>2023-11-28 00:12:14</td></tr>\n",
       "<tr><td>Running for: </td><td>00:00:20.81        </td></tr>\n",
       "<tr><td>Memory:      </td><td>18.0/62.7 GiB      </td></tr>\n",
       "</tbody>\n",
       "</table>\n",
       "    </div>\n",
       "    <div class=\"vDivider\"></div>\n",
       "    <div class=\"systemInfo\">\n",
       "      <h3>System Info</h3>\n",
       "      Using AsyncHyperBand: num_stopped=1<br>Bracket: Iter 64.000: None | Iter 16.000: -10.858619689941406 | Iter 4.000: -11.510891914367676 | Iter 1.000: -11.54610013961792<br>Logical resource usage: 12.0/12 CPUs, 1.0/1 GPUs (0.0/1.0 accelerator_type:G)\n",
       "    </div>\n",
       "    \n",
       "  </div>\n",
       "  <div class=\"hDivider\"></div>\n",
       "  <div class=\"trialStatus\">\n",
       "    <h3>Trial Status</h3>\n",
       "    <table>\n",
       "<thead>\n",
       "<tr><th>Trial name     </th><th>status    </th><th>loc             </th><th style=\"text-align: right;\">  batch_size</th><th style=\"text-align: right;\">  encoder_layer</th><th style=\"text-align: right;\">  feedforward_dim</th><th style=\"text-align: right;\">  model_dim</th><th style=\"text-align: right;\">  pos_encoder_dropout</th><th style=\"text-align: right;\">  transformer_dropout</th><th style=\"text-align: right;\">  warmup_steps</th><th style=\"text-align: right;\">  iter</th><th style=\"text-align: right;\">  total time (s)</th><th style=\"text-align: right;\">    loss</th></tr>\n",
       "</thead>\n",
       "<tbody>\n",
       "<tr><td>lambda_f6782919</td><td>RUNNING   </td><td>172.17.0.2:68980</td><td style=\"text-align: right;\">          54</td><td style=\"text-align: right;\">              1</td><td style=\"text-align: right;\">               32</td><td style=\"text-align: right;\">          6</td><td style=\"text-align: right;\">             0.107476</td><td style=\"text-align: right;\">             0.352193</td><td style=\"text-align: right;\">          1000</td><td style=\"text-align: right;\">    24</td><td style=\"text-align: right;\">        9.85788 </td><td style=\"text-align: right;\"> 8.17494</td></tr>\n",
       "<tr><td>lambda_c8ea82da</td><td>RUNNING   </td><td>172.17.0.2:69059</td><td style=\"text-align: right;\">          62</td><td style=\"text-align: right;\">              2</td><td style=\"text-align: right;\">               32</td><td style=\"text-align: right;\">          6</td><td style=\"text-align: right;\">             0.375609</td><td style=\"text-align: right;\">             0.312293</td><td style=\"text-align: right;\">          1000</td><td style=\"text-align: right;\">    13</td><td style=\"text-align: right;\">        5.97095 </td><td style=\"text-align: right;\">10.5447 </td></tr>\n",
       "<tr><td>lambda_6cb72e5a</td><td>RUNNING   </td><td>172.17.0.2:69155</td><td style=\"text-align: right;\">          70</td><td style=\"text-align: right;\">              1</td><td style=\"text-align: right;\">               32</td><td style=\"text-align: right;\">          6</td><td style=\"text-align: right;\">             0.24754 </td><td style=\"text-align: right;\">             0.184577</td><td style=\"text-align: right;\">          1000</td><td style=\"text-align: right;\">     7</td><td style=\"text-align: right;\">        3.16377 </td><td style=\"text-align: right;\">11.2305 </td></tr>\n",
       "<tr><td>lambda_b1932ebb</td><td>PENDING   </td><td>                </td><td style=\"text-align: right;\">          62</td><td style=\"text-align: right;\">              1</td><td style=\"text-align: right;\">               32</td><td style=\"text-align: right;\">          6</td><td style=\"text-align: right;\">             0.407584</td><td style=\"text-align: right;\">             0.429971</td><td style=\"text-align: right;\">          1000</td><td style=\"text-align: right;\">      </td><td style=\"text-align: right;\">                </td><td style=\"text-align: right;\">        </td></tr>\n",
       "<tr><td>lambda_4b83322b</td><td>TERMINATED</td><td>172.17.0.2:69059</td><td style=\"text-align: right;\">          62</td><td style=\"text-align: right;\">              2</td><td style=\"text-align: right;\">               32</td><td style=\"text-align: right;\">          6</td><td style=\"text-align: right;\">             0.231493</td><td style=\"text-align: right;\">             0.407853</td><td style=\"text-align: right;\">          1000</td><td style=\"text-align: right;\">     1</td><td style=\"text-align: right;\">        0.811396</td><td style=\"text-align: right;\">11.8532 </td></tr>\n",
       "</tbody>\n",
       "</table>\n",
       "  </div>\n",
       "</div>\n",
       "<style>\n",
       ".tuneStatus {\n",
       "  color: var(--jp-ui-font-color1);\n",
       "}\n",
       ".tuneStatus .systemInfo {\n",
       "  display: flex;\n",
       "  flex-direction: column;\n",
       "}\n",
       ".tuneStatus td {\n",
       "  white-space: nowrap;\n",
       "}\n",
       ".tuneStatus .trialStatus {\n",
       "  display: flex;\n",
       "  flex-direction: column;\n",
       "}\n",
       ".tuneStatus h3 {\n",
       "  font-weight: bold;\n",
       "}\n",
       ".tuneStatus .hDivider {\n",
       "  border-bottom-width: var(--jp-border-width);\n",
       "  border-bottom-color: var(--jp-border-color0);\n",
       "  border-bottom-style: solid;\n",
       "}\n",
       ".tuneStatus .vDivider {\n",
       "  border-left-width: var(--jp-border-width);\n",
       "  border-left-color: var(--jp-border-color0);\n",
       "  border-left-style: solid;\n",
       "  margin: 0.5em 1em 0.5em 1em;\n",
       "}\n",
       "</style>\n"
      ],
      "text/plain": [
       "<IPython.core.display.HTML object>"
      ]
     },
     "metadata": {},
     "output_type": "display_data"
    },
    {
     "name": "stderr",
     "output_type": "stream",
     "text": [
      "2023-11-28 00:11:56,758\tWARNING worker.py:2074 -- Warning: The actor ImplicitFunc is very large (19 MiB). Check that its definition is not implicitly capturing a large array or other object in scope. Tip: use ray.put() to put large objects in the Ray object store.\n",
      "\u001b[36m(<lambda> pid=68980)\u001b[0m /usr/local/lib/python3.10/dist-packages/torch/nn/modules/transformer.py:282: UserWarning: enable_nested_tensor is True, but self.use_nested_tensor is False because encoder_layer.self_attn.batch_first was not True(use batch_first for better inference performance)\n",
      "\u001b[36m(<lambda> pid=68980)\u001b[0m   warnings.warn(f\"enable_nested_tensor is True, but self.use_nested_tensor is False because {why_not_sparsity_fast_path}\")\n"
     ]
    },
    {
     "name": "stdout",
     "output_type": "stream",
     "text": [
      "\u001b[36m(<lambda> pid=68980)\u001b[0m Epoch: 1\n",
      "\u001b[36m(<lambda> pid=68980)\u001b[0m outputs isnan  tensor(False, device='cuda:0')\n",
      "\u001b[36m(<lambda> pid=68980)\u001b[0m outputs 2 isnan  tensor(False, device='cuda:0')\n",
      "\u001b[36m(<lambda> pid=68980)\u001b[0m outputs isnan  tensor(False, device='cuda:0')\n",
      "\u001b[36m(<lambda> pid=68980)\u001b[0m outputs 2 isnan  tensor(False, device='cuda:0')\n",
      "\u001b[36m(<lambda> pid=68980)\u001b[0m outputs isnan  \n",
      "\u001b[36m(<lambda> pid=68980)\u001b[0m tensor(False, device='cuda:0')\n",
      "\u001b[36m(<lambda> pid=68980)\u001b[0m outputs 2 isnan  tensor(False, device='cuda:0')\n",
      "\u001b[36m(<lambda> pid=68980)\u001b[0m outputs isnan  tensor(False, device='cuda:0')\n",
      "\u001b[36m(<lambda> pid=68980)\u001b[0m outputs 2 isnan  \n",
      "\u001b[36m(<lambda> pid=68980)\u001b[0m tensor(False, device='cuda:0')\n",
      "\u001b[36m(<lambda> pid=68980)\u001b[0m outputs isnan  tensor(False, device='cuda:0')\n",
      "\u001b[36m(<lambda> pid=68980)\u001b[0m outputs 2 isnan  tensor(False, device='cuda:0')\n",
      "\u001b[36m(<lambda> pid=68980)\u001b[0m Loss on train: 0, loss on validation: 11.763545989990234\n"
     ]
    },
    {
     "name": "stderr",
     "output_type": "stream",
     "text": [
      "\u001b[36m(<lambda> pid=68980)\u001b[0m Checkpoint successfully created at: Checkpoint(filesystem=local, path=/root/ray_results/lambda_2023-11-28_00-11-50/lambda_f6782919_1_batch_size=54,encoder_layer=1,feedforward_dim=32,model_dim=6,pos_encoder_dropout=0.1075,transformer_dropout=0.35_2023-11-28_00-11-53/checkpoint_000000)\n"
     ]
    },
    {
     "name": "stdout",
     "output_type": "stream",
     "text": [
      "\u001b[36m(<lambda> pid=68980)\u001b[0m Epoch: 2\n",
      "\u001b[36m(<lambda> pid=68980)\u001b[0m outputs isnan  tensor(False, device='cuda:0')\n",
      "\u001b[36m(<lambda> pid=68980)\u001b[0m outputs 2 isnan  tensor(False, device='cuda:0')\n",
      "\u001b[36m(<lambda> pid=68980)\u001b[0m outputs isnan  tensor(False, device='cuda:0')\n",
      "\u001b[36m(<lambda> pid=68980)\u001b[0m outputs 2 isnan  tensor(False, device='cuda:0')\n",
      "\u001b[36m(<lambda> pid=68980)\u001b[0m outputs isnan  tensor(False, device='cuda:0')\n",
      "\u001b[36m(<lambda> pid=68980)\u001b[0m outputs 2 isnan  tensor(False, device='cuda:0')\n",
      "\u001b[36m(<lambda> pid=68980)\u001b[0m outputs isnan  \n",
      "\u001b[36m(<lambda> pid=68980)\u001b[0m tensor(False, device='cuda:0')\n"
     ]
    },
    {
     "name": "stderr",
     "output_type": "stream",
     "text": [
      "\u001b[36m(<lambda> pid=68980)\u001b[0m Checkpoint successfully created at: Checkpoint(filesystem=local, path=/root/ray_results/lambda_2023-11-28_00-11-50/lambda_f6782919_1_batch_size=54,encoder_layer=1,feedforward_dim=32,model_dim=6,pos_encoder_dropout=0.1075,transformer_dropout=0.35_2023-11-28_00-11-53/checkpoint_000001)\n"
     ]
    },
    {
     "name": "stdout",
     "output_type": "stream",
     "text": [
      "\u001b[36m(<lambda> pid=68980)\u001b[0m outputs 2 isnan  tensor(False, device='cuda:0')\n",
      "\u001b[36m(<lambda> pid=68980)\u001b[0m outputs isnan  tensor(False, device='cuda:0')\n",
      "\u001b[36m(<lambda> pid=68980)\u001b[0m outputs 2 isnan  tensor(False, device='cuda:0')\n",
      "\u001b[36m(<lambda> pid=68980)\u001b[0m Loss on train: 0, loss on validation: 11.710311889648438\n",
      "\u001b[36m(<lambda> pid=68980)\u001b[0m Epoch: 3\n",
      "\u001b[36m(<lambda> pid=68980)\u001b[0m outputs isnan  tensor(False, device='cuda:0')\n",
      "\u001b[36m(<lambda> pid=68980)\u001b[0m outputs 2 isnan  tensor(False, device='cuda:0')\n",
      "\u001b[36m(<lambda> pid=68980)\u001b[0m outputs isnan  tensor(False, device='cuda:0')\n",
      "\u001b[36m(<lambda> pid=68980)\u001b[0m outputs 2 isnan  tensor(False, device='cuda:0')\n",
      "\u001b[36m(<lambda> pid=68980)\u001b[0m outputs isnan  tensor(False, device='cuda:0')\n",
      "\u001b[36m(<lambda> pid=68980)\u001b[0m outputs 2 isnan  \n",
      "\u001b[36m(<lambda> pid=68980)\u001b[0m tensor(False, device='cuda:0')\n",
      "\u001b[36m(<lambda> pid=68980)\u001b[0m outputs isnan  tensor(False, device='cuda:0')\n",
      "\u001b[36m(<lambda> pid=68980)\u001b[0m outputs 2 isnan  tensor(False, device='cuda:0')\n"
     ]
    },
    {
     "name": "stderr",
     "output_type": "stream",
     "text": [
      "\u001b[36m(<lambda> pid=68980)\u001b[0m Checkpoint successfully created at: Checkpoint(filesystem=local, path=/root/ray_results/lambda_2023-11-28_00-11-50/lambda_f6782919_1_batch_size=54,encoder_layer=1,feedforward_dim=32,model_dim=6,pos_encoder_dropout=0.1075,transformer_dropout=0.35_2023-11-28_00-11-53/checkpoint_000002)\n"
     ]
    },
    {
     "name": "stdout",
     "output_type": "stream",
     "text": [
      "\u001b[36m(<lambda> pid=68980)\u001b[0m outputs isnan  tensor(False, device='cuda:0')\n",
      "\u001b[36m(<lambda> pid=68980)\u001b[0m outputs 2 isnan  tensor(False, device='cuda:0')\n",
      "\u001b[36m(<lambda> pid=68980)\u001b[0m Loss on train: 0, loss on validation: 11.787110328674316\n",
      "\u001b[36m(<lambda> pid=68980)\u001b[0m Epoch: 4\n",
      "\u001b[36m(<lambda> pid=68980)\u001b[0m outputs isnan  \n",
      "\u001b[36m(<lambda> pid=68980)\u001b[0m tensor(False, device='cuda:0')\n",
      "\u001b[36m(<lambda> pid=68980)\u001b[0m outputs 2 isnan  tensor(False, device='cuda:0')\n",
      "\u001b[36m(<lambda> pid=68980)\u001b[0m outputs isnan  tensor(False, device='cuda:0')\n",
      "\u001b[36m(<lambda> pid=68980)\u001b[0m outputs 2 isnan  tensor(False, device='cuda:0')\n",
      "\u001b[36m(<lambda> pid=68980)\u001b[0m outputs isnan  tensor(False, device='cuda:0')\n",
      "\u001b[36m(<lambda> pid=68980)\u001b[0m outputs 2 isnan  tensor(False, device='cuda:0')\n",
      "\u001b[36m(<lambda> pid=68980)\u001b[0m outputs isnan  tensor(False, device='cuda:0')\n",
      "\u001b[36m(<lambda> pid=68980)\u001b[0m outputs 2 isnan  tensor(False, device='cuda:0')\n",
      "\u001b[36m(<lambda> pid=68980)\u001b[0m outputs isnan  tensor(False, device='cuda:0')\n",
      "\u001b[36m(<lambda> pid=68980)\u001b[0m outputs 2 isnan  tensor(False, device='cuda:0')\n",
      "\u001b[36m(<lambda> pid=68980)\u001b[0m Loss on train: 0, loss on validation: 11.759034156799316\n"
     ]
    },
    {
     "name": "stderr",
     "output_type": "stream",
     "text": [
      "\u001b[36m(<lambda> pid=68980)\u001b[0m Checkpoint successfully created at: Checkpoint(filesystem=local, path=/root/ray_results/lambda_2023-11-28_00-11-50/lambda_f6782919_1_batch_size=54,encoder_layer=1,feedforward_dim=32,model_dim=6,pos_encoder_dropout=0.1075,transformer_dropout=0.35_2023-11-28_00-11-53/checkpoint_000003)\n"
     ]
    },
    {
     "name": "stdout",
     "output_type": "stream",
     "text": [
      "\u001b[36m(<lambda> pid=68980)\u001b[0m Epoch: 5\n",
      "\u001b[36m(<lambda> pid=68980)\u001b[0m outputs isnan  tensor(False, device='cuda:0')\n",
      "\u001b[36m(<lambda> pid=68980)\u001b[0m outputs 2 isnan  tensor(False, device='cuda:0')\n",
      "\u001b[36m(<lambda> pid=68980)\u001b[0m outputs isnan  tensor(False, device='cuda:0')\n",
      "\u001b[36m(<lambda> pid=68980)\u001b[0m outputs 2 isnan  tensor(False, device='cuda:0')\n",
      "\u001b[36m(<lambda> pid=68980)\u001b[0m outputs isnan  tensor(False, device='cuda:0')\n",
      "\u001b[36m(<lambda> pid=68980)\u001b[0m outputs 2 isnan  tensor(False, device='cuda:0')\n",
      "\u001b[36m(<lambda> pid=68980)\u001b[0m outputs isnan  tensor(False, device='cuda:0')\n",
      "\u001b[36m(<lambda> pid=68980)\u001b[0m outputs 2 isnan  tensor(False, device='cuda:0')\n",
      "\u001b[36m(<lambda> pid=68980)\u001b[0m outputs isnan  tensor(False, device='cuda:0')\n",
      "\u001b[36m(<lambda> pid=68980)\u001b[0m outputs 2 isnan  tensor(False, device='cuda:0')\n",
      "\u001b[36m(<lambda> pid=68980)\u001b[0m Loss on train: 0, loss on validation: 11.704679489135742\n",
      "\u001b[36m(<lambda> pid=68980)\u001b[0m Epoch: 6\n"
     ]
    },
    {
     "name": "stderr",
     "output_type": "stream",
     "text": [
      "\u001b[36m(<lambda> pid=68980)\u001b[0m Checkpoint successfully created at: Checkpoint(filesystem=local, path=/root/ray_results/lambda_2023-11-28_00-11-50/lambda_f6782919_1_batch_size=54,encoder_layer=1,feedforward_dim=32,model_dim=6,pos_encoder_dropout=0.1075,transformer_dropout=0.35_2023-11-28_00-11-53/checkpoint_000004)\n"
     ]
    },
    {
     "name": "stdout",
     "output_type": "stream",
     "text": [
      "\u001b[36m(<lambda> pid=68980)\u001b[0m outputs isnan  tensor(False, device='cuda:0')\n",
      "\u001b[36m(<lambda> pid=68980)\u001b[0m outputs 2 isnan  tensor(False, device='cuda:0')\n",
      "\u001b[36m(<lambda> pid=68980)\u001b[0m outputs isnan  tensor(False, device='cuda:0')\n",
      "\u001b[36m(<lambda> pid=68980)\u001b[0m outputs 2 isnan  tensor(False, device='cuda:0')\n",
      "\u001b[36m(<lambda> pid=68980)\u001b[0m outputs isnan  tensor(False, device='cuda:0')\n",
      "\u001b[36m(<lambda> pid=68980)\u001b[0m outputs 2 isnan  tensor(False, device='cuda:0')\n",
      "\u001b[36m(<lambda> pid=68980)\u001b[0m outputs isnan  tensor(False, device='cuda:0')\n",
      "\u001b[36m(<lambda> pid=68980)\u001b[0m outputs 2 isnan  tensor(False, device='cuda:0')\n",
      "\u001b[36m(<lambda> pid=68980)\u001b[0m outputs isnan  tensor(False, device='cuda:0')\n",
      "\u001b[36m(<lambda> pid=68980)\u001b[0m outputs 2 isnan  tensor(False, device='cuda:0')\n",
      "\u001b[36m(<lambda> pid=68980)\u001b[0m Loss on train: 0, loss on validation: 11.612455368041992\n",
      "\u001b[36m(<lambda> pid=68980)\u001b[0m Epoch: 7\n"
     ]
    },
    {
     "name": "stderr",
     "output_type": "stream",
     "text": [
      "\u001b[36m(<lambda> pid=68980)\u001b[0m Checkpoint successfully created at: Checkpoint(filesystem=local, path=/root/ray_results/lambda_2023-11-28_00-11-50/lambda_f6782919_1_batch_size=54,encoder_layer=1,feedforward_dim=32,model_dim=6,pos_encoder_dropout=0.1075,transformer_dropout=0.35_2023-11-28_00-11-53/checkpoint_000005)\n"
     ]
    },
    {
     "name": "stdout",
     "output_type": "stream",
     "text": [
      "\u001b[36m(<lambda> pid=68980)\u001b[0m outputs isnan  tensor(False, device='cuda:0')\n",
      "\u001b[36m(<lambda> pid=68980)\u001b[0m outputs 2 isnan  tensor(False, device='cuda:0')\n",
      "\u001b[36m(<lambda> pid=68980)\u001b[0m outputs isnan  tensor(False, device='cuda:0')\n",
      "\u001b[36m(<lambda> pid=68980)\u001b[0m outputs 2 isnan  tensor(False, device='cuda:0')\n",
      "\u001b[36m(<lambda> pid=68980)\u001b[0m outputs isnan  tensor(False, device='cuda:0')\n",
      "\u001b[36m(<lambda> pid=68980)\u001b[0m outputs 2 isnan  \n",
      "\u001b[36m(<lambda> pid=68980)\u001b[0m tensor(False, device='cuda:0')\n",
      "\u001b[36m(<lambda> pid=68980)\u001b[0m outputs isnan  tensor(False, device='cuda:0')\n",
      "\u001b[36m(<lambda> pid=68980)\u001b[0m outputs 2 isnan  tensor(False, device='cuda:0')\n",
      "\u001b[36m(<lambda> pid=68980)\u001b[0m outputs isnan  tensor(False, device='cuda:0')\n",
      "\u001b[36m(<lambda> pid=68980)\u001b[0m outputs 2 isnan  tensor(False, device='cuda:0')\n",
      "\u001b[36m(<lambda> pid=68980)\u001b[0m Loss on train: 0, loss on validation: 11.632894515991211\n",
      "\u001b[36m(<lambda> pid=68980)\u001b[0m Epoch: 8\n",
      "\u001b[36m(<lambda> pid=68980)\u001b[0m outputs isnan  tensor(False, device='cuda:0')\n",
      "\u001b[36m(<lambda> pid=68980)\u001b[0m outputs 2 isnan  \n"
     ]
    },
    {
     "name": "stderr",
     "output_type": "stream",
     "text": [
      "\u001b[36m(<lambda> pid=68980)\u001b[0m Checkpoint successfully created at: Checkpoint(filesystem=local, path=/root/ray_results/lambda_2023-11-28_00-11-50/lambda_f6782919_1_batch_size=54,encoder_layer=1,feedforward_dim=32,model_dim=6,pos_encoder_dropout=0.1075,transformer_dropout=0.35_2023-11-28_00-11-53/checkpoint_000006)\n"
     ]
    },
    {
     "name": "stdout",
     "output_type": "stream",
     "text": [
      "\u001b[36m(<lambda> pid=68980)\u001b[0m tensor(False, device='cuda:0')\n",
      "\u001b[36m(<lambda> pid=68980)\u001b[0m outputs isnan  tensor(False, device='cuda:0')\n",
      "\u001b[36m(<lambda> pid=68980)\u001b[0m outputs 2 isnan  tensor(False, device='cuda:0')\n",
      "\u001b[36m(<lambda> pid=68980)\u001b[0m outputs isnan  tensor(False, device='cuda:0')\n",
      "\u001b[36m(<lambda> pid=68980)\u001b[0m outputs 2 isnan  tensor(False, device='cuda:0')\n"
     ]
    },
    {
     "name": "stderr",
     "output_type": "stream",
     "text": [
      "\u001b[36m(<lambda> pid=68980)\u001b[0m Checkpoint successfully created at: Checkpoint(filesystem=local, path=/root/ray_results/lambda_2023-11-28_00-11-50/lambda_f6782919_1_batch_size=54,encoder_layer=1,feedforward_dim=32,model_dim=6,pos_encoder_dropout=0.1075,transformer_dropout=0.35_2023-11-28_00-11-53/checkpoint_000007)\n"
     ]
    },
    {
     "name": "stdout",
     "output_type": "stream",
     "text": [
      "\u001b[36m(<lambda> pid=68980)\u001b[0m outputs isnan  tensor(False, device='cuda:0')\n",
      "\u001b[36m(<lambda> pid=68980)\u001b[0m outputs 2 isnan  tensor(False, device='cuda:0')\n",
      "\u001b[36m(<lambda> pid=68980)\u001b[0m outputs isnan  tensor(False, device='cuda:0')\n",
      "\u001b[36m(<lambda> pid=68980)\u001b[0m outputs 2 isnan  tensor(False, device='cuda:0')\n",
      "\u001b[36m(<lambda> pid=68980)\u001b[0m Loss on train: 0, loss on validation: 11.628889083862305\n",
      "\u001b[36m(<lambda> pid=68980)\u001b[0m Epoch: 9\n",
      "\u001b[36m(<lambda> pid=68980)\u001b[0m outputs isnan  tensor(False, device='cuda:0')\n",
      "\u001b[36m(<lambda> pid=68980)\u001b[0m outputs 2 isnan  tensor(False, device='cuda:0')\n",
      "\u001b[36m(<lambda> pid=68980)\u001b[0m outputs isnan  tensor(False, device='cuda:0')\n",
      "\u001b[36m(<lambda> pid=68980)\u001b[0m outputs 2 isnan  tensor(False, device='cuda:0')\n",
      "\u001b[36m(<lambda> pid=68980)\u001b[0m outputs isnan  tensor(False, device='cuda:0')\n",
      "\u001b[36m(<lambda> pid=68980)\u001b[0m outputs 2 isnan  tensor(False, device='cuda:0')\n"
     ]
    },
    {
     "name": "stderr",
     "output_type": "stream",
     "text": [
      "\u001b[36m(<lambda> pid=68980)\u001b[0m Checkpoint successfully created at: Checkpoint(filesystem=local, path=/root/ray_results/lambda_2023-11-28_00-11-50/lambda_f6782919_1_batch_size=54,encoder_layer=1,feedforward_dim=32,model_dim=6,pos_encoder_dropout=0.1075,transformer_dropout=0.35_2023-11-28_00-11-53/checkpoint_000008)\n"
     ]
    },
    {
     "name": "stdout",
     "output_type": "stream",
     "text": [
      "\u001b[36m(<lambda> pid=68980)\u001b[0m outputs isnan  tensor(False, device='cuda:0')\n",
      "\u001b[36m(<lambda> pid=68980)\u001b[0m outputs 2 isnan  tensor(False, device='cuda:0')\n",
      "\u001b[36m(<lambda> pid=68980)\u001b[0m outputs isnan  tensor(False, device='cuda:0')\n",
      "\u001b[36m(<lambda> pid=68980)\u001b[0m outputs 2 isnan  tensor(False, device='cuda:0')\n",
      "\u001b[36m(<lambda> pid=68980)\u001b[0m Loss on train: 0, loss on validation: 11.558516502380371\n"
     ]
    },
    {
     "name": "stderr",
     "output_type": "stream",
     "text": [
      "\u001b[36m(<lambda> pid=69059)\u001b[0m /usr/local/lib/python3.10/dist-packages/torch/nn/modules/transformer.py:282: UserWarning: enable_nested_tensor is True, but self.use_nested_tensor is False because encoder_layer.self_attn.batch_first was not True(use batch_first for better inference performance)\n",
      "\u001b[36m(<lambda> pid=69059)\u001b[0m   warnings.warn(f\"enable_nested_tensor is True, but self.use_nested_tensor is False because {why_not_sparsity_fast_path}\")\n"
     ]
    },
    {
     "name": "stdout",
     "output_type": "stream",
     "text": [
      "\u001b[36m(<lambda> pid=68980)\u001b[0m Epoch: 10\u001b[32m [repeated 2x across cluster] (Ray deduplicates logs by default. Set RAY_DEDUP_LOGS=0 to disable log deduplication, or see https://docs.ray.io/en/master/ray-observability/ray-logging.html#log-deduplication for more options.)\u001b[0m\n",
      "\u001b[36m(<lambda> pid=69059)\u001b[0m outputs 2 isnan  tensor(False, device='cuda:0')\u001b[32m [repeated 10x across cluster]\u001b[0m\n",
      "\u001b[36m(<lambda> pid=69059)\u001b[0m Loss on train: 0, loss on validation: 11.853206634521484\n"
     ]
    },
    {
     "name": "stderr",
     "output_type": "stream",
     "text": [
      "\u001b[36m(<lambda> pid=69059)\u001b[0m /usr/local/lib/python3.10/dist-packages/torch/nn/modules/transformer.py:282: UserWarning: enable_nested_tensor is True, but self.use_nested_tensor is False because encoder_layer.self_attn.batch_first was not True(use batch_first for better inference performance)\n",
      "\u001b[36m(<lambda> pid=69059)\u001b[0m   warnings.warn(f\"enable_nested_tensor is True, but self.use_nested_tensor is False because {why_not_sparsity_fast_path}\")\n"
     ]
    },
    {
     "name": "stdout",
     "output_type": "stream",
     "text": [
      "\u001b[36m(<lambda> pid=68980)\u001b[0m outputs isnan  \n",
      "\u001b[36m(<lambda> pid=68980)\u001b[0m tensor(False, device='cuda:0')\n",
      "\u001b[36m(<lambda> pid=68980)\u001b[0m Loss on train: 0, loss on validation: 11.521973609924316\n"
     ]
    },
    {
     "name": "stderr",
     "output_type": "stream",
     "text": [
      "\u001b[36m(<lambda> pid=68980)\u001b[0m Checkpoint successfully created at: Checkpoint(filesystem=local, path=/root/ray_results/lambda_2023-11-28_00-11-50/lambda_f6782919_1_batch_size=54,encoder_layer=1,feedforward_dim=32,model_dim=6,pos_encoder_dropout=0.1075,transformer_dropout=0.35_2023-11-28_00-11-53/checkpoint_000009)\u001b[32m [repeated 2x across cluster]\u001b[0m\n"
     ]
    },
    {
     "name": "stdout",
     "output_type": "stream",
     "text": [
      "\u001b[36m(<lambda> pid=69155)\u001b[0m Epoch: 1\u001b[32m [repeated 17x across cluster]\u001b[0m\n",
      "\u001b[36m(<lambda> pid=69059)\u001b[0m outputs 2 isnan  tensor(False, device='cuda:0')\u001b[32m [repeated 156x across cluster]\u001b[0m\n"
     ]
    },
    {
     "name": "stderr",
     "output_type": "stream",
     "text": [
      "\u001b[36m(<lambda> pid=69155)\u001b[0m /usr/local/lib/python3.10/dist-packages/torch/nn/modules/transformer.py:282: UserWarning: enable_nested_tensor is True, but self.use_nested_tensor is False because encoder_layer.self_attn.batch_first was not True(use batch_first for better inference performance)\n",
      "\u001b[36m(<lambda> pid=69155)\u001b[0m   warnings.warn(f\"enable_nested_tensor is True, but self.use_nested_tensor is False because {why_not_sparsity_fast_path}\")\n"
     ]
    },
    {
     "name": "stdout",
     "output_type": "stream",
     "text": [
      "\u001b[36m(<lambda> pid=69059)\u001b[0m outputs 2 isnan  \u001b[32m [repeated 13x across cluster]\u001b[0m\n",
      "\u001b[36m(<lambda> pid=69059)\u001b[0m tensor(False, device='cuda:0')\u001b[32m [repeated 13x across cluster]\u001b[0m\n",
      "\u001b[36m(<lambda> pid=69155)\u001b[0m Loss on train: 0, loss on validation: 11.427377700805664\u001b[32m [repeated 17x across cluster]\u001b[0m\n"
     ]
    },
    {
     "name": "stderr",
     "output_type": "stream",
     "text": [
      "\u001b[36m(<lambda> pid=68980)\u001b[0m Checkpoint successfully created at: Checkpoint(filesystem=local, path=/root/ray_results/lambda_2023-11-28_00-11-50/lambda_f6782919_1_batch_size=54,encoder_layer=1,feedforward_dim=32,model_dim=6,pos_encoder_dropout=0.1075,transformer_dropout=0.35_2023-11-28_00-11-53/checkpoint_000018)\u001b[32m [repeated 18x across cluster]\u001b[0m\n",
      "2023-11-28 00:12:14,038\tWARNING tune.py:186 -- Stop signal received (e.g. via SIGINT/Ctrl+C), ending Ray Tune run. This will try to checkpoint the experiment state one last time. Press CTRL+C (or send SIGINT/SIGKILL/SIGTERM) to skip. \n",
      "2023-11-28 00:12:15,022\tINFO tune.py:1047 -- Total run time: 23.98 seconds (20.80 seconds for the tuning loop).\n",
      "2023-11-28 00:12:15,023\tWARNING tune.py:1062 -- Experiment has been interrupted, but the most recent state was saved.\n",
      "Resume experiment with: Tuner.restore(path=\"/root/ray_results/lambda_2023-11-28_00-11-50\", trainable=...)\n",
      "2023-11-28 00:12:15,028\tWARNING experiment_analysis.py:185 -- Failed to fetch metrics for 1 trial(s):\n",
      "- lambda_b1932ebb: FileNotFoundError('Could not fetch metrics for lambda_b1932ebb: both result.json and progress.csv were not found at /root/ray_results/lambda_2023-11-28_00-11-50/lambda_b1932ebb_5_batch_size=62,encoder_layer=1,feedforward_dim=32,model_dim=6,pos_encoder_dropout=0.4076,transformer_dropout=0.43_2023-11-28_00-12-10')\n"
     ]
    }
   ],
   "source": [
    "results = tuner.fit()"
   ]
  },
  {
   "cell_type": "code",
   "execution_count": null,
   "metadata": {},
   "outputs": [],
   "source": [
    "if ray.is_initialized():\n",
    "    ray.shutdown()"
   ]
  },
  {
   "cell_type": "code",
   "execution_count": null,
   "metadata": {},
   "outputs": [],
   "source": [
    "# Save as csv file\n",
    "results.get_dataframe().to_csv(model_path / \"trail_grid.csv\")"
   ]
  },
  {
   "cell_type": "code",
   "execution_count": null,
   "metadata": {},
   "outputs": [],
   "source": [
    "best_result = results.get_best_result(\"loss\", \"min\")\n",
    "best_checkpoint = best_result.get_best_checkpoint(\"loss\", \"min\")\n",
    "\n",
    "best_model = torch.load(f\"{best_checkpoint.path}/checkpoint.pt\")"
   ]
  },
  {
   "cell_type": "code",
   "execution_count": null,
   "metadata": {},
   "outputs": [],
   "source": [
    "print(f\"Best trail by loss value {best_result.metrics['loss']}\", \"\\n------\")\n",
    "for i in best_result.config:\n",
    "    print(f\"Best trail: {i} value {best_result.config[i]}\")"
   ]
  },
  {
   "cell_type": "markdown",
   "metadata": {},
   "source": [
    "## Step 2 Fit Cable Properties"
   ]
  },
  {
   "cell_type": "code",
   "execution_count": null,
   "metadata": {},
   "outputs": [],
   "source": []
  }
 ],
 "metadata": {
  "kernelspec": {
   "display_name": "Python 3 (ipykernel)",
   "language": "python",
   "name": "python3"
  },
  "language_info": {
   "codemirror_mode": {
    "name": "ipython",
    "version": 3
   },
   "file_extension": ".py",
   "mimetype": "text/x-python",
   "name": "python",
   "nbconvert_exporter": "python",
   "pygments_lexer": "ipython3",
   "version": "3.10.12"
  }
 },
 "nbformat": 4,
 "nbformat_minor": 2
}
