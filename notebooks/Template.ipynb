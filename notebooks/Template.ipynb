{
 "cells": [
  {
   "cell_type": "markdown",
   "id": "0d54308f",
   "metadata": {},
   "source": [
    "Imports"
   ]
  },
  {
   "cell_type": "code",
   "execution_count": 22,
   "id": "c05c3ea9-27fb-448f-a2ae-9683bee616ff",
   "metadata": {},
   "outputs": [],
   "source": [
    "import torch"
   ]
  },
  {
   "cell_type": "markdown",
   "id": "98c0ce70",
   "metadata": {},
   "source": [
    "Detect nvidia cuda device"
   ]
  },
  {
   "cell_type": "code",
   "execution_count": 41,
   "id": "f840a997",
   "metadata": {},
   "outputs": [
    {
     "name": "stdout",
     "output_type": "stream",
     "text": [
      "Running on cpu!\n"
     ]
    }
   ],
   "source": [
    "device = torch.device('cuda' if torch.cuda.is_available() else 'cpu')\n",
    "\n",
    "print('Running on ', device.type, '!', sep='')\n",
    "\n",
    "if device.type == 'cuda':\n",
    "   print('Number of Cuda devices:', torch.cuda.device_count())\n",
    "   print('Current Cuda device:', torch.cuda.get_device_name(torch.cuda.current_device())) "
   ]
  },
  {
   "cell_type": "markdown",
   "id": "d015cdc9",
   "metadata": {},
   "source": [
    "Code starts here"
   ]
  },
  {
   "cell_type": "code",
   "execution_count": null,
   "id": "94ec7fd7",
   "metadata": {},
   "outputs": [],
   "source": []
  }
 ],
 "metadata": {
  "kernelspec": {
   "display_name": "Python 3 (ipykernel)",
   "language": "python",
   "name": "python3"
  },
  "language_info": {
   "codemirror_mode": {
    "name": "ipython",
    "version": 3
   },
   "file_extension": ".py",
   "mimetype": "text/x-python",
   "name": "python",
   "nbconvert_exporter": "python",
   "pygments_lexer": "ipython3",
   "version": "3.10.12"
  }
 },
 "nbformat": 4,
 "nbformat_minor": 5
}
